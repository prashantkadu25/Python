{
 "cells": [
  {
   "cell_type": "markdown",
   "id": "37f0cf63-db73-447b-9530-71f27e52c79d",
   "metadata": {},
   "source": [
    "- Variables\n",
    "\n",
    "- Data Types\n",
    "\n",
    "- Type casting\n",
    "\n",
    "- print end sep\n",
    "\n",
    "- eval and input\n",
    "\n",
    "- Basic codes\n",
    "\n",
    "- condition statements\n",
    "\n",
    "- try-except\n"
   ]
  },
  {
   "cell_type": "markdown",
   "id": "2a4ae7fa-94fe-4cfd-af19-7b0c90d64ec9",
   "metadata": {},
   "source": [
    "**functions or methods**"
   ]
  },
  {
   "cell_type": "markdown",
   "id": "cfb33be1-86f2-468f-bf7d-3377a1dd50ea",
   "metadata": {},
   "source": [
    "- Reuse the code"
   ]
  },
  {
   "cell_type": "markdown",
   "id": "00c95249-a288-49f8-9d90-ea223fdcac3a",
   "metadata": {},
   "source": [
    "\n",
    "- functions without aurguments \n",
    "\n",
    "- Functions with Aurguments\n",
    "\n",
    "- Functions with default aurguments\n",
    "\n",
    "- Global Variables vs local variables\n",
    "\n",
    "- Functions with return statement\n",
    "\n",
    "- Functions with Keyword aurguments (kwargs),\n",
    "\n",
    "- Functions in Functions."
   ]
  },
  {
   "cell_type": "markdown",
   "id": "b3facc6b-2f96-4a1c-8a89-f40394a8dfe4",
   "metadata": {},
   "source": [
    "# Syntax \n",
    "def <Function name> ():\n",
    "    <Write your code here...>"
   ]
  },
  {
   "cell_type": "code",
   "execution_count": 2,
   "id": "ff956554-2661-4f46-8c71-55b75c6a6e26",
   "metadata": {},
   "outputs": [
    {
     "name": "stdin",
     "output_type": "stream",
     "text": [
      "enter the n1 10\n",
      "enter the n2 21\n"
     ]
    },
    {
     "name": "stdout",
     "output_type": "stream",
     "text": [
      "The addition of 10,21 is:31\n"
     ]
    }
   ],
   "source": [
    "n1 = eval(input(\"enter the n1\"))\n",
    "n2 = eval(input(\"enter the n2\"))\n",
    "add=n1+n2\n",
    "print(f\"The addition of {n1},{n2} is:{add}\")"
   ]
  },
  {
   "cell_type": "code",
   "execution_count": 5,
   "id": "4425ab5c-a069-4c53-b7aa-959851b02c6a",
   "metadata": {},
   "outputs": [],
   "source": [
    "def addition ():\n",
    "    n1 = eval(input(\"enter the n1\"))\n",
    "    n2 = eval(input(\"enter the n2\"))\n",
    "    add=n1+n2\n",
    "    print(f\"The addition of {n1},{n2} is:{add}\")    "
   ]
  },
  {
   "cell_type": "code",
   "execution_count": 6,
   "id": "2380e184-e9c4-42a9-a240-d2e51f4de40f",
   "metadata": {},
   "outputs": [
    {
     "name": "stdin",
     "output_type": "stream",
     "text": [
      "enter the n1 20\n",
      "enter the n2 20\n"
     ]
    },
    {
     "name": "stdout",
     "output_type": "stream",
     "text": [
      "The addition of 20,20 is:40\n"
     ]
    }
   ],
   "source": [
    "# Function is ready\n",
    "# Creating a function means it will not give the answer\n",
    "#You need to call the function\n",
    "addition()"
   ]
  },
  {
   "cell_type": "markdown",
   "id": "4177ab1b-4f97-41b9-8db1-30aba2b5d152",
   "metadata": {},
   "source": [
    "**NOTE**\n",
    "\n",
    "- while calling the function we need to use the function name\n",
    "\n",
    "- also we need to provide brackets\n",
    "\n",
    "- in python brackets, it will display as\n",
    "\n",
    "- if we miss the brackets, it will display as\n",
    "  - function\n",
    "  - bound method"
   ]
  },
  {
   "cell_type": "markdown",
   "id": "cb8bf106-e23b-4990-8e6d-d8439a0e481d",
   "metadata": {},
   "source": [
    "**Note**\n",
    "\n",
    "- Once we create the function we can use anywhere in the Same notebook.\n",
    "\n",
    "- if you want to use in another notebook.\n",
    "\n",
    "- we need to create as package."
   ]
  },
  {
   "cell_type": "code",
   "execution_count": 7,
   "id": "320562aa-15c3-4808-81ef-8488c763e606",
   "metadata": {},
   "outputs": [
    {
     "name": "stdin",
     "output_type": "stream",
     "text": [
      "enter the n1 10\n",
      "enter the n2 10\n"
     ]
    },
    {
     "name": "stdout",
     "output_type": "stream",
     "text": [
      "The addition of 10,10 is:20\n"
     ]
    }
   ],
   "source": [
    "addition()"
   ]
  },
  {
   "cell_type": "markdown",
   "id": "bbc9c8d3-62d0-45e9-a456-cd018d921642",
   "metadata": {},
   "source": [
    "**Function without aurguments**\n",
    "\n",
    "- The function we define does not have any values or variables.\n",
    "\n",
    "- These also called as arguments or parameters.\n",
    "\n",
    "- Simply it is empty brackets."
   ]
  },
  {
   "cell_type": "code",
   "execution_count": 11,
   "id": "429a4060-5a9e-44f6-baf2-8ce533b5d87c",
   "metadata": {},
   "outputs": [
    {
     "name": "stdin",
     "output_type": "stream",
     "text": [
      "enter the n1 12\n",
      "enter the n2 54\n"
     ]
    },
    {
     "name": "stdout",
     "output_type": "stream",
     "text": [
      "The addition of 12,54 is:66\n"
     ]
    }
   ],
   "source": [
    "addition1()\n",
    "def addition1 ():\n",
    "    n1 = eval(input(\"enter the n1\"))\n",
    "    n2 = eval(input(\"enter the n2\"))\n",
    "    add=n1+n2\n",
    "    print(f\"The addition of {n1},{n2} is:{add}\")  \n",
    "\n",
    "# This code give you the error\n",
    "# Before call the function first we need to define the function."
   ]
  },
  {
   "cell_type": "code",
   "execution_count": 12,
   "id": "b55b6132-b3e8-4a45-9902-57495f0ea898",
   "metadata": {},
   "outputs": [
    {
     "name": "stdin",
     "output_type": "stream",
     "text": [
      "enter the n1 12\n",
      "enter the n2 54\n"
     ]
    },
    {
     "name": "stdout",
     "output_type": "stream",
     "text": [
      "The addition of 12,54 is:66\n"
     ]
    }
   ],
   "source": [
    "def addition1 ():\n",
    "    n1 = eval(input(\"enter the n1\"))\n",
    "    n2 = eval(input(\"enter the n2\"))\n",
    "    add=n1+n2\n",
    "    print(f\"The addition of {n1},{n2} is:{add}\")  \n",
    "addition1()"
   ]
  },
  {
   "cell_type": "code",
   "execution_count": 14,
   "id": "9ae10b38-980f-4808-a295-dba268ade09d",
   "metadata": {},
   "outputs": [],
   "source": [
    "# Que 1:- \n",
    "\n",
    "def number():\n",
    "    n1 = eval(input(\"enter the n1\"))\n",
    "    n2 = eval(input(\"enter the n2\"))\n",
    "    n3 = eval(input(\"enter the n3\"))\n",
    "    avg = (n1 + n2 + n3)/3\n",
    "    print(f\"The avg of three num is:- {avg}\")"
   ]
  },
  {
   "cell_type": "code",
   "execution_count": 15,
   "id": "efadbe54-5271-4cd4-a73c-57824765f811",
   "metadata": {},
   "outputs": [],
   "source": [
    "# Que 2:-\n",
    "\n",
    "def cal():\n",
    "    b = eval(input(\"enter the breadth\"))\n",
    "    h = eval(input(\"enter the height\"))\n",
    "    area = 0.5*b*h\n",
    "    print(f\"The area of a right angle triangle is:- {area}\")"
   ]
  },
  {
   "cell_type": "code",
   "execution_count": 16,
   "id": "f4bd6fd3-5960-491d-9b00-dca6545d7687",
   "metadata": {},
   "outputs": [],
   "source": [
    "# Que 3:-\n",
    "\n",
    "def rad():\n",
    "    pi = 3.14\n",
    "    r = eval(input(\"enter the radius\"))\n",
    "    area = (pi*r*r)\n",
    "    print(f\"The area of a circle is {area}\")"
   ]
  },
  {
   "cell_type": "code",
   "execution_count": 17,
   "id": "19b822e6-5adb-4655-a139-e93e7a45e4bb",
   "metadata": {},
   "outputs": [],
   "source": [
    "#Que 4:-\n",
    "\n",
    "def bill():\n",
    "    bill_amount = eval(input(\"enter the bill amount\"))\n",
    "    tip = eval(input(\"enter how much tip you want\"))\n",
    "    total_bill = (bill_amount + tip)\n",
    "    print(f\"The total bill is {total_bill}\")\n",
    "\n"
   ]
  },
  {
   "cell_type": "markdown",
   "id": "72050ab8-be0a-4fb8-a1b8-65b58f3d7180",
   "metadata": {},
   "source": [
    "**Note**\n",
    "- The variable name should not equal to function name "
   ]
  },
  {
   "cell_type": "code",
   "execution_count": 18,
   "id": "5d0b739c-3f8f-4f8f-829a-828015dac297",
   "metadata": {},
   "outputs": [],
   "source": [
    "def AVE():\n",
    "    try:\n",
    "        n1 = eval(input(\"enter the n1\"))\n",
    "        n2 = eval(input(\"enter the n2\"))\n",
    "        n3 = eval(input(\"enter the n3\"))\n",
    "        avg = (n1 + n2 + n3)/3\n",
    "        print(f\"The avg of three num is:- {avg}\")\n",
    "    except Exception as e:\n",
    "        print(e)\n",
    "        "
   ]
  },
  {
   "cell_type": "code",
   "execution_count": 20,
   "id": "d032c55e-6196-448d-af35-c9a211f2008e",
   "metadata": {},
   "outputs": [
    {
     "name": "stdin",
     "output_type": "stream",
     "text": [
      "enter the n1 12\n",
      "enter the n2 23\n",
      "enter the n3 34\n"
     ]
    },
    {
     "name": "stdout",
     "output_type": "stream",
     "text": [
      "The avg of three num is:- 23.0\n"
     ]
    }
   ],
   "source": [
    "AVE()"
   ]
  },
  {
   "cell_type": "code",
   "execution_count": 24,
   "id": "6cfef1d5-16fb-41ec-b101-fde6b607e38c",
   "metadata": {},
   "outputs": [
    {
     "name": "stdin",
     "output_type": "stream",
     "text": [
      "enter the n1 21\n",
      "enter the n2 23\n",
      "enter the n3 12\n"
     ]
    },
    {
     "ename": "NameError",
     "evalue": "name 'n23' is not defined",
     "output_type": "error",
     "traceback": [
      "\u001b[1;31m---------------------------------------------------------------------------\u001b[0m",
      "\u001b[1;31mNameError\u001b[0m                                 Traceback (most recent call last)",
      "Cell \u001b[1;32mIn[24], line 10\u001b[0m\n\u001b[0;32m      8\u001b[0m \u001b[38;5;28;01mexcept\u001b[39;00m \u001b[38;5;167;01mException\u001b[39;00m \u001b[38;5;28;01mas\u001b[39;00m e:\n\u001b[0;32m      9\u001b[0m     \u001b[38;5;28mprint\u001b[39m(e)\n\u001b[1;32m---> 10\u001b[0m \u001b[43mnumber\u001b[49m\u001b[43m(\u001b[49m\u001b[43m)\u001b[49m    \n",
      "Cell \u001b[1;32mIn[24], line 6\u001b[0m, in \u001b[0;36mnumber\u001b[1;34m()\u001b[0m\n\u001b[0;32m      4\u001b[0m n2 \u001b[38;5;241m=\u001b[39m \u001b[38;5;28meval\u001b[39m(\u001b[38;5;28minput\u001b[39m(\u001b[38;5;124m\"\u001b[39m\u001b[38;5;124menter the n2\u001b[39m\u001b[38;5;124m\"\u001b[39m))\n\u001b[0;32m      5\u001b[0m n3 \u001b[38;5;241m=\u001b[39m \u001b[38;5;28meval\u001b[39m(\u001b[38;5;28minput\u001b[39m(\u001b[38;5;124m\"\u001b[39m\u001b[38;5;124menter the n3\u001b[39m\u001b[38;5;124m\"\u001b[39m))\n\u001b[1;32m----> 6\u001b[0m avg \u001b[38;5;241m=\u001b[39m (n1 \u001b[38;5;241m+\u001b[39m n2 \u001b[38;5;241m+\u001b[39m \u001b[43mn23\u001b[49m)\u001b[38;5;241m/\u001b[39m\u001b[38;5;241m3\u001b[39m\n\u001b[0;32m      7\u001b[0m \u001b[38;5;28mprint\u001b[39m(\u001b[38;5;124mf\u001b[39m\u001b[38;5;124m\"\u001b[39m\u001b[38;5;124mThe avg of three num is:- \u001b[39m\u001b[38;5;132;01m{\u001b[39;00mavg\u001b[38;5;132;01m}\u001b[39;00m\u001b[38;5;124m\"\u001b[39m)\n",
      "\u001b[1;31mNameError\u001b[0m: name 'n23' is not defined"
     ]
    }
   ],
   "source": [
    "try:\n",
    "    def number():\n",
    "        n1 = eval(input(\"enter the n1\"))\n",
    "        n2 = eval(input(\"enter the n2\"))\n",
    "        n3 = eval(input(\"enter the n3\"))\n",
    "        avg = (n1 + n2 + n23)/3\n",
    "        print(f\"The avg of three num is:- {avg}\")\n",
    "except Exception as e:\n",
    "    print(e)\n",
    "number()    "
   ]
  },
  {
   "cell_type": "markdown",
   "id": "f4726c0c-d889-4849-9ccf-889c37aeb20a",
   "metadata": {},
   "source": [
    "**Interview Que** above"
   ]
  },
  {
   "cell_type": "markdown",
   "id": "64981604-b9c8-4c23-80db-b6ae250f8b27",
   "metadata": {},
   "source": [
    "**Note**\n",
    "\n",
    "- Always give try and except for only on code.\n",
    "\n",
    "- Not for function\n",
    "\n",
    "- inside the function write try-except."
   ]
  },
  {
   "cell_type": "markdown",
   "id": "9de84c95-e876-4c1c-8106-e22342e70a52",
   "metadata": {},
   "source": [
    "**Note**\n",
    "\n",
    "- When we define the function, it will not give any error or any answer.\n",
    "\n",
    "- If we want to see any error or any answer we need to call the function."
   ]
  },
  {
   "cell_type": "code",
   "execution_count": 26,
   "id": "9b8f279b-15c1-42cf-8242-261ad1f62ab0",
   "metadata": {},
   "outputs": [
    {
     "name": "stdin",
     "output_type": "stream",
     "text": [
      "enter the bill amount 12\n",
      "enter how much tip you want 21\n"
     ]
    },
    {
     "name": "stdout",
     "output_type": "stream",
     "text": [
      "The total bill is 33\n"
     ]
    }
   ],
   "source": [
    "bill()"
   ]
  },
  {
   "cell_type": "markdown",
   "id": "c1752919-057f-4e9d-9504-96742e9600ba",
   "metadata": {},
   "source": [
    "**Function with a aurguments**"
   ]
  },
  {
   "cell_type": "markdown",
   "id": "41d1e949-9a17-44c1-abab-45a4383e7665",
   "metadata": {},
   "source": [
    "- let's creat a an addition program code "
   ]
  },
  {
   "cell_type": "code",
   "execution_count": 3,
   "id": "27097077-e1ad-4778-894e-e70c54a7dee1",
   "metadata": {},
   "outputs": [
    {
     "name": "stdin",
     "output_type": "stream",
     "text": [
      "enter the n1: 21\n",
      "enter the n1: 21\n"
     ]
    },
    {
     "name": "stdout",
     "output_type": "stream",
     "text": [
      "the addition of 21 and 21 is: 42\n"
     ]
    }
   ],
   "source": [
    "def addition():\n",
    "    n1 = eval(input(\"enter the n1:\"))\n",
    "    n2 = eval(input(\"enter the n1:\"))\n",
    "    add =n1+n2\n",
    "    print(f\"the addition of {n1} and {n2} is: {add}\")\n",
    "addition()\n"
   ]
  },
  {
   "cell_type": "markdown",
   "id": "d8d81530-afb9-445f-b892-42fe850e4d1c",
   "metadata": {},
   "source": [
    "- how many variable are in there above code:3\n",
    "\n",
    "    - n1,n2,add.\n",
    " \n",
    "- what are the input variables\n",
    "\n",
    "    - n1,n2\n",
    " \n",
    "- what are the output variables\n",
    "    \n",
    "    - add\n",
    "\n",
    "- pass the input variables inside the function brackets.\n",
    "\n",
    "- pass n1, n2 inside the brackets, these n1,n2 behaves like a function"
   ]
  },
  {
   "cell_type": "code",
   "execution_count": 7,
   "id": "2a62268b-a622-47dd-98ce-889b46f984f8",
   "metadata": {},
   "outputs": [
    {
     "name": "stdout",
     "output_type": "stream",
     "text": [
      "the addition of 20 and 20 is: 40\n"
     ]
    }
   ],
   "source": [
    "def addition1(n1,n2):\n",
    "    add =n1+n2\n",
    "    print(f\"the addition of {n1} and {n2} is: {add}\")\n",
    "addition1(20,20)"
   ]
  },
  {
   "cell_type": "code",
   "execution_count": 10,
   "id": "2bf8f228-1760-4f7f-be8b-9bd8b1ccbcd2",
   "metadata": {},
   "outputs": [
    {
     "data": {
      "text/plain": [
       "5"
      ]
     },
     "execution_count": 10,
     "metadata": {},
     "output_type": "execute_result"
    }
   ],
   "source": [
    "from random import randint\n",
    "randint(1,6)"
   ]
  },
  {
   "cell_type": "markdown",
   "id": "cb34d5f5-f12b-4c02-b14a-f2a4675dbd9d",
   "metadata": {},
   "source": [
    "**Functions with Aurguments**"
   ]
  },
  {
   "cell_type": "code",
   "execution_count": 17,
   "id": "141d68de-22fb-44f0-866a-113b8561b90e",
   "metadata": {},
   "outputs": [
    {
     "name": "stdin",
     "output_type": "stream",
     "text": [
      "enter the n3 20\n"
     ]
    },
    {
     "name": "stdout",
     "output_type": "stream",
     "text": [
      "The avg of three num is:- 16.666666666666668\n"
     ]
    }
   ],
   "source": [
    "def number(n1,n2):\n",
    "    n3 = eval(input(\"enter the n3\"))\n",
    "    avg = (n1 + n2 + n3)/3\n",
    "    print(f\"The avg of three num is:- {avg}\")\n",
    "number(10,20)"
   ]
  },
  {
   "cell_type": "code",
   "execution_count": 22,
   "id": "53337230-6237-4cab-ae1d-7d0760a69b89",
   "metadata": {},
   "outputs": [
    {
     "name": "stdout",
     "output_type": "stream",
     "text": [
      "n1 10\n"
     ]
    },
    {
     "name": "stdin",
     "output_type": "stream",
     "text": [
      "enter the n2 23\n",
      "enter the n3 89\n"
     ]
    },
    {
     "name": "stdout",
     "output_type": "stream",
     "text": [
      "The avg of three num is:- 40.666666666666664\n"
     ]
    }
   ],
   "source": [
    "\n",
    "def number(n1):\n",
    "    print(\"n1\",n1)\n",
    "    n2 = eval(input(\"enter the n2\"))\n",
    "    n3 = eval(input(\"enter the n3\"))\n",
    "    avg = (n1 + n2 + n3)/3\n",
    "    print(f\"The avg of three num is:- {avg}\")\n",
    "number(10)"
   ]
  },
  {
   "cell_type": "code",
   "execution_count": 23,
   "id": "81956f55-11d3-445d-a221-49a4d5985de5",
   "metadata": {},
   "outputs": [
    {
     "name": "stdout",
     "output_type": "stream",
     "text": [
      "n1 10\n"
     ]
    },
    {
     "name": "stdin",
     "output_type": "stream",
     "text": [
      "enter the n2 45\n",
      "enter the n3 89\n"
     ]
    },
    {
     "name": "stdout",
     "output_type": "stream",
     "text": [
      "The avg of three num is:- 48.0\n"
     ]
    }
   ],
   "source": [
    "def number(n1):\n",
    "    print(\"n1\",n1)\n",
    "    n2 = eval(input(\"enter the n2\"))\n",
    "    n3 = eval(input(\"enter the n3\"))\n",
    "    avg = (n1 + n2 + n3)/3\n",
    "    avg1 = round(avg,2)\n",
    "    print(f\"The avg of three num is:- {avg1}\")\n",
    "number(10)"
   ]
  },
  {
   "cell_type": "code",
   "execution_count": 24,
   "id": "9bfefd6c-3ee5-4705-8319-f5ce1216cebe",
   "metadata": {},
   "outputs": [
    {
     "name": "stdin",
     "output_type": "stream",
     "text": [
      "enter the number: 6\n",
      "how much power we want: 2\n"
     ]
    },
    {
     "name": "stdout",
     "output_type": "stream",
     "text": [
      "36\n"
     ]
    }
   ],
   "source": [
    "2**2\n",
    "2**3\n",
    "2**4\n",
    "number = eval(input(\"enter the number:\"))\n",
    "power = eval(input(\"how much power we want:\"))\n",
    "print(number**power)"
   ]
  },
  {
   "cell_type": "code",
   "execution_count": 28,
   "id": "51ac63f5-8b8e-45a7-aaf8-fdc02397a0a3",
   "metadata": {},
   "outputs": [
    {
     "name": "stdin",
     "output_type": "stream",
     "text": [
      "enter the number: 10\n",
      "how much power we want: 6\n"
     ]
    },
    {
     "name": "stdout",
     "output_type": "stream",
     "text": [
      "1000000\n"
     ]
    }
   ],
   "source": [
    "def Power():\n",
    "    number = eval(input(\"enter the number:\"))\n",
    "    power = eval(input(\"how much power we want:\"))\n",
    "    print(number**power)\n",
    "Power()"
   ]
  },
  {
   "cell_type": "code",
   "execution_count": 27,
   "id": "6a84340a-1303-40f7-9041-a0304a3bec7e",
   "metadata": {},
   "outputs": [
    {
     "name": "stdout",
     "output_type": "stream",
     "text": [
      "1000000\n"
     ]
    }
   ],
   "source": [
    "def Power(num,pow):\n",
    "    print(num**pow)\n",
    "Power(10,6)"
   ]
  },
  {
   "cell_type": "markdown",
   "id": "5b247f25-f12c-4a62-8df9-c012bcbfbfe3",
   "metadata": {},
   "source": [
    "**Functions with default aurguments**"
   ]
  },
  {
   "cell_type": "code",
   "execution_count": 30,
   "id": "1596b641-71ac-44fe-8588-b55901f31010",
   "metadata": {},
   "outputs": [
    {
     "name": "stdout",
     "output_type": "stream",
     "text": [
      "The total bill is 1200\n"
     ]
    }
   ],
   "source": [
    "def bill(bill_amount, tip=200):\n",
    "    total_bill = (bill_amount + tip)\n",
    "    print(f\"The total bill is {total_bill}\")\n",
    "bill(1000)"
   ]
  },
  {
   "cell_type": "code",
   "execution_count": 31,
   "id": "fe93d2fe-5be1-4072-8630-85fcd33dbfea",
   "metadata": {},
   "outputs": [
    {
     "name": "stdout",
     "output_type": "stream",
     "text": [
      "n1 10\n",
      "n2 20\n",
      "n3 40\n",
      "The avg of three num is:- 23.33\n"
     ]
    }
   ],
   "source": [
    "def number(n1,n2,n3=40):\n",
    "    print(\"n1\",n1)\n",
    "    print(\"n2\",n2)\n",
    "    print(\"n3\",n3)\n",
    "    avg = (n1 + n2 + n3)/3\n",
    "    avg1 = round(avg,2)\n",
    "    print(f\"The avg of three num is:- {avg1}\")\n",
    "number(10,20)"
   ]
  },
  {
   "cell_type": "code",
   "execution_count": 34,
   "id": "205716a0-bab5-4e4d-97f2-1e9cae635691",
   "metadata": {},
   "outputs": [
    {
     "ename": "SyntaxError",
     "evalue": "parameter without a default follows parameter with a default (297961369.py, line 1)",
     "output_type": "error",
     "traceback": [
      "\u001b[1;36m  Cell \u001b[1;32mIn[34], line 1\u001b[1;36m\u001b[0m\n\u001b[1;33m    def number(n1,n2=50,n3):\u001b[0m\n\u001b[1;37m                        ^\u001b[0m\n\u001b[1;31mSyntaxError\u001b[0m\u001b[1;31m:\u001b[0m parameter without a default follows parameter with a default\n"
     ]
    }
   ],
   "source": [
    "def number(n1,n2=50,n3):\n",
    "    print(\"n1\",n1)\n",
    "    print(\"n2\",n2)\n",
    "    print(\"n3\",n3)\n",
    "    avg = (n1 + n2 + n3)/3\n",
    "    avg1 = round(avg,2)\n",
    "    print(f\"The avg of three num is:- {avg1}\")\n",
    "number(10,20)"
   ]
  },
  {
   "cell_type": "markdown",
   "id": "6f3d5b57-0f48-4ba3-bd0c-d058b7398308",
   "metadata": {},
   "source": [
    "**Always write the default aurgumnet at last**"
   ]
  },
  {
   "cell_type": "code",
   "execution_count": 36,
   "id": "cdcfbb8a-96d6-4a0f-9a2a-db0781f76144",
   "metadata": {},
   "outputs": [
    {
     "name": "stdout",
     "output_type": "stream",
     "text": [
      "n1 10\n",
      "n2 50\n",
      "n3 20\n",
      "The avg of three num is:- 26.67\n"
     ]
    }
   ],
   "source": [
    "def number(n1,n3,n2=50):\n",
    "    print(\"n1:-\",n1)\n",
    "    print(\"n2:-\",n2)\n",
    "    print(\"n3:-\",n3)\n",
    "    avg = (n1 + n2 + n3)/3\n",
    "    avg1 = round(avg,2)\n",
    "    print(f\"The avg of three num is:- {avg1}\")\n",
    "number(10,20)"
   ]
  },
  {
   "cell_type": "code",
   "execution_count": 37,
   "id": "3d1cfc5e-1644-4a71-8238-8e29161fabe1",
   "metadata": {},
   "outputs": [
    {
     "name": "stdout",
     "output_type": "stream",
     "text": [
      "n1:- 50\n",
      "n2:- 10\n",
      "n3:- 20\n",
      "The avg of three num is:- 26.67\n"
     ]
    }
   ],
   "source": [
    "def number(n2,n3,n1=50):\n",
    "    print(\"n1:-\",n1)\n",
    "    print(\"n2:-\",n2)\n",
    "    print(\"n3:-\",n3)\n",
    "    avg = (n1 + n2 + n3)/3\n",
    "    avg1 = round(avg,2)\n",
    "    print(f\"The avg of three num is:- {avg1}\")\n",
    "number(10,20)"
   ]
  },
  {
   "cell_type": "code",
   "execution_count": null,
   "id": "f2a0e907-aa39-4b7c-b9b4-8e1ade1b33a7",
   "metadata": {},
   "outputs": [],
   "source": [
    "(n1,n2,n3=100)\n",
    "(n1,n2=100,n3)"
   ]
  },
  {
   "cell_type": "code",
   "execution_count": 2,
   "id": "ae14bd45-043a-48d0-83ff-ebea80ccb3de",
   "metadata": {},
   "outputs": [
    {
     "name": "stdout",
     "output_type": "stream",
     "text": [
      "Name: Alice, Age: 25\n",
      "Name: Bob, Age: 30\n"
     ]
    }
   ],
   "source": [
    "def display_info(name, age=30):\n",
    "    print(f\"Name: {name}, Age: {age}\")\n",
    "\n",
    "# Calling with both arguments\n",
    "display_info(\"Alice\", 25)\n",
    "\n",
    "# Calling with only the non-default argument\n",
    "display_info(\"Bob\")\n"
   ]
  },
  {
   "cell_type": "code",
   "execution_count": null,
   "id": "0a5292ff-c847-47cb-8906-79556f6d8b5d",
   "metadata": {},
   "outputs": [],
   "source": [
    "def square():\n",
    "    "
   ]
  },
  {
   "cell_type": "code",
   "execution_count": null,
   "id": "e66a26b7-7740-4107-9cff-dd3a6a67ca74",
   "metadata": {},
   "outputs": [],
   "source": [
    "- three ways to write a program.\n",
    "\n",
    "# ask the user get a random  number"
   ]
  },
  {
   "cell_type": "markdown",
   "id": "0283af5d-99e6-422c-9f37-51bbc7167379",
   "metadata": {},
   "source": [
    "**Normal Code**"
   ]
  },
  {
   "cell_type": "code",
   "execution_count": 3,
   "id": "7b7758c2-6e0e-4d2d-a1b9-a1bfc6d6cd13",
   "metadata": {},
   "outputs": [
    {
     "name": "stdin",
     "output_type": "stream",
     "text": [
      "Enter a number 5\n"
     ]
    },
    {
     "name": "stdout",
     "output_type": "stream",
     "text": [
      "2\n",
      "We will lost\n"
     ]
    }
   ],
   "source": [
    "from random import randint\n",
    "num1 = eval(input(\"Enter a number\"))\n",
    "num2 = randint(1,10)\n",
    "print(num2)\n",
    "if num1 == num2:\n",
    "    print(f\"We will won\")\n",
    "else:\n",
    "    print(\"We will lost\")"
   ]
  },
  {
   "cell_type": "markdown",
   "id": "07887a49-7f71-456b-96e3-57c9a7c8ce12",
   "metadata": {},
   "source": [
    "**Without Aurgmnet**"
   ]
  },
  {
   "cell_type": "code",
   "execution_count": 4,
   "id": "447c578a-6d67-4aed-82a1-5491e5a08b33",
   "metadata": {},
   "outputs": [
    {
     "name": "stdin",
     "output_type": "stream",
     "text": [
      "Enter a number 5\n"
     ]
    },
    {
     "name": "stdout",
     "output_type": "stream",
     "text": [
      "6\n",
      "We will lost\n"
     ]
    }
   ],
   "source": [
    "def game():\n",
    "    from random import randint\n",
    "    num1 = eval(input(\"Enter a number\"))\n",
    "    num2 = randint(1,10)\n",
    "    print(num2)\n",
    "    if num1 == num2:\n",
    "        print(f\"We will won\")\n",
    "    else:\n",
    "        print(\"We will lost\")\n",
    "game()    "
   ]
  },
  {
   "cell_type": "markdown",
   "id": "f8d8b795-36d6-4169-b4ef-e6eb073aba83",
   "metadata": {},
   "source": [
    "**With Aurgument**"
   ]
  },
  {
   "cell_type": "code",
   "execution_count": 5,
   "id": "0e55fc6b-fa94-4af2-b4c3-5cae9af42400",
   "metadata": {},
   "outputs": [
    {
     "name": "stdout",
     "output_type": "stream",
     "text": [
      "6\n",
      "We will lost\n"
     ]
    }
   ],
   "source": [
    "def game1(num1):\n",
    "    from random import randint\n",
    "    num2 = randint(1,10)\n",
    "    print(num2)\n",
    "    if num1 == num2:\n",
    "        print(f\"We will won\")\n",
    "    else:\n",
    "        print(\"We will lost\")\n",
    "game1(5)"
   ]
  },
  {
   "cell_type": "code",
   "execution_count": null,
   "id": "62fe5929-0681-433f-a8aa-d66b4ef8afd2",
   "metadata": {},
   "outputs": [],
   "source": [
    "def game2()"
   ]
  },
  {
   "cell_type": "markdown",
   "id": "11c57ded-48ea-4e3d-99cd-0d0c0d8c38e7",
   "metadata": {},
   "source": [
    "**Default Aurgument**"
   ]
  },
  {
   "cell_type": "code",
   "execution_count": 6,
   "id": "34d55823-825a-4eab-a7f6-b63ab790a555",
   "metadata": {},
   "outputs": [
    {
     "name": "stdout",
     "output_type": "stream",
     "text": [
      "6\n",
      "We will lost\n"
     ]
    }
   ],
   "source": [
    "def game2(num1=5):\n",
    "    from random import randint\n",
    "    num2 = randint(1,10)\n",
    "    print(num2)\n",
    "    if num1 == num2:\n",
    "        print(f\"We will won\")\n",
    "    else:\n",
    "        print(\"We will lost\")\n",
    "game2(5)"
   ]
  },
  {
   "cell_type": "markdown",
   "id": "9b6c8ece-45c5-4e19-b441-3df32e43b62b",
   "metadata": {},
   "source": [
    "**Case-1**"
   ]
  },
  {
   "cell_type": "markdown",
   "id": "a9c7ed36-1f71-447a-a4ea-8d7910f2bb0c",
   "metadata": {},
   "source": [
    "- Step1:- Define the function.\n",
    "- step2:- call the function\n",
    "- step3:- run the function."
   ]
  },
  {
   "cell_type": "code",
   "execution_count": 8,
   "id": "1b8b64c1-47f9-43c3-b3df-4cf22cfb282a",
   "metadata": {},
   "outputs": [
    {
     "name": "stdout",
     "output_type": "stream",
     "text": [
      "n1:- 10\n",
      "n2:- 20\n",
      "n3:- 100\n",
      "The avg of three num is:- 43.33\n"
     ]
    }
   ],
   "source": [
    "def number(n1,n2,n3=40):\n",
    "    print(\"n1:-\",n1)\n",
    "    print(\"n2:-\",n2)\n",
    "    print(\"n3:-\",n3)\n",
    "    avg = (n1 + n2 + n3)/3\n",
    "    avg1 = round(avg,2)\n",
    "    print(f\"The avg of three num is:- {avg1}\")\n",
    "number(10,20,100)\n",
    "\n",
    "# While defining n3 = 40\n",
    "# while calling n3= 100\n",
    "# while running also n3 = 100"
   ]
  },
  {
   "cell_type": "code",
   "execution_count": 4,
   "id": "01ae632e-1e92-4af2-b509-a8f0ec6b94fb",
   "metadata": {},
   "outputs": [
    {
     "name": "stdout",
     "output_type": "stream",
     "text": [
      "a: 10\n",
      "b: 20\n",
      "c: 30\n",
      "60\n"
     ]
    }
   ],
   "source": [
    "def add(a,b,c):\n",
    "    print(\"a:\",a)  # 10\n",
    "    print(\"b:\",b)  # 20\n",
    "    print(\"c:\",c)  #30\n",
    "    d = a+b+c      # 10+20+30\n",
    "    print(d)\n",
    "add(10,20,30)"
   ]
  },
  {
   "cell_type": "code",
   "execution_count": 5,
   "id": "879b2b42-10cb-4b08-ac4b-ecc89e8cd58a",
   "metadata": {},
   "outputs": [],
   "source": [
    "def add(a,b,c=50):\n",
    "    c=500\n",
    "    print(\"a:\",a) # 10\n",
    "    print(\"b:\",b) # 20\n",
    "    print(\"c:\",c) # 500\n",
    "    d = a+b+c     # 10+20+500\n",
    "    print(d)"
   ]
  },
  {
   "cell_type": "code",
   "execution_count": 7,
   "id": "789cc042-91ee-40cd-8b59-16a712610bc6",
   "metadata": {},
   "outputs": [
    {
     "name": "stdout",
     "output_type": "stream",
     "text": [
      "a: 10\n",
      "b: 20\n",
      "c: 100\n",
      "130\n"
     ]
    }
   ],
   "source": [
    "def add(a,b,c=50):\n",
    "    \n",
    "    print(\"a:\",a) # 10\n",
    "    print(\"b:\",b) # 20\n",
    "    print(\"c:\",c) # 500\n",
    "    d = a+b+c     # 10+20+500\n",
    "    print(d)\n",
    "c = 700\n",
    "add(10,20,100)"
   ]
  },
  {
   "cell_type": "code",
   "execution_count": 8,
   "id": "8c2ba44c-fce0-4cf1-81e1-2e9613b15e96",
   "metadata": {},
   "outputs": [
    {
     "name": "stdout",
     "output_type": "stream",
     "text": [
      "a: 10\n",
      "b: 20\n",
      "c: 800\n",
      "830\n"
     ]
    }
   ],
   "source": [
    "def add(a,b,c=50):\n",
    "    c = 800\n",
    "    print(\"a:\",a) # 10\n",
    "    print(\"b:\",b) # 20\n",
    "    print(\"c:\",c) # 500\n",
    "    d = a+b+c     # 10+20+500\n",
    "    print(d)\n",
    "c = 700\n",
    "add(10,20,100)"
   ]
  },
  {
   "cell_type": "code",
   "execution_count": 13,
   "id": "bd2ccec4-909d-45b5-8873-d27c8059e552",
   "metadata": {},
   "outputs": [
    {
     "name": "stdout",
     "output_type": "stream",
     "text": [
      "a: 10\n",
      "b: 20\n",
      "c: 500\n",
      "530\n"
     ]
    }
   ],
   "source": [
    "add(10,20,100)"
   ]
  },
  {
   "cell_type": "code",
   "execution_count": 14,
   "id": "a28183d5-d2ae-4dd4-8328-c1306fe126c4",
   "metadata": {},
   "outputs": [
    {
     "name": "stdout",
     "output_type": "stream",
     "text": [
      "a: 10\n",
      "b: 20\n",
      "c: 100\n",
      "130\n"
     ]
    }
   ],
   "source": [
    "def add(a,b,c=50):\n",
    "   \n",
    "    print(\"a:\",a)\n",
    "    print(\"b:\",b)\n",
    "    print(\"c:\",c)\n",
    "    d = a+b+c\n",
    "    print(d)\n",
    "\n",
    "c=700\n",
    "add(10,20,100)"
   ]
  },
  {
   "cell_type": "code",
   "execution_count": 15,
   "id": "0f3a002a-1307-40a6-b082-bdf526f9572d",
   "metadata": {},
   "outputs": [
    {
     "name": "stdout",
     "output_type": "stream",
     "text": [
      "a: 10\n",
      "b: 20\n",
      "c: 800\n",
      "step by step going...\n",
      "830\n"
     ]
    }
   ],
   "source": [
    "def add(a,b,c=50):\n",
    "    c = 800\n",
    "    print(\"a:\",a)\n",
    "    print(\"b:\",b)\n",
    "    print(\"c:\",c)\n",
    "    d = a+b+c\n",
    "    print(\"step by step going...\")\n",
    "    print(d)\n",
    "    c = 900\n",
    "c=700\n",
    "add(10,20,100)"
   ]
  },
  {
   "cell_type": "code",
   "execution_count": 16,
   "id": "0da34ac6-5221-4c57-94d9-7dbd11817ba6",
   "metadata": {},
   "outputs": [
    {
     "name": "stdout",
     "output_type": "stream",
     "text": [
      "a: 10\n",
      "b: 20\n",
      "c: 400\n",
      "step by step going...\n",
      "430\n"
     ]
    }
   ],
   "source": [
    "c = 200\n",
    "def add(a,b,c=50):\n",
    "    c = 400\n",
    "    print(\"a:\",a)\n",
    "    print(\"b:\",b)\n",
    "    print(\"c:\",c)\n",
    "    d = a+b+c\n",
    "    print(\"step by step going...\")\n",
    "    print(d)\n",
    "    c = 500\n",
    "c=700\n",
    "add(10,20,100)"
   ]
  },
  {
   "cell_type": "markdown",
   "id": "bcfc8aba-dd2f-481b-b059-0e5fc670a6bc",
   "metadata": {},
   "source": [
    "**Local Variables vs Global Variables**"
   ]
  },
  {
   "cell_type": "markdown",
   "id": "60cbed1d-f35a-4b62-8117-b9427b42a59d",
   "metadata": {},
   "source": [
    "- local variables are used inside the function \n",
    "\n",
    "- global variables are used outside the function.\n",
    "\n",
    "- Global variables can be used at anywhere **inside the function** or **outside the function**"
   ]
  },
  {
   "cell_type": "code",
   "execution_count": 17,
   "id": "02d0d933-d1f4-4e90-a7a0-507cd785b990",
   "metadata": {},
   "outputs": [
    {
     "name": "stdin",
     "output_type": "stream",
     "text": [
      "enter the n1 5\n",
      "enter the n2 5\n",
      "enter the n3 5\n"
     ]
    },
    {
     "name": "stdout",
     "output_type": "stream",
     "text": [
      "The avg of three num is:- 5.0\n"
     ]
    }
   ],
   "source": [
    "n1 = eval(input(\"enter the n1\"))\n",
    "n2 = eval(input(\"enter the n2\"))\n",
    "n3 = eval(input(\"enter the n3\"))\n",
    "def average():\n",
    "        avg = (n1 + n2 + n3)/3\n",
    "        print(f\"The avg of three num is:- {avg}\")\n",
    "average()"
   ]
  },
  {
   "cell_type": "code",
   "execution_count": 21,
   "id": "4a57bd97-e869-46cf-9873-40e6e664abc6",
   "metadata": {},
   "outputs": [
    {
     "name": "stdin",
     "output_type": "stream",
     "text": [
      "enter the n1 5\n",
      "enter the n2 8\n",
      "enter the n3 9\n"
     ]
    },
    {
     "name": "stdout",
     "output_type": "stream",
     "text": [
      "The avg of three num is:- 7.333333333333333\n"
     ]
    }
   ],
   "source": [
    "def average1():\n",
    "    N1 = eval(input(\"enter the n1\"))\n",
    "    N2 = eval(input(\"enter the n2\"))\n",
    "    N3 = eval(input(\"enter the n3\"))\n",
    "    avg1 = (N1+N2+N3)/3\n",
    "    print(f\"The avg of three num is:- {avg1}\")\n",
    "average1()"
   ]
  },
  {
   "cell_type": "code",
   "execution_count": 16,
   "id": "f9c82a90-745e-4a0b-b277-34a36fb8eb61",
   "metadata": {},
   "outputs": [
    {
     "ename": "NameError",
     "evalue": "name 'avg' is not defined",
     "output_type": "error",
     "traceback": [
      "\u001b[1;31m---------------------------------------------------------------------------\u001b[0m",
      "\u001b[1;31mNameError\u001b[0m                                 Traceback (most recent call last)",
      "Cell \u001b[1;32mIn[16], line 1\u001b[0m\n\u001b[1;32m----> 1\u001b[0m \u001b[43mavg\u001b[49m\n",
      "\u001b[1;31mNameError\u001b[0m: name 'avg' is not defined"
     ]
    }
   ],
   "source": [
    "avg"
   ]
  },
  {
   "cell_type": "markdown",
   "id": "00e8e045-431a-4b1a-972e-6512880a12ed",
   "metadata": {},
   "source": [
    "**NOTE** \n",
    "- Local variable can not use outside the function.\n",
    "\n",
    "- in above code N1 is local variable.\n",
    "\n",
    "- we are trying to use outside the function it is thorwing the error."
   ]
  },
  {
   "cell_type": "markdown",
   "id": "e2effd56-e68d-453d-bd6b-f5324c846f43",
   "metadata": {},
   "source": [
    "- Global variables are intialised outside the function.\n",
    "\n",
    "- Global variables can be use anywhere.\n",
    "\n",
    "- local variables are inialised inside the function.\n",
    "\n",
    "- Local variables can not use outside the funtion."
   ]
  },
  {
   "cell_type": "markdown",
   "id": "6ccd1f3e-44e0-4acc-aa8a-11d35e666864",
   "metadata": {},
   "source": [
    "**How to use local variables outside the function call**"
   ]
  },
  {
   "cell_type": "code",
   "execution_count": 11,
   "id": "26ced517-7c4b-444d-bce5-40ce23c941fe",
   "metadata": {},
   "outputs": [
    {
     "name": "stdin",
     "output_type": "stream",
     "text": [
      "enter the n1 20\n",
      "enter the n2 30\n",
      "enter the n3 40\n"
     ]
    },
    {
     "name": "stdout",
     "output_type": "stream",
     "text": [
      "The addition of 20,30 and 40 is:- 90\n"
     ]
    }
   ],
   "source": [
    "A = eval(input(\"enter the n1\"))\n",
    "B = eval(input(\"enter the n2\"))\n",
    "C = eval(input(\"enter the n3\"))\n",
    "def add1():\n",
    "    global ADD\n",
    "    ADD = A+B+C\n",
    "    print(f\"The addition of {A},{B} and {C} is:- {ADD}\")\n",
    "add1()"
   ]
  },
  {
   "cell_type": "code",
   "execution_count": 12,
   "id": "48f916c6-8c46-4e94-a7bf-30b73a3a4dd7",
   "metadata": {},
   "outputs": [
    {
     "data": {
      "text/plain": [
       "90"
      ]
     },
     "execution_count": 12,
     "metadata": {},
     "output_type": "execute_result"
    }
   ],
   "source": [
    "ADD"
   ]
  },
  {
   "cell_type": "code",
   "execution_count": 14,
   "id": "34555abf-d780-47db-9faa-b306fb443c03",
   "metadata": {},
   "outputs": [],
   "source": [
    "A = 100\n",
    "B= 200\n",
    "C= 300\n",
    "def add1():\n",
    "    global ADD\n",
    "    ADD = A+B+C\n",
    "    print(f\"The addition of {A},{B} and {C} is:- {ADD}\")"
   ]
  },
  {
   "cell_type": "code",
   "execution_count": 25,
   "id": "7e9edcb7-89ca-4f2d-8282-304be65bb630",
   "metadata": {},
   "outputs": [
    {
     "name": "stdout",
     "output_type": "stream",
     "text": [
      "The addition of 100,200 and 300 is:- 600\n"
     ]
    }
   ],
   "source": [
    "add1()"
   ]
  },
  {
   "cell_type": "code",
   "execution_count": 15,
   "id": "b7f2c820-bd0a-411c-a372-35f2000321b2",
   "metadata": {},
   "outputs": [
    {
     "data": {
      "text/plain": [
       "90"
      ]
     },
     "execution_count": 15,
     "metadata": {},
     "output_type": "execute_result"
    }
   ],
   "source": [
    "ADD"
   ]
  },
  {
   "cell_type": "markdown",
   "id": "a60c3857-4a02-4129-9bb6-873934e64d02",
   "metadata": {},
   "source": [
    "- Local variables can be use outside the function in two ways.\n",
    "\n",
    "- by making local variables as gloabl by using **global**\n",
    "\n",
    "- by using return statement also."
   ]
  },
  {
   "cell_type": "code",
   "execution_count": null,
   "id": "3230fc0a-f9db-40f6-ac90-f1eb998759d2",
   "metadata": {},
   "outputs": [],
   "source": [
    "A = 100\n",
    "B= 200\n",
    "\n",
    "def summ():\n",
    "    global ADD\n",
    "    ADD = A+B+C\n",
    "    print(f\"The addition of {A},{B} and {C} is:- {ADD}\")"
   ]
  },
  {
   "cell_type": "code",
   "execution_count": 17,
   "id": "3f6d41a7-dc99-4579-9fd8-1b1837dabaa8",
   "metadata": {},
   "outputs": [],
   "source": [
    "def summ(a,b):\n",
    "    global add,sub\n",
    "    add = a+b\n",
    "    sub = a-b\n",
    "    print(add,sub)"
   ]
  },
  {
   "cell_type": "code",
   "execution_count": 19,
   "id": "6ae1ea0e-e397-4686-b797-b7d45133f3ba",
   "metadata": {},
   "outputs": [
    {
     "name": "stdout",
     "output_type": "stream",
     "text": [
      "50 -10\n"
     ]
    }
   ],
   "source": [
    "summ(20,30)"
   ]
  },
  {
   "cell_type": "markdown",
   "id": "8a95a7e5-9753-472d-b335-12c1410dde84",
   "metadata": {},
   "source": [
    "**Unbounde local error**\n",
    "\n",
    "- unbound local error means the variable is not defined \n",
    "\n",
    "- that variable is used as both input and output inside the function."
   ]
  },
  {
   "cell_type": "code",
   "execution_count": 21,
   "id": "c7c7adce-3201-43f0-84c8-54feb804930f",
   "metadata": {},
   "outputs": [
    {
     "ename": "UnboundLocalError",
     "evalue": "cannot access local variable 'b' where it is not associated with a value",
     "output_type": "error",
     "traceback": [
      "\u001b[1;31m---------------------------------------------------------------------------\u001b[0m",
      "\u001b[1;31mUnboundLocalError\u001b[0m                         Traceback (most recent call last)",
      "Cell \u001b[1;32mIn[21], line 5\u001b[0m\n\u001b[0;32m      3\u001b[0m     b\u001b[38;5;241m=\u001b[39mb\u001b[38;5;241m+\u001b[39ma\n\u001b[0;32m      4\u001b[0m     \u001b[38;5;28mprint\u001b[39m(b)\n\u001b[1;32m----> 5\u001b[0m \u001b[43mfun1\u001b[49m\u001b[43m(\u001b[49m\u001b[43m)\u001b[49m\n",
      "Cell \u001b[1;32mIn[21], line 3\u001b[0m, in \u001b[0;36mfun1\u001b[1;34m()\u001b[0m\n\u001b[0;32m      1\u001b[0m \u001b[38;5;28;01mdef\u001b[39;00m \u001b[38;5;21mfun1\u001b[39m():\n\u001b[0;32m      2\u001b[0m     a \u001b[38;5;241m=\u001b[39m \u001b[38;5;241m10\u001b[39m\n\u001b[1;32m----> 3\u001b[0m     b\u001b[38;5;241m=\u001b[39m\u001b[43mb\u001b[49m\u001b[38;5;241m+\u001b[39ma\n\u001b[0;32m      4\u001b[0m     \u001b[38;5;28mprint\u001b[39m(b)\n",
      "\u001b[1;31mUnboundLocalError\u001b[0m: cannot access local variable 'b' where it is not associated with a value"
     ]
    }
   ],
   "source": [
    "def fun1():\n",
    "    a = 10\n",
    "    b=b+a\n",
    "    print(b)\n",
    "fun1()"
   ]
  },
  {
   "cell_type": "code",
   "execution_count": 22,
   "id": "be6a16a1-eeff-4280-be51-e3a8e30167e5",
   "metadata": {},
   "outputs": [
    {
     "ename": "NameError",
     "evalue": "name 'b' is not defined",
     "output_type": "error",
     "traceback": [
      "\u001b[1;31m---------------------------------------------------------------------------\u001b[0m",
      "\u001b[1;31mNameError\u001b[0m                                 Traceback (most recent call last)",
      "Cell \u001b[1;32mIn[22], line 5\u001b[0m\n\u001b[0;32m      3\u001b[0m     c \u001b[38;5;241m=\u001b[39m b\u001b[38;5;241m+\u001b[39ma\n\u001b[0;32m      4\u001b[0m     \u001b[38;5;28mprint\u001b[39m(c)\n\u001b[1;32m----> 5\u001b[0m \u001b[38;5;241m-\u001b[39m \u001b[43mfun2\u001b[49m\u001b[43m(\u001b[49m\u001b[43m)\u001b[49m\n",
      "Cell \u001b[1;32mIn[22], line 3\u001b[0m, in \u001b[0;36mfun2\u001b[1;34m()\u001b[0m\n\u001b[0;32m      1\u001b[0m \u001b[38;5;28;01mdef\u001b[39;00m \u001b[38;5;21mfun2\u001b[39m():\n\u001b[0;32m      2\u001b[0m     a\u001b[38;5;241m=\u001b[39m \u001b[38;5;241m10\u001b[39m\n\u001b[1;32m----> 3\u001b[0m     c \u001b[38;5;241m=\u001b[39m \u001b[43mb\u001b[49m\u001b[38;5;241m+\u001b[39ma\n\u001b[0;32m      4\u001b[0m     \u001b[38;5;28mprint\u001b[39m(c)\n",
      "\u001b[1;31mNameError\u001b[0m: name 'b' is not defined"
     ]
    }
   ],
   "source": [
    "def fun2():\n",
    "    a= 10\n",
    "    c = b+a\n",
    "    print(c)\n",
    "- fun2()"
   ]
  },
  {
   "cell_type": "code",
   "execution_count": 24,
   "id": "e9864c53-e40f-4175-9bb4-f766bf09a7f3",
   "metadata": {},
   "outputs": [
    {
     "ename": "NameError",
     "evalue": "name 'a' is not defined",
     "output_type": "error",
     "traceback": [
      "\u001b[1;31m---------------------------------------------------------------------------\u001b[0m",
      "\u001b[1;31mNameError\u001b[0m                                 Traceback (most recent call last)",
      "Cell \u001b[1;32mIn[24], line 1\u001b[0m\n\u001b[1;32m----> 1\u001b[0m b \u001b[38;5;241m=\u001b[39m \u001b[43ma\u001b[49m\u001b[38;5;241m+\u001b[39mb\n",
      "\u001b[1;31mNameError\u001b[0m: name 'a' is not defined"
     ]
    }
   ],
   "source": [
    "b = a+b"
   ]
  },
  {
   "cell_type": "markdown",
   "id": "6805ed47-5294-424e-998a-277e233db272",
   "metadata": {},
   "source": [
    "**Returns Statements**"
   ]
  },
  {
   "cell_type": "markdown",
   "id": "ad70da42-3ea8-402b-a099-56ae0d04ee57",
   "metadata": {},
   "source": [
    "- till now above we have created a function with print statement in order to see the output\n",
    "\n",
    "- the function optput we are not able to use outside the function \n",
    "\n",
    "- because it is a local variable.\n",
    "\n",
    "- one method we used to is **global**\n",
    "\n",
    "- another method is return statement\n",
    "\n",
    "- return means some thing we are recieving.\n",
    "\n",
    "- print means only we can see the answer."
   ]
  },
  {
   "cell_type": "code",
   "execution_count": 25,
   "id": "3302bbaf-964c-47c2-856e-db91dbc07127",
   "metadata": {},
   "outputs": [
    {
     "name": "stdout",
     "output_type": "stream",
     "text": [
      "50\n"
     ]
    }
   ],
   "source": [
    "def add(a,b):\n",
    "    c= a+b\n",
    "    print(c)\n",
    "add(20,30)\n"
   ]
  },
  {
   "cell_type": "code",
   "execution_count": 26,
   "id": "6ddbd4e3-638e-4a0f-a886-75c0269384ce",
   "metadata": {},
   "outputs": [],
   "source": [
    "def add(a,b):\n",
    "    c= a+b\n",
    "    return(c)\n",
    "val1=add(20,30)"
   ]
  },
  {
   "cell_type": "code",
   "execution_count": 27,
   "id": "284eb341-2d55-40bf-8e94-fd2925172652",
   "metadata": {},
   "outputs": [
    {
     "data": {
      "text/plain": [
       "50"
      ]
     },
     "execution_count": 27,
     "metadata": {},
     "output_type": "execute_result"
    }
   ],
   "source": [
    "val1"
   ]
  },
  {
   "cell_type": "code",
   "execution_count": 30,
   "id": "c89703c3-7f1d-4beb-ad22-83a0d640b9ae",
   "metadata": {},
   "outputs": [
    {
     "name": "stdout",
     "output_type": "stream",
     "text": [
      "300 100\n"
     ]
    }
   ],
   "source": [
    "def add_sub(a,b):\n",
    "    summ = a+b\n",
    "    sub = a-b\n",
    "    print(summ,sub)\n",
    "    return(summ,sub)\n",
    "summ,sub=add_sub(200,100)"
   ]
  },
  {
   "cell_type": "code",
   "execution_count": 32,
   "id": "8618835b-7a1d-4ac5-9f2c-895b0d8075fb",
   "metadata": {},
   "outputs": [],
   "source": [
    "def add_sub(a,b):\n",
    "    summ = a+b\n",
    "    sub = a-b\n",
    "    return(summ,sub)\n",
    "val2=add_sub(200,100)"
   ]
  },
  {
   "cell_type": "code",
   "execution_count": 34,
   "id": "54c461ed-65ac-473e-a09b-dca12b2639ed",
   "metadata": {},
   "outputs": [
    {
     "data": {
      "text/plain": [
       "300"
      ]
     },
     "execution_count": 34,
     "metadata": {},
     "output_type": "execute_result"
    }
   ],
   "source": [
    "def add_sub(a,b):\n",
    "    summ = a+b\n",
    "    sub = a-b\n",
    "    return(summ)\n",
    "    return(sub)\n",
    "add_sub(200,100)"
   ]
  },
  {
   "cell_type": "code",
   "execution_count": 40,
   "id": "dbaa83b0-650f-478a-8188-c35853b84c63",
   "metadata": {},
   "outputs": [
    {
     "ename": "TypeError",
     "evalue": "cannot unpack non-iterable int object",
     "output_type": "error",
     "traceback": [
      "\u001b[1;31m---------------------------------------------------------------------------\u001b[0m",
      "\u001b[1;31mTypeError\u001b[0m                                 Traceback (most recent call last)",
      "Cell \u001b[1;32mIn[40], line 3\u001b[0m\n\u001b[0;32m      1\u001b[0m n1 \u001b[38;5;241m=\u001b[39m \u001b[38;5;241m100\u001b[39m, \u001b[38;5;241m200\u001b[39m\n\u001b[0;32m      2\u001b[0m n1,n2 \u001b[38;5;241m=\u001b[39m \u001b[38;5;241m100\u001b[39m,\u001b[38;5;241m200\u001b[39m\n\u001b[1;32m----> 3\u001b[0m n1,n2\u001b[38;5;241m=\u001b[39m\u001b[38;5;241m100\u001b[39m\n\u001b[0;32m      4\u001b[0m \u001b[38;5;28mprint\u001b[39m(n1,n2)\n",
      "\u001b[1;31mTypeError\u001b[0m: cannot unpack non-iterable int object"
     ]
    }
   ],
   "source": [
    "n1 = 100, 200\n",
    "n1,n2 = 100,200\n",
    "n1,n2=100\n",
    "print(n1,n2)"
   ]
  },
  {
   "cell_type": "code",
   "execution_count": 41,
   "id": "0c46510a-48d0-49e3-8d47-6a148527f705",
   "metadata": {},
   "outputs": [],
   "source": [
    "def add_sub(a,b):\n",
    "    summ = a+b\n",
    "    sub = a-b\n",
    "    return(summ,sub)\n",
    "op = add_sub(200,100)"
   ]
  },
  {
   "cell_type": "code",
   "execution_count": 42,
   "id": "6c795ff0-f64d-4947-ba86-fdfaa968ea4c",
   "metadata": {
    "scrolled": true
   },
   "outputs": [
    {
     "data": {
      "text/plain": [
       "(300, 100)"
      ]
     },
     "execution_count": 42,
     "metadata": {},
     "output_type": "execute_result"
    }
   ],
   "source": [
    "op"
   ]
  },
  {
   "cell_type": "markdown",
   "id": "99863eb8-df47-4eb8-af21-c68849d6bb22",
   "metadata": {},
   "source": [
    "**gloabl variable vs return**\n",
    "\n",
    "- global keyword  used fro we can take the inside variable to outside the function.\n",
    "\n",
    "- return can return any value outsied the function.\n",
    "- **the valuse you return can be used another notebook also.**"
   ]
  },
  {
   "cell_type": "markdown",
   "id": "f5cc5760-fb32-4e24-ae56-ebfd304867f9",
   "metadata": {},
   "source": [
    "**Functions in Functions**"
   ]
  },
  {
   "cell_type": "code",
   "execution_count": 44,
   "id": "010a2231-05d6-42be-a1df-dde4dcc0a074",
   "metadata": {},
   "outputs": [],
   "source": [
    "def greet1():\n",
    "    print(\"Hello good morning\")\n",
    "\n",
    "def greet2():\n",
    "    print(\"Hello good night\")"
   ]
  },
  {
   "cell_type": "code",
   "execution_count": 45,
   "id": "6d9f0153-0327-4f1d-ad33-59df52cd69dc",
   "metadata": {},
   "outputs": [
    {
     "name": "stdout",
     "output_type": "stream",
     "text": [
      "Hello good morning\n",
      "Hello good night\n"
     ]
    }
   ],
   "source": [
    "greet1()\n",
    "greet2()"
   ]
  },
  {
   "cell_type": "code",
   "execution_count": 46,
   "id": "7ab9289b-89e3-4509-b21b-8f6d8bdcf9c0",
   "metadata": {},
   "outputs": [
    {
     "name": "stdout",
     "output_type": "stream",
     "text": [
      "greet function stats\n",
      "hello good morning\n",
      "hello good night\n"
     ]
    }
   ],
   "source": [
    "def greet1():\n",
    "    print(\"hello good morning\")\n",
    "def greet2():\n",
    "    print(\"greet function stats\")\n",
    "    greet1()\n",
    "    print(\"hello good night\")\n",
    "\n",
    "greet2()"
   ]
  },
  {
   "cell_type": "code",
   "execution_count": null,
   "id": "492ef900-f0c1-4604-8670-728d936ece8a",
   "metadata": {},
   "outputs": [],
   "source": [
    "def greet1():\n",
    "    print(\"hello good morning\")\n",
    "    greet2()\n",
    "    print(\"hello good night\")\n",
    "    \n",
    "def greet2():\n",
    "    print(\"greet function stats\")\n",
    "    \n",
    "greet()"
   ]
  },
  {
   "cell_type": "code",
   "execution_count": null,
   "id": "8b8c76d0-2e83-4902-8b4f-c45a962f790b",
   "metadata": {},
   "outputs": [],
   "source": [
    "def greet1():\n",
    "    print(\"greet2 function starts\")\n",
    "    greet2()\n",
    "    print()......"
   ]
  },
  {
   "cell_type": "code",
   "execution_count": 47,
   "id": "ea642e7f-d8b4-4723-a7bd-978e05b63ea3",
   "metadata": {},
   "outputs": [
    {
     "ename": "NameError",
     "evalue": "name 'inside_function' is not defined",
     "output_type": "error",
     "traceback": [
      "\u001b[1;31m---------------------------------------------------------------------------\u001b[0m",
      "\u001b[1;31mNameError\u001b[0m                                 Traceback (most recent call last)",
      "Cell \u001b[1;32mIn[47], line 5\u001b[0m\n\u001b[0;32m      2\u001b[0m     \u001b[38;5;28;01mdef\u001b[39;00m \u001b[38;5;21minside_function\u001b[39m():\n\u001b[0;32m      3\u001b[0m         \u001b[38;5;28mprint\u001b[39m(\u001b[38;5;124mf\u001b[39m\u001b[38;5;124m\"\u001b[39m\u001b[38;5;124mhello \u001b[39m\u001b[38;5;132;01m{\u001b[39;00mname\u001b[38;5;132;01m}\u001b[39;00m\u001b[38;5;124m good morning\u001b[39m\u001b[38;5;124m\"\u001b[39m)\n\u001b[1;32m----> 5\u001b[0m \u001b[43minside_function\u001b[49m()\n",
      "\u001b[1;31mNameError\u001b[0m: name 'inside_function' is not defined"
     ]
    }
   ],
   "source": [
    "def outside_function():\n",
    "    def inside_function():\n",
    "        print(f\"hello {name} good morning\")\n",
    "\n",
    "inside_function()"
   ]
  },
  {
   "cell_type": "code",
   "execution_count": 49,
   "id": "28ca4930-7a3b-4e97-816a-60f01605d1d8",
   "metadata": {},
   "outputs": [],
   "source": [
    "outside_function()"
   ]
  },
  {
   "cell_type": "code",
   "execution_count": 51,
   "id": "446fb9d5-1b23-4af5-9c91-a8c890d6cbb7",
   "metadata": {},
   "outputs": [
    {
     "ename": "NameError",
     "evalue": "name 'name' is not defined",
     "output_type": "error",
     "traceback": [
      "\u001b[1;31m---------------------------------------------------------------------------\u001b[0m",
      "\u001b[1;31mNameError\u001b[0m                                 Traceback (most recent call last)",
      "Cell \u001b[1;32mIn[51], line 9\u001b[0m\n\u001b[0;32m      7\u001b[0m \u001b[38;5;28;01mdef\u001b[39;00m \u001b[38;5;21moutside_function\u001b[39m(name):\n\u001b[0;32m      8\u001b[0m     inside_function()\n\u001b[1;32m----> 9\u001b[0m \u001b[43moutside_function\u001b[49m\u001b[43m(\u001b[49m\u001b[38;5;124;43m\"\u001b[39;49m\u001b[38;5;124;43mpython\u001b[39;49m\u001b[38;5;124;43m\"\u001b[39;49m\u001b[43m)\u001b[49m\n",
      "Cell \u001b[1;32mIn[51], line 8\u001b[0m, in \u001b[0;36moutside_function\u001b[1;34m(name)\u001b[0m\n\u001b[0;32m      7\u001b[0m \u001b[38;5;28;01mdef\u001b[39;00m \u001b[38;5;21moutside_function\u001b[39m(name):\n\u001b[1;32m----> 8\u001b[0m     \u001b[43minside_function\u001b[49m\u001b[43m(\u001b[49m\u001b[43m)\u001b[49m\n",
      "Cell \u001b[1;32mIn[51], line 2\u001b[0m, in \u001b[0;36minside_function\u001b[1;34m()\u001b[0m\n\u001b[0;32m      1\u001b[0m \u001b[38;5;28;01mdef\u001b[39;00m \u001b[38;5;21minside_function\u001b[39m():\n\u001b[1;32m----> 2\u001b[0m         \u001b[38;5;28mprint\u001b[39m(\u001b[38;5;124mf\u001b[39m\u001b[38;5;124m\"\u001b[39m\u001b[38;5;124mhello \u001b[39m\u001b[38;5;132;01m{\u001b[39;00m\u001b[43mname\u001b[49m\u001b[38;5;132;01m}\u001b[39;00m\u001b[38;5;124m good morning\u001b[39m\u001b[38;5;124m\"\u001b[39m)\n",
      "\u001b[1;31mNameError\u001b[0m: name 'name' is not defined"
     ]
    }
   ],
   "source": [
    "def inside_function():\n",
    "        print(f\"hello {name} good morning\")\n",
    "        # We need to sens here\n",
    "        # name is not defined not even globally\n",
    "        # if i call this function def i will get error\n",
    "\n",
    "def outside_function(name):\n",
    "    inside_function()\n",
    "outside_function(\"python\")"
   ]
  },
  {
   "cell_type": "code",
   "execution_count": 53,
   "id": "c51bf54c-6578-4ee2-8fd9-6ba73fa9b192",
   "metadata": {},
   "outputs": [
    {
     "name": "stdout",
     "output_type": "stream",
     "text": [
      "hello python good morning\n"
     ]
    }
   ],
   "source": [
    "def inside_function(name):\n",
    "        print(f\"hello {name} good morning\")\n",
    "        # is the variable defined anywhere\n",
    "\n",
    "def outside_function(name):\n",
    "    inside_function(name)\n",
    "outside_function(\"python\")"
   ]
  },
  {
   "cell_type": "code",
   "execution_count": null,
   "id": "fb2857eb-9156-4ee9-8702-d0869c7799ad",
   "metadata": {},
   "outputs": [],
   "source": [
    "def add(a,b):\n",
    "    print(a+b)\n",
    "add(10,20)"
   ]
  },
  {
   "cell_type": "code",
   "execution_count": 56,
   "id": "d44a1d2d-51a4-44f9-9768-ac8e1bad296e",
   "metadata": {},
   "outputs": [
    {
     "ename": "NameError",
     "evalue": "name 'MATH1' is not defined",
     "output_type": "error",
     "traceback": [
      "\u001b[1;31m---------------------------------------------------------------------------\u001b[0m",
      "\u001b[1;31mNameError\u001b[0m                                 Traceback (most recent call last)",
      "Cell \u001b[1;32mIn[56], line 7\u001b[0m\n\u001b[0;32m      5\u001b[0m         add(\u001b[38;5;241m10\u001b[39m,\u001b[38;5;241m20\u001b[39m)\n\u001b[0;32m      6\u001b[0m     MATH()\n\u001b[1;32m----> 7\u001b[0m \u001b[43mMATH1\u001b[49m()\n",
      "\u001b[1;31mNameError\u001b[0m: name 'MATH1' is not defined"
     ]
    }
   ],
   "source": [
    "def Math1():\n",
    "    def MATH():\n",
    "        def add(a,b):\n",
    "            print(a+b)\n",
    "        add(10,20)\n",
    "    MATH()\n",
    "MATH1()"
   ]
  },
  {
   "cell_type": "code",
   "execution_count": null,
   "id": "89aa140c-99e4-4575-961b-225eb2722888",
   "metadata": {},
   "outputs": [],
   "source": [
    "def MATH1():\n",
    "    def MATH():\n",
    "        def add(a,b):\n",
    "            print(a+b)\n",
    "        add(10,20)\n",
    "    MATH()\n",
    "MATH()"
   ]
  },
  {
   "cell_type": "code",
   "execution_count": 60,
   "id": "1227ec3e-5bc7-4723-87fa-c7abde425e22",
   "metadata": {},
   "outputs": [
    {
     "ename": "TypeError",
     "evalue": "MATH.<locals>.add() takes 0 positional arguments but 2 were given",
     "output_type": "error",
     "traceback": [
      "\u001b[1;31m---------------------------------------------------------------------------\u001b[0m",
      "\u001b[1;31mTypeError\u001b[0m                                 Traceback (most recent call last)",
      "Cell \u001b[1;32mIn[60], line 5\u001b[0m\n\u001b[0;32m      3\u001b[0m             \u001b[38;5;28mprint\u001b[39m(a\u001b[38;5;241m+\u001b[39mb)\n\u001b[0;32m      4\u001b[0m         add(\u001b[38;5;241m10\u001b[39m,\u001b[38;5;241m20\u001b[39m)\n\u001b[1;32m----> 5\u001b[0m \u001b[43mMATH\u001b[49m\u001b[43m(\u001b[49m\u001b[38;5;241;43m10\u001b[39;49m\u001b[43m,\u001b[49m\u001b[38;5;241;43m20\u001b[39;49m\u001b[43m)\u001b[49m\n",
      "Cell \u001b[1;32mIn[60], line 4\u001b[0m, in \u001b[0;36mMATH\u001b[1;34m(a, b)\u001b[0m\n\u001b[0;32m      2\u001b[0m \u001b[38;5;28;01mdef\u001b[39;00m \u001b[38;5;21madd\u001b[39m():\n\u001b[0;32m      3\u001b[0m     \u001b[38;5;28mprint\u001b[39m(a\u001b[38;5;241m+\u001b[39mb)\n\u001b[1;32m----> 4\u001b[0m \u001b[43madd\u001b[49m\u001b[43m(\u001b[49m\u001b[38;5;241;43m10\u001b[39;49m\u001b[43m,\u001b[49m\u001b[38;5;241;43m20\u001b[39;49m\u001b[43m)\u001b[49m\n",
      "\u001b[1;31mTypeError\u001b[0m: MATH.<locals>.add() takes 0 positional arguments but 2 were given"
     ]
    }
   ],
   "source": [
    "def MATH(a,b):\n",
    "        def add():\n",
    "            print(a+b)\n",
    "        add(10,20)\n",
    "MATH(10,20)"
   ]
  },
  {
   "cell_type": "code",
   "execution_count": null,
   "id": "fc79becd-aecc-442a-b8da-26b9cd26896e",
   "metadata": {},
   "outputs": [],
   "source": []
  }
 ],
 "metadata": {
  "kernelspec": {
   "display_name": "Python 3 (ipykernel)",
   "language": "python",
   "name": "python3"
  },
  "language_info": {
   "codemirror_mode": {
    "name": "ipython",
    "version": 3
   },
   "file_extension": ".py",
   "mimetype": "text/x-python",
   "name": "python",
   "nbconvert_exporter": "python",
   "pygments_lexer": "ipython3",
   "version": "3.12.4"
  }
 },
 "nbformat": 4,
 "nbformat_minor": 5
}
