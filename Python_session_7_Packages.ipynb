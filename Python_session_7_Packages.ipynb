{
 "cells": [
  {
   "cell_type": "code",
   "execution_count": null,
   "id": "03a111c5-a1f2-4d67-872e-a743f6ddfe7b",
   "metadata": {},
   "outputs": [],
   "source": [
    "# Generally packages will not teach in this early\n",
    "# DS & Ai Packages heart \n"
   ]
  },
  {
   "cell_type": "markdown",
   "id": "1ff96c6c-f62d-466c-8400-90d392890c71",
   "metadata": {},
   "source": [
    "**import**"
   ]
  },
  {
   "cell_type": "code",
   "execution_count": 1,
   "id": "ab4ae676-9049-4c05-96ab-f73fab5fe23b",
   "metadata": {},
   "outputs": [],
   "source": [
    "#import <package name>"
   ]
  },
  {
   "cell_type": "code",
   "execution_count": 5,
   "id": "14f6a86f-cbd0-4048-bfe8-ea461c60ba8e",
   "metadata": {},
   "outputs": [],
   "source": [
    "# package name: random\n",
    "import random"
   ]
  },
  {
   "cell_type": "code",
   "execution_count": 8,
   "id": "6bdb5c21-4085-416a-b7a6-bc1b932156ea",
   "metadata": {},
   "outputs": [],
   "source": [
    "# package name: math\n",
    "import math"
   ]
  },
  {
   "cell_type": "code",
   "execution_count": 4,
   "id": "f9cdfa2d-1ffb-4792-b2a0-55f69a673444",
   "metadata": {},
   "outputs": [],
   "source": [
    "# package name: keyword\n",
    "import keyword"
   ]
  },
  {
   "cell_type": "code",
   "execution_count": 5,
   "id": "61fa5ec7-3650-496c-8770-1d38482df399",
   "metadata": {},
   "outputs": [],
   "source": [
    "# package name: string\n",
    "import string"
   ]
  },
  {
   "cell_type": "code",
   "execution_count": 6,
   "id": "3b6dd369-7118-48be-8a8d-c8069dd3d229",
   "metadata": {},
   "outputs": [],
   "source": [
    "# package name: time\n",
    "import time"
   ]
  },
  {
   "cell_type": "code",
   "execution_count": 7,
   "id": "9566fb48-c254-4d33-9041-9d52fd89f275",
   "metadata": {},
   "outputs": [
    {
     "ename": "ModuleNotFoundError",
     "evalue": "No module named 'cv2'",
     "output_type": "error",
     "traceback": [
      "\u001b[1;31m---------------------------------------------------------------------------\u001b[0m",
      "\u001b[1;31mModuleNotFoundError\u001b[0m                       Traceback (most recent call last)",
      "Cell \u001b[1;32mIn[7], line 2\u001b[0m\n\u001b[0;32m      1\u001b[0m \u001b[38;5;66;03m# package name: cv2\u001b[39;00m\n\u001b[1;32m----> 2\u001b[0m \u001b[38;5;28;01mimport\u001b[39;00m \u001b[38;5;21;01mcv2\u001b[39;00m\n",
      "\u001b[1;31mModuleNotFoundError\u001b[0m: No module named 'cv2'"
     ]
    }
   ],
   "source": [
    "# package name: cv2\n",
    "import cv2"
   ]
  },
  {
   "cell_type": "code",
   "execution_count": null,
   "id": "6b5d2399-a85c-4de4-b4a4-ce9e8550cf89",
   "metadata": {},
   "outputs": [],
   "source": [
    "# if package is not avaiable\n",
    "#no module found"
   ]
  },
  {
   "cell_type": "code",
   "execution_count": 9,
   "id": "c3b7fb4e-9787-4e2b-a60e-a5efe5b7bac6",
   "metadata": {},
   "outputs": [
    {
     "data": {
      "text/plain": [
       "<module 'random' from 'C:\\\\Users\\\\prash\\\\anaconda31\\\\Lib\\\\random.py'>"
      ]
     },
     "execution_count": 9,
     "metadata": {},
     "output_type": "execute_result"
    }
   ],
   "source": [
    "random"
   ]
  },
  {
   "cell_type": "code",
   "execution_count": 9,
   "id": "eee10985-8ba4-4b73-9605-41169fe6d861",
   "metadata": {},
   "outputs": [
    {
     "name": "stdout",
     "output_type": "stream",
     "text": [
      "['BPF', 'LOG4', 'NV_MAGICCONST', 'RECIP_BPF', 'Random', 'SG_MAGICCONST', 'SystemRandom', 'TWOPI', '_ONE', '_Sequence', '__all__', '__builtins__', '__cached__', '__doc__', '__file__', '__loader__', '__name__', '__package__', '__spec__', '_accumulate', '_acos', '_bisect', '_ceil', '_cos', '_e', '_exp', '_fabs', '_floor', '_index', '_inst', '_isfinite', '_lgamma', '_log', '_log2', '_os', '_pi', '_random', '_repeat', '_sha512', '_sin', '_sqrt', '_test', '_test_generator', '_urandom', '_warn', 'betavariate', 'binomialvariate', 'choice', 'choices', 'expovariate', 'gammavariate', 'gauss', 'getrandbits', 'getstate', 'lognormvariate', 'normalvariate', 'paretovariate', 'randbytes', 'randint', 'random', 'randrange', 'sample', 'seed', 'setstate', 'shuffle', 'triangular', 'uniform', 'vonmisesvariate', 'weibullvariate']\n"
     ]
    },
    {
     "data": {
      "text/plain": [
       "['__doc__',\n",
       " '__loader__',\n",
       " '__name__',\n",
       " '__package__',\n",
       " '__spec__',\n",
       " 'acos',\n",
       " 'acosh',\n",
       " 'asin',\n",
       " 'asinh',\n",
       " 'atan',\n",
       " 'atan2',\n",
       " 'atanh',\n",
       " 'cbrt',\n",
       " 'ceil',\n",
       " 'comb',\n",
       " 'copysign',\n",
       " 'cos',\n",
       " 'cosh',\n",
       " 'degrees',\n",
       " 'dist',\n",
       " 'e',\n",
       " 'erf',\n",
       " 'erfc',\n",
       " 'exp',\n",
       " 'exp2',\n",
       " 'expm1',\n",
       " 'fabs',\n",
       " 'factorial',\n",
       " 'floor',\n",
       " 'fmod',\n",
       " 'frexp',\n",
       " 'fsum',\n",
       " 'gamma',\n",
       " 'gcd',\n",
       " 'hypot',\n",
       " 'inf',\n",
       " 'isclose',\n",
       " 'isfinite',\n",
       " 'isinf',\n",
       " 'isnan',\n",
       " 'isqrt',\n",
       " 'lcm',\n",
       " 'ldexp',\n",
       " 'lgamma',\n",
       " 'log',\n",
       " 'log10',\n",
       " 'log1p',\n",
       " 'log2',\n",
       " 'modf',\n",
       " 'nan',\n",
       " 'nextafter',\n",
       " 'perm',\n",
       " 'pi',\n",
       " 'pow',\n",
       " 'prod',\n",
       " 'radians',\n",
       " 'remainder',\n",
       " 'sin',\n",
       " 'sinh',\n",
       " 'sqrt',\n",
       " 'sumprod',\n",
       " 'tan',\n",
       " 'tanh',\n",
       " 'tau',\n",
       " 'trunc',\n",
       " 'ulp']"
      ]
     },
     "execution_count": 9,
     "metadata": {},
     "output_type": "execute_result"
    }
   ],
   "source": [
    "print(dir(random)) \n",
    "dir(math)"
   ]
  },
  {
   "cell_type": "markdown",
   "id": "df176fa3-2804-4a00-89e6-10b478fec7aa",
   "metadata": {},
   "source": [
    "# **help**"
   ]
  },
  {
   "cell_type": "code",
   "execution_count": null,
   "id": "cb1950ef-9f35-4f8b-b227-f7ac081ee294",
   "metadata": {},
   "outputs": [],
   "source": [
    "# I want to learn about\n",
    "#a method called randint\n",
    "#what it will do \n",
    "#help (<package name>.<method name>)"
   ]
  },
  {
   "cell_type": "code",
   "execution_count": 12,
   "id": "b2a231af-075a-4e52-ab05-347d19464c8e",
   "metadata": {},
   "outputs": [
    {
     "name": "stdout",
     "output_type": "stream",
     "text": [
      "Help on method randint in module random:\n",
      "\n",
      "randint(a, b) method of random.Random instance\n",
      "    Return random integer in range [a, b], including both end points.\n",
      "\n"
     ]
    }
   ],
   "source": [
    "help(random.randint)"
   ]
  },
  {
   "cell_type": "code",
   "execution_count": 13,
   "id": "d061ec94-ccf6-417a-9d77-593915190f36",
   "metadata": {},
   "outputs": [
    {
     "name": "stdout",
     "output_type": "stream",
     "text": [
      "Help on method randint in module random:\n",
      "\n",
      "randint(a, b) method of random.Random instance\n",
      "    Return random integer in range [a, b], including both end points.\n",
      "\n"
     ]
    }
   ],
   "source": [
    "# 1st: import package\n",
    "#2nd: dir(package name)\n",
    "#3rd: help(<package name>.<method name>)\n",
    "#4th: apply the operation\n",
    "\n",
    "import random\n",
    "dir(random)\n",
    "help(random.randint)"
   ]
  },
  {
   "cell_type": "code",
   "execution_count": 14,
   "id": "557d6f1a-db16-4ee3-9961-13a36822843f",
   "metadata": {},
   "outputs": [
    {
     "data": {
      "text/plain": [
       "21"
      ]
     },
     "execution_count": 14,
     "metadata": {},
     "output_type": "execute_result"
    }
   ],
   "source": [
    "random.randint(10,40)"
   ]
  },
  {
   "cell_type": "code",
   "execution_count": 15,
   "id": "03815ace-2d1d-43cb-98c2-94611643cebf",
   "metadata": {},
   "outputs": [
    {
     "name": "stdout",
     "output_type": "stream",
     "text": [
      "Help on built-in function random:\n",
      "\n",
      "random() method of random.Random instance\n",
      "    random() -> x in the interval [0, 1).\n",
      "\n"
     ]
    }
   ],
   "source": [
    "help(random.random)"
   ]
  },
  {
   "cell_type": "code",
   "execution_count": 21,
   "id": "43009c3e-a920-4e1f-98c2-4a1e2847d3f7",
   "metadata": {},
   "outputs": [
    {
     "data": {
      "text/plain": [
       "0.2801755387417838"
      ]
     },
     "execution_count": 21,
     "metadata": {},
     "output_type": "execute_result"
    }
   ],
   "source": [
    " random.random()"
   ]
  },
  {
   "cell_type": "code",
   "execution_count": 23,
   "id": "f5260b2e-df78-477f-9871-58ef1eb841b3",
   "metadata": {},
   "outputs": [
    {
     "data": {
      "text/plain": [
       "0.88"
      ]
     },
     "execution_count": 23,
     "metadata": {},
     "output_type": "execute_result"
    }
   ],
   "source": [
    "round(random.random(),2)\n",
    "\n",
    "#take your cursor inside the brackets\n",
    "#then apply shift + tab\n",
    "# it will open help"
   ]
  },
  {
   "cell_type": "code",
   "execution_count": 28,
   "id": "ba830324-8892-4381-a835-fccf40572f3f",
   "metadata": {},
   "outputs": [
    {
     "data": {
      "text/plain": [
       "17"
      ]
     },
     "execution_count": 28,
     "metadata": {},
     "output_type": "execute_result"
    }
   ],
   "source": [
    "random.randrange(1,20,2)"
   ]
  },
  {
   "cell_type": "code",
   "execution_count": null,
   "id": "a7698704-5908-43a5-a50d-1502e47a5beb",
   "metadata": {},
   "outputs": [],
   "source": [
    "# Start =   # Stop =       # Gap =\n",
    "\n",
    "# random.randrange(1,20,2)\n",
    "# 1 3 5 7 9 11 13 15 17 19\n",
    "\n",
    "# random.randrange(2,10,3)\n",
    "# 2  5  8\n",
    "\n",
    "# random.randrange(1,20,2)\n"
   ]
  },
  {
   "cell_type": "code",
   "execution_count": 30,
   "id": "23670b3f-ab4d-4999-94eb-e775f976c89c",
   "metadata": {},
   "outputs": [
    {
     "data": {
      "text/plain": [
       "(10, 0.49874326932934276, 12)"
      ]
     },
     "execution_count": 30,
     "metadata": {},
     "output_type": "execute_result"
    }
   ],
   "source": [
    "import random\n",
    "v1 = random.randint(1,10)\n",
    "v2 = random.random()\n",
    "v3 = random.randrange(2,20,2)\n",
    "v1, v2, v3"
   ]
  },
  {
   "cell_type": "code",
   "execution_count": null,
   "id": "83243182-aa32-4b1e-8cb9-6a3a98fd72bd",
   "metadata": {},
   "outputs": [],
   "source": [
    "# Package name : math\n",
    "# method name: pow\n",
    "# M_n : sqrt\n",
    "#M_n: sin\n",
    "#M_n: pi\n",
    "#M_n: cos"
   ]
  },
  {
   "cell_type": "code",
   "execution_count": 41,
   "id": "1f113d49-0853-499e-8b9e-049a5b07c945",
   "metadata": {},
   "outputs": [
    {
     "data": {
      "text/plain": [
       "64.0"
      ]
     },
     "execution_count": 41,
     "metadata": {},
     "output_type": "execute_result"
    }
   ],
   "source": [
    "import math\n",
    "math.pow(4,3)"
   ]
  },
  {
   "cell_type": "code",
   "execution_count": 32,
   "id": "d8849956-c7e6-429a-b2a1-c86a37e324e8",
   "metadata": {},
   "outputs": [
    {
     "data": {
      "text/plain": [
       "2.0"
      ]
     },
     "execution_count": 32,
     "metadata": {},
     "output_type": "execute_result"
    }
   ],
   "source": [
    "math.sqrt(4)"
   ]
  },
  {
   "cell_type": "code",
   "execution_count": 33,
   "id": "005c6529-3c48-4223-9e96-53db4534087c",
   "metadata": {},
   "outputs": [
    {
     "data": {
      "text/plain": [
       "0.9092974268256817"
      ]
     },
     "execution_count": 33,
     "metadata": {},
     "output_type": "execute_result"
    }
   ],
   "source": [
    "math.sin(2)"
   ]
  },
  {
   "cell_type": "code",
   "execution_count": 52,
   "id": "870b4e08-e77c-4506-9451-1b76db9642ff",
   "metadata": {},
   "outputs": [
    {
     "data": {
      "text/plain": [
       "3.141592653589793"
      ]
     },
     "execution_count": 52,
     "metadata": {},
     "output_type": "execute_result"
    }
   ],
   "source": [
    "math.pi"
   ]
  },
  {
   "cell_type": "code",
   "execution_count": 39,
   "id": "1e80d85b-111e-4b58-b02e-ab4e25caaa2c",
   "metadata": {},
   "outputs": [
    {
     "data": {
      "text/plain": [
       "0.424179007336997"
      ]
     },
     "execution_count": 39,
     "metadata": {},
     "output_type": "execute_result"
    }
   ],
   "source": [
    "math.cos(24)"
   ]
  },
  {
   "cell_type": "code",
   "execution_count": 42,
   "id": "9a38e582-590d-436f-ab18-7b804351981b",
   "metadata": {},
   "outputs": [
    {
     "data": {
      "text/plain": [
       "['__all__',\n",
       " '__builtins__',\n",
       " '__cached__',\n",
       " '__doc__',\n",
       " '__file__',\n",
       " '__loader__',\n",
       " '__name__',\n",
       " '__package__',\n",
       " '__spec__',\n",
       " 'iskeyword',\n",
       " 'issoftkeyword',\n",
       " 'kwlist',\n",
       " 'softkwlist']"
      ]
     },
     "execution_count": 42,
     "metadata": {},
     "output_type": "execute_result"
    }
   ],
   "source": [
    "import keyword\n",
    "dir(keyword)"
   ]
  },
  {
   "cell_type": "code",
   "execution_count": 44,
   "id": "8b3c2d9c-4ee9-4dbb-b5c1-134a4e717c92",
   "metadata": {},
   "outputs": [
    {
     "data": {
      "text/plain": [
       "['False',\n",
       " 'None',\n",
       " 'True',\n",
       " 'and',\n",
       " 'as',\n",
       " 'assert',\n",
       " 'async',\n",
       " 'await',\n",
       " 'break',\n",
       " 'class',\n",
       " 'continue',\n",
       " 'def',\n",
       " 'del',\n",
       " 'elif',\n",
       " 'else',\n",
       " 'except',\n",
       " 'finally',\n",
       " 'for',\n",
       " 'from',\n",
       " 'global',\n",
       " 'if',\n",
       " 'import',\n",
       " 'in',\n",
       " 'is',\n",
       " 'lambda',\n",
       " 'nonlocal',\n",
       " 'not',\n",
       " 'or',\n",
       " 'pass',\n",
       " 'raise',\n",
       " 'return',\n",
       " 'try',\n",
       " 'while',\n",
       " 'with',\n",
       " 'yield']"
      ]
     },
     "execution_count": 44,
     "metadata": {},
     "output_type": "execute_result"
    }
   ],
   "source": [
    "keyword.kwlist"
   ]
  },
  {
   "cell_type": "code",
   "execution_count": 45,
   "id": "d642ef25-4403-4892-a499-b6525c5ecce0",
   "metadata": {},
   "outputs": [
    {
     "data": {
      "text/plain": [
       "35"
      ]
     },
     "execution_count": 45,
     "metadata": {},
     "output_type": "execute_result"
    }
   ],
   "source": [
    "len(keyword.kwlist)"
   ]
  },
  {
   "cell_type": "code",
   "execution_count": 46,
   "id": "c3806397-dfaa-480d-b2e9-4257db080f81",
   "metadata": {},
   "outputs": [],
   "source": [
    "import time"
   ]
  },
  {
   "cell_type": "code",
   "execution_count": 48,
   "id": "8dcf5896-cd88-44c2-a42b-a023dd6e20e9",
   "metadata": {},
   "outputs": [
    {
     "data": {
      "text/plain": [
       "30"
      ]
     },
     "execution_count": 48,
     "metadata": {},
     "output_type": "execute_result"
    }
   ],
   "source": [
    "len(dir(time))"
   ]
  },
  {
   "cell_type": "code",
   "execution_count": 50,
   "id": "7a64f4fa-9b45-4e79-9cb9-9bf1d87f028d",
   "metadata": {},
   "outputs": [
    {
     "name": "stdout",
     "output_type": "stream",
     "text": [
      "hello\n"
     ]
    }
   ],
   "source": [
    "time.sleep(3)\n",
    "print(\"hello\")"
   ]
  },
  {
   "cell_type": "code",
   "execution_count": 55,
   "id": "5440997f-eef4-452d-af21-641606de5f5e",
   "metadata": {},
   "outputs": [
    {
     "name": "stdout",
     "output_type": "stream",
     "text": [
      "['Formatter', 'Template', '_ChainMap', '__all__', '__builtins__', '__cached__', '__doc__', '__file__', '__loader__', '__name__', '__package__', '__spec__', '_re', '_sentinel_dict', '_string', 'ascii_letters', 'ascii_lowercase', 'ascii_uppercase', 'capwords', 'digits', 'hexdigits', 'octdigits', 'printable', 'punctuation', 'whitespace']\n",
      "Help on class Formatter in module string:\n",
      "\n",
      "class Formatter(builtins.object)\n",
      " |  Methods defined here:\n",
      " |\n",
      " |  check_unused_args(self, used_args, args, kwargs)\n",
      " |\n",
      " |  convert_field(self, value, conversion)\n",
      " |\n",
      " |  format(self, format_string, /, *args, **kwargs)\n",
      " |\n",
      " |  format_field(self, value, format_spec)\n",
      " |\n",
      " |  get_field(self, field_name, args, kwargs)\n",
      " |      # given a field_name, find the object it references.\n",
      " |      #  field_name:   the field being looked up, e.g. \"0.name\"\n",
      " |      #                 or \"lookup[3]\"\n",
      " |      #  used_args:    a set of which args have been used\n",
      " |      #  args, kwargs: as passed in to vformat\n",
      " |\n",
      " |  get_value(self, key, args, kwargs)\n",
      " |\n",
      " |  parse(self, format_string)\n",
      " |      # returns an iterable that contains tuples of the form:\n",
      " |      # (literal_text, field_name, format_spec, conversion)\n",
      " |      # literal_text can be zero length\n",
      " |      # field_name can be None, in which case there's no\n",
      " |      #  object to format and output\n",
      " |      # if field_name is not None, it is looked up, formatted\n",
      " |      #  with format_spec and conversion and then used\n",
      " |\n",
      " |  vformat(self, format_string, args, kwargs)\n",
      " |\n",
      " |  ----------------------------------------------------------------------\n",
      " |  Data descriptors defined here:\n",
      " |\n",
      " |  __dict__\n",
      " |      dictionary for instance variables\n",
      " |\n",
      " |  __weakref__\n",
      " |      list of weak references to the object\n",
      "\n"
     ]
    }
   ],
   "source": [
    "import string\n",
    "print(dir(string))\n",
    "help(string.Formatter)"
   ]
  },
  {
   "cell_type": "code",
   "execution_count": 56,
   "id": "8242c315-cae6-4b7c-9988-8bec512fe17f",
   "metadata": {},
   "outputs": [
    {
     "data": {
      "text/plain": [
       "'abcdefghijklmnopqrstuvwxyzABCDEFGHIJKLMNOPQRSTUVWXYZ'"
      ]
     },
     "execution_count": 56,
     "metadata": {},
     "output_type": "execute_result"
    }
   ],
   "source": [
    "string.ascii_letters"
   ]
  },
  {
   "cell_type": "code",
   "execution_count": 57,
   "id": "ac888f6a-72e1-4059-ae61-f1bb7fd214e8",
   "metadata": {},
   "outputs": [
    {
     "data": {
      "text/plain": [
       "'abcdefghijklmnopqrstuvwxyz'"
      ]
     },
     "execution_count": 57,
     "metadata": {},
     "output_type": "execute_result"
    }
   ],
   "source": [
    "string.ascii_lowercase"
   ]
  },
  {
   "cell_type": "code",
   "execution_count": 58,
   "id": "cb21be07-3196-4218-8059-01386bf88bc9",
   "metadata": {},
   "outputs": [
    {
     "data": {
      "text/plain": [
       "'ABCDEFGHIJKLMNOPQRSTUVWXYZ'"
      ]
     },
     "execution_count": 58,
     "metadata": {},
     "output_type": "execute_result"
    }
   ],
   "source": [
    "string.ascii_uppercase"
   ]
  },
  {
   "cell_type": "code",
   "execution_count": 59,
   "id": "91341beb-594c-4dc4-ae6a-79fd1dc51f5b",
   "metadata": {},
   "outputs": [
    {
     "data": {
      "text/plain": [
       "'!\"#$%&\\'()*+,-./:;<=>?@[\\\\]^_`{|}~'"
      ]
     },
     "execution_count": 59,
     "metadata": {},
     "output_type": "execute_result"
    }
   ],
   "source": [
    "string.punctuation"
   ]
  },
  {
   "cell_type": "code",
   "execution_count": 4,
   "id": "f7297c66-4249-4062-8a40-bc4b3cb316c8",
   "metadata": {},
   "outputs": [
    {
     "name": "stdout",
     "output_type": "stream",
     "text": [
      "the Average of 20,30 and 40 is: 30.0\n"
     ]
    }
   ],
   "source": [
    "n1 = 20\n",
    "n2 = 30\n",
    "n3 = 40\n",
    "avg = (n1+n2+n3)/3\n",
    "avg1 = round(avg,2)\n",
    "print(f\"the Average of {n1},{n2} and {n3} is: {avg1}\")"
   ]
  },
  {
   "cell_type": "code",
   "execution_count": 3,
   "id": "f903dd09-82a4-41ad-95e9-d936ea9ab096",
   "metadata": {},
   "outputs": [
    {
     "name": "stdin",
     "output_type": "stream",
     "text": [
      "Enter the n1:- 35\n",
      "Enter the n2:- 34\n",
      "Enter the n3:- 32\n"
     ]
    },
    {
     "name": "stdout",
     "output_type": "stream",
     "text": [
      "the Average of 35,34 and 32 is: 33.67\n"
     ]
    }
   ],
   "source": [
    "n1 = eval(input(\"Enter the n1:-\"))\n",
    "n2 = eval(input(\"Enter the n2:-\"))\n",
    "n3 = eval(input(\"Enter the n3:-\"))\n",
    "avg = (n1+n2+n3)/3\n",
    "avg1 = round(avg,2)\n",
    "print(f\"the Average of {n1},{n2} and {n3} is: {avg1}\")"
   ]
  },
  {
   "cell_type": "code",
   "execution_count": 2,
   "id": "337b892b-9957-406c-aad7-f4ab9e1c5018",
   "metadata": {},
   "outputs": [
    {
     "name": "stdout",
     "output_type": "stream",
     "text": [
      "the Average of 95,79 and 57 is: 77.0\n"
     ]
    }
   ],
   "source": [
    "import random\n",
    "n1 = random.randint(1,100)\n",
    "n2 = random.randint(1,100)\n",
    "n3 = random.randint(1,100)\n",
    "avg = (n1+n2+n3)/3\n",
    "avg1 = round(avg,2)\n",
    "print(f\"the Average of {n1},{n2} and {n3} is: {avg1}\")"
   ]
  },
  {
   "cell_type": "code",
   "execution_count": 5,
   "id": "b215a154-c9b9-4038-a5e8-071e5b5b69d7",
   "metadata": {},
   "outputs": [
    {
     "name": "stdin",
     "output_type": "stream",
     "text": [
      "Enter the breadth:- 38\n",
      "Enter the height:- 43\n"
     ]
    },
    {
     "name": "stdout",
     "output_type": "stream",
     "text": [
      "The area of a right angel triangle is:- 722.0\n"
     ]
    }
   ],
   "source": [
    "b = eval(input(\"Enter the breadth:-\"))\n",
    "h = eval(input(\"Enter the height:-\"))\n",
    "area = 0.5*b*b\n",
    "print(f\"The area of a right angel triangle is:- {area}\")"
   ]
  },
  {
   "cell_type": "code",
   "execution_count": 6,
   "id": "08f0f5e7-0273-4e4f-b26a-99f72dab1d8f",
   "metadata": {},
   "outputs": [],
   "source": [
    "import math "
   ]
  },
  {
   "cell_type": "code",
   "execution_count": 10,
   "id": "e955c254-a16d-4e96-b708-3d6925dc45e8",
   "metadata": {},
   "outputs": [
    {
     "name": "stdin",
     "output_type": "stream",
     "text": [
      "Enter the radius:- 34\n"
     ]
    },
    {
     "name": "stdout",
     "output_type": "stream",
     "text": [
      "The are of Circle is:- 18.32\n"
     ]
    }
   ],
   "source": [
    "r = eval(input(\"Enter the radius:-\"))\n",
    "area_of_circle = math.pi*math.sqrt(r)\n",
    "area1 = round(area_of_circle,2)\n",
    "print(f\"The are of Circle is:- {area1}\")"
   ]
  },
  {
   "cell_type": "code",
   "execution_count": 8,
   "id": "c87ef2b4-8f59-4eaa-a008-bb2646553e16",
   "metadata": {},
   "outputs": [
    {
     "data": {
      "text/plain": [
       "12"
      ]
     },
     "execution_count": 8,
     "metadata": {},
     "output_type": "execute_result"
    }
   ],
   "source": [
    "# From package importing a method\n",
    "from random import randint  # 2nd Ways to write\n",
    "randint(1, 20)"
   ]
  },
  {
   "cell_type": "code",
   "execution_count": 9,
   "id": "ded89e4b-fdd5-4624-b841-7cdf56c1455c",
   "metadata": {},
   "outputs": [
    {
     "name": "stdout",
     "output_type": "stream",
     "text": [
      "the Average of 8,75 and 47 is: 43.33\n"
     ]
    }
   ],
   "source": [
    "from random import randint\n",
    "n1 =randint(1,100)\n",
    "n2 =randint(1,100)\n",
    "n3 =randint(1,100)\n",
    "avg = (n1+n2+n3)/3\n",
    "avg1 = round(avg,2)\n",
    "print(f\"the Average of {n1},{n2} and {n3} is: {avg1}\")"
   ]
  },
  {
   "cell_type": "markdown",
   "id": "05e7ec42-8ae4-4e60-90f1-025762480653",
   "metadata": {},
   "source": [
    "**How to provide the values**\n",
    "- Hard coded values\n",
    "- From keyword using **input**\n",
    "- Random values using **random package**"
   ]
  },
  {
   "cell_type": "code",
   "execution_count": null,
   "id": "0c863f17-9ecf-4208-b3c4-e4a269c88525",
   "metadata": {},
   "outputs": [],
   "source": []
  },
  {
   "cell_type": "code",
   "execution_count": null,
   "id": "9c06ee46-da1b-4237-b8bc-2ceafb8c1b76",
   "metadata": {},
   "outputs": [],
   "source": []
  },
  {
   "cell_type": "code",
   "execution_count": 12,
   "id": "8f8cc4ca-bb7a-41ed-be6c-5b89a94a7639",
   "metadata": {},
   "outputs": [],
   "source": [
    "from time import sleep"
   ]
  },
  {
   "cell_type": "code",
   "execution_count": 14,
   "id": "907629fc-822b-4221-84a4-05cfda37a675",
   "metadata": {},
   "outputs": [
    {
     "name": "stdin",
     "output_type": "stream",
     "text": [
      "Father: Hey Baby! s\n"
     ]
    },
    {
     "name": "stdout",
     "output_type": "stream",
     "text": [
      "s\n"
     ]
    },
    {
     "name": "stdin",
     "output_type": "stream",
     "text": [
      "Daughter: Hello Daddy sa\n"
     ]
    },
    {
     "name": "stdout",
     "output_type": "stream",
     "text": [
      "sa\n"
     ]
    },
    {
     "name": "stdin",
     "output_type": "stream",
     "text": [
      "Father: I heard your exams are over, what about result as\n"
     ]
    },
    {
     "name": "stdout",
     "output_type": "stream",
     "text": [
      "as\n"
     ]
    },
    {
     "name": "stdin",
     "output_type": "stream",
     "text": [
      "Daughter: Yes dad! Results are out. sd\n"
     ]
    },
    {
     "name": "stdout",
     "output_type": "stream",
     "text": [
      "sd\n"
     ]
    },
    {
     "name": "stdin",
     "output_type": "stream",
     "text": [
      "Father: what is the percentage? df\n"
     ]
    },
    {
     "name": "stdout",
     "output_type": "stream",
     "text": [
      "df\n"
     ]
    },
    {
     "name": "stdin",
     "output_type": "stream",
     "text": [
      "Daughter: I will give my subject wise marks , you tell me the percentage gf\n"
     ]
    },
    {
     "name": "stdout",
     "output_type": "stream",
     "text": [
      "gf\n"
     ]
    },
    {
     "name": "stdin",
     "output_type": "stream",
     "text": [
      "Father : Okay! f\n"
     ]
    },
    {
     "name": "stdout",
     "output_type": "stream",
     "text": [
      "f\n"
     ]
    },
    {
     "name": "stdin",
     "output_type": "stream",
     "text": [
      "Marathi marks Enter: 2\n",
      "Hindi marks Enter: 3\n",
      "English marks Enter: 4\n",
      "Maths marks Enter: 3\n",
      "Soc-sci marks Enter: 2\n",
      "Science marks Enter: 1\n"
     ]
    },
    {
     "name": "stdout",
     "output_type": "stream",
     "text": [
      "('You Got', 2.5, '%')\n"
     ]
    }
   ],
   "source": [
    "print(input(\"Father: Hey Baby!\"))\n",
    "sleep(2)\n",
    "print(input(\"Daughter: Hello Daddy\"))\n",
    "sleep(2)\n",
    "print(input(\"Father: I heard your exams are over, what about result\"))\n",
    "sleep(2)\n",
    "print(input(\"Daughter: Yes dad! Results are out.\"))\n",
    "sleep(2)\n",
    "print(input(\"Father: what is the percentage?\"))\n",
    "sleep(2)\n",
    "print(input(\"Daughter: I will give my subject wise marks , you tell me the percentage\"))\n",
    "sleep(2)\n",
    "print(input(\"Father : Okay!\"))\n",
    "sleep(2)\n",
    "Marathi = eval(input(\"Marathi marks Enter:\"))\n",
    "Hindi = eval(input(\"Hindi marks Enter:\"))\n",
    "Eng = eval(input(\"English marks Enter:\"))\n",
    "Maths = eval(input(\"Maths marks Enter:\"))\n",
    "Soc_sci= eval(input(\"Soc-sci marks Enter:\"))\n",
    "Science= eval(input(\"Science marks Enter:\"))\n",
    "Average = (Marathi +Hindi+Eng+Maths+Soc_sci+Science)/6\n",
    "percentage_you_got= (f\"You Got\", Average,\"%\")\n",
    "\n",
    "print(percentage_you_got)"
   ]
  },
  {
   "cell_type": "code",
   "execution_count": 18,
   "id": "810003ca-a498-4dc5-8399-03bcbe1cb9b4",
   "metadata": {},
   "outputs": [],
   "source": [
    "import cv2 # Image Operations\n",
    "# "
   ]
  },
  {
   "cell_type": "code",
   "execution_count": 16,
   "id": "49de6ded-8e6c-4f25-a61b-057bb44b24e9",
   "metadata": {},
   "outputs": [],
   "source": [
    "import flask"
   ]
  },
  {
   "cell_type": "code",
   "execution_count": 17,
   "id": "77daf1c3-5710-4165-bb3d-53bcaec2305d",
   "metadata": {},
   "outputs": [],
   "source": [
    "import streamlit"
   ]
  },
  {
   "cell_type": "markdown",
   "id": "49a68337-a88b-4823-b6fe-ade54acd0d35",
   "metadata": {},
   "source": [
    "- if we want to install the package, we can do two ways\n",
    "\n",
    "- using **Anadonda Prompt**\n",
    "\n",
    "    - pip install package_name\n",
    "\n",
    "- using **jupyter notebook**\n",
    "\n",
    "    - !pip install packagename\n",
    "\n",
    "- when ever we want to install any package, internet is required\n",
    "\n",
    "- if any problem about internet **http error** will occure\n",
    "\n",
    "- 90% the package install name, and reading name both are same.\n",
    "\n",
    "    - package name: flask   ----> install name:- pip install flask\n",
    "\n",
    "    - package name: streamlit   ----> install name:- pip install streamlit"
   ]
  },
  {
   "cell_type": "code",
   "execution_count": 19,
   "id": "69b3b3e3-06bc-4a59-b51f-7424ad41fa49",
   "metadata": {},
   "outputs": [
    {
     "name": "stdout",
     "output_type": "stream",
     "text": [
      "Requirement already satisfied: opencv-python in c:\\users\\prash\\anaconda31\\lib\\site-packages (4.10.0.84)\n",
      "Requirement already satisfied: numpy>=1.21.2 in c:\\users\\prash\\anaconda31\\lib\\site-packages (from opencv-python) (1.26.4)\n"
     ]
    }
   ],
   "source": [
    "!pip install opencv-python"
   ]
  },
  {
   "cell_type": "code",
   "execution_count": 20,
   "id": "33a43e89-7ff4-4c16-99ef-419289e361a2",
   "metadata": {},
   "outputs": [
    {
     "data": {
      "text/plain": [
       "['ACCESS_FAST',\n",
       " 'ACCESS_MASK',\n",
       " 'ACCESS_READ',\n",
       " 'ACCESS_RW',\n",
       " 'ACCESS_WRITE',\n",
       " 'ADAPTIVE_THRESH_GAUSSIAN_C',\n",
       " 'ADAPTIVE_THRESH_MEAN_C',\n",
       " 'AGAST_FEATURE_DETECTOR_AGAST_5_8',\n",
       " 'AGAST_FEATURE_DETECTOR_AGAST_7_12D',\n",
       " 'AGAST_FEATURE_DETECTOR_AGAST_7_12S',\n",
       " 'AGAST_FEATURE_DETECTOR_NONMAX_SUPPRESSION',\n",
       " 'AGAST_FEATURE_DETECTOR_OAST_9_16',\n",
       " 'AGAST_FEATURE_DETECTOR_THRESHOLD',\n",
       " 'AKAZE',\n",
       " 'AKAZE_DESCRIPTOR_KAZE',\n",
       " 'AKAZE_DESCRIPTOR_KAZE_UPRIGHT',\n",
       " 'AKAZE_DESCRIPTOR_MLDB',\n",
       " 'AKAZE_DESCRIPTOR_MLDB_UPRIGHT',\n",
       " 'AKAZE_create',\n",
       " 'AffineFeature',\n",
       " 'AffineFeature_create',\n",
       " 'AgastFeatureDetector',\n",
       " 'AgastFeatureDetector_AGAST_5_8',\n",
       " 'AgastFeatureDetector_AGAST_7_12d',\n",
       " 'AgastFeatureDetector_AGAST_7_12s',\n",
       " 'AgastFeatureDetector_NONMAX_SUPPRESSION',\n",
       " 'AgastFeatureDetector_OAST_9_16',\n",
       " 'AgastFeatureDetector_THRESHOLD',\n",
       " 'AgastFeatureDetector_create',\n",
       " 'Algorithm',\n",
       " 'AlignExposures',\n",
       " 'AlignMTB',\n",
       " 'AsyncArray',\n",
       " 'BFMatcher',\n",
       " 'BFMatcher_create',\n",
       " 'BORDER_CONSTANT',\n",
       " 'BORDER_DEFAULT',\n",
       " 'BORDER_ISOLATED',\n",
       " 'BORDER_REFLECT',\n",
       " 'BORDER_REFLECT101',\n",
       " 'BORDER_REFLECT_101',\n",
       " 'BORDER_REPLICATE',\n",
       " 'BORDER_TRANSPARENT',\n",
       " 'BORDER_WRAP',\n",
       " 'BOWImgDescriptorExtractor',\n",
       " 'BOWKMeansTrainer',\n",
       " 'BOWTrainer',\n",
       " 'BRISK',\n",
       " 'BRISK_create',\n",
       " 'BackgroundSubtractor',\n",
       " 'BackgroundSubtractorKNN',\n",
       " 'BackgroundSubtractorMOG2',\n",
       " 'BaseCascadeClassifier',\n",
       " 'CALIB_CB_ACCURACY',\n",
       " 'CALIB_CB_ADAPTIVE_THRESH',\n",
       " 'CALIB_CB_ASYMMETRIC_GRID',\n",
       " 'CALIB_CB_CLUSTERING',\n",
       " 'CALIB_CB_EXHAUSTIVE',\n",
       " 'CALIB_CB_FAST_CHECK',\n",
       " 'CALIB_CB_FILTER_QUADS',\n",
       " 'CALIB_CB_LARGER',\n",
       " 'CALIB_CB_MARKER',\n",
       " 'CALIB_CB_NORMALIZE_IMAGE',\n",
       " 'CALIB_CB_PLAIN',\n",
       " 'CALIB_CB_SYMMETRIC_GRID',\n",
       " 'CALIB_FIX_ASPECT_RATIO',\n",
       " 'CALIB_FIX_FOCAL_LENGTH',\n",
       " 'CALIB_FIX_INTRINSIC',\n",
       " 'CALIB_FIX_K1',\n",
       " 'CALIB_FIX_K2',\n",
       " 'CALIB_FIX_K3',\n",
       " 'CALIB_FIX_K4',\n",
       " 'CALIB_FIX_K5',\n",
       " 'CALIB_FIX_K6',\n",
       " 'CALIB_FIX_PRINCIPAL_POINT',\n",
       " 'CALIB_FIX_S1_S2_S3_S4',\n",
       " 'CALIB_FIX_TANGENT_DIST',\n",
       " 'CALIB_FIX_TAUX_TAUY',\n",
       " 'CALIB_HAND_EYE_ANDREFF',\n",
       " 'CALIB_HAND_EYE_DANIILIDIS',\n",
       " 'CALIB_HAND_EYE_HORAUD',\n",
       " 'CALIB_HAND_EYE_PARK',\n",
       " 'CALIB_HAND_EYE_TSAI',\n",
       " 'CALIB_NINTRINSIC',\n",
       " 'CALIB_RATIONAL_MODEL',\n",
       " 'CALIB_ROBOT_WORLD_HAND_EYE_LI',\n",
       " 'CALIB_ROBOT_WORLD_HAND_EYE_SHAH',\n",
       " 'CALIB_SAME_FOCAL_LENGTH',\n",
       " 'CALIB_THIN_PRISM_MODEL',\n",
       " 'CALIB_TILTED_MODEL',\n",
       " 'CALIB_USE_EXTRINSIC_GUESS',\n",
       " 'CALIB_USE_INTRINSIC_GUESS',\n",
       " 'CALIB_USE_LU',\n",
       " 'CALIB_USE_QR',\n",
       " 'CALIB_ZERO_DISPARITY',\n",
       " 'CALIB_ZERO_TANGENT_DIST',\n",
       " 'CAP_ANDROID',\n",
       " 'CAP_ANY',\n",
       " 'CAP_ARAVIS',\n",
       " 'CAP_AVFOUNDATION',\n",
       " 'CAP_CMU1394',\n",
       " 'CAP_DC1394',\n",
       " 'CAP_DSHOW',\n",
       " 'CAP_FFMPEG',\n",
       " 'CAP_FIREWARE',\n",
       " 'CAP_FIREWIRE',\n",
       " 'CAP_GIGANETIX',\n",
       " 'CAP_GPHOTO2',\n",
       " 'CAP_GSTREAMER',\n",
       " 'CAP_IEEE1394',\n",
       " 'CAP_IMAGES',\n",
       " 'CAP_INTELPERC',\n",
       " 'CAP_INTELPERC_DEPTH_GENERATOR',\n",
       " 'CAP_INTELPERC_DEPTH_MAP',\n",
       " 'CAP_INTELPERC_GENERATORS_MASK',\n",
       " 'CAP_INTELPERC_IMAGE',\n",
       " 'CAP_INTELPERC_IMAGE_GENERATOR',\n",
       " 'CAP_INTELPERC_IR_GENERATOR',\n",
       " 'CAP_INTELPERC_IR_MAP',\n",
       " 'CAP_INTELPERC_UVDEPTH_MAP',\n",
       " 'CAP_INTEL_MFX',\n",
       " 'CAP_MSMF',\n",
       " 'CAP_OBSENSOR',\n",
       " 'CAP_OBSENSOR_BGR_IMAGE',\n",
       " 'CAP_OBSENSOR_DEPTH_GENERATOR',\n",
       " 'CAP_OBSENSOR_DEPTH_MAP',\n",
       " 'CAP_OBSENSOR_GENERATORS_MASK',\n",
       " 'CAP_OBSENSOR_IMAGE_GENERATOR',\n",
       " 'CAP_OBSENSOR_IR_GENERATOR',\n",
       " 'CAP_OBSENSOR_IR_IMAGE',\n",
       " 'CAP_OPENCV_MJPEG',\n",
       " 'CAP_OPENNI',\n",
       " 'CAP_OPENNI2',\n",
       " 'CAP_OPENNI2_ASTRA',\n",
       " 'CAP_OPENNI2_ASUS',\n",
       " 'CAP_OPENNI_ASUS',\n",
       " 'CAP_OPENNI_BGR_IMAGE',\n",
       " 'CAP_OPENNI_DEPTH_GENERATOR',\n",
       " 'CAP_OPENNI_DEPTH_GENERATOR_BASELINE',\n",
       " 'CAP_OPENNI_DEPTH_GENERATOR_FOCAL_LENGTH',\n",
       " 'CAP_OPENNI_DEPTH_GENERATOR_PRESENT',\n",
       " 'CAP_OPENNI_DEPTH_GENERATOR_REGISTRATION',\n",
       " 'CAP_OPENNI_DEPTH_GENERATOR_REGISTRATION_ON',\n",
       " 'CAP_OPENNI_DEPTH_MAP',\n",
       " 'CAP_OPENNI_DISPARITY_MAP',\n",
       " 'CAP_OPENNI_DISPARITY_MAP_32F',\n",
       " 'CAP_OPENNI_GENERATORS_MASK',\n",
       " 'CAP_OPENNI_GRAY_IMAGE',\n",
       " 'CAP_OPENNI_IMAGE_GENERATOR',\n",
       " 'CAP_OPENNI_IMAGE_GENERATOR_OUTPUT_MODE',\n",
       " 'CAP_OPENNI_IMAGE_GENERATOR_PRESENT',\n",
       " 'CAP_OPENNI_IR_GENERATOR',\n",
       " 'CAP_OPENNI_IR_GENERATOR_PRESENT',\n",
       " 'CAP_OPENNI_IR_IMAGE',\n",
       " 'CAP_OPENNI_POINT_CLOUD_MAP',\n",
       " 'CAP_OPENNI_QVGA_30HZ',\n",
       " 'CAP_OPENNI_QVGA_60HZ',\n",
       " 'CAP_OPENNI_SXGA_15HZ',\n",
       " 'CAP_OPENNI_SXGA_30HZ',\n",
       " 'CAP_OPENNI_VALID_DEPTH_MASK',\n",
       " 'CAP_OPENNI_VGA_30HZ',\n",
       " 'CAP_PROP_APERTURE',\n",
       " 'CAP_PROP_ARAVIS_AUTOTRIGGER',\n",
       " 'CAP_PROP_AUDIO_BASE_INDEX',\n",
       " 'CAP_PROP_AUDIO_DATA_DEPTH',\n",
       " 'CAP_PROP_AUDIO_POS',\n",
       " 'CAP_PROP_AUDIO_SAMPLES_PER_SECOND',\n",
       " 'CAP_PROP_AUDIO_SHIFT_NSEC',\n",
       " 'CAP_PROP_AUDIO_STREAM',\n",
       " 'CAP_PROP_AUDIO_SYNCHRONIZE',\n",
       " 'CAP_PROP_AUDIO_TOTAL_CHANNELS',\n",
       " 'CAP_PROP_AUDIO_TOTAL_STREAMS',\n",
       " 'CAP_PROP_AUTOFOCUS',\n",
       " 'CAP_PROP_AUTO_EXPOSURE',\n",
       " 'CAP_PROP_AUTO_WB',\n",
       " 'CAP_PROP_BACKEND',\n",
       " 'CAP_PROP_BACKLIGHT',\n",
       " 'CAP_PROP_BITRATE',\n",
       " 'CAP_PROP_BRIGHTNESS',\n",
       " 'CAP_PROP_BUFFERSIZE',\n",
       " 'CAP_PROP_CHANNEL',\n",
       " 'CAP_PROP_CODEC_EXTRADATA_INDEX',\n",
       " 'CAP_PROP_CODEC_PIXEL_FORMAT',\n",
       " 'CAP_PROP_CONTRAST',\n",
       " 'CAP_PROP_CONVERT_RGB',\n",
       " 'CAP_PROP_DC1394_MAX',\n",
       " 'CAP_PROP_DC1394_MODE_AUTO',\n",
       " 'CAP_PROP_DC1394_MODE_MANUAL',\n",
       " 'CAP_PROP_DC1394_MODE_ONE_PUSH_AUTO',\n",
       " 'CAP_PROP_DC1394_OFF',\n",
       " 'CAP_PROP_EXPOSURE',\n",
       " 'CAP_PROP_EXPOSUREPROGRAM',\n",
       " 'CAP_PROP_FOCUS',\n",
       " 'CAP_PROP_FORMAT',\n",
       " 'CAP_PROP_FOURCC',\n",
       " 'CAP_PROP_FPS',\n",
       " 'CAP_PROP_FRAME_COUNT',\n",
       " 'CAP_PROP_FRAME_HEIGHT',\n",
       " 'CAP_PROP_FRAME_TYPE',\n",
       " 'CAP_PROP_FRAME_WIDTH',\n",
       " 'CAP_PROP_GAIN',\n",
       " 'CAP_PROP_GAMMA',\n",
       " 'CAP_PROP_GIGA_FRAME_HEIGH_MAX',\n",
       " 'CAP_PROP_GIGA_FRAME_OFFSET_X',\n",
       " 'CAP_PROP_GIGA_FRAME_OFFSET_Y',\n",
       " 'CAP_PROP_GIGA_FRAME_SENS_HEIGH',\n",
       " 'CAP_PROP_GIGA_FRAME_SENS_WIDTH',\n",
       " 'CAP_PROP_GIGA_FRAME_WIDTH_MAX',\n",
       " 'CAP_PROP_GPHOTO2_COLLECT_MSGS',\n",
       " 'CAP_PROP_GPHOTO2_FLUSH_MSGS',\n",
       " 'CAP_PROP_GPHOTO2_PREVIEW',\n",
       " 'CAP_PROP_GPHOTO2_RELOAD_CONFIG',\n",
       " 'CAP_PROP_GPHOTO2_RELOAD_ON_CHANGE',\n",
       " 'CAP_PROP_GPHOTO2_WIDGET_ENUMERATE',\n",
       " 'CAP_PROP_GSTREAMER_QUEUE_LENGTH',\n",
       " 'CAP_PROP_GUID',\n",
       " 'CAP_PROP_HUE',\n",
       " 'CAP_PROP_HW_ACCELERATION',\n",
       " 'CAP_PROP_HW_ACCELERATION_USE_OPENCL',\n",
       " 'CAP_PROP_HW_DEVICE',\n",
       " 'CAP_PROP_IMAGES_BASE',\n",
       " 'CAP_PROP_IMAGES_LAST',\n",
       " 'CAP_PROP_INTELPERC_DEPTH_CONFIDENCE_THRESHOLD',\n",
       " 'CAP_PROP_INTELPERC_DEPTH_FOCAL_LENGTH_HORZ',\n",
       " 'CAP_PROP_INTELPERC_DEPTH_FOCAL_LENGTH_VERT',\n",
       " 'CAP_PROP_INTELPERC_DEPTH_LOW_CONFIDENCE_VALUE',\n",
       " 'CAP_PROP_INTELPERC_DEPTH_SATURATION_VALUE',\n",
       " 'CAP_PROP_INTELPERC_PROFILE_COUNT',\n",
       " 'CAP_PROP_INTELPERC_PROFILE_IDX',\n",
       " 'CAP_PROP_IOS_DEVICE_EXPOSURE',\n",
       " 'CAP_PROP_IOS_DEVICE_FLASH',\n",
       " 'CAP_PROP_IOS_DEVICE_FOCUS',\n",
       " 'CAP_PROP_IOS_DEVICE_TORCH',\n",
       " 'CAP_PROP_IOS_DEVICE_WHITEBALANCE',\n",
       " 'CAP_PROP_IRIS',\n",
       " 'CAP_PROP_ISO_SPEED',\n",
       " 'CAP_PROP_LRF_HAS_KEY_FRAME',\n",
       " 'CAP_PROP_MODE',\n",
       " 'CAP_PROP_MONOCHROME',\n",
       " 'CAP_PROP_N_THREADS',\n",
       " 'CAP_PROP_OBSENSOR_INTRINSIC_CX',\n",
       " 'CAP_PROP_OBSENSOR_INTRINSIC_CY',\n",
       " 'CAP_PROP_OBSENSOR_INTRINSIC_FX',\n",
       " 'CAP_PROP_OBSENSOR_INTRINSIC_FY',\n",
       " 'CAP_PROP_OPENNI2_MIRROR',\n",
       " 'CAP_PROP_OPENNI2_SYNC',\n",
       " 'CAP_PROP_OPENNI_APPROX_FRAME_SYNC',\n",
       " 'CAP_PROP_OPENNI_BASELINE',\n",
       " 'CAP_PROP_OPENNI_CIRCLE_BUFFER',\n",
       " 'CAP_PROP_OPENNI_FOCAL_LENGTH',\n",
       " 'CAP_PROP_OPENNI_FRAME_MAX_DEPTH',\n",
       " 'CAP_PROP_OPENNI_GENERATOR_PRESENT',\n",
       " 'CAP_PROP_OPENNI_MAX_BUFFER_SIZE',\n",
       " 'CAP_PROP_OPENNI_MAX_TIME_DURATION',\n",
       " 'CAP_PROP_OPENNI_OUTPUT_MODE',\n",
       " 'CAP_PROP_OPENNI_REGISTRATION',\n",
       " 'CAP_PROP_OPENNI_REGISTRATION_ON',\n",
       " 'CAP_PROP_OPEN_TIMEOUT_MSEC',\n",
       " 'CAP_PROP_ORIENTATION_AUTO',\n",
       " 'CAP_PROP_ORIENTATION_META',\n",
       " 'CAP_PROP_PAN',\n",
       " 'CAP_PROP_POS_AVI_RATIO',\n",
       " 'CAP_PROP_POS_FRAMES',\n",
       " 'CAP_PROP_POS_MSEC',\n",
       " 'CAP_PROP_PVAPI_BINNINGX',\n",
       " 'CAP_PROP_PVAPI_BINNINGY',\n",
       " 'CAP_PROP_PVAPI_DECIMATIONHORIZONTAL',\n",
       " 'CAP_PROP_PVAPI_DECIMATIONVERTICAL',\n",
       " 'CAP_PROP_PVAPI_FRAMESTARTTRIGGERMODE',\n",
       " 'CAP_PROP_PVAPI_MULTICASTIP',\n",
       " 'CAP_PROP_PVAPI_PIXELFORMAT',\n",
       " 'CAP_PROP_READ_TIMEOUT_MSEC',\n",
       " 'CAP_PROP_RECTIFICATION',\n",
       " 'CAP_PROP_ROLL',\n",
       " 'CAP_PROP_SAR_DEN',\n",
       " 'CAP_PROP_SAR_NUM',\n",
       " 'CAP_PROP_SATURATION',\n",
       " 'CAP_PROP_SETTINGS',\n",
       " 'CAP_PROP_SHARPNESS',\n",
       " 'CAP_PROP_SPEED',\n",
       " 'CAP_PROP_STREAM_OPEN_TIME_USEC',\n",
       " 'CAP_PROP_TEMPERATURE',\n",
       " 'CAP_PROP_TILT',\n",
       " 'CAP_PROP_TRIGGER',\n",
       " 'CAP_PROP_TRIGGER_DELAY',\n",
       " 'CAP_PROP_VIDEO_STREAM',\n",
       " 'CAP_PROP_VIDEO_TOTAL_CHANNELS',\n",
       " 'CAP_PROP_VIEWFINDER',\n",
       " 'CAP_PROP_WB_TEMPERATURE',\n",
       " 'CAP_PROP_WHITE_BALANCE_BLUE_U',\n",
       " 'CAP_PROP_WHITE_BALANCE_RED_V',\n",
       " 'CAP_PROP_XI_ACQ_BUFFER_SIZE',\n",
       " 'CAP_PROP_XI_ACQ_BUFFER_SIZE_UNIT',\n",
       " 'CAP_PROP_XI_ACQ_FRAME_BURST_COUNT',\n",
       " 'CAP_PROP_XI_ACQ_TIMING_MODE',\n",
       " 'CAP_PROP_XI_ACQ_TRANSPORT_BUFFER_COMMIT',\n",
       " 'CAP_PROP_XI_ACQ_TRANSPORT_BUFFER_SIZE',\n",
       " 'CAP_PROP_XI_AEAG',\n",
       " 'CAP_PROP_XI_AEAG_LEVEL',\n",
       " 'CAP_PROP_XI_AEAG_ROI_HEIGHT',\n",
       " 'CAP_PROP_XI_AEAG_ROI_OFFSET_X',\n",
       " 'CAP_PROP_XI_AEAG_ROI_OFFSET_Y',\n",
       " 'CAP_PROP_XI_AEAG_ROI_WIDTH',\n",
       " 'CAP_PROP_XI_AE_MAX_LIMIT',\n",
       " 'CAP_PROP_XI_AG_MAX_LIMIT',\n",
       " 'CAP_PROP_XI_APPLY_CMS',\n",
       " 'CAP_PROP_XI_AUTO_BANDWIDTH_CALCULATION',\n",
       " 'CAP_PROP_XI_AUTO_WB',\n",
       " 'CAP_PROP_XI_AVAILABLE_BANDWIDTH',\n",
       " 'CAP_PROP_XI_BINNING_HORIZONTAL',\n",
       " 'CAP_PROP_XI_BINNING_PATTERN',\n",
       " 'CAP_PROP_XI_BINNING_SELECTOR',\n",
       " 'CAP_PROP_XI_BINNING_VERTICAL',\n",
       " 'CAP_PROP_XI_BPC',\n",
       " 'CAP_PROP_XI_BUFFERS_QUEUE_SIZE',\n",
       " 'CAP_PROP_XI_BUFFER_POLICY',\n",
       " 'CAP_PROP_XI_CC_MATRIX_00',\n",
       " 'CAP_PROP_XI_CC_MATRIX_01',\n",
       " 'CAP_PROP_XI_CC_MATRIX_02',\n",
       " 'CAP_PROP_XI_CC_MATRIX_03',\n",
       " 'CAP_PROP_XI_CC_MATRIX_10',\n",
       " 'CAP_PROP_XI_CC_MATRIX_11',\n",
       " 'CAP_PROP_XI_CC_MATRIX_12',\n",
       " 'CAP_PROP_XI_CC_MATRIX_13',\n",
       " 'CAP_PROP_XI_CC_MATRIX_20',\n",
       " 'CAP_PROP_XI_CC_MATRIX_21',\n",
       " 'CAP_PROP_XI_CC_MATRIX_22',\n",
       " 'CAP_PROP_XI_CC_MATRIX_23',\n",
       " 'CAP_PROP_XI_CC_MATRIX_30',\n",
       " 'CAP_PROP_XI_CC_MATRIX_31',\n",
       " 'CAP_PROP_XI_CC_MATRIX_32',\n",
       " 'CAP_PROP_XI_CC_MATRIX_33',\n",
       " 'CAP_PROP_XI_CHIP_TEMP',\n",
       " 'CAP_PROP_XI_CMS',\n",
       " 'CAP_PROP_XI_COLOR_FILTER_ARRAY',\n",
       " 'CAP_PROP_XI_COLUMN_FPN_CORRECTION',\n",
       " 'CAP_PROP_XI_COOLING',\n",
       " 'CAP_PROP_XI_COUNTER_SELECTOR',\n",
       " 'CAP_PROP_XI_COUNTER_VALUE',\n",
       " 'CAP_PROP_XI_DATA_FORMAT',\n",
       " 'CAP_PROP_XI_DEBOUNCE_EN',\n",
       " 'CAP_PROP_XI_DEBOUNCE_POL',\n",
       " 'CAP_PROP_XI_DEBOUNCE_T0',\n",
       " 'CAP_PROP_XI_DEBOUNCE_T1',\n",
       " 'CAP_PROP_XI_DEBUG_LEVEL',\n",
       " 'CAP_PROP_XI_DECIMATION_HORIZONTAL',\n",
       " 'CAP_PROP_XI_DECIMATION_PATTERN',\n",
       " 'CAP_PROP_XI_DECIMATION_SELECTOR',\n",
       " 'CAP_PROP_XI_DECIMATION_VERTICAL',\n",
       " 'CAP_PROP_XI_DEFAULT_CC_MATRIX',\n",
       " 'CAP_PROP_XI_DEVICE_MODEL_ID',\n",
       " 'CAP_PROP_XI_DEVICE_RESET',\n",
       " 'CAP_PROP_XI_DEVICE_SN',\n",
       " 'CAP_PROP_XI_DOWNSAMPLING',\n",
       " 'CAP_PROP_XI_DOWNSAMPLING_TYPE',\n",
       " 'CAP_PROP_XI_EXPOSURE',\n",
       " 'CAP_PROP_XI_EXPOSURE_BURST_COUNT',\n",
       " 'CAP_PROP_XI_EXP_PRIORITY',\n",
       " 'CAP_PROP_XI_FFS_ACCESS_KEY',\n",
       " 'CAP_PROP_XI_FFS_FILE_ID',\n",
       " 'CAP_PROP_XI_FFS_FILE_SIZE',\n",
       " 'CAP_PROP_XI_FRAMERATE',\n",
       " 'CAP_PROP_XI_FREE_FFS_SIZE',\n",
       " 'CAP_PROP_XI_GAIN',\n",
       " 'CAP_PROP_XI_GAIN_SELECTOR',\n",
       " 'CAP_PROP_XI_GAMMAC',\n",
       " 'CAP_PROP_XI_GAMMAY',\n",
       " 'CAP_PROP_XI_GPI_LEVEL',\n",
       " 'CAP_PROP_XI_GPI_MODE',\n",
       " 'CAP_PROP_XI_GPI_SELECTOR',\n",
       " 'CAP_PROP_XI_GPO_MODE',\n",
       " 'CAP_PROP_XI_GPO_SELECTOR',\n",
       " 'CAP_PROP_XI_HDR',\n",
       " 'CAP_PROP_XI_HDR_KNEEPOINT_COUNT',\n",
       " 'CAP_PROP_XI_HDR_T1',\n",
       " 'CAP_PROP_XI_HDR_T2',\n",
       " 'CAP_PROP_XI_HEIGHT',\n",
       " 'CAP_PROP_XI_HOUS_BACK_SIDE_TEMP',\n",
       " 'CAP_PROP_XI_HOUS_TEMP',\n",
       " 'CAP_PROP_XI_HW_REVISION',\n",
       " 'CAP_PROP_XI_IMAGE_BLACK_LEVEL',\n",
       " 'CAP_PROP_XI_IMAGE_DATA_BIT_DEPTH',\n",
       " 'CAP_PROP_XI_IMAGE_DATA_FORMAT',\n",
       " 'CAP_PROP_XI_IMAGE_DATA_FORMAT_RGB32_ALPHA',\n",
       " 'CAP_PROP_XI_IMAGE_IS_COLOR',\n",
       " 'CAP_PROP_XI_IMAGE_PAYLOAD_SIZE',\n",
       " 'CAP_PROP_XI_IS_COOLED',\n",
       " 'CAP_PROP_XI_IS_DEVICE_EXIST',\n",
       " 'CAP_PROP_XI_KNEEPOINT1',\n",
       " 'CAP_PROP_XI_KNEEPOINT2',\n",
       " 'CAP_PROP_XI_LED_MODE',\n",
       " 'CAP_PROP_XI_LED_SELECTOR',\n",
       " 'CAP_PROP_XI_LENS_APERTURE_VALUE',\n",
       " 'CAP_PROP_XI_LENS_FEATURE',\n",
       " 'CAP_PROP_XI_LENS_FEATURE_SELECTOR',\n",
       " 'CAP_PROP_XI_LENS_FOCAL_LENGTH',\n",
       " 'CAP_PROP_XI_LENS_FOCUS_DISTANCE',\n",
       " 'CAP_PROP_XI_LENS_FOCUS_MOVE',\n",
       " 'CAP_PROP_XI_LENS_FOCUS_MOVEMENT_VALUE',\n",
       " 'CAP_PROP_XI_LENS_MODE',\n",
       " 'CAP_PROP_XI_LIMIT_BANDWIDTH',\n",
       " 'CAP_PROP_XI_LUT_EN',\n",
       " 'CAP_PROP_XI_LUT_INDEX',\n",
       " 'CAP_PROP_XI_LUT_VALUE',\n",
       " 'CAP_PROP_XI_MANUAL_WB',\n",
       " 'CAP_PROP_XI_OFFSET_X',\n",
       " 'CAP_PROP_XI_OFFSET_Y',\n",
       " 'CAP_PROP_XI_OUTPUT_DATA_BIT_DEPTH',\n",
       " 'CAP_PROP_XI_OUTPUT_DATA_PACKING',\n",
       " 'CAP_PROP_XI_OUTPUT_DATA_PACKING_TYPE',\n",
       " 'CAP_PROP_XI_RECENT_FRAME',\n",
       " 'CAP_PROP_XI_REGION_MODE',\n",
       " 'CAP_PROP_XI_REGION_SELECTOR',\n",
       " 'CAP_PROP_XI_ROW_FPN_CORRECTION',\n",
       " 'CAP_PROP_XI_SENSOR_BOARD_TEMP',\n",
       " 'CAP_PROP_XI_SENSOR_CLOCK_FREQ_HZ',\n",
       " 'CAP_PROP_XI_SENSOR_CLOCK_FREQ_INDEX',\n",
       " 'CAP_PROP_XI_SENSOR_DATA_BIT_DEPTH',\n",
       " 'CAP_PROP_XI_SENSOR_FEATURE_SELECTOR',\n",
       " 'CAP_PROP_XI_SENSOR_FEATURE_VALUE',\n",
       " 'CAP_PROP_XI_SENSOR_MODE',\n",
       " 'CAP_PROP_XI_SENSOR_OUTPUT_CHANNEL_COUNT',\n",
       " 'CAP_PROP_XI_SENSOR_TAPS',\n",
       " 'CAP_PROP_XI_SHARPNESS',\n",
       " 'CAP_PROP_XI_SHUTTER_TYPE',\n",
       " 'CAP_PROP_XI_TARGET_TEMP',\n",
       " 'CAP_PROP_XI_TEST_PATTERN',\n",
       " 'CAP_PROP_XI_TEST_PATTERN_GENERATOR_SELECTOR',\n",
       " 'CAP_PROP_XI_TIMEOUT',\n",
       " 'CAP_PROP_XI_TRANSPORT_PIXEL_FORMAT',\n",
       " 'CAP_PROP_XI_TRG_DELAY',\n",
       " 'CAP_PROP_XI_TRG_SELECTOR',\n",
       " 'CAP_PROP_XI_TRG_SOFTWARE',\n",
       " 'CAP_PROP_XI_TRG_SOURCE',\n",
       " 'CAP_PROP_XI_TS_RST_MODE',\n",
       " 'CAP_PROP_XI_TS_RST_SOURCE',\n",
       " 'CAP_PROP_XI_USED_FFS_SIZE',\n",
       " 'CAP_PROP_XI_WB_KB',\n",
       " 'CAP_PROP_XI_WB_KG',\n",
       " 'CAP_PROP_XI_WB_KR',\n",
       " 'CAP_PROP_XI_WIDTH',\n",
       " 'CAP_PROP_ZOOM',\n",
       " 'CAP_PVAPI',\n",
       " 'CAP_PVAPI_DECIMATION_2OUTOF16',\n",
       " 'CAP_PVAPI_DECIMATION_2OUTOF4',\n",
       " 'CAP_PVAPI_DECIMATION_2OUTOF8',\n",
       " 'CAP_PVAPI_DECIMATION_OFF',\n",
       " 'CAP_PVAPI_FSTRIGMODE_FIXEDRATE',\n",
       " 'CAP_PVAPI_FSTRIGMODE_FREERUN',\n",
       " 'CAP_PVAPI_FSTRIGMODE_SOFTWARE',\n",
       " 'CAP_PVAPI_FSTRIGMODE_SYNCIN1',\n",
       " 'CAP_PVAPI_FSTRIGMODE_SYNCIN2',\n",
       " 'CAP_PVAPI_PIXELFORMAT_BAYER16',\n",
       " 'CAP_PVAPI_PIXELFORMAT_BAYER8',\n",
       " 'CAP_PVAPI_PIXELFORMAT_BGR24',\n",
       " 'CAP_PVAPI_PIXELFORMAT_BGRA32',\n",
       " 'CAP_PVAPI_PIXELFORMAT_MONO16',\n",
       " 'CAP_PVAPI_PIXELFORMAT_MONO8',\n",
       " 'CAP_PVAPI_PIXELFORMAT_RGB24',\n",
       " 'CAP_PVAPI_PIXELFORMAT_RGBA32',\n",
       " 'CAP_QT',\n",
       " 'CAP_REALSENSE',\n",
       " 'CAP_UEYE',\n",
       " 'CAP_UNICAP',\n",
       " 'CAP_V4L',\n",
       " 'CAP_V4L2',\n",
       " 'CAP_VFW',\n",
       " 'CAP_WINRT',\n",
       " 'CAP_XIAPI',\n",
       " 'CAP_XINE',\n",
       " 'CASCADE_DO_CANNY_PRUNING',\n",
       " 'CASCADE_DO_ROUGH_SEARCH',\n",
       " 'CASCADE_FIND_BIGGEST_OBJECT',\n",
       " 'CASCADE_SCALE_IMAGE',\n",
       " 'CCL_BBDT',\n",
       " 'CCL_BOLELLI',\n",
       " 'CCL_DEFAULT',\n",
       " 'CCL_GRANA',\n",
       " 'CCL_SAUF',\n",
       " 'CCL_SPAGHETTI',\n",
       " 'CCL_WU',\n",
       " 'CC_STAT_AREA',\n",
       " 'CC_STAT_HEIGHT',\n",
       " 'CC_STAT_LEFT',\n",
       " 'CC_STAT_MAX',\n",
       " 'CC_STAT_TOP',\n",
       " 'CC_STAT_WIDTH',\n",
       " 'CHAIN_APPROX_NONE',\n",
       " 'CHAIN_APPROX_SIMPLE',\n",
       " 'CHAIN_APPROX_TC89_KCOS',\n",
       " 'CHAIN_APPROX_TC89_L1',\n",
       " 'CIRCLES_GRID_FINDER_PARAMETERS_ASYMMETRIC_GRID',\n",
       " 'CIRCLES_GRID_FINDER_PARAMETERS_SYMMETRIC_GRID',\n",
       " 'CLAHE',\n",
       " 'CMP_EQ',\n",
       " 'CMP_GE',\n",
       " 'CMP_GT',\n",
       " 'CMP_LE',\n",
       " 'CMP_LT',\n",
       " 'CMP_NE',\n",
       " 'COLORMAP_AUTUMN',\n",
       " 'COLORMAP_BONE',\n",
       " 'COLORMAP_CIVIDIS',\n",
       " 'COLORMAP_COOL',\n",
       " 'COLORMAP_DEEPGREEN',\n",
       " 'COLORMAP_HOT',\n",
       " 'COLORMAP_HSV',\n",
       " 'COLORMAP_INFERNO',\n",
       " 'COLORMAP_JET',\n",
       " 'COLORMAP_MAGMA',\n",
       " 'COLORMAP_OCEAN',\n",
       " 'COLORMAP_PARULA',\n",
       " 'COLORMAP_PINK',\n",
       " 'COLORMAP_PLASMA',\n",
       " 'COLORMAP_RAINBOW',\n",
       " 'COLORMAP_SPRING',\n",
       " 'COLORMAP_SUMMER',\n",
       " 'COLORMAP_TURBO',\n",
       " 'COLORMAP_TWILIGHT',\n",
       " 'COLORMAP_TWILIGHT_SHIFTED',\n",
       " 'COLORMAP_VIRIDIS',\n",
       " 'COLORMAP_WINTER',\n",
       " 'COLOR_BAYER_BG2BGR',\n",
       " 'COLOR_BAYER_BG2BGRA',\n",
       " 'COLOR_BAYER_BG2BGR_EA',\n",
       " 'COLOR_BAYER_BG2BGR_VNG',\n",
       " 'COLOR_BAYER_BG2GRAY',\n",
       " 'COLOR_BAYER_BG2RGB',\n",
       " 'COLOR_BAYER_BG2RGBA',\n",
       " 'COLOR_BAYER_BG2RGB_EA',\n",
       " 'COLOR_BAYER_BG2RGB_VNG',\n",
       " 'COLOR_BAYER_BGGR2BGR',\n",
       " 'COLOR_BAYER_BGGR2BGRA',\n",
       " 'COLOR_BAYER_BGGR2BGR_EA',\n",
       " 'COLOR_BAYER_BGGR2BGR_VNG',\n",
       " 'COLOR_BAYER_BGGR2GRAY',\n",
       " 'COLOR_BAYER_BGGR2RGB',\n",
       " 'COLOR_BAYER_BGGR2RGBA',\n",
       " 'COLOR_BAYER_BGGR2RGB_EA',\n",
       " 'COLOR_BAYER_BGGR2RGB_VNG',\n",
       " 'COLOR_BAYER_GB2BGR',\n",
       " 'COLOR_BAYER_GB2BGRA',\n",
       " 'COLOR_BAYER_GB2BGR_EA',\n",
       " 'COLOR_BAYER_GB2BGR_VNG',\n",
       " 'COLOR_BAYER_GB2GRAY',\n",
       " 'COLOR_BAYER_GB2RGB',\n",
       " 'COLOR_BAYER_GB2RGBA',\n",
       " 'COLOR_BAYER_GB2RGB_EA',\n",
       " 'COLOR_BAYER_GB2RGB_VNG',\n",
       " 'COLOR_BAYER_GBRG2BGR',\n",
       " 'COLOR_BAYER_GBRG2BGRA',\n",
       " 'COLOR_BAYER_GBRG2BGR_EA',\n",
       " 'COLOR_BAYER_GBRG2BGR_VNG',\n",
       " 'COLOR_BAYER_GBRG2GRAY',\n",
       " 'COLOR_BAYER_GBRG2RGB',\n",
       " 'COLOR_BAYER_GBRG2RGBA',\n",
       " 'COLOR_BAYER_GBRG2RGB_EA',\n",
       " 'COLOR_BAYER_GBRG2RGB_VNG',\n",
       " 'COLOR_BAYER_GR2BGR',\n",
       " 'COLOR_BAYER_GR2BGRA',\n",
       " 'COLOR_BAYER_GR2BGR_EA',\n",
       " 'COLOR_BAYER_GR2BGR_VNG',\n",
       " 'COLOR_BAYER_GR2GRAY',\n",
       " 'COLOR_BAYER_GR2RGB',\n",
       " 'COLOR_BAYER_GR2RGBA',\n",
       " 'COLOR_BAYER_GR2RGB_EA',\n",
       " 'COLOR_BAYER_GR2RGB_VNG',\n",
       " 'COLOR_BAYER_GRBG2BGR',\n",
       " 'COLOR_BAYER_GRBG2BGRA',\n",
       " 'COLOR_BAYER_GRBG2BGR_EA',\n",
       " 'COLOR_BAYER_GRBG2BGR_VNG',\n",
       " 'COLOR_BAYER_GRBG2GRAY',\n",
       " 'COLOR_BAYER_GRBG2RGB',\n",
       " 'COLOR_BAYER_GRBG2RGBA',\n",
       " 'COLOR_BAYER_GRBG2RGB_EA',\n",
       " 'COLOR_BAYER_GRBG2RGB_VNG',\n",
       " 'COLOR_BAYER_RG2BGR',\n",
       " 'COLOR_BAYER_RG2BGRA',\n",
       " 'COLOR_BAYER_RG2BGR_EA',\n",
       " 'COLOR_BAYER_RG2BGR_VNG',\n",
       " 'COLOR_BAYER_RG2GRAY',\n",
       " 'COLOR_BAYER_RG2RGB',\n",
       " 'COLOR_BAYER_RG2RGBA',\n",
       " 'COLOR_BAYER_RG2RGB_EA',\n",
       " 'COLOR_BAYER_RG2RGB_VNG',\n",
       " 'COLOR_BAYER_RGGB2BGR',\n",
       " 'COLOR_BAYER_RGGB2BGRA',\n",
       " 'COLOR_BAYER_RGGB2BGR_EA',\n",
       " 'COLOR_BAYER_RGGB2BGR_VNG',\n",
       " 'COLOR_BAYER_RGGB2GRAY',\n",
       " 'COLOR_BAYER_RGGB2RGB',\n",
       " 'COLOR_BAYER_RGGB2RGBA',\n",
       " 'COLOR_BAYER_RGGB2RGB_EA',\n",
       " 'COLOR_BAYER_RGGB2RGB_VNG',\n",
       " 'COLOR_BGR2BGR555',\n",
       " 'COLOR_BGR2BGR565',\n",
       " 'COLOR_BGR2BGRA',\n",
       " 'COLOR_BGR2GRAY',\n",
       " 'COLOR_BGR2HLS',\n",
       " 'COLOR_BGR2HLS_FULL',\n",
       " 'COLOR_BGR2HSV',\n",
       " 'COLOR_BGR2HSV_FULL',\n",
       " 'COLOR_BGR2LAB',\n",
       " 'COLOR_BGR2LUV',\n",
       " 'COLOR_BGR2Lab',\n",
       " 'COLOR_BGR2Luv',\n",
       " 'COLOR_BGR2RGB',\n",
       " 'COLOR_BGR2RGBA',\n",
       " 'COLOR_BGR2XYZ',\n",
       " 'COLOR_BGR2YCR_CB',\n",
       " 'COLOR_BGR2YCrCb',\n",
       " 'COLOR_BGR2YUV',\n",
       " 'COLOR_BGR2YUV_I420',\n",
       " 'COLOR_BGR2YUV_IYUV',\n",
       " 'COLOR_BGR2YUV_UYNV',\n",
       " 'COLOR_BGR2YUV_UYVY',\n",
       " 'COLOR_BGR2YUV_Y422',\n",
       " 'COLOR_BGR2YUV_YUNV',\n",
       " 'COLOR_BGR2YUV_YUY2',\n",
       " 'COLOR_BGR2YUV_YUYV',\n",
       " 'COLOR_BGR2YUV_YV12',\n",
       " 'COLOR_BGR2YUV_YVYU',\n",
       " 'COLOR_BGR5552BGR',\n",
       " 'COLOR_BGR5552BGRA',\n",
       " 'COLOR_BGR5552GRAY',\n",
       " 'COLOR_BGR5552RGB',\n",
       " 'COLOR_BGR5552RGBA',\n",
       " 'COLOR_BGR5652BGR',\n",
       " 'COLOR_BGR5652BGRA',\n",
       " 'COLOR_BGR5652GRAY',\n",
       " 'COLOR_BGR5652RGB',\n",
       " 'COLOR_BGR5652RGBA',\n",
       " 'COLOR_BGRA2BGR',\n",
       " 'COLOR_BGRA2BGR555',\n",
       " 'COLOR_BGRA2BGR565',\n",
       " 'COLOR_BGRA2GRAY',\n",
       " 'COLOR_BGRA2RGB',\n",
       " 'COLOR_BGRA2RGBA',\n",
       " 'COLOR_BGRA2YUV_I420',\n",
       " 'COLOR_BGRA2YUV_IYUV',\n",
       " 'COLOR_BGRA2YUV_UYNV',\n",
       " 'COLOR_BGRA2YUV_UYVY',\n",
       " 'COLOR_BGRA2YUV_Y422',\n",
       " 'COLOR_BGRA2YUV_YUNV',\n",
       " 'COLOR_BGRA2YUV_YUY2',\n",
       " 'COLOR_BGRA2YUV_YUYV',\n",
       " 'COLOR_BGRA2YUV_YV12',\n",
       " 'COLOR_BGRA2YUV_YVYU',\n",
       " 'COLOR_BayerBG2BGR',\n",
       " 'COLOR_BayerBG2BGRA',\n",
       " 'COLOR_BayerBG2BGR_EA',\n",
       " 'COLOR_BayerBG2BGR_VNG',\n",
       " 'COLOR_BayerBG2GRAY',\n",
       " 'COLOR_BayerBG2RGB',\n",
       " 'COLOR_BayerBG2RGBA',\n",
       " 'COLOR_BayerBG2RGB_EA',\n",
       " 'COLOR_BayerBG2RGB_VNG',\n",
       " 'COLOR_BayerBGGR2BGR',\n",
       " 'COLOR_BayerBGGR2BGRA',\n",
       " 'COLOR_BayerBGGR2BGR_EA',\n",
       " 'COLOR_BayerBGGR2BGR_VNG',\n",
       " 'COLOR_BayerBGGR2GRAY',\n",
       " 'COLOR_BayerBGGR2RGB',\n",
       " 'COLOR_BayerBGGR2RGBA',\n",
       " 'COLOR_BayerBGGR2RGB_EA',\n",
       " 'COLOR_BayerBGGR2RGB_VNG',\n",
       " 'COLOR_BayerGB2BGR',\n",
       " 'COLOR_BayerGB2BGRA',\n",
       " 'COLOR_BayerGB2BGR_EA',\n",
       " 'COLOR_BayerGB2BGR_VNG',\n",
       " 'COLOR_BayerGB2GRAY',\n",
       " 'COLOR_BayerGB2RGB',\n",
       " 'COLOR_BayerGB2RGBA',\n",
       " 'COLOR_BayerGB2RGB_EA',\n",
       " 'COLOR_BayerGB2RGB_VNG',\n",
       " 'COLOR_BayerGBRG2BGR',\n",
       " 'COLOR_BayerGBRG2BGRA',\n",
       " 'COLOR_BayerGBRG2BGR_EA',\n",
       " 'COLOR_BayerGBRG2BGR_VNG',\n",
       " 'COLOR_BayerGBRG2GRAY',\n",
       " 'COLOR_BayerGBRG2RGB',\n",
       " 'COLOR_BayerGBRG2RGBA',\n",
       " 'COLOR_BayerGBRG2RGB_EA',\n",
       " 'COLOR_BayerGBRG2RGB_VNG',\n",
       " 'COLOR_BayerGR2BGR',\n",
       " 'COLOR_BayerGR2BGRA',\n",
       " 'COLOR_BayerGR2BGR_EA',\n",
       " 'COLOR_BayerGR2BGR_VNG',\n",
       " 'COLOR_BayerGR2GRAY',\n",
       " 'COLOR_BayerGR2RGB',\n",
       " 'COLOR_BayerGR2RGBA',\n",
       " 'COLOR_BayerGR2RGB_EA',\n",
       " 'COLOR_BayerGR2RGB_VNG',\n",
       " 'COLOR_BayerGRBG2BGR',\n",
       " 'COLOR_BayerGRBG2BGRA',\n",
       " 'COLOR_BayerGRBG2BGR_EA',\n",
       " 'COLOR_BayerGRBG2BGR_VNG',\n",
       " 'COLOR_BayerGRBG2GRAY',\n",
       " 'COLOR_BayerGRBG2RGB',\n",
       " 'COLOR_BayerGRBG2RGBA',\n",
       " 'COLOR_BayerGRBG2RGB_EA',\n",
       " 'COLOR_BayerGRBG2RGB_VNG',\n",
       " 'COLOR_BayerRG2BGR',\n",
       " 'COLOR_BayerRG2BGRA',\n",
       " 'COLOR_BayerRG2BGR_EA',\n",
       " 'COLOR_BayerRG2BGR_VNG',\n",
       " 'COLOR_BayerRG2GRAY',\n",
       " 'COLOR_BayerRG2RGB',\n",
       " 'COLOR_BayerRG2RGBA',\n",
       " 'COLOR_BayerRG2RGB_EA',\n",
       " 'COLOR_BayerRG2RGB_VNG',\n",
       " 'COLOR_BayerRGGB2BGR',\n",
       " 'COLOR_BayerRGGB2BGRA',\n",
       " 'COLOR_BayerRGGB2BGR_EA',\n",
       " 'COLOR_BayerRGGB2BGR_VNG',\n",
       " 'COLOR_BayerRGGB2GRAY',\n",
       " 'COLOR_BayerRGGB2RGB',\n",
       " 'COLOR_BayerRGGB2RGBA',\n",
       " 'COLOR_BayerRGGB2RGB_EA',\n",
       " 'COLOR_BayerRGGB2RGB_VNG',\n",
       " 'COLOR_COLORCVT_MAX',\n",
       " 'COLOR_GRAY2BGR',\n",
       " 'COLOR_GRAY2BGR555',\n",
       " 'COLOR_GRAY2BGR565',\n",
       " 'COLOR_GRAY2BGRA',\n",
       " 'COLOR_GRAY2RGB',\n",
       " 'COLOR_GRAY2RGBA',\n",
       " 'COLOR_HLS2BGR',\n",
       " 'COLOR_HLS2BGR_FULL',\n",
       " 'COLOR_HLS2RGB',\n",
       " 'COLOR_HLS2RGB_FULL',\n",
       " 'COLOR_HSV2BGR',\n",
       " 'COLOR_HSV2BGR_FULL',\n",
       " 'COLOR_HSV2RGB',\n",
       " 'COLOR_HSV2RGB_FULL',\n",
       " 'COLOR_LAB2BGR',\n",
       " 'COLOR_LAB2LBGR',\n",
       " 'COLOR_LAB2LRGB',\n",
       " 'COLOR_LAB2RGB',\n",
       " 'COLOR_LBGR2LAB',\n",
       " 'COLOR_LBGR2LUV',\n",
       " 'COLOR_LBGR2Lab',\n",
       " 'COLOR_LBGR2Luv',\n",
       " 'COLOR_LRGB2LAB',\n",
       " 'COLOR_LRGB2LUV',\n",
       " 'COLOR_LRGB2Lab',\n",
       " 'COLOR_LRGB2Luv',\n",
       " 'COLOR_LUV2BGR',\n",
       " 'COLOR_LUV2LBGR',\n",
       " 'COLOR_LUV2LRGB',\n",
       " 'COLOR_LUV2RGB',\n",
       " 'COLOR_Lab2BGR',\n",
       " 'COLOR_Lab2LBGR',\n",
       " 'COLOR_Lab2LRGB',\n",
       " 'COLOR_Lab2RGB',\n",
       " 'COLOR_Luv2BGR',\n",
       " 'COLOR_Luv2LBGR',\n",
       " 'COLOR_Luv2LRGB',\n",
       " 'COLOR_Luv2RGB',\n",
       " 'COLOR_M_RGBA2RGBA',\n",
       " 'COLOR_RGB2BGR',\n",
       " 'COLOR_RGB2BGR555',\n",
       " 'COLOR_RGB2BGR565',\n",
       " 'COLOR_RGB2BGRA',\n",
       " 'COLOR_RGB2GRAY',\n",
       " 'COLOR_RGB2HLS',\n",
       " 'COLOR_RGB2HLS_FULL',\n",
       " 'COLOR_RGB2HSV',\n",
       " 'COLOR_RGB2HSV_FULL',\n",
       " 'COLOR_RGB2LAB',\n",
       " 'COLOR_RGB2LUV',\n",
       " 'COLOR_RGB2Lab',\n",
       " 'COLOR_RGB2Luv',\n",
       " 'COLOR_RGB2RGBA',\n",
       " 'COLOR_RGB2XYZ',\n",
       " 'COLOR_RGB2YCR_CB',\n",
       " 'COLOR_RGB2YCrCb',\n",
       " 'COLOR_RGB2YUV',\n",
       " 'COLOR_RGB2YUV_I420',\n",
       " 'COLOR_RGB2YUV_IYUV',\n",
       " 'COLOR_RGB2YUV_UYNV',\n",
       " 'COLOR_RGB2YUV_UYVY',\n",
       " 'COLOR_RGB2YUV_Y422',\n",
       " 'COLOR_RGB2YUV_YUNV',\n",
       " 'COLOR_RGB2YUV_YUY2',\n",
       " 'COLOR_RGB2YUV_YUYV',\n",
       " 'COLOR_RGB2YUV_YV12',\n",
       " 'COLOR_RGB2YUV_YVYU',\n",
       " 'COLOR_RGBA2BGR',\n",
       " 'COLOR_RGBA2BGR555',\n",
       " 'COLOR_RGBA2BGR565',\n",
       " 'COLOR_RGBA2BGRA',\n",
       " 'COLOR_RGBA2GRAY',\n",
       " 'COLOR_RGBA2M_RGBA',\n",
       " 'COLOR_RGBA2RGB',\n",
       " 'COLOR_RGBA2YUV_I420',\n",
       " 'COLOR_RGBA2YUV_IYUV',\n",
       " 'COLOR_RGBA2YUV_UYNV',\n",
       " 'COLOR_RGBA2YUV_UYVY',\n",
       " 'COLOR_RGBA2YUV_Y422',\n",
       " 'COLOR_RGBA2YUV_YUNV',\n",
       " 'COLOR_RGBA2YUV_YUY2',\n",
       " 'COLOR_RGBA2YUV_YUYV',\n",
       " 'COLOR_RGBA2YUV_YV12',\n",
       " 'COLOR_RGBA2YUV_YVYU',\n",
       " 'COLOR_RGBA2mRGBA',\n",
       " 'COLOR_XYZ2BGR',\n",
       " 'COLOR_XYZ2RGB',\n",
       " 'COLOR_YCR_CB2BGR',\n",
       " 'COLOR_YCR_CB2RGB',\n",
       " 'COLOR_YCrCb2BGR',\n",
       " 'COLOR_YCrCb2RGB',\n",
       " 'COLOR_YUV2BGR',\n",
       " 'COLOR_YUV2BGRA_I420',\n",
       " 'COLOR_YUV2BGRA_IYUV',\n",
       " 'COLOR_YUV2BGRA_NV12',\n",
       " 'COLOR_YUV2BGRA_NV21',\n",
       " 'COLOR_YUV2BGRA_UYNV',\n",
       " 'COLOR_YUV2BGRA_UYVY',\n",
       " 'COLOR_YUV2BGRA_Y422',\n",
       " 'COLOR_YUV2BGRA_YUNV',\n",
       " 'COLOR_YUV2BGRA_YUY2',\n",
       " 'COLOR_YUV2BGRA_YUYV',\n",
       " 'COLOR_YUV2BGRA_YV12',\n",
       " 'COLOR_YUV2BGRA_YVYU',\n",
       " 'COLOR_YUV2BGR_I420',\n",
       " 'COLOR_YUV2BGR_IYUV',\n",
       " 'COLOR_YUV2BGR_NV12',\n",
       " 'COLOR_YUV2BGR_NV21',\n",
       " 'COLOR_YUV2BGR_UYNV',\n",
       " 'COLOR_YUV2BGR_UYVY',\n",
       " 'COLOR_YUV2BGR_Y422',\n",
       " 'COLOR_YUV2BGR_YUNV',\n",
       " 'COLOR_YUV2BGR_YUY2',\n",
       " 'COLOR_YUV2BGR_YUYV',\n",
       " 'COLOR_YUV2BGR_YV12',\n",
       " 'COLOR_YUV2BGR_YVYU',\n",
       " 'COLOR_YUV2GRAY_420',\n",
       " 'COLOR_YUV2GRAY_I420',\n",
       " 'COLOR_YUV2GRAY_IYUV',\n",
       " 'COLOR_YUV2GRAY_NV12',\n",
       " 'COLOR_YUV2GRAY_NV21',\n",
       " 'COLOR_YUV2GRAY_UYNV',\n",
       " 'COLOR_YUV2GRAY_UYVY',\n",
       " 'COLOR_YUV2GRAY_Y422',\n",
       " 'COLOR_YUV2GRAY_YUNV',\n",
       " 'COLOR_YUV2GRAY_YUY2',\n",
       " 'COLOR_YUV2GRAY_YUYV',\n",
       " 'COLOR_YUV2GRAY_YV12',\n",
       " 'COLOR_YUV2GRAY_YVYU',\n",
       " 'COLOR_YUV2RGB',\n",
       " 'COLOR_YUV2RGBA_I420',\n",
       " 'COLOR_YUV2RGBA_IYUV',\n",
       " 'COLOR_YUV2RGBA_NV12',\n",
       " 'COLOR_YUV2RGBA_NV21',\n",
       " 'COLOR_YUV2RGBA_UYNV',\n",
       " 'COLOR_YUV2RGBA_UYVY',\n",
       " 'COLOR_YUV2RGBA_Y422',\n",
       " 'COLOR_YUV2RGBA_YUNV',\n",
       " 'COLOR_YUV2RGBA_YUY2',\n",
       " 'COLOR_YUV2RGBA_YUYV',\n",
       " 'COLOR_YUV2RGBA_YV12',\n",
       " 'COLOR_YUV2RGBA_YVYU',\n",
       " 'COLOR_YUV2RGB_I420',\n",
       " 'COLOR_YUV2RGB_IYUV',\n",
       " 'COLOR_YUV2RGB_NV12',\n",
       " 'COLOR_YUV2RGB_NV21',\n",
       " 'COLOR_YUV2RGB_UYNV',\n",
       " 'COLOR_YUV2RGB_UYVY',\n",
       " 'COLOR_YUV2RGB_Y422',\n",
       " 'COLOR_YUV2RGB_YUNV',\n",
       " 'COLOR_YUV2RGB_YUY2',\n",
       " 'COLOR_YUV2RGB_YUYV',\n",
       " 'COLOR_YUV2RGB_YV12',\n",
       " 'COLOR_YUV2RGB_YVYU',\n",
       " 'COLOR_YUV420P2BGR',\n",
       " 'COLOR_YUV420P2BGRA',\n",
       " 'COLOR_YUV420P2GRAY',\n",
       " 'COLOR_YUV420P2RGB',\n",
       " 'COLOR_YUV420P2RGBA',\n",
       " 'COLOR_YUV420SP2BGR',\n",
       " 'COLOR_YUV420SP2BGRA',\n",
       " 'COLOR_YUV420SP2GRAY',\n",
       " 'COLOR_YUV420SP2RGB',\n",
       " 'COLOR_YUV420SP2RGBA',\n",
       " 'COLOR_YUV420p2BGR',\n",
       " 'COLOR_YUV420p2BGRA',\n",
       " 'COLOR_YUV420p2GRAY',\n",
       " 'COLOR_YUV420p2RGB',\n",
       " 'COLOR_YUV420p2RGBA',\n",
       " 'COLOR_YUV420sp2BGR',\n",
       " 'COLOR_YUV420sp2BGRA',\n",
       " 'COLOR_YUV420sp2GRAY',\n",
       " 'COLOR_YUV420sp2RGB',\n",
       " 'COLOR_YUV420sp2RGBA',\n",
       " 'COLOR_mRGBA2RGBA',\n",
       " 'CONTOURS_MATCH_I1',\n",
       " 'CONTOURS_MATCH_I2',\n",
       " 'CONTOURS_MATCH_I3',\n",
       " 'COVAR_COLS',\n",
       " 'COVAR_NORMAL',\n",
       " 'COVAR_ROWS',\n",
       " 'COVAR_SCALE',\n",
       " 'COVAR_SCRAMBLED',\n",
       " 'COVAR_USE_AVG',\n",
       " 'COV_POLISHER',\n",
       " 'CV_16F',\n",
       " 'CV_16FC',\n",
       " 'CV_16FC1',\n",
       " 'CV_16FC2',\n",
       " 'CV_16FC3',\n",
       " 'CV_16FC4',\n",
       " 'CV_16S',\n",
       " 'CV_16SC',\n",
       " 'CV_16SC1',\n",
       " 'CV_16SC2',\n",
       " 'CV_16SC3',\n",
       " 'CV_16SC4',\n",
       " 'CV_16U',\n",
       " 'CV_16UC',\n",
       " 'CV_16UC1',\n",
       " 'CV_16UC2',\n",
       " 'CV_16UC3',\n",
       " 'CV_16UC4',\n",
       " 'CV_32F',\n",
       " 'CV_32FC',\n",
       " 'CV_32FC1',\n",
       " 'CV_32FC2',\n",
       " 'CV_32FC3',\n",
       " 'CV_32FC4',\n",
       " 'CV_32S',\n",
       " 'CV_32SC',\n",
       " 'CV_32SC1',\n",
       " 'CV_32SC2',\n",
       " 'CV_32SC3',\n",
       " 'CV_32SC4',\n",
       " 'CV_64F',\n",
       " 'CV_64FC',\n",
       " 'CV_64FC1',\n",
       " 'CV_64FC2',\n",
       " 'CV_64FC3',\n",
       " 'CV_64FC4',\n",
       " 'CV_8S',\n",
       " 'CV_8SC',\n",
       " 'CV_8SC1',\n",
       " 'CV_8SC2',\n",
       " 'CV_8SC3',\n",
       " 'CV_8SC4',\n",
       " 'CV_8U',\n",
       " 'CV_8UC',\n",
       " 'CV_8UC1',\n",
       " 'CV_8UC2',\n",
       " 'CV_8UC3',\n",
       " 'CV_8UC4',\n",
       " 'CV_MAKETYPE',\n",
       " 'CalibrateCRF',\n",
       " 'CalibrateDebevec',\n",
       " 'CalibrateRobertson',\n",
       " 'CamShift',\n",
       " 'Canny',\n",
       " 'CascadeClassifier',\n",
       " 'CascadeClassifier_convert',\n",
       " 'CirclesGridFinderParameters',\n",
       " 'CirclesGridFinderParameters_ASYMMETRIC_GRID',\n",
       " 'CirclesGridFinderParameters_SYMMETRIC_GRID',\n",
       " 'DCT_INVERSE',\n",
       " 'DCT_ROWS',\n",
       " 'DECOMP_CHOLESKY',\n",
       " 'DECOMP_EIG',\n",
       " 'DECOMP_LU',\n",
       " 'DECOMP_NORMAL',\n",
       " 'DECOMP_QR',\n",
       " 'DECOMP_SVD',\n",
       " 'DESCRIPTOR_MATCHER_BRUTEFORCE',\n",
       " 'DESCRIPTOR_MATCHER_BRUTEFORCE_HAMMING',\n",
       " 'DESCRIPTOR_MATCHER_BRUTEFORCE_HAMMINGLUT',\n",
       " 'DESCRIPTOR_MATCHER_BRUTEFORCE_L1',\n",
       " 'DESCRIPTOR_MATCHER_BRUTEFORCE_SL2',\n",
       " 'DESCRIPTOR_MATCHER_FLANNBASED',\n",
       " 'DFT_COMPLEX_INPUT',\n",
       " 'DFT_COMPLEX_OUTPUT',\n",
       " 'DFT_INVERSE',\n",
       " 'DFT_REAL_OUTPUT',\n",
       " 'DFT_ROWS',\n",
       " 'DFT_SCALE',\n",
       " 'DISOPTICAL_FLOW_PRESET_FAST',\n",
       " 'DISOPTICAL_FLOW_PRESET_MEDIUM',\n",
       " 'DISOPTICAL_FLOW_PRESET_ULTRAFAST',\n",
       " 'DISOpticalFlow',\n",
       " 'DISOpticalFlow_PRESET_FAST',\n",
       " 'DISOpticalFlow_PRESET_MEDIUM',\n",
       " 'DISOpticalFlow_PRESET_ULTRAFAST',\n",
       " 'DISOpticalFlow_create',\n",
       " 'DIST_C',\n",
       " 'DIST_FAIR',\n",
       " 'DIST_HUBER',\n",
       " 'DIST_L1',\n",
       " 'DIST_L12',\n",
       " 'DIST_L2',\n",
       " 'DIST_LABEL_CCOMP',\n",
       " ...]"
      ]
     },
     "execution_count": 20,
     "metadata": {},
     "output_type": "execute_result"
    }
   ],
   "source": [
    "dir(cv2)"
   ]
  },
  {
   "cell_type": "code",
   "execution_count": 21,
   "id": "61782a34-13cd-490c-a808-784bbe8e9255",
   "metadata": {},
   "outputs": [
    {
     "data": {
      "text/plain": [
       "'4.10.0'"
      ]
     },
     "execution_count": 21,
     "metadata": {},
     "output_type": "execute_result"
    }
   ],
   "source": [
    "cv2.__version__"
   ]
  },
  {
   "cell_type": "code",
   "execution_count": null,
   "id": "362bd8e4-ecf2-449b-ab60-fbea85344ad7",
   "metadata": {},
   "outputs": [],
   "source": []
  }
 ],
 "metadata": {
  "kernelspec": {
   "display_name": "Python 3 (ipykernel)",
   "language": "python",
   "name": "python3"
  },
  "language_info": {
   "codemirror_mode": {
    "name": "ipython",
    "version": 3
   },
   "file_extension": ".py",
   "mimetype": "text/x-python",
   "name": "python",
   "nbconvert_exporter": "python",
   "pygments_lexer": "ipython3",
   "version": "3.12.4"
  }
 },
 "nbformat": 4,
 "nbformat_minor": 5
}
