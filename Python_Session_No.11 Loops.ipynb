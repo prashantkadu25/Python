{
 "cells": [
  {
   "cell_type": "markdown",
   "id": "3debc177-a22e-4355-ad8c-6c3ba84e3bb1",
   "metadata": {},
   "source": [
    "**Loops**"
   ]
  },
  {
   "cell_type": "markdown",
   "id": "4857bba0-ee35-419d-8d1b-addfe01da3cf",
   "metadata": {},
   "source": [
    "- iterating code\n",
    "\n",
    "- repeating code\n",
    "\n",
    "    - for loop\n",
    "\n",
    "    - while loop\n",
    "  "
   ]
  },
  {
   "cell_type": "code",
   "execution_count": null,
   "id": "4bbb9450-3d45-4831-9060-29fc878d7f9a",
   "metadata": {},
   "outputs": [],
   "source": [
    "- we want to calculate a tax of emloyee\n",
    "\n",
    "imcome = 10000\n",
    "tax = 10\n"
   ]
  },
  {
   "cell_type": "markdown",
   "id": "a8c921fd-eabc-415a-9533-a378b42d3a69",
   "metadata": {},
   "source": [
    "- intialization (intial point to start the loop)\n",
    "\n",
    "- increment/decrement\n",
    "\n",
    "- condition to stop the loop\n",
    "  "
   ]
  },
  {
   "cell_type": "markdown",
   "id": "bdae7479-18b8-4020-bef1-13faa2935ba7",
   "metadata": {},
   "source": [
    "**For loop**\n"
   ]
  },
  {
   "cell_type": "code",
   "execution_count": null,
   "id": "a2e86067-e7f9-4af5-b5ef-97687baf0919",
   "metadata": {},
   "outputs": [],
   "source": [
    "for <variable> in range (<value>):\n",
    "    <write a code here>"
   ]
  },
  {
   "cell_type": "markdown",
   "id": "95c425c4-c1ec-439e-b99d-877621449d3f",
   "metadata": {},
   "source": [
    "**Case**\n",
    "\n",
    "- **range(stop)**\n",
    "\n",
    "- start value always = 0       #intialize\n",
    "\n",
    "- step size = +1               # increment\n",
    "\n",
    "- last value = stop -1         # stop\n",
    "\n",
    "- variable name can be anything\n",
    "\n",
    "- range(3)\n",
    "    - start value = 0\n",
    "    - incerment = 1\n",
    "    - last = stop-1\n",
    "    -        = 3-1 = 2"
   ]
  },
  {
   "cell_type": "code",
   "execution_count": 6,
   "id": "6b470ffd-975b-40cd-816f-82078a4dfa95",
   "metadata": {},
   "outputs": [
    {
     "name": "stdout",
     "output_type": "stream",
     "text": [
      "0\n",
      "1\n",
      "2\n"
     ]
    }
   ],
   "source": [
    "for i in range(3): \n",
    "    print(i)"
   ]
  },
  {
   "cell_type": "code",
   "execution_count": 10,
   "id": "f5280176-9a28-4148-9015-07f08fca98e3",
   "metadata": {},
   "outputs": [
    {
     "name": "stdout",
     "output_type": "stream",
     "text": [
      "0 1 2 3 4 5 "
     ]
    }
   ],
   "source": [
    "for i in range(6):\n",
    "    print(i, end=\" \")"
   ]
  },
  {
   "cell_type": "code",
   "execution_count": 13,
   "id": "42e8220f-25c4-43c3-a4e3-378964bf1c67",
   "metadata": {},
   "outputs": [
    {
     "name": "stdout",
     "output_type": "stream",
     "text": [
      "0 1 2 3 4 5 6 7 8 9 10 11 12 13 14 15 16 17 18 19 20 "
     ]
    }
   ],
   "source": [
    "for i in range(21):\n",
    "    print(i, end=\" \")"
   ]
  },
  {
   "cell_type": "code",
   "execution_count": 20,
   "id": "27af1cde-fe25-431d-adca-f4220db84388",
   "metadata": {},
   "outputs": [],
   "source": [
    "for i in range(-11,-21,2):\n",
    "    print(i)"
   ]
  },
  {
   "cell_type": "code",
   "execution_count": null,
   "id": "60af0fba-59cb-4578-9802-d6d770dccfb5",
   "metadata": {},
   "outputs": [],
   "source": [
    "# Example:- range(3)\n",
    "# start value = 0\n",
    "\n",
    "# increment by = 1\n",
    "\n",
    "# last value = stop - 1 = 3-1 = 2"
   ]
  },
  {
   "cell_type": "code",
   "execution_count": 7,
   "id": "2bc0ed10-f649-42e2-b114-ca435ccc1522",
   "metadata": {},
   "outputs": [
    {
     "name": "stdout",
     "output_type": "stream",
     "text": [
      "0\n",
      "1\n",
      "2\n",
      "3\n",
      "4\n"
     ]
    }
   ],
   "source": [
    "for i in range(5):\n",
    "    print(i)\n",
    "\n",
    "# Example:- range(5)\n",
    "\n",
    "# start value = 0\n",
    "# increment by = 1\n",
    "# last value = stop - 1 = 5-1 = 4"
   ]
  },
  {
   "cell_type": "markdown",
   "id": "14bfc864-83ad-46d6-92ef-3076ac5bb311",
   "metadata": {},
   "source": [
    " - you dont need to use variable always i you can give any name "
   ]
  },
  {
   "cell_type": "code",
   "execution_count": 8,
   "id": "03f596ac-87b2-4ea6-9791-d830bffa5168",
   "metadata": {},
   "outputs": [
    {
     "name": "stdout",
     "output_type": "stream",
     "text": [
      "0 1 2 3 4 "
     ]
    }
   ],
   "source": [
    "for i in range(5):\n",
    "    print(i, end=\" \")\n"
   ]
  },
  {
   "cell_type": "markdown",
   "id": "f75fad09-3804-4cd6-b11f-209529bd1b28",
   "metadata": {},
   "source": [
    "**Case-2**\n",
    "- range (start,stop)\n",
    "- step = 1\n",
    "- last = stop-1\n",
    "- range(2,7)\n",
    "    - start =2\n",
    "    - step = 1\n",
    "    - stop = last-1 = 7-1 = 6"
   ]
  },
  {
   "cell_type": "code",
   "execution_count": 12,
   "id": "01ef3125-792b-4211-b9b7-1199f9ed49b6",
   "metadata": {},
   "outputs": [
    {
     "name": "stdout",
     "output_type": "stream",
     "text": [
      "2 3 4 5 6 "
     ]
    }
   ],
   "source": [
    "for i in range(2,7):\n",
    "    print(i, end=\" \")"
   ]
  },
  {
   "cell_type": "code",
   "execution_count": 1,
   "id": "3e789b9c-6e81-432a-9a42-b35cd86cc09a",
   "metadata": {},
   "outputs": [
    {
     "name": "stdout",
     "output_type": "stream",
     "text": [
      "the square of 1 is 1\n",
      "the square of 2 is 4\n",
      "the square of 3 is 9\n",
      "the square of 4 is 16\n",
      "the square of 5 is 25\n",
      "the square of 6 is 36\n",
      "the square of 7 is 49\n",
      "the square of 8 is 64\n",
      "the square of 9 is 81\n",
      "the square of 10 is 100\n"
     ]
    }
   ],
   "source": [
    "# wap\n",
    "\n",
    "for i in range(1,11):\n",
    "    print(f\"the square of {i} is {i*i}\")"
   ]
  },
  {
   "cell_type": "code",
   "execution_count": null,
   "id": "0d01cf3e-1758-49b5-995c-c38ed3fd4e00",
   "metadata": {},
   "outputs": [],
   "source": [
    "a = eval(input(\"enter a number\"))"
   ]
  },
  {
   "cell_type": "code",
   "execution_count": 17,
   "id": "87eaa636-e890-4969-afc8-e28b2acf551a",
   "metadata": {},
   "outputs": [],
   "source": [
    "#wap"
   ]
  },
  {
   "cell_type": "code",
   "execution_count": 8,
   "id": "f4ddf88e-e502-454c-82c2-5bcb3dc0dd76",
   "metadata": {},
   "outputs": [
    {
     "name": "stdin",
     "output_type": "stream",
     "text": [
      "enter a number 5\n"
     ]
    },
    {
     "name": "stdout",
     "output_type": "stream",
     "text": [
      "the square of 5 is 25\n"
     ]
    },
    {
     "name": "stdin",
     "output_type": "stream",
     "text": [
      "enter a number 6\n"
     ]
    },
    {
     "name": "stdout",
     "output_type": "stream",
     "text": [
      "the square of 6 is 36\n"
     ]
    },
    {
     "name": "stdin",
     "output_type": "stream",
     "text": [
      "enter a number 7\n"
     ]
    },
    {
     "name": "stdout",
     "output_type": "stream",
     "text": [
      "the square of 7 is 49\n"
     ]
    },
    {
     "name": "stdin",
     "output_type": "stream",
     "text": [
      "enter a number 8\n"
     ]
    },
    {
     "name": "stdout",
     "output_type": "stream",
     "text": [
      "the square of 8 is 64\n"
     ]
    },
    {
     "name": "stdin",
     "output_type": "stream",
     "text": [
      "enter a number 9\n"
     ]
    },
    {
     "name": "stdout",
     "output_type": "stream",
     "text": [
      "the square of 9 is 81\n"
     ]
    }
   ],
   "source": [
    "for i in range (1,6):\n",
    "    num = eval(input(\"enter a number\"))\n",
    "    print(f\"the square of {num} is {num*num}\")"
   ]
  },
  {
   "cell_type": "code",
   "execution_count": 20,
   "id": "74c3f57d-7572-4ddc-b280-4190e172b443",
   "metadata": {},
   "outputs": [
    {
     "name": "stdin",
     "output_type": "stream",
     "text": [
      "enter a number 6\n"
     ]
    },
    {
     "name": "stdout",
     "output_type": "stream",
     "text": [
      "the square of 6 is 36\n"
     ]
    },
    {
     "name": "stdin",
     "output_type": "stream",
     "text": [
      "enter a number 8\n"
     ]
    },
    {
     "name": "stdout",
     "output_type": "stream",
     "text": [
      "the square of 8 is 64\n"
     ]
    },
    {
     "name": "stdin",
     "output_type": "stream",
     "text": [
      "enter a number 9\n"
     ]
    },
    {
     "name": "stdout",
     "output_type": "stream",
     "text": [
      "the square of 9 is 81\n"
     ]
    }
   ],
   "source": [
    "for i in range (21,24):\n",
    "    num = eval(input(\"enter a number\"))\n",
    "    print(f\"the square of {num} is {num*num}\")"
   ]
  },
  {
   "cell_type": "code",
   "execution_count": 3,
   "id": "6efafb80-fcbc-477d-8a7d-8fb0616c5c2a",
   "metadata": {},
   "outputs": [],
   "source": [
    "import random"
   ]
  },
  {
   "cell_type": "code",
   "execution_count": 7,
   "id": "bf501e24-b987-466f-ad51-9f5dc0c3bd57",
   "metadata": {},
   "outputs": [
    {
     "name": "stdout",
     "output_type": "stream",
     "text": [
      "the square of 9 is  81\n",
      "1\n",
      "the square of 14 is  196\n",
      "2\n",
      "the square of 3 is  9\n",
      "3\n"
     ]
    }
   ],
   "source": [
    "for i in range (1,4):\n",
    "    num = random.randint(1,20)\n",
    "    print(f\"the square of {num} is  {num*num}\")\n",
    "    print(i)"
   ]
  },
  {
   "cell_type": "markdown",
   "id": "782da096-cc9f-498e-868c-7ebdf59d99b3",
   "metadata": {},
   "source": [
    "**3 ways to write is:-**\n",
    " - hard code \n",
    " - input by user\n",
    " - random by method"
   ]
  },
  {
   "cell_type": "code",
   "execution_count": 23,
   "id": "d7f664f2-74e6-4e43-90c5-8a022b3e5ae8",
   "metadata": {},
   "outputs": [
    {
     "name": "stdin",
     "output_type": "stream",
     "text": [
      "enter a number 1\n"
     ]
    },
    {
     "name": "stdout",
     "output_type": "stream",
     "text": [
      "the square of 1 is 1\n"
     ]
    },
    {
     "name": "stdin",
     "output_type": "stream",
     "text": [
      "enter a number 2\n"
     ]
    },
    {
     "name": "stdout",
     "output_type": "stream",
     "text": [
      "the square of 2 is 4\n"
     ]
    },
    {
     "name": "stdin",
     "output_type": "stream",
     "text": [
      "enter a number 3\n"
     ]
    },
    {
     "name": "stdout",
     "output_type": "stream",
     "text": [
      "the square of 3 is 9\n"
     ]
    },
    {
     "name": "stdin",
     "output_type": "stream",
     "text": [
      "enter a number 4\n"
     ]
    },
    {
     "name": "stdout",
     "output_type": "stream",
     "text": [
      "the square of 4 is 16\n"
     ]
    },
    {
     "name": "stdin",
     "output_type": "stream",
     "text": [
      "enter a number 5\n"
     ]
    },
    {
     "name": "stdout",
     "output_type": "stream",
     "text": [
      "the square of 5 is 25\n"
     ]
    },
    {
     "name": "stdin",
     "output_type": "stream",
     "text": [
      "enter a number 5\n"
     ]
    },
    {
     "name": "stdout",
     "output_type": "stream",
     "text": [
      "the square of 5 is 25\n"
     ]
    },
    {
     "name": "stdin",
     "output_type": "stream",
     "text": [
      "enter a number 5\n"
     ]
    },
    {
     "name": "stdout",
     "output_type": "stream",
     "text": [
      "the square of 5 is 25\n"
     ]
    },
    {
     "name": "stdin",
     "output_type": "stream",
     "text": [
      "enter a number 5\n"
     ]
    },
    {
     "name": "stdout",
     "output_type": "stream",
     "text": [
      "the square of 5 is 25\n",
      "the square of 9 is 81\n",
      "the square of 9 is 81\n",
      "the square of 6 is 36\n"
     ]
    }
   ],
   "source": [
    "#Ex 1\n",
    "\n",
    "for i in range (1,6):\n",
    "    num = eval(input(\"enter a number\"))\n",
    "    print(f\"the square of {num} is {num*num}\")\n",
    "\n",
    "##################################################\n",
    "\n",
    "#Ex 2\n",
    "for i in range (21,24):\n",
    "    num = eval(input(\"enter a number\"))\n",
    "    print(f\"the square of {num} is {num*num}\")\n",
    "\n",
    "##################################################\n",
    "\n",
    "#Ex 3\n",
    "\n",
    "for i in range (21,24):\n",
    "    num = random.randint(1,20)\n",
    "    print(f\"the square of {num} is {num*num}\")"
   ]
  },
  {
   "cell_type": "markdown",
   "id": "a30928ae-2968-4597-86d4-e9e0cd381fba",
   "metadata": {},
   "source": [
    "**Case-3:-range(start,stop, step)**\n",
    "\n",
    "- start value = start\n",
    "- step = positive means + sign\n",
    "    - gap = positive step\n",
    "    - last = stop-1 \n",
    "- step = negative means - sign\n",
    "    - gap = negative step size\n",
    "    - last = stop+1 "
   ]
  },
  {
   "cell_type": "code",
   "execution_count": null,
   "id": "056591ff-f818-4e2c-a9e1-3619a0007aa6",
   "metadata": {},
   "outputs": [],
   "source": [
    "range(2,20,2)\n",
    "range(start,stop,step)\n",
    "\n",
    "start = 2\n",
    "step = 2 positive direction\n",
    "stop = 20-1 = 19\n",
    "\n",
    "2===== with gap- 2====================19\n",
    "output => 2 4 6 8 10 12 14 18 "
   ]
  },
  {
   "cell_type": "code",
   "execution_count": null,
   "id": "97c9a6cd-bf57-4d90-ade1-c02aa71486be",
   "metadata": {},
   "outputs": [],
   "source": [
    "range(-2,-20,-2)\n",
    "ramge(start,stop,step)\n",
    "\n",
    "start = -2\n",
    "stop = -2 In negative direction \n",
    "step = -20+1 =-19\n",
    "\n",
    "-2===== with gap-2====================-19\n",
    "output => -2 -4 -6 -8 -10 -12 -14 -18 "
   ]
  },
  {
   "cell_type": "code",
   "execution_count": 25,
   "id": "256b7d23-7c80-4d28-964d-c5ec8609892b",
   "metadata": {},
   "outputs": [
    {
     "name": "stdout",
     "output_type": "stream",
     "text": [
      "1 2 3 4 5 "
     ]
    }
   ],
   "source": [
    "for i in range(1,6,1):\n",
    "    print(i, end= \" \")"
   ]
  },
  {
   "cell_type": "code",
   "execution_count": 27,
   "id": "05fe776e-8af2-4321-83f7-c888321417f7",
   "metadata": {},
   "outputs": [
    {
     "name": "stdout",
     "output_type": "stream",
     "text": [
      "-2 -4 -6 -8 -10 -12 -14 -16 -18 "
     ]
    }
   ],
   "source": [
    "for i in range(-2,-20,-2):\n",
    "    print(i, end= \" \")"
   ]
  },
  {
   "cell_type": "code",
   "execution_count": 28,
   "id": "c94e4c2e-f079-4ed8-adc1-7873430b3a44",
   "metadata": {},
   "outputs": [
    {
     "name": "stdout",
     "output_type": "stream",
     "text": [
      "2 0 -2 -4 -6 -8 -10 -12 -14 -16 -18 "
     ]
    }
   ],
   "source": [
    "for i in range(2,-20,-2):\n",
    "    print(i, end= \" \")"
   ]
  },
  {
   "cell_type": "code",
   "execution_count": null,
   "id": "34451a95-e0cf-48ec-9e47-b8df5d023c56",
   "metadata": {},
   "outputs": [],
   "source": [
    "for i in range(2,-20,2):\n",
    "    print(i, end= \" \")\n",
    "\n",
    "# Not possible \n",
    "# step positive direction\n",
    "# last value is negative direction"
   ]
  },
  {
   "cell_type": "code",
   "execution_count": 29,
   "id": "3cbe1add-3e74-41ff-8365-53463ceafa74",
   "metadata": {},
   "outputs": [
    {
     "name": "stdout",
     "output_type": "stream",
     "text": [
      "3 6 9 12 "
     ]
    }
   ],
   "source": [
    "for i in range(3,15,3):\n",
    "    print(i, end= \" \")"
   ]
  },
  {
   "cell_type": "code",
   "execution_count": 30,
   "id": "6fedf2c9-de2f-49fe-b83c-579567a59d8b",
   "metadata": {},
   "outputs": [],
   "source": [
    "for i in range(3,15,-3):\n",
    "    print(i, end= \" \")"
   ]
  },
  {
   "cell_type": "code",
   "execution_count": 31,
   "id": "cee7690d-b38e-44fe-9e85-0c5fcd772aac",
   "metadata": {},
   "outputs": [],
   "source": [
    "for i in range(3,-15,3):\n",
    "    print(i, end= \" \")"
   ]
  },
  {
   "cell_type": "code",
   "execution_count": 1,
   "id": "3b7d3e6b-624b-4a10-bcda-00e50f0f497e",
   "metadata": {},
   "outputs": [
    {
     "name": "stdout",
     "output_type": "stream",
     "text": [
      "-3 0 3 6 9 12 "
     ]
    }
   ],
   "source": [
    "for i in range(-3,15,3):\n",
    "    print(i, end= \" \")"
   ]
  },
  {
   "cell_type": "code",
   "execution_count": null,
   "id": "d41f6e2a-a4d5-426b-8a29-7a5d8b23fbe4",
   "metadata": {},
   "outputs": [],
   "source": []
  },
  {
   "cell_type": "code",
   "execution_count": null,
   "id": "be38399e-8d1f-4cb1-becf-764f12637251",
   "metadata": {},
   "outputs": [],
   "source": [
    "**Case-4**-range()"
   ]
  },
  {
   "cell_type": "code",
   "execution_count": 28,
   "id": "0a0c134c-10d6-4cf0-a910-6a6511dc9858",
   "metadata": {},
   "outputs": [
    {
     "name": "stdout",
     "output_type": "stream",
     "text": [
      "-11\n",
      "-9\n",
      "-7\n",
      "-5\n",
      "-3\n",
      "-1\n",
      "1\n",
      "3\n",
      "5\n",
      "7\n",
      "9\n"
     ]
    }
   ],
   "source": [
    "for i in range (-11,11,2):\n",
    "    print(i)"
   ]
  },
  {
   "cell_type": "markdown",
   "id": "96b42d1c-d345-4b12-8c4d-772178c0a2a7",
   "metadata": {},
   "source": [
    "Que:-"
   ]
  },
  {
   "cell_type": "code",
   "execution_count": 5,
   "id": "c5cec824-8e10-4b89-b22e-9431744e818e",
   "metadata": {},
   "outputs": [
    {
     "name": "stdin",
     "output_type": "stream",
     "text": [
      "Enter a number 4\n"
     ]
    },
    {
     "name": "stdout",
     "output_type": "stream",
     "text": [
      "the enter 4 is even\n"
     ]
    },
    {
     "name": "stdin",
     "output_type": "stream",
     "text": [
      "Enter a number 5\n"
     ]
    },
    {
     "name": "stdout",
     "output_type": "stream",
     "text": [
      "the enter 5 is odd\n"
     ]
    },
    {
     "name": "stdin",
     "output_type": "stream",
     "text": [
      "Enter a number 6\n"
     ]
    },
    {
     "name": "stdout",
     "output_type": "stream",
     "text": [
      "the enter 6 is even\n"
     ]
    },
    {
     "name": "stdin",
     "output_type": "stream",
     "text": [
      "Enter a number 7\n"
     ]
    },
    {
     "name": "stdout",
     "output_type": "stream",
     "text": [
      "the enter 7 is odd\n"
     ]
    },
    {
     "name": "stdin",
     "output_type": "stream",
     "text": [
      "Enter a number 9\n"
     ]
    },
    {
     "name": "stdout",
     "output_type": "stream",
     "text": [
      "the enter 9 is odd\n"
     ]
    },
    {
     "name": "stdin",
     "output_type": "stream",
     "text": [
      "Enter a number 10\n"
     ]
    },
    {
     "name": "stdout",
     "output_type": "stream",
     "text": [
      "the enter 10 is even\n"
     ]
    }
   ],
   "source": [
    "\n",
    "for i in range(6):\n",
    "    num = eval(input(\"Enter a number\"))\n",
    "    if num%2==0:\n",
    "        print(f\"the enter {num} is even\")\n",
    "    else:\n",
    "        print(f\"the enter {num} is odd\")"
   ]
  },
  {
   "cell_type": "markdown",
   "id": "fb5291ae-f78d-4d2c-8c76-2670407af268",
   "metadata": {},
   "source": [
    "Que:-"
   ]
  },
  {
   "cell_type": "code",
   "execution_count": 7,
   "id": "75e32540-d706-42a0-b06d-b95736228899",
   "metadata": {},
   "outputs": [
    {
     "name": "stdout",
     "output_type": "stream",
     "text": [
      "1*7=7 \n",
      "2*7=14 \n",
      "3*7=21 \n",
      "4*7=28 \n",
      "5*7=35 \n",
      "6*7=42 \n",
      "7*7=49 \n",
      "8*7=56 \n",
      "9*7=63 \n",
      "10*7=70 \n"
     ]
    }
   ],
   "source": [
    "for i in range(1,11):\n",
    "    num= i*7\n",
    "    print(f\"{i}*{7}={num} \")\n",
    "    "
   ]
  },
  {
   "cell_type": "markdown",
   "id": "7f5acb7f-0d6d-41c2-8b05-4a3b48ae4574",
   "metadata": {},
   "source": [
    "QUE:-"
   ]
  },
  {
   "cell_type": "code",
   "execution_count": 11,
   "id": "6c0f3e1e-0bfa-499f-99d7-55fbfe9092f7",
   "metadata": {},
   "outputs": [
    {
     "name": "stdin",
     "output_type": "stream",
     "text": [
      "enter which divisor you want 10\n"
     ]
    },
    {
     "name": "stdout",
     "output_type": "stream",
     "text": [
      "1 is a divisor for 10\n",
      "2 is a divisor for 10\n",
      "5 is a divisor for 10\n",
      "10 is a divisor for 10\n"
     ]
    }
   ],
   "source": [
    "num = eval(input(\"enter which divisor you want\")) \n",
    "for i in range(1,num+1):\n",
    "    \n",
    "    if num%i==0:\n",
    "        print(f'{i} is a divisor for {num}')"
   ]
  },
  {
   "cell_type": "code",
   "execution_count": 12,
   "id": "eb33671b-c369-4655-9ff3-5139aa7de917",
   "metadata": {},
   "outputs": [],
   "source": [
    "def divisors():\n",
    "    num = eval(input(\"enter which divisor you want\")) \n",
    "    for i in range(1,num+1):\n",
    "    \n",
    "        if num%i==0:\n",
    "            print(f'{i} is a divisor for {num}')"
   ]
  },
  {
   "cell_type": "code",
   "execution_count": 13,
   "id": "828f221f-f37e-46f3-800c-e8b9e85e8e0d",
   "metadata": {},
   "outputs": [
    {
     "name": "stdin",
     "output_type": "stream",
     "text": [
      "enter which divisor you want 70\n"
     ]
    },
    {
     "name": "stdout",
     "output_type": "stream",
     "text": [
      "1 is a divisor for 70\n",
      "2 is a divisor for 70\n",
      "5 is a divisor for 70\n",
      "7 is a divisor for 70\n",
      "10 is a divisor for 70\n",
      "14 is a divisor for 70\n",
      "35 is a divisor for 70\n",
      "70 is a divisor for 70\n"
     ]
    }
   ],
   "source": [
    "divisors()"
   ]
  },
  {
   "cell_type": "code",
   "execution_count": 14,
   "id": "d2af870d-aa26-469b-8f11-564baa0417b7",
   "metadata": {},
   "outputs": [
    {
     "name": "stdout",
     "output_type": "stream",
     "text": [
      "1 is a divisor for 23\n",
      "23 is a divisor for 23\n"
     ]
    }
   ],
   "source": [
    "def divisors(num):\n",
    "    # num = eval(input(\"enter which divisor you want\")) \n",
    "    for i in range(1,num+1):\n",
    "    \n",
    "        if num%i==0:\n",
    "            print(f'{i} is a divisor for {num}')\n",
    "divisors(23)"
   ]
  },
  {
   "cell_type": "code",
   "execution_count": 20,
   "id": "1aa1b89f-48a1-4df7-8126-ab16caf25558",
   "metadata": {},
   "outputs": [
    {
     "name": "stdin",
     "output_type": "stream",
     "text": [
      "enter which divisor you want 45\n"
     ]
    },
    {
     "name": "stdout",
     "output_type": "stream",
     "text": [
      "1 is a divisor for 45\n",
      "3 is a divisor for 45\n",
      "5 is a divisor for 45\n",
      "9 is a divisor for 45\n",
      "15 is a divisor for 45\n",
      "45 is a divisor for 45\n"
     ]
    }
   ],
   "source": [
    "def divisors():\n",
    "    num = eval(input(\"enter which divisor you want\"))\n",
    "    for i in range(1,num+1):\n",
    "    \n",
    "        if num%i==0:\n",
    "            print(f'{i} is a divisor for {num}')\n",
    "    return(i)\n",
    "div = divisors()\n"
   ]
  },
  {
   "cell_type": "markdown",
   "id": "0bfc83f6-1b48-432d-b9ec-7db8c0d83d9f",
   "metadata": {},
   "source": [
    "**i** \n",
    "\n",
    "- i variable will give always last value\n",
    "\n",
    "- do not print i outside the for loop"
   ]
  },
  {
   "cell_type": "code",
   "execution_count": 29,
   "id": "52f06d41-d587-44b8-adfc-9ec997e9a97d",
   "metadata": {},
   "outputs": [
    {
     "name": "stdout",
     "output_type": "stream",
     "text": [
      "1\n",
      "3\n",
      "6\n",
      "10\n",
      "15\n",
      "21\n",
      "28\n",
      "36\n",
      "45\n",
      "55\n"
     ]
    }
   ],
   "source": [
    "summ = 0\n",
    "for i in range(1,11):\n",
    "    summ= summ+i\n",
    "    print(f\"{summ}\")"
   ]
  },
  {
   "cell_type": "markdown",
   "id": "23f08b49-67fb-4dd3-bf4d-7856dcd27bca",
   "metadata": {},
   "source": [
    "**SUmmation wrapper**\n",
    "\n",
    "  - always intialize the summ = 0 before the loop \n",
    "  - inside the loop summ= summ+i\n",
    "  - the print(summ value outside the loop)"
   ]
  },
  {
   "cell_type": "markdown",
   "id": "b160da19-7a5c-452d-a991-c07b3c61ef0b",
   "metadata": {},
   "source": [
    "**counter wrapper**\n",
    "- before the loop count = 0\n",
    "- inside the loop count = count+1, but this line under successful operation\n",
    "- print the count outside the loop "
   ]
  },
  {
   "cell_type": "code",
   "execution_count": 31,
   "id": "e55dcc31-a8f8-4642-95d3-500b8ff87f0c",
   "metadata": {},
   "outputs": [
    {
     "name": "stdin",
     "output_type": "stream",
     "text": [
      "enter which divisor you want 10\n"
     ]
    },
    {
     "name": "stdout",
     "output_type": "stream",
     "text": [
      "1 is a divisor for 10\n",
      "2 is a divisor for 10\n",
      "5 is a divisor for 10\n",
      "10 is a divisor for 10\n",
      "10\n"
     ]
    }
   ],
   "source": [
    "#WAP ask the user find the count of divisors\n",
    "count=0\n",
    "num=eval(input(\"enter which divisor you want\")) \n",
    "for i in range(1,num+1):\n",
    "    count = count+1 #1 # count=0+1= 1\n",
    "    if num%i==0:\n",
    "        # count = count+1 #2\n",
    "        print(f'{i} is a divisor for {num}')\n",
    "print(f\"The number of divisors:- {count}\")\n",
    "\n",
    "#for  i in range(1,10+1)\n",
    "\n",
    "# Step 1:- i=1 count=0+1=1 if 10%1==0 True print"
   ]
  },
  {
   "cell_type": "code",
   "execution_count": 37,
   "id": "87f728c4-31c8-43fc-91b4-301eecebdc09",
   "metadata": {},
   "outputs": [
    {
     "name": "stdin",
     "output_type": "stream",
     "text": [
      "enter which divisor you want 10\n"
     ]
    },
    {
     "name": "stdout",
     "output_type": "stream",
     "text": [
      "1 is a divisor for 10\n",
      "2 is a divisor for 10\n",
      "5 is a divisor for 10\n",
      "10 is a divisor for 10\n",
      "The number of divisors:- 14\n",
      "The divisors summ is:- 18\n"
     ]
    }
   ],
   "source": [
    "count=0\n",
    "summ=0\n",
    "num=eval(input(\"enter which divisor you want\")) \n",
    "for i in range(1,num+1):\n",
    "    count = count+1 #1 # count=0+1= 1\n",
    "    if num%i==0:\n",
    "        count=count+1\n",
    "        summ=summ+i\n",
    "        # count = count+1 #2\n",
    "        print(f'{i} is a divisor for {num}')\n",
    "print(f\"The number of divisors:- {count}\")\n",
    "print(f\"The divisors summ is:- {summ}\")"
   ]
  },
  {
   "cell_type": "code",
   "execution_count": null,
   "id": "6f5174b0-ca5f-44dd-bdc3-351ce2eeba7c",
   "metadata": {},
   "outputs": [],
   "source": [
    "# wap ask the user to enter a number 5 times \n",
    "# the loop should ask 5 times\n",
    "# you should calculate even odd\n",
    "#get the count of even and odd number"
   ]
  },
  {
   "cell_type": "code",
   "execution_count": 33,
   "id": "4315fea5-dfb5-4d82-8b0a-1960d65722e2",
   "metadata": {},
   "outputs": [
    {
     "name": "stdin",
     "output_type": "stream",
     "text": [
      "Enter a number:-  12\n"
     ]
    },
    {
     "name": "stdout",
     "output_type": "stream",
     "text": [
      "True\n"
     ]
    },
    {
     "name": "stdin",
     "output_type": "stream",
     "text": [
      "Enter a number:-  45\n"
     ]
    },
    {
     "name": "stdout",
     "output_type": "stream",
     "text": [
      "False\n"
     ]
    },
    {
     "name": "stdin",
     "output_type": "stream",
     "text": [
      "Enter a number:-  47\n"
     ]
    },
    {
     "name": "stdout",
     "output_type": "stream",
     "text": [
      "False\n"
     ]
    },
    {
     "name": "stdin",
     "output_type": "stream",
     "text": [
      "Enter a number:-  78\n"
     ]
    },
    {
     "name": "stdout",
     "output_type": "stream",
     "text": [
      "True\n"
     ]
    },
    {
     "name": "stdin",
     "output_type": "stream",
     "text": [
      "Enter a number:-  95\n"
     ]
    },
    {
     "name": "stdout",
     "output_type": "stream",
     "text": [
      "False\n"
     ]
    },
    {
     "name": "stdin",
     "output_type": "stream",
     "text": [
      "Enter a number:-  76\n"
     ]
    },
    {
     "name": "stdout",
     "output_type": "stream",
     "text": [
      "True\n"
     ]
    }
   ],
   "source": [
    "count=0\n",
    "for i in range(1,6+1):\n",
    "    num = eval(input(\"Enter a number:- \"))\n",
    "    n1= num%2==0\n",
    "    count= count+i\n",
    "    print(f\"{n1}\")                                              "
   ]
  },
  {
   "cell_type": "code",
   "execution_count": 35,
   "id": "e87640a2-fb01-4803-8a49-33e62aa4bbf7",
   "metadata": {},
   "outputs": [
    {
     "name": "stdout",
     "output_type": "stream",
     "text": [
      "True\n",
      "False\n",
      "False\n",
      "True\n",
      "True\n"
     ]
    }
   ],
   "source": [
    "import random\n",
    "count=0\n",
    "for i in range(1,6):\n",
    "    num =random.randint(1,20)\n",
    "    n1= num%2==0\n",
    "    count= count+i\n",
    "    print(f\"{n1}\")     "
   ]
  },
  {
   "cell_type": "code",
   "execution_count": 36,
   "id": "265f6855-0994-4af7-9071-4ff934db91d7",
   "metadata": {},
   "outputs": [
    {
     "name": "stdout",
     "output_type": "stream",
     "text": [
      "the number of evens are:- 3\n",
      "the number of odds are:- 2\n"
     ]
    }
   ],
   "source": [
    "import random\n",
    "even_count, odd_count=0,0\n",
    "for i in range(1,6):\n",
    "    num = random.randint(1,100)\n",
    "    if num%2==0:\n",
    "        even_count=even_count+1\n",
    "    else:\n",
    "        odd_count=odd_count+1\n",
    "print(\"the number of evens are:-\", even_count)\n",
    "print(\"the number of odds are:-\", odd_count)"
   ]
  },
  {
   "cell_type": "code",
   "execution_count": null,
   "id": "a1c965d3-e838-426a-b5f2-d8754de831a5",
   "metadata": {},
   "outputs": [],
   "source": [
    "import random\n",
    "even_count, odd_count=0,0\n",
    "even_summ,odd_summ=0,0\n",
    "for i in range(5):\n",
    "    num = random.randint(1,100)\n",
    "    if num%2==0:\n",
    "        even_count=even_count+1\n",
    "    else:\n",
    "        odd_count=odd_count+1\n",
    "print(\"the number of evens are:-\", even_count)\n",
    "print(\"the number of odds are:-\", odd_count)"
   ]
  },
  {
   "cell_type": "markdown",
   "id": "ceb754fa-ff25-41b8-ad26-781abd485e89",
   "metadata": {},
   "source": [
    "- **interviwe question**:- Sumation wrapper and Counter Wrapper"
   ]
  },
  {
   "cell_type": "code",
   "execution_count": 50,
   "id": "73164630-717e-403a-ad6c-13217003a1b0",
   "metadata": {},
   "outputs": [
    {
     "name": "stdin",
     "output_type": "stream",
     "text": [
      "Enter a number:-  45\n"
     ]
    },
    {
     "name": "stdout",
     "output_type": "stream",
     "text": [
      "You lost\n"
     ]
    },
    {
     "name": "stdin",
     "output_type": "stream",
     "text": [
      "Enter a number:-  1\n"
     ]
    },
    {
     "name": "stdout",
     "output_type": "stream",
     "text": [
      "You won\n"
     ]
    },
    {
     "name": "stdin",
     "output_type": "stream",
     "text": [
      "Enter a number:-  2\n"
     ]
    },
    {
     "name": "stdout",
     "output_type": "stream",
     "text": [
      "You lost\n"
     ]
    }
   ],
   "source": [
    "import random\n",
    "for i in range(3):\n",
    "    n1 = random.randint(1,10)\n",
    "    num = eval(input(\"Enter a number:- \"))\n",
    "    if n1==num:\n",
    "        print(\"You won\")\n",
    "    else:\n",
    "         print(\"You lost\")"
   ]
  },
  {
   "cell_type": "code",
   "execution_count": 52,
   "id": "efc220a3-6d4b-4a8a-b0f9-15afbef8f814",
   "metadata": {},
   "outputs": [
    {
     "name": "stdin",
     "output_type": "stream",
     "text": [
      "Enter a number:-  5\n"
     ]
    },
    {
     "name": "stdout",
     "output_type": "stream",
     "text": [
      "You lost\n"
     ]
    },
    {
     "name": "stdin",
     "output_type": "stream",
     "text": [
      "Enter a number:-  4\n"
     ]
    },
    {
     "name": "stdout",
     "output_type": "stream",
     "text": [
      "You lost\n"
     ]
    },
    {
     "name": "stdin",
     "output_type": "stream",
     "text": [
      "Enter a number:-  6\n"
     ]
    },
    {
     "name": "stdout",
     "output_type": "stream",
     "text": [
      "You won\n"
     ]
    }
   ],
   "source": [
    "#Case:-1 \n",
    "import random\n",
    "for i in range(3):\n",
    "    n1 = random.randint(1,10)\n",
    "    num = eval(input(\"Enter a number:- \"))\n",
    "    if n1==num:\n",
    "        print(\"You won\")\n",
    "        break\n",
    "    else:\n",
    "         print(\"You lost\")"
   ]
  },
  {
   "cell_type": "code",
   "execution_count": 2,
   "id": "da464df4-73e5-4731-9c53-34fd4b0abf5d",
   "metadata": {},
   "outputs": [
    {
     "name": "stdin",
     "output_type": "stream",
     "text": [
      "Enter a number chances you want to give 5\n"
     ]
    },
    {
     "name": "stdout",
     "output_type": "stream",
     "text": [
      "2\n"
     ]
    },
    {
     "name": "stdin",
     "output_type": "stream",
     "text": [
      "Enter a number:-  4\n"
     ]
    },
    {
     "name": "stdout",
     "output_type": "stream",
     "text": [
      "The chances left is: 4\n",
      "Yous lost\n",
      "9\n"
     ]
    },
    {
     "name": "stdin",
     "output_type": "stream",
     "text": [
      "Enter a number:-  7\n"
     ]
    },
    {
     "name": "stdout",
     "output_type": "stream",
     "text": [
      "The chances left is: 3\n",
      "Yous lost\n",
      "7\n"
     ]
    },
    {
     "name": "stdin",
     "output_type": "stream",
     "text": [
      "Enter a number:-  5\n"
     ]
    },
    {
     "name": "stdout",
     "output_type": "stream",
     "text": [
      "The chances left is: 2\n",
      "Yous lost\n",
      "9\n"
     ]
    },
    {
     "name": "stdin",
     "output_type": "stream",
     "text": [
      "Enter a number:-  9\n"
     ]
    },
    {
     "name": "stdout",
     "output_type": "stream",
     "text": [
      "You won\n"
     ]
    }
   ],
   "source": [
    "# Case-2 for every failure\n",
    "# The number of chances should display\n",
    "\n",
    "import random\n",
    "num = eval(input(\"Enter a number chances you want to give\"))\n",
    "for i in range(1,num+1):\n",
    "    n1 = random.randint(1,10)\n",
    "    print(n1)\n",
    "    n2= eval(input(\"Enter a number:- \"))\n",
    "    if n1==n2:\n",
    "        print(\"You won\")\n",
    "        break\n",
    "    else:\n",
    "         print(\"The chances left is:\",num-i)\n",
    "         print(\"Yous lost\")\n"
   ]
  },
  {
   "cell_type": "code",
   "execution_count": 8,
   "id": "f3cc3457-d202-4273-a5e7-02961bbe4d5e",
   "metadata": {},
   "outputs": [
    {
     "name": "stdin",
     "output_type": "stream",
     "text": [
      "Enter a number chances you want to give 2\n"
     ]
    },
    {
     "name": "stdout",
     "output_type": "stream",
     "text": [
      "10\n"
     ]
    },
    {
     "name": "stdin",
     "output_type": "stream",
     "text": [
      "Enter a number:-  1\n"
     ]
    },
    {
     "name": "stdout",
     "output_type": "stream",
     "text": [
      "The chances left is: 1\n",
      "You lost\n",
      "7\n"
     ]
    },
    {
     "name": "stdin",
     "output_type": "stream",
     "text": [
      "Enter a number:-  2\n"
     ]
    },
    {
     "name": "stdout",
     "output_type": "stream",
     "text": [
      "All the chances are lost try after 24hours\n"
     ]
    }
   ],
   "source": [
    "# Case:-3 after the all the chances are finished \n",
    "# print all the chances are lost try after 24hours.\n",
    "\n",
    "import random\n",
    "num = eval(input(\"Enter a number chances you want to give\"))\n",
    "for i in range(1,num+1):\n",
    "    n1 = random.randint(1,10)\n",
    "    print(n1)\n",
    "    n2= eval(input(\"Enter a number:- \"))\n",
    "    if n1==n2:\n",
    "        print(\"You won\")\n",
    "        break\n",
    "    elif num-i==0:\n",
    "        print(\"All the chances are lost try after 24hours\")\n",
    "    else:\n",
    "        print(\"The chances left is:\",num-i)\n",
    "        print(\"You lost\")\n",
    "    \n",
    "# num = 3 i=1 n1=3 n2=8 if cond False elif 3-1 = 0 False else num-i 3-1=2\n",
    "# num = 3 i=2 n1=3 n2=8 if cond False elif 3-1 = 0 False else num-i 3-2=1\n",
    "# num = 3 i=3 n1=3 n2=8 if cond False elif 3-1 = 0 False else num-i 3-3=0"
   ]
  },
  {
   "cell_type": "markdown",
   "id": "e493c65b-6df2-419c-afc5-e6bb963e304b",
   "metadata": {},
   "source": [
    "**In**"
   ]
  },
  {
   "cell_type": "markdown",
   "id": "d88dee8b-e2bc-47e1-8831-bc37c88f7021",
   "metadata": {},
   "source": [
    "- range operator excpect a value inside\n",
    "\n",
    "- in operator access the value directly\n"
   ]
  },
  {
   "cell_type": "code",
   "execution_count": 13,
   "id": "c886c277-62a7-47b6-af88-523c3889321c",
   "metadata": {},
   "outputs": [
    {
     "name": "stdout",
     "output_type": "stream",
     "text": [
      "p\n",
      "y\n",
      "t\n",
      "h\n",
      "o\n",
      "n\n"
     ]
    }
   ],
   "source": [
    "'p' in 'python'\n",
    "'y' in 'python'\n",
    "'t' in 'python'\n",
    "'h' in 'python'\n",
    "'o' in 'python'\n",
    "'n' in 'python'\n",
    "\n",
    "#i  in 'python'\n",
    "\n",
    "for i in 'python':\n",
    "    print(i)"
   ]
  },
  {
   "cell_type": "code",
   "execution_count": 19,
   "id": "5eb459cd-3e8f-475e-9e0d-3c53f3067915",
   "metadata": {},
   "outputs": [
    {
     "data": {
      "text/plain": [
       "True"
      ]
     },
     "execution_count": 19,
     "metadata": {},
     "output_type": "execute_result"
    }
   ],
   "source": [
    "'P'=='P'"
   ]
  },
  {
   "cell_type": "code",
   "execution_count": null,
   "id": "0bbd5874-3188-4d03-9e2a-a70e836864c2",
   "metadata": {},
   "outputs": [],
   "source": [
    "  "
   ]
  },
  {
   "cell_type": "code",
   "execution_count": 17,
   "id": "9ba17624-fb1c-4fc4-b736-c7507504f579",
   "metadata": {},
   "outputs": [
    {
     "data": {
      "text/plain": [
       "True"
      ]
     },
     "execution_count": 17,
     "metadata": {},
     "output_type": "execute_result"
    }
   ],
   "source": [
    "'p'>'P'"
   ]
  },
  {
   "cell_type": "code",
   "execution_count": 18,
   "id": "966cd8e1-5bf6-40b6-9632-790b2a580d1f",
   "metadata": {},
   "outputs": [
    {
     "data": {
      "text/plain": [
       "False"
      ]
     },
     "execution_count": 18,
     "metadata": {},
     "output_type": "execute_result"
    }
   ],
   "source": [
    "'p'<'P'"
   ]
  },
  {
   "cell_type": "code",
   "execution_count": 23,
   "id": "7d69fd92-f83a-4a42-a5aa-ced7f426c1e3",
   "metadata": {},
   "outputs": [
    {
     "ename": "SyntaxError",
     "evalue": "invalid syntax (540713473.py, line 2)",
     "output_type": "error",
     "traceback": [
      "\u001b[1;36m  Cell \u001b[1;32mIn[23], line 2\u001b[1;36m\u001b[0m\n\u001b[1;33m    A=65 a=97\u001b[0m\n\u001b[1;37m         ^\u001b[0m\n\u001b[1;31mSyntaxError\u001b[0m\u001b[1;31m:\u001b[0m invalid syntax\n"
     ]
    }
   ],
   "source": [
    "# ASCII:- American Standard code for Information Interchange\n",
    "A=65 a=97\n",
    "B=66 b=98     "
   ]
  },
  {
   "cell_type": "markdown",
   "id": "375261d0-9217-4109-a92c-03f4c8da02e5",
   "metadata": {},
   "source": [
    "**ord-chr**"
   ]
  },
  {
   "cell_type": "code",
   "execution_count": 24,
   "id": "f5325823-3aad-4974-bb1d-b71374ff1155",
   "metadata": {},
   "outputs": [
    {
     "data": {
      "text/plain": [
       "65"
      ]
     },
     "execution_count": 24,
     "metadata": {},
     "output_type": "execute_result"
    }
   ],
   "source": [
    "ord('A')"
   ]
  },
  {
   "cell_type": "code",
   "execution_count": 25,
   "id": "d74896da-32bf-4e41-98d1-68eeafc3d3d8",
   "metadata": {},
   "outputs": [
    {
     "data": {
      "text/plain": [
       "'A'"
      ]
     },
     "execution_count": 25,
     "metadata": {},
     "output_type": "execute_result"
    }
   ],
   "source": [
    "chr(65)"
   ]
  },
  {
   "cell_type": "code",
   "execution_count": 26,
   "id": "dc45bc38-2649-455b-b41c-9e8662c830e9",
   "metadata": {},
   "outputs": [
    {
     "data": {
      "text/plain": [
       "97"
      ]
     },
     "execution_count": 26,
     "metadata": {},
     "output_type": "execute_result"
    }
   ],
   "source": [
    "ord('a')"
   ]
  },
  {
   "cell_type": "code",
   "execution_count": 27,
   "id": "bb17e205-7341-44d5-8b5c-bac7a4149202",
   "metadata": {},
   "outputs": [
    {
     "data": {
      "text/plain": [
       "'a'"
      ]
     },
     "execution_count": 27,
     "metadata": {},
     "output_type": "execute_result"
    }
   ],
   "source": [
    "chr(97)"
   ]
  },
  {
   "cell_type": "code",
   "execution_count": 28,
   "id": "8261cf2f-e22a-45b2-8f70-c119d7579560",
   "metadata": {},
   "outputs": [
    {
     "data": {
      "text/plain": [
       "67"
      ]
     },
     "execution_count": 28,
     "metadata": {},
     "output_type": "execute_result"
    }
   ],
   "source": [
    "ord('C')"
   ]
  },
  {
   "cell_type": "code",
   "execution_count": 31,
   "id": "c69fb778-3dde-4337-83bb-4084100a5527",
   "metadata": {},
   "outputs": [
    {
     "name": "stdout",
     "output_type": "stream",
     "text": [
      "65 A\n",
      "66 B\n",
      "67 C\n",
      "68 D\n",
      "69 E\n",
      "70 F\n",
      "71 G\n",
      "72 H\n",
      "73 I\n",
      "74 J\n",
      "75 K\n",
      "76 L\n",
      "77 M\n",
      "78 N\n",
      "79 O\n",
      "80 P\n",
      "81 Q\n",
      "82 R\n",
      "83 S\n",
      "84 T\n",
      "85 U\n",
      "86 V\n",
      "87 W\n",
      "88 X\n",
      "89 Y\n",
      "90 Z\n",
      "91 [\n",
      "92 \\\n",
      "93 ]\n",
      "94 ^\n",
      "95 _\n",
      "96 `\n",
      "97 a\n",
      "98 b\n",
      "99 c\n"
     ]
    }
   ],
   "source": [
    "for i in range(65,100):\n",
    "    print(i,chr(i))"
   ]
  },
  {
   "cell_type": "code",
   "execution_count": 36,
   "id": "1076de1b-0282-4baf-a111-4a824b7312df",
   "metadata": {},
   "outputs": [
    {
     "name": "stdout",
     "output_type": "stream",
     "text": [
      "32   33 ! 34 \" 35 # 36 $ 37 % 38 & 39 ' 40 ( 41 ) 42 * 43 + 44 , 45 - 46 . 47 / 48 0 49 1 50 2 51 3 52 4 53 5 54 6 55 7 56 8 57 9 58 : 59 ; 60 < 61 = 62 > 63 ? 64 @ 65 A 66 B 67 C 68 D 69 E 70 F 71 G 72 H 73 I 74 J 75 K 76 L 77 M 78 N 79 O 80 P 81 Q 82 R 83 S 84 T 85 U 86 V 87 W 88 X 89 Y 90 Z 91 [ 92 \\ 93 ] 94 ^ 95 _ 96 ` 97 a 98 b 99 c 100 d 101 e 102 f 103 g 104 h 105 i 106 j 107 k 108 l 109 m 110 n 111 o 112 p 113 q 114 r 115 s 116 t 117 u 118 v 119 w 120 x 121 y 122 z 123 { 124 | 125 } 126 ~ 127  128  129  130  131  132  133 ",
      " 134  135  136  137  138  139  "
     ]
    }
   ],
   "source": [
    "for i in range(32,140):\n",
    "    print(i,chr(i), end=' ')"
   ]
  },
  {
   "cell_type": "code",
   "execution_count": 39,
   "id": "adbb90ed-dfb8-4dd2-9b3b-84248b05532f",
   "metadata": {},
   "outputs": [
    {
     "name": "stdout",
     "output_type": "stream",
     "text": [
      "32   33 ! 34 \" 35 # 36 $ 37 % 38 & 39 ' 40 ( 41 ) 42 * 43 + 44 , 45 - 46 . 47 / 48 0 49 1 50 2 51 3 52 4 53 5 54 6 55 7 56 8 57 9 58 : 59 ; 60 < 61 = 62 > 63 ? 64 @ 65 A 66 B 67 C 68 D 69 E 70 F 71 G 72 H 73 I 74 J 75 K 76 L 77 M 78 N 79 O 80 P 81 Q 82 R 83 S 84 T 85 U 86 V 87 W 88 X 89 Y 90 Z 91 [ 92 \\ 93 ] 94 ^ 95 _ 96 ` 97 a 98 b 99 c 100 d 101 e 102 f 103 g 104 h 105 i 106 j 107 k 108 l 109 m 110 n 111 o 112 p 113 q 114 r 115 s 116 t 117 u 118 v 119 w 120 x 121 y 122 z 123 { 124 | 125 } 126 ~ 127  128  129  130  131  132  133 ",
      " 134  135  136  137  138  139  140  141  142  143  144  145  146  147  148  149  150  151  152  153  154  155  156  157  158  159  160   161 ¡ 162 ¢ 163 £ 164 ¤ 165 ¥ 166 ¦ 167 § 168 ¨ 169 © 170 ª 171 « 172 ¬ 173 ­ 174 ® 175 ¯ 176 ° 177 ± 178 ² 179 ³ 180 ´ 181 µ 182 ¶ 183 · 184 ¸ 185 ¹ 186 º 187 » 188 ¼ 189 ½ 190 ¾ 191 ¿ 192 À 193 Á 194 Â 195 Ã 196 Ä 197 Å 198 Æ 199 Ç 200 È 201 É 202 Ê 203 Ë 204 Ì 205 Í 206 Î 207 Ï 208 Ð 209 Ñ 210 Ò 211 Ó 212 Ô 213 Õ 214 Ö 215 × 216 Ø 217 Ù 218 Ú 219 Û 220 Ü 221 Ý "
     ]
    }
   ],
   "source": [
    "for i in range(32,222):\n",
    "    print(i,chr(i), end=' ')"
   ]
  },
  {
   "cell_type": "markdown",
   "id": "9ec4df77-2844-436e-96b8-2efbf393bc12",
   "metadata": {},
   "source": [
    "Que:- 'A to Z' numbers using for loop\n",
    "- i want to iterate my loop along A to Z so that i want to get Ascii numbers"
   ]
  },
  {
   "cell_type": "code",
   "execution_count": 43,
   "id": "b18c5447-abe6-40ad-b9c1-27e184af3c83",
   "metadata": {},
   "outputs": [
    {
     "name": "stdout",
     "output_type": "stream",
     "text": [
      "65 A 66 B 67 C 68 D 69 E 70 F 71 G 72 H 73 I 74 J 75 K 76 L 77 M 78 N 79 O 80 P 81 Q 82 R 83 S 84 T 85 U 86 V 87 W 88 X 89 Y 90 Z "
     ]
    }
   ],
   "source": [
    "for i in range(65, 91):\n",
    "    print(i, chr(i), end=' ')"
   ]
  },
  {
   "cell_type": "code",
   "execution_count": 45,
   "id": "2d294c40-1f77-4582-9f71-d31e4eaedc63",
   "metadata": {},
   "outputs": [
    {
     "ename": "SyntaxError",
     "evalue": "invalid syntax (1976527761.py, line 1)",
     "output_type": "error",
     "traceback": [
      "\u001b[1;36m  Cell \u001b[1;32mIn[45], line 1\u001b[1;36m\u001b[0m\n\u001b[1;33m    for i in range(ord('A'),(ord('Z')):\u001b[0m\n\u001b[1;37m                                      ^\u001b[0m\n\u001b[1;31mSyntaxError\u001b[0m\u001b[1;31m:\u001b[0m invalid syntax\n"
     ]
    }
   ],
   "source": [
    "for i in range(ord('A'),(ord('Z')):\n",
    "    print(i, ord(i), end=' ')"
   ]
  },
  {
   "cell_type": "code",
   "execution_count": 47,
   "id": "12d48372-b76c-4002-b244-2fa5c8701ee3",
   "metadata": {},
   "outputs": [
    {
     "name": "stdout",
     "output_type": "stream",
     "text": [
      "Help on module string:\n",
      "\n",
      "NAME\n",
      "    string - A collection of string constants.\n",
      "\n",
      "MODULE REFERENCE\n",
      "    https://docs.python.org/3.12/library/string.html\n",
      "\n",
      "    The following documentation is automatically generated from the Python\n",
      "    source files.  It may be incomplete, incorrect or include features that\n",
      "    are considered implementation detail and may vary between Python\n",
      "    implementations.  When in doubt, consult the module reference at the\n",
      "    location listed above.\n",
      "\n",
      "DESCRIPTION\n",
      "    Public module variables:\n",
      "\n",
      "    whitespace -- a string containing all ASCII whitespace\n",
      "    ascii_lowercase -- a string containing all ASCII lowercase letters\n",
      "    ascii_uppercase -- a string containing all ASCII uppercase letters\n",
      "    ascii_letters -- a string containing all ASCII letters\n",
      "    digits -- a string containing all ASCII decimal digits\n",
      "    hexdigits -- a string containing all ASCII hexadecimal digits\n",
      "    octdigits -- a string containing all ASCII octal digits\n",
      "    punctuation -- a string containing all ASCII punctuation characters\n",
      "    printable -- a string containing all ASCII characters considered printable\n",
      "\n",
      "CLASSES\n",
      "    builtins.object\n",
      "        Formatter\n",
      "        Template\n",
      "\n",
      "    class Formatter(builtins.object)\n",
      "     |  Methods defined here:\n",
      "     |\n",
      "     |  check_unused_args(self, used_args, args, kwargs)\n",
      "     |\n",
      "     |  convert_field(self, value, conversion)\n",
      "     |\n",
      "     |  format(self, format_string, /, *args, **kwargs)\n",
      "     |\n",
      "     |  format_field(self, value, format_spec)\n",
      "     |\n",
      "     |  get_field(self, field_name, args, kwargs)\n",
      "     |      # given a field_name, find the object it references.\n",
      "     |      #  field_name:   the field being looked up, e.g. \"0.name\"\n",
      "     |      #                 or \"lookup[3]\"\n",
      "     |      #  used_args:    a set of which args have been used\n",
      "     |      #  args, kwargs: as passed in to vformat\n",
      "     |\n",
      "     |  get_value(self, key, args, kwargs)\n",
      "     |\n",
      "     |  parse(self, format_string)\n",
      "     |      # returns an iterable that contains tuples of the form:\n",
      "     |      # (literal_text, field_name, format_spec, conversion)\n",
      "     |      # literal_text can be zero length\n",
      "     |      # field_name can be None, in which case there's no\n",
      "     |      #  object to format and output\n",
      "     |      # if field_name is not None, it is looked up, formatted\n",
      "     |      #  with format_spec and conversion and then used\n",
      "     |\n",
      "     |  vformat(self, format_string, args, kwargs)\n",
      "     |\n",
      "     |  ----------------------------------------------------------------------\n",
      "     |  Data descriptors defined here:\n",
      "     |\n",
      "     |  __dict__\n",
      "     |      dictionary for instance variables\n",
      "     |\n",
      "     |  __weakref__\n",
      "     |      list of weak references to the object\n",
      "\n",
      "    class Template(builtins.object)\n",
      "     |  Template(template)\n",
      "     |\n",
      "     |  A string class for supporting $-substitutions.\n",
      "     |\n",
      "     |  Methods defined here:\n",
      "     |\n",
      "     |  __init__(self, template)\n",
      "     |      Initialize self.  See help(type(self)) for accurate signature.\n",
      "     |\n",
      "     |  get_identifiers(self)\n",
      "     |\n",
      "     |  is_valid(self)\n",
      "     |\n",
      "     |  safe_substitute(self, mapping={}, /, **kws)\n",
      "     |\n",
      "     |  substitute(self, mapping={}, /, **kws)\n",
      "     |\n",
      "     |  ----------------------------------------------------------------------\n",
      "     |  Class methods defined here:\n",
      "     |\n",
      "     |  __init_subclass__()\n",
      "     |      This method is called when a class is subclassed.\n",
      "     |\n",
      "     |      The default implementation does nothing. It may be\n",
      "     |      overridden to extend subclasses.\n",
      "     |\n",
      "     |  ----------------------------------------------------------------------\n",
      "     |  Data descriptors defined here:\n",
      "     |\n",
      "     |  __dict__\n",
      "     |      dictionary for instance variables\n",
      "     |\n",
      "     |  __weakref__\n",
      "     |      list of weak references to the object\n",
      "     |\n",
      "     |  ----------------------------------------------------------------------\n",
      "     |  Data and other attributes defined here:\n",
      "     |\n",
      "     |  braceidpattern = None\n",
      "     |\n",
      "     |  delimiter = '$'\n",
      "     |\n",
      "     |  flags = re.IGNORECASE\n",
      "     |\n",
      "     |  idpattern = '(?a:[_a-z][_a-z0-9]*)'\n",
      "     |\n",
      "     |  pattern = re.compile('\\n            \\\\$(?:\\n              ...identifie...\n",
      "\n",
      "FUNCTIONS\n",
      "    capwords(s, sep=None)\n",
      "        capwords(s [,sep]) -> string\n",
      "\n",
      "        Split the argument into words using split, capitalize each\n",
      "        word using capitalize, and join the capitalized words using\n",
      "        join.  If the optional second argument sep is absent or None,\n",
      "        runs of whitespace characters are replaced by a single space\n",
      "        and leading and trailing whitespace are removed, otherwise\n",
      "        sep is used to split and join the words.\n",
      "\n",
      "DATA\n",
      "    __all__ = ['ascii_letters', 'ascii_lowercase', 'ascii_uppercase', 'cap...\n",
      "    ascii_letters = 'abcdefghijklmnopqrstuvwxyzABCDEFGHIJKLMNOPQRSTUVWXYZ'\n",
      "    ascii_lowercase = 'abcdefghijklmnopqrstuvwxyz'\n",
      "    ascii_uppercase = 'ABCDEFGHIJKLMNOPQRSTUVWXYZ'\n",
      "    digits = '0123456789'\n",
      "    hexdigits = '0123456789abcdefABCDEF'\n",
      "    octdigits = '01234567'\n",
      "    printable = '0123456789abcdefghijklmnopqrstuvwxyzABCDEFGHIJKLMNOPQRSTU...\n",
      "    punctuation = '!\"#$%&\\'()*+,-./:;<=>?@[\\\\]^_`{|}~'\n",
      "    whitespace = ' \\t\\n\\r\\x0b\\x0c'\n",
      "\n",
      "FILE\n",
      "    c:\\users\\prash\\anaconda31\\lib\\string.py\n",
      "\n",
      "\n"
     ]
    }
   ],
   "source": [
    "import string\n",
    "help(string)"
   ]
  },
  {
   "cell_type": "code",
   "execution_count": 48,
   "id": "879dd1c6-c4ee-4c65-8b64-61eab7be307c",
   "metadata": {},
   "outputs": [
    {
     "name": "stdout",
     "output_type": "stream",
     "text": [
      "abcdefghijklmnopqrstuvwxyzABCDEFGHIJKLMNOPQRSTUVWXYZ\n"
     ]
    }
   ],
   "source": [
    "from string import ascii_letters\n",
    "a = ascii_letters\n",
    "print(a)"
   ]
  },
  {
   "cell_type": "code",
   "execution_count": 49,
   "id": "73498972-dfaa-4abb-aa27-254fa1053e7b",
   "metadata": {},
   "outputs": [
    {
     "name": "stdout",
     "output_type": "stream",
     "text": [
      "A 65\n",
      "B 66\n",
      "C 67\n",
      "D 68\n",
      "E 69\n",
      "F 70\n",
      "G 71\n",
      "H 72\n",
      "I 73\n",
      "J 74\n",
      "K 75\n",
      "L 76\n",
      "M 77\n",
      "N 78\n",
      "O 79\n",
      "P 80\n",
      "Q 81\n",
      "R 82\n",
      "S 83\n",
      "T 84\n",
      "U 85\n",
      "V 86\n",
      "W 87\n",
      "X 88\n",
      "Y 89\n",
      "Z 90\n"
     ]
    }
   ],
   "source": [
    "import string\n",
    "for i in string.ascii_uppercase:\n",
    "    print(i, ord(i))"
   ]
  },
  {
   "cell_type": "markdown",
   "id": "c8a81090-e5fb-4e58-9f3e-33f228669069",
   "metadata": {},
   "source": [
    "- in operator access direct elements which is called iterators\n",
    "\n",
    "- iterator means :-\n",
    "    -String\n",
    "    - list\n",
    "    - tupel\n",
    "    - dictionary\n",
    "\n",
    "- Iterator means which can be print by using for loop\n",
    "\n",
    "- whenever we use in operator dont give the number.\n",
    "\n",
    "- whenever we use in range dont give any iterator.\n",
    "\n",
    "- range needs only a number."
   ]
  },
  {
   "cell_type": "code",
   "execution_count": 51,
   "id": "a49790ce-276a-4704-8eb9-966864d64162",
   "metadata": {},
   "outputs": [
    {
     "data": {
      "text/plain": [
       "['h', 'n', 'o', 'p', 't', 'y']"
      ]
     },
     "execution_count": 51,
     "metadata": {},
     "output_type": "execute_result"
    }
   ],
   "source": [
    "sorted('python')"
   ]
  },
  {
   "cell_type": "code",
   "execution_count": 52,
   "id": "304d4543-9b9e-44a9-8fc7-ca028a6c9467",
   "metadata": {},
   "outputs": [
    {
     "data": {
      "text/plain": [
       "(104, 110, 111, 112, 116, 121)"
      ]
     },
     "execution_count": 52,
     "metadata": {},
     "output_type": "execute_result"
    }
   ],
   "source": [
    "ord('h'), ord('n'), ord('o'), ord('p'), ord('t'), ord('y')"
   ]
  },
  {
   "cell_type": "code",
   "execution_count": null,
   "id": "80f89ada-e2ff-4735-b134-837ad26216ae",
   "metadata": {},
   "outputs": [],
   "source": []
  }
 ],
 "metadata": {
  "kernelspec": {
   "display_name": "Python 3 (ipykernel)",
   "language": "python",
   "name": "python3"
  },
  "language_info": {
   "codemirror_mode": {
    "name": "ipython",
    "version": 3
   },
   "file_extension": ".py",
   "mimetype": "text/x-python",
   "name": "python",
   "nbconvert_exporter": "python",
   "pygments_lexer": "ipython3",
   "version": "3.12.4"
  }
 },
 "nbformat": 4,
 "nbformat_minor": 5
}
