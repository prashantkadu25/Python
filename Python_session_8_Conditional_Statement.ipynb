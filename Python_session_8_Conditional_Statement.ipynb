{
 "cells": [
  {
   "cell_type": "markdown",
   "id": "12b5bdff-0f16-4a76-b94e-4cd9f79a50ce",
   "metadata": {},
   "source": [
    "- Conditional Statements refers to execute the code based on some conditions\n",
    "\n",
    "- We have mainly three types\n",
    "    - if\n",
    "    - if   else\n",
    "    - if   elif   else"
   ]
  },
  {
   "cell_type": "code",
   "execution_count": 1,
   "id": "2a263b06-4a61-40a9-b2db-5d9bfc1083a9",
   "metadata": {},
   "outputs": [
    {
     "name": "stdout",
     "output_type": "stream",
     "text": [
      "Hello good Morning\n"
     ]
    }
   ],
   "source": [
    "print(\"Hello good Morning\")"
   ]
  },
  {
   "cell_type": "code",
   "execution_count": 2,
   "id": "349d68eb-0fc3-4dbe-a3c7-04977cdba47d",
   "metadata": {},
   "outputs": [],
   "source": [
    "# I want to say good morning\n",
    "# if your name is Python"
   ]
  },
  {
   "cell_type": "markdown",
   "id": "182d90f1-b60b-46cf-814a-7b78fe7b951b",
   "metadata": {},
   "source": [
    "**Syntax**"
   ]
  },
  {
   "cell_type": "code",
   "execution_count": null,
   "id": "3dcbe8e2-08e3-4900-9156-21043e0ac533",
   "metadata": {},
   "outputs": [],
   "source": [
    "if <condition>: \n",
    "    #the space is called indentation \n",
    "    #space = 1 tab key or 4 Space bar key\n",
    "    #Write your code here"
   ]
  },
  {
   "cell_type": "code",
   "execution_count": 5,
   "id": "6eb80279-98aa-419c-9c95-b6f0ee6513e2",
   "metadata": {},
   "outputs": [
    {
     "name": "stdout",
     "output_type": "stream",
     "text": [
      "Correct Condition\n"
     ]
    }
   ],
   "source": [
    "num = 10\n",
    "if num>0: # 10>0 --- True ---- if True\n",
    "    print(\"Correct Condition\")\n",
    "    "
   ]
  },
  {
   "cell_type": "code",
   "execution_count": 6,
   "id": "fa714573-327f-4ceb-ad21-8a109d9379d5",
   "metadata": {},
   "outputs": [
    {
     "ename": "IndentationError",
     "evalue": "expected an indented block after 'if' statement on line 2 (3268108256.py, line 3)",
     "output_type": "error",
     "traceback": [
      "\u001b[1;36m  Cell \u001b[1;32mIn[6], line 3\u001b[1;36m\u001b[0m\n\u001b[1;33m    print(\"Correct Condition\")\u001b[0m\n\u001b[1;37m    ^\u001b[0m\n\u001b[1;31mIndentationError\u001b[0m\u001b[1;31m:\u001b[0m expected an indented block after 'if' statement on line 2\n"
     ]
    }
   ],
   "source": [
    "num = 10\n",
    "if num>0: # 10>0 --- True ---- if True\n",
    "print(\"Correct Condition\")"
   ]
  },
  {
   "cell_type": "code",
   "execution_count": 7,
   "id": "e33e3807-eb4a-4aa1-9181-cb69ee3c06b1",
   "metadata": {},
   "outputs": [
    {
     "name": "stdout",
     "output_type": "stream",
     "text": [
      "Correct Condition\n"
     ]
    }
   ],
   "source": [
    "num = 10\n",
    "if num>0: # 10>0 --- True ---- if True\n",
    "    print(\"Correct Condition\")"
   ]
  },
  {
   "cell_type": "markdown",
   "id": "8cf1f7fb-5e0f-40f1-93ba-5ab087b38537",
   "metadata": {},
   "source": [
    "- We can write any condition\n",
    "\n",
    "- the condition should be valid\n",
    "\n",
    "- in order to execute the if statement"
   ]
  },
  {
   "cell_type": "code",
   "execution_count": 2,
   "id": "80ec0e7b-874a-498f-97c7-daaad8f1c8f1",
   "metadata": {},
   "outputs": [
    {
     "ename": "SyntaxError",
     "evalue": "invalid syntax (3512874426.py, line 1)",
     "output_type": "error",
     "traceback": [
      "\u001b[1;36m  Cell \u001b[1;32mIn[2], line 1\u001b[1;36m\u001b[0m\n\u001b[1;33m    if <condition>:\u001b[0m\n\u001b[1;37m       ^\u001b[0m\n\u001b[1;31mSyntaxError\u001b[0m\u001b[1;31m:\u001b[0m invalid syntax\n"
     ]
    }
   ],
   "source": [
    "if <condition>:\n",
    "    <code starts here>\n",
    "\n",
    "# the space we need to maintain it is called as indentation\n"
   ]
  },
  {
   "cell_type": "code",
   "execution_count": 3,
   "id": "5d0b46aa-8d0f-451a-85cb-44d1c48caff7",
   "metadata": {},
   "outputs": [
    {
     "data": {
      "text/plain": [
       "True"
      ]
     },
     "execution_count": 3,
     "metadata": {},
     "output_type": "execute_result"
    }
   ],
   "source": [
    "name =\"python\"\n",
    "name ==\"python\""
   ]
  },
  {
   "cell_type": "code",
   "execution_count": 4,
   "id": "42f5d761-2ab0-46b6-b762-2832ce6af260",
   "metadata": {},
   "outputs": [
    {
     "data": {
      "text/plain": [
       "False"
      ]
     },
     "execution_count": 4,
     "metadata": {},
     "output_type": "execute_result"
    }
   ],
   "source": [
    "name!=\"python\"\n"
   ]
  },
  {
   "cell_type": "code",
   "execution_count": 5,
   "id": "a267dfc2-b5af-4109-8076-bc70dd3bcf12",
   "metadata": {},
   "outputs": [],
   "source": [
    "name = \"python\"\n",
    "if name == \"pyton\":\n",
    "    print(\"Hello Python\")\n",
    "    a = 10\n",
    "    b = 20\n",
    "    print(a+b)\n",
    "\n",
    "\n",
    "# Step 1:- name=\"python\"\n",
    "# Step 2:- if name==\"python\" if \"python\"==\"python\"\n",
    "# Step 3:- \n",
    "#         \n",
    "#"
   ]
  },
  {
   "cell_type": "markdown",
   "id": "13cfd1df-01ee-4fe7-8aef-a40c00a78051",
   "metadata": {},
   "source": [
    "- **:** is there gap is there \n",
    "- otherwise no gap required."
   ]
  },
  {
   "cell_type": "code",
   "execution_count": 6,
   "id": "82b44627-bbc3-4e02-903d-05a9e7fee263",
   "metadata": {},
   "outputs": [
    {
     "name": "stdout",
     "output_type": "stream",
     "text": [
      "correct\n",
      "bye\n"
     ]
    }
   ],
   "source": [
    "#######################################\n",
    "if 100 > 10:\n",
    "    print(\"correct\")\n",
    "#######################################\n",
    "print(\"bye\")"
   ]
  },
  {
   "cell_type": "code",
   "execution_count": 7,
   "id": "8666b8f9-0959-44dd-8dd3-80bf2f9cbf03",
   "metadata": {},
   "outputs": [
    {
     "name": "stdout",
     "output_type": "stream",
     "text": [
      "correct\n",
      "hai\n",
      "bye\n"
     ]
    }
   ],
   "source": [
    "#######################################\n",
    "if 100 > 10:\n",
    "    print(\"correct\")\n",
    "    print(\"hai\")\n",
    "#######################################\n",
    "print(\"bye\")"
   ]
  },
  {
   "cell_type": "code",
   "execution_count": 8,
   "id": "386a5b0d-a4d8-4159-b396-5b43d990c4b8",
   "metadata": {},
   "outputs": [
    {
     "name": "stdout",
     "output_type": "stream",
     "text": [
      "hai\n",
      "correct\n",
      "bye\n"
     ]
    }
   ],
   "source": [
    "#######################################\n",
    "print(\"hai\")\n",
    "#######################################\n",
    "if 100 > 10:\n",
    "    print(\"correct\")\n",
    "#######################################\n",
    "print(\"bye\")"
   ]
  },
  {
   "cell_type": "markdown",
   "id": "04e6f18c-200f-44a6-88d4-8ca87d720d15",
   "metadata": {},
   "source": [
    "## if-else"
   ]
  },
  {
   "cell_type": "markdown",
   "id": "f2ab815d-f411-48a4-852f-1eda10022bcd",
   "metadata": {},
   "source": [
    "- whenever if condition fails automatically it goes to else part\n",
    "\n",
    "- so else does not require any condition\n",
    "\n",
    "- always maintain for both if part and else part."
   ]
  },
  {
   "cell_type": "code",
   "execution_count": 9,
   "id": "ba47b854-9cd7-46c0-a84f-4cb28a6d2e36",
   "metadata": {},
   "outputs": [
    {
     "name": "stdout",
     "output_type": "stream",
     "text": [
      "correct condition\n"
     ]
    }
   ],
   "source": [
    "if 100 > 10:\n",
    "    print(\"correct condition\")\n",
    "else:\n",
    "    print(\"wrong condition\")"
   ]
  },
  {
   "cell_type": "code",
   "execution_count": 10,
   "id": "0f38a53d-33e6-4266-af40-52469b7c1e22",
   "metadata": {},
   "outputs": [
    {
     "name": "stdout",
     "output_type": "stream",
     "text": [
      "10\n",
      "correct condition\n",
      "20\n"
     ]
    }
   ],
   "source": [
    "print(10)\n",
    "###############################################\n",
    "if 100 > 10:\n",
    "    print(\"correct condition\")\n",
    "###############################################    \n",
    "else:\n",
    "    print(\"wrong condition\")\n",
    "###############################################\n",
    "print(20)"
   ]
  },
  {
   "cell_type": "code",
   "execution_count": 11,
   "id": "79044c40-8785-4d33-9c05-f61842db39cc",
   "metadata": {},
   "outputs": [
    {
     "ename": "SyntaxError",
     "evalue": "invalid syntax (1299757565.py, line 7)",
     "output_type": "error",
     "traceback": [
      "\u001b[1;36m  Cell \u001b[1;32mIn[11], line 7\u001b[1;36m\u001b[0m\n\u001b[1;33m    else:\u001b[0m\n\u001b[1;37m    ^\u001b[0m\n\u001b[1;31mSyntaxError\u001b[0m\u001b[1;31m:\u001b[0m invalid syntax\n"
     ]
    }
   ],
   "source": [
    "print(10)\n",
    "\n",
    "if 100 > 10:\n",
    "    print(\"correct condition\")\n",
    "    print(\"okay\")\n",
    "print(\"Why are you come in middel\")\n",
    "else:\n",
    "    print(\"wrong condition\")\n",
    "###############################################\n",
    "print(20)"
   ]
  },
  {
   "cell_type": "markdown",
   "id": "d4cdb5fd-b92e-444d-9026-fbc780ed1dcb",
   "metadata": {},
   "source": [
    "**if and else always together**"
   ]
  },
  {
   "cell_type": "code",
   "execution_count": null,
   "id": "21b1aef0-043e-45b0-9c73-cc38b149e334",
   "metadata": {},
   "outputs": [],
   "source": [
    "# Wap aks ther user take two numbers\n",
    "# num 1 and num2\n",
    "# if both numbers are matched then print we are won\n",
    "# otherwise print we lost\n",
    "#\n",
    "\n",
    "# step 1:- "
   ]
  },
  {
   "cell_type": "code",
   "execution_count": 12,
   "id": "3ad6dea0-4fd8-4f28-8e8d-01e50581e03f",
   "metadata": {},
   "outputs": [
    {
     "name": "stdin",
     "output_type": "stream",
     "text": [
      "Enter num 1:- 30\n",
      "Enter num 2:- 30\n"
     ]
    },
    {
     "name": "stdout",
     "output_type": "stream",
     "text": [
      "We won\n"
     ]
    }
   ],
   "source": [
    "num1 = eval(input(\"Enter num 1:-\"))\n",
    "num2 = eval(input(\"Enter num 2:-\"))\n",
    "\n",
    "if num1 == num2:\n",
    "    print(\"We won\")\n",
    "else:\n",
    "    print(\"We lost\")"
   ]
  },
  {
   "cell_type": "code",
   "execution_count": 13,
   "id": "cad0377d-2ac9-4a88-94b1-d9fc1ee22dec",
   "metadata": {},
   "outputs": [],
   "source": [
    "from random import randint"
   ]
  },
  {
   "cell_type": "code",
   "execution_count": 16,
   "id": "67e398d0-07c8-4c62-b793-121235ee6523",
   "metadata": {},
   "outputs": [
    {
     "name": "stdout",
     "output_type": "stream",
     "text": [
      "91\n"
     ]
    },
    {
     "name": "stdin",
     "output_type": "stream",
     "text": [
      "Enter num 2:- 91\n"
     ]
    },
    {
     "name": "stdout",
     "output_type": "stream",
     "text": [
      "We won\n"
     ]
    }
   ],
   "source": [
    "\n",
    "num1 =randint(1,100)\n",
    "print(num1)\n",
    "num2 = eval(input(\"Enter num 2:-\"))\n",
    "if num1 == num2:\n",
    "    print(\"We won\")\n",
    "else:\n",
    "    print(\"We lost\")"
   ]
  },
  {
   "cell_type": "markdown",
   "id": "290b3cd8-8bc4-4b3f-9686-82c8437e2d30",
   "metadata": {},
   "source": [
    "**if keywords or starting with green color then ending : will come and after that indentation will be come**"
   ]
  },
  {
   "cell_type": "code",
   "execution_count": null,
   "id": "af63cb86-0c92-4894-9085-0b386a0db45f",
   "metadata": {},
   "outputs": [],
   "source": [
    "# wap aks the user enter a number\n",
    "# print if number is even or odd\n",
    "\n",
    "# idea == reminder will be zero"
   ]
  },
  {
   "cell_type": "code",
   "execution_count": 17,
   "id": "a9be2f10-7181-4593-98d2-e8f20f8480cf",
   "metadata": {},
   "outputs": [
    {
     "data": {
      "text/plain": [
       "2.5"
      ]
     },
     "execution_count": 17,
     "metadata": {},
     "output_type": "execute_result"
    }
   ],
   "source": [
    "5/2  # this is a normal division"
   ]
  },
  {
   "cell_type": "code",
   "execution_count": 18,
   "id": "8d743bf5-3f0e-4106-8267-df85670df580",
   "metadata": {},
   "outputs": [
    {
     "data": {
      "text/plain": [
       "2"
      ]
     },
     "execution_count": 18,
     "metadata": {},
     "output_type": "execute_result"
    }
   ],
   "source": [
    "5//2 # this is called float division"
   ]
  },
  {
   "cell_type": "code",
   "execution_count": 19,
   "id": "0367e5c3-df9b-4dd2-b1a5-4dd74de9e4eb",
   "metadata": {},
   "outputs": [
    {
     "data": {
      "text/plain": [
       "1"
      ]
     },
     "execution_count": 19,
     "metadata": {},
     "output_type": "execute_result"
    }
   ],
   "source": [
    "5%2 # this is a modulus operator"
   ]
  },
  {
   "cell_type": "code",
   "execution_count": 24,
   "id": "9a65d1a2-f275-4b51-b1ff-d7db6b2da803",
   "metadata": {},
   "outputs": [
    {
     "name": "stdin",
     "output_type": "stream",
     "text": [
      "Enter a number 25\n"
     ]
    },
    {
     "name": "stdout",
     "output_type": "stream",
     "text": [
      "the given number is odd\n"
     ]
    }
   ],
   "source": [
    "n1 = eval(input(\"Enter a number\"))\n",
    "if n1%2==0:\n",
    "    print(\"the given number is even\")\n",
    "else:\n",
    "    print(\"the given number is odd\")"
   ]
  },
  {
   "cell_type": "code",
   "execution_count": 25,
   "id": "df6a1e6d-060c-43b1-90ed-df21132044dc",
   "metadata": {},
   "outputs": [
    {
     "name": "stdout",
     "output_type": "stream",
     "text": [
      "the given number is odd\n"
     ]
    }
   ],
   "source": [
    "n1 = randint(1,20)\n",
    "if n1%2==0:\n",
    "    print(\"the given number is even\")\n",
    "else:\n",
    "    print(\"the given number is odd\")"
   ]
  },
  {
   "cell_type": "code",
   "execution_count": null,
   "id": "bde78d31-f43a-4e24-800c-9ac6444b33ec",
   "metadata": {},
   "outputs": [],
   "source": [
    "# wap ask a user enter distance\n",
    "# if distance greater than 25\n",
    "# ask the charge\n",
    "# calculate the charge other than 25 km distance\n",
    "# else\n",
    "# print free ride\n"
   ]
  },
  {
   "cell_type": "code",
   "execution_count": 27,
   "id": "c4640efb-989e-445e-ba07-4baab7630630",
   "metadata": {},
   "outputs": [
    {
     "name": "stdin",
     "output_type": "stream",
     "text": [
      "Enter the distance you ride 21\n"
     ]
    },
    {
     "name": "stdout",
     "output_type": "stream",
     "text": [
      "Free Ride\n"
     ]
    }
   ],
   "source": [
    "distance = eval(input(\"Enter the distance you ride\"))\n",
    "\n",
    "if distance > 25:\n",
    "    charge = eval(input(\"What is the charge per Km.\"))\n",
    "    distance_cost = (distance - 25)*charge\n",
    "    print(f\"The total charge you will pay {distance_cost}\")\n",
    "else:\n",
    "    print(\"Free Ride\")"
   ]
  },
  {
   "cell_type": "code",
   "execution_count": 29,
   "id": "16bff77e-f3d9-481f-8897-7dcae80b87b8",
   "metadata": {},
   "outputs": [
    {
     "name": "stdin",
     "output_type": "stream",
     "text": [
      "Enter the distance you ride: 64\n",
      "govt cutoff distance: 30\n"
     ]
    },
    {
     "name": "stdout",
     "output_type": "stream",
     "text": [
      "the charge applicable only on: 34 kms\n"
     ]
    },
    {
     "name": "stdin",
     "output_type": "stream",
     "text": [
      "What is the charge per Km. 40\n"
     ]
    },
    {
     "name": "stdout",
     "output_type": "stream",
     "text": [
      "The total charge you will pay 1360\n"
     ]
    }
   ],
   "source": [
    "distance = eval(input(\"Enter the distance you ride:\"))\n",
    "cutoff_distance = eval(input(\"govt cutoff distance:\"))\n",
    "if distance > cutoff_distance:\n",
    "    print(f\"the charge applicable only on: {distance-cutoff_distance} kms\")\n",
    "    charge = eval(input(\"What is the charge per Km.\"))\n",
    "    distance_cost = (distance - cutoff_distance)*charge\n",
    "    print(f\"The total charge you will pay {distance_cost}\")\n",
    "else:\n",
    "    print(\"Enjoy Free Ride\")"
   ]
  },
  {
   "cell_type": "code",
   "execution_count": null,
   "id": "90dbaec5-19a7-45af-946d-38824b614fc6",
   "metadata": {},
   "outputs": [],
   "source": [
    "# wap ask the user take two numbers\n",
    "# print which is greater number\n",
    "\n",
    "# "
   ]
  },
  {
   "cell_type": "code",
   "execution_count": 31,
   "id": "bcb1d5a1-96b2-4a0e-824e-e5d361811f82",
   "metadata": {},
   "outputs": [
    {
     "name": "stdin",
     "output_type": "stream",
     "text": [
      "Enter n1 32\n",
      "Enter n2 32\n"
     ]
    },
    {
     "name": "stdout",
     "output_type": "stream",
     "text": [
      "32 is greater number\n"
     ]
    }
   ],
   "source": [
    "n1 = eval(input(\"Enter n1\"))\n",
    "n2 = eval(input(\"Enter n2\"))\n",
    "\n",
    "if n1 > n2:\n",
    "    print(f\"{n1} is greater number\")\n",
    "else:\n",
    "    print(f\"{n2} is greater number\")"
   ]
  },
  {
   "cell_type": "code",
   "execution_count": 33,
   "id": "019ed6be-ae36-4884-9293-ff698c4503e8",
   "metadata": {},
   "outputs": [
    {
     "name": "stdout",
     "output_type": "stream",
     "text": [
      "28 is greater number\n"
     ]
    }
   ],
   "source": [
    "n1 = randint(1,30)\n",
    "n2 = randint(1,30)\n",
    "if n1 > n2:\n",
    "    print(f\"{n1} is greater number\")\n",
    "else:\n",
    "    print(f\"{n2} is greater number\")"
   ]
  },
  {
   "cell_type": "code",
   "execution_count": null,
   "id": "11e47f17-c8db-4de5-aa93-9f1daf464084",
   "metadata": {},
   "outputs": [],
   "source": [
    "# wap ask the user \n",
    "# enter the course name\n",
    "# enter the institute name\n",
    "# if course name equal to data science\n",
    "# and institute name equal to naresh it\n",
    "# then print we are good\n",
    "# else print not good\n"
   ]
  },
  {
   "cell_type": "code",
   "execution_count": 35,
   "id": "21bc18b1-4f89-4366-a7ae-ac7a6d2c8e19",
   "metadata": {},
   "outputs": [
    {
     "name": "stdin",
     "output_type": "stream",
     "text": [
      "Enter course name: Data science\n",
      "Enter inst name: NareshIt\n"
     ]
    },
    {
     "name": "stdout",
     "output_type": "stream",
     "text": [
      "We are good\n"
     ]
    }
   ],
   "source": [
    "c_name = input(\"Enter course name:\")\n",
    "inst_name = input(\"Enter inst name:\")\n",
    "if c_name==\"Data science\" and inst_name==\"NareshIt\":\n",
    "    print(\"We are good\")\n",
    "else:\n",
    "    print(\"not good\")"
   ]
  },
  {
   "cell_type": "markdown",
   "id": "8fbef1f5-eebe-48db-97a8-a39cd924dcb5",
   "metadata": {},
   "source": [
    "**if - elif- else**"
   ]
  },
  {
   "cell_type": "markdown",
   "id": "b84ba4b9-284a-4864-aefb-68e11e716bf4",
   "metadata": {},
   "source": [
    "- when we have two solutions based on one condition\n",
    "\n",
    "- then we can go for if-else\n",
    "\n",
    "- when we have 3 solutions based on two conditions\n",
    "\n",
    "- then we go for if-elif-else\n",
    "\n",
    "- if needs condition\n",
    "\n",
    "- elif needs condition\n",
    "\n",
    "- if and elif both are wrong then will get else output\n",
    "  "
   ]
  },
  {
   "cell_type": "markdown",
   "id": "beda0e20-01e6-4bd8-ac4e-f5befed64c50",
   "metadata": {},
   "source": [
    "- two condition"
   ]
  },
  {
   "cell_type": "code",
   "execution_count": 1,
   "id": "0d852f73-fa6c-4d6b-b176-bd30485f6b6b",
   "metadata": {},
   "outputs": [],
   "source": [
    "# wap ask the user enter a number\n",
    "# if the number equal to 1 then print one\n",
    "# if the number equal to 2 then print two\n",
    "# if the number equal to 3 then print three"
   ]
  },
  {
   "cell_type": "code",
   "execution_count": 4,
   "id": "7b0f246d-c4a3-44b2-83f8-623afcfc5c0f",
   "metadata": {},
   "outputs": [
    {
     "name": "stdin",
     "output_type": "stream",
     "text": [
      "Enter a number 2\n"
     ]
    },
    {
     "name": "stdout",
     "output_type": "stream",
     "text": [
      "two\n"
     ]
    }
   ],
   "source": [
    "num = eval(input(\"Enter a number\"))\n",
    "if num == 1:\n",
    "    print(\"one\")\n",
    "elif num == 2:\n",
    "    print(\"two\")\n",
    "elif num == 3:\n",
    "    print(\"three\")\n",
    "else:\n",
    "    print(\"Enter a valid number\")"
   ]
  },
  {
   "cell_type": "code",
   "execution_count": null,
   "id": "0c3c508d-464a-4f7f-a11f-d43ebd76d14f",
   "metadata": {},
   "outputs": [],
   "source": [
    "# if the number equal to 3 then print three\n"
   ]
  },
  {
   "cell_type": "code",
   "execution_count": 5,
   "id": "31468fc5-c984-4a33-9957-6d5f02e9a513",
   "metadata": {},
   "outputs": [],
   "source": [
    "# wap\n"
   ]
  },
  {
   "cell_type": "code",
   "execution_count": 6,
   "id": "2515740b-497c-46a8-8fb8-c8a23e3e720a",
   "metadata": {},
   "outputs": [
    {
     "name": "stdin",
     "output_type": "stream",
     "text": [
      "Enter a percentage of marks 55\n"
     ]
    },
    {
     "name": "stdout",
     "output_type": "stream",
     "text": [
      "C grade \n"
     ]
    }
   ],
   "source": [
    "num = eval(input(\"Enter a percentage of marks\"))\n",
    "\n",
    "if num >= 75:\n",
    "    print(\"first class: A grade \")\n",
    "elif num >= 60:\n",
    "    print(\"B grade \")\n",
    "elif num >= 45:\n",
    "    print(\"C grade \")\n",
    "elif num >= 35:\n",
    "    print(\"D grade \")\n",
    "else:\n",
    "    print(\"fail\")"
   ]
  },
  {
   "cell_type": "code",
   "execution_count": null,
   "id": "36b1a1f4-d031-4d40-b56d-688786acdcb7",
   "metadata": {},
   "outputs": [],
   "source": [
    "# wap "
   ]
  },
  {
   "cell_type": "code",
   "execution_count": 8,
   "id": "204c8c07-ed02-46df-8671-212f824605ca",
   "metadata": {},
   "outputs": [
    {
     "name": "stdin",
     "output_type": "stream",
     "text": [
      "Enter your age: 32\n"
     ]
    },
    {
     "name": "stdout",
     "output_type": "stream",
     "text": [
      "MA\n"
     ]
    }
   ],
   "source": [
    "age = eval(input(\"Enter your age:\"))\n",
    "if age >= 100:\n",
    "    print(\"Unlucky Guy\")\n",
    "elif age >=80:\n",
    "    print(\"Super senior citizen\")\n",
    "elif age >=60:\n",
    "    print(\"Super senior (SS)\")\n",
    "elif age >=40:\n",
    "    print(\"Aged\")\n",
    "elif age >=25:\n",
    "    print(\"MA\")\n",
    "elif age >=15:\n",
    "    print(\"Young\")\n",
    "else:\n",
    "    print(\"Kid\")"
   ]
  },
  {
   "cell_type": "code",
   "execution_count": 9,
   "id": "57a6af7a-4459-4ebe-a161-00ba43ecaf9b",
   "metadata": {},
   "outputs": [],
   "source": [
    " # wap ask the user"
   ]
  },
  {
   "cell_type": "code",
   "execution_count": 14,
   "id": "6339c8dc-d9e7-4b7e-ab9d-685ffe1f5d4a",
   "metadata": {},
   "outputs": [
    {
     "name": "stdin",
     "output_type": "stream",
     "text": [
      "Enter distance: 45\n",
      "Enter charge: 20\n"
     ]
    },
    {
     "name": "stdout",
     "output_type": "stream",
     "text": [
      "The total charge is: 20\n"
     ]
    }
   ],
   "source": [
    "distance = eval(input(\"Enter distance:\"))\n",
    "\n",
    "if distance >100:\n",
    "    charge = eval(input(\"Enter charge:\"))\n",
    "    total_charge = charge * distance #20Rs\n",
    "    print(f\"The total charge is: {total_charge}\")\n",
    "elif distance >50:\n",
    "    charge = eval(input(\"Enter charge:\")) \n",
    "    total_charge = charge * distance   #10Rs\n",
    "    print(f\"The total charge is: {total_charge}\")\n",
    "elif distance >25:\n",
    "    charge = eval(input(\"Enter charge:\")) \n",
    "    total_charge = charge * distance    #5Rs\n",
    "    print(f\"The total charge is: {total_charge}\")\n",
    "else:\n",
    "    print(\"Free Ride\")"
   ]
  },
  {
   "cell_type": "code",
   "execution_count": 1,
   "id": "9407890c-cfde-452c-ac97-c718f466ad51",
   "metadata": {},
   "outputs": [
    {
     "name": "stdout",
     "output_type": "stream",
     "text": [
      "Enter 1 for Addition\n",
      "Enter 2 for substaction\n",
      "Enter 3 for multiplication\n",
      "Enter 4 for division\n"
     ]
    },
    {
     "name": "stdin",
     "output_type": "stream",
     "text": [
      "Enter the number between 1 to 4 4\n"
     ]
    },
    {
     "name": "stdout",
     "output_type": "stream",
     "text": [
      "You choose division\n"
     ]
    },
    {
     "name": "stdin",
     "output_type": "stream",
     "text": [
      "enter the number from keyboard 12\n",
      "enter the number from keyboard 3\n"
     ]
    },
    {
     "name": "stdout",
     "output_type": "stream",
     "text": [
      "4.0\n"
     ]
    }
   ],
   "source": [
    "from time import sleep\n",
    "print(\"Enter 1 for Addition\")\n",
    "sleep(1)\n",
    "print(\"Enter 2 for substaction\")\n",
    "sleep(1)\n",
    "print(\"Enter 3 for multiplication\")\n",
    "sleep(1)\n",
    "print(\"Enter 4 for division\")\n",
    "sleep(1)\n",
    "operation = eval(input(\"Enter the number between 1 to 4\"))\n",
    "if operation ==1:\n",
    "    print(\"You choose addition\")\n",
    "    n1 =eval(input(\"enter the number from keyboard\"))\n",
    "    n2 =eval(input(\"enter the number from keyboard\"))\n",
    "    addition= (n1+n2)\n",
    "    print(addition)\n",
    "elif operation ==2:\n",
    "    print(\"You choose substaction\")\n",
    "    n1 =eval(input(\"enter the number from keyboard\"))\n",
    "    n2 =eval(input(\"enter the number from keyboard\"))\n",
    "    substaction = (n1-n2)\n",
    "    print(substaction)\n",
    "elif operation ==3:\n",
    "    print(\"You choose multiplication\")\n",
    "    n1 =eval(input(\"enter the number from keyboard\"))\n",
    "    n2 =eval(input(\"enter the number from keyboard\"))\n",
    "    multiplication = (n1*n2)\n",
    "    print(multiplication)\n",
    "elif operation ==4:\n",
    "    print(\"You choose division\")\n",
    "    n1 =eval(input(\"enter the number from keyboard\"))\n",
    "    n2 =eval(input(\"enter the number from keyboard\"))\n",
    "    division = (n1/n2)\n",
    "    print(division)\n",
    "else:\n",
    "    print(\"You choose invaild option\")\n",
    "    "
   ]
  },
  {
   "cell_type": "markdown",
   "id": "c65706fd-067d-4dee-8056-79eea5216c4e",
   "metadata": {},
   "source": [
    "# nested if-else"
   ]
  },
  {
   "cell_type": "code",
   "execution_count": null,
   "id": "f30e0b08-5a30-4895-a924-b578f61696d4",
   "metadata": {},
   "outputs": [],
   "source": [
    "# if-elif-else\n",
    "#wap ask the user enter a number\n"
   ]
  },
  {
   "cell_type": "code",
   "execution_count": 4,
   "id": "1f5dd2ea-5f19-46e0-922d-e1b965e7f5f2",
   "metadata": {},
   "outputs": [
    {
     "name": "stdin",
     "output_type": "stream",
     "text": [
      "Enter your number: 0\n"
     ]
    },
    {
     "name": "stdout",
     "output_type": "stream",
     "text": [
      "zero number\n"
     ]
    }
   ],
   "source": [
    "num = eval(input(\"Enter your number:\"))\n",
    "if num > 0:\n",
    "    print(\"Positive number\")\n",
    "elif num < 0:\n",
    "    print(\"negative number\")\n",
    "else:\n",
    "    print(\"zero number\")\n",
    "    "
   ]
  },
  {
   "cell_type": "code",
   "execution_count": 7,
   "id": "32a70bf4-1227-4e16-86f2-a9016fa82a2c",
   "metadata": {},
   "outputs": [
    {
     "name": "stdin",
     "output_type": "stream",
     "text": [
      "Enter your number: 0\n"
     ]
    },
    {
     "name": "stdout",
     "output_type": "stream",
     "text": [
      "zero\n"
     ]
    }
   ],
   "source": [
    "num = eval(input(\"Enter your number:\"))\n",
    "if num >= 0:\n",
    "    if num == 0:\n",
    "        print(\"zero\")\n",
    "    else:\n",
    "        print(\"positive\")\n",
    "else:\n",
    "    print(\"negative\")\n"
   ]
  },
  {
   "cell_type": "code",
   "execution_count": 12,
   "id": "d843ef16-4434-4861-9861-e00e21d43c90",
   "metadata": {},
   "outputs": [
    {
     "name": "stdin",
     "output_type": "stream",
     "text": [
      "Enter your gender: male\n",
      "enter your age 40\n"
     ]
    },
    {
     "name": "stdout",
     "output_type": "stream",
     "text": [
      "middle age man\n"
     ]
    }
   ],
   "source": [
    "# wap \n",
    "gender = input(\"Enter your gender:\")\n",
    "if gender == \"male\":\n",
    "    age = int(input(\"enter your age\"))\n",
    "    if age >= 60:\n",
    "        print(\"SC\")\n",
    "    elif age >=30:\n",
    "        print(\"middle age man\")\n",
    "    elif age >=10:\n",
    "        print(\"young man\")\n",
    "    else:\n",
    "        print(\"A boy\")\n",
    "elif gender == \"female\":\n",
    "    age = int(input(\"enter your age\"))\n",
    "    age = int(input(\"enter your age\"))\n",
    "    if age >= 60:\n",
    "        print(\"SC\")\n",
    "    elif age >=30:\n",
    "        print(\"middle age woman\")\n",
    "    elif age >=10:\n",
    "        print(\"young girl\")\n",
    "    else:\n",
    "        print(\"A girl\")\n",
    "else:\n",
    "    print(\"Enter a valid gender\")"
   ]
  },
  {
   "cell_type": "code",
   "execution_count": 1,
   "id": "24201ab1-ec7e-4da7-93e4-25466bab713b",
   "metadata": {},
   "outputs": [
    {
     "name": "stdin",
     "output_type": "stream",
     "text": [
      "Enter your gender: 56\n"
     ]
    },
    {
     "name": "stdout",
     "output_type": "stream",
     "text": [
      "Enter a valid gender\n"
     ]
    }
   ],
   "source": [
    "gender = input(\"Enter your gender:\")\n",
    "if gender == \"male\":\n",
    "    age = int(input(\"enter your age\"))\n",
    "    if age >= 60:print(\"SC\")\n",
    "    elif age >=30:print(\"middle age man\")\n",
    "    elif age >=10:print(\"young man\")\n",
    "    else:print(\"A boy\")\n",
    "elif gender == \"female\":\n",
    "    age = int(input(\"enter your age\"))\n",
    "    if age >= 60:print(\"SC\")\n",
    "    elif age >=30:print(\"middle age woman\")\n",
    "    elif age >=10:print(\"young girl\")\n",
    "    else:print(\"A girl\")\n",
    "else:print(\"Enter a valid gender\")"
   ]
  },
  {
   "cell_type": "code",
   "execution_count": 23,
   "id": "31ff9359-73ea-40af-a784-ed68af7bb96f",
   "metadata": {},
   "outputs": [],
   "source": [
    "#wap\n"
   ]
  },
  {
   "cell_type": "code",
   "execution_count": 26,
   "id": "fc92d38c-6a3a-4f62-9a46-ec2d75143779",
   "metadata": {},
   "outputs": [
    {
     "name": "stdin",
     "output_type": "stream",
     "text": [
      "Enter your number 1: 24\n",
      "Enter your number 2: 3\n",
      "Enter your number 3: 2\n"
     ]
    },
    {
     "name": "stdout",
     "output_type": "stream",
     "text": [
      "24 is greater\n"
     ]
    }
   ],
   "source": [
    "num1 = eval(input(\"Enter your number 1:\"))\n",
    "num2 = eval(input(\"Enter your number 2:\"))\n",
    "num3 = eval(input(\"Enter your number 3:\"))\n",
    "if num1 >num2:\n",
    "    if num1 >num3:\n",
    "        print(f\"{num1} is greater\")\n",
    "    else:\n",
    "        print(f\"{num3} is greater\")\n",
    "elif num2>num3:\n",
    "    print(f\"{num2} is greater\")\n",
    "else:\n",
    "    print(f\"{num3} is greater\")"
   ]
  },
  {
   "cell_type": "code",
   "execution_count": 22,
   "id": "5dd59cb8-e9ed-43e6-bcd0-d275d525d88d",
   "metadata": {},
   "outputs": [
    {
     "name": "stdin",
     "output_type": "stream",
     "text": [
      "Enter your number 1: 31\n",
      "Enter your number 2: 32\n",
      "Enter your number 3: 43\n"
     ]
    },
    {
     "name": "stdout",
     "output_type": "stream",
     "text": [
      "43 is greatest\n"
     ]
    }
   ],
   "source": [
    "num1 = eval(input(\"Enter your number 1:\"))\n",
    "num2 = eval(input(\"Enter your number 2:\"))\n",
    "num3 = eval(input(\"Enter your number 3:\"))\n",
    "if num1 > num2 and num1> num3:\n",
    "    print(f\"{num1} is greatest\")\n",
    "elif num2 > num1 and num2 > num3:\n",
    "    print(f\"{num2} is greatest\")\n",
    "else:\n",
    "    print(f\"{num3} is greatest\")"
   ]
  },
  {
   "cell_type": "code",
   "execution_count": null,
   "id": "fbc23e29-6a74-4898-86c0-23f03b6928b2",
   "metadata": {},
   "outputs": [],
   "source": [
    "num1 = eval(input(\"Enter your number 1:\"))\n",
    "num2 = eval(input(\"Enter your number 2:\"))\n",
    "num3 = eval(input(\"Enter your number 3:\"))\n",
    "if num1 > num2 and num1> num3:\n",
    "    print(f\"{num1} is greatest\")\n",
    "elif num2 > num3:   # no need to check again\n",
    "    print(f\"{num2} is greatest\")\n",
    "else:\n",
    "    print(f\"{num3} is greatest\")"
   ]
  },
  {
   "cell_type": "code",
   "execution_count": null,
   "id": "ecfc052d-459d-42ba-af5d-ff472191206f",
   "metadata": {},
   "outputs": [],
   "source": []
  }
 ],
 "metadata": {
  "kernelspec": {
   "display_name": "Python 3 (ipykernel)",
   "language": "python",
   "name": "python3"
  },
  "language_info": {
   "codemirror_mode": {
    "name": "ipython",
    "version": 3
   },
   "file_extension": ".py",
   "mimetype": "text/x-python",
   "name": "python",
   "nbconvert_exporter": "python",
   "pygments_lexer": "ipython3",
   "version": "3.12.4"
  }
 },
 "nbformat": 4,
 "nbformat_minor": 5
}
