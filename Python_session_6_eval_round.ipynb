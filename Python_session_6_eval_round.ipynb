{
 "cells": [
  {
   "cell_type": "markdown",
   "id": "bfba9f11-dbb0-4d2d-b8c6-d1aefa4c1076",
   "metadata": {},
   "source": [
    "- Generally if you observe any application \n",
    "- user will provide the values\n",
    "- backend some progragming language will work\n",
    "- if any code the values we give is called **Hard Code**\n",
    "- always the code should be generic\n",
    "- in python the use can provide the values from keyword using **input**"
   ]
  },
  {
   "cell_type": "code",
   "execution_count": 1,
   "id": "8ee35cf9-cf25-4a67-b4f2-6246d33a81e4",
   "metadata": {},
   "outputs": [
    {
     "name": "stdin",
     "output_type": "stream",
     "text": [
      " 23\n"
     ]
    },
    {
     "data": {
      "text/plain": [
       "'23'"
      ]
     },
     "execution_count": 1,
     "metadata": {},
     "output_type": "execute_result"
    }
   ],
   "source": [
    "input()"
   ]
  },
  {
   "cell_type": "code",
   "execution_count": 2,
   "id": "98f7ebef-13a0-4fda-a13d-94c28d60e979",
   "metadata": {},
   "outputs": [
    {
     "name": "stdin",
     "output_type": "stream",
     "text": [
      " 23\n",
      " 34\n",
      " done\n"
     ]
    },
    {
     "data": {
      "text/plain": [
       "'done'"
      ]
     },
     "execution_count": 2,
     "metadata": {},
     "output_type": "execute_result"
    }
   ],
   "source": [
    "input()\n",
    "input()\n",
    "input()"
   ]
  },
  {
   "cell_type": "code",
   "execution_count": 3,
   "id": "ce884b4c-27cf-4aa5-9445-04724e461036",
   "metadata": {},
   "outputs": [
    {
     "name": "stdin",
     "output_type": "stream",
     "text": [
      " 30\n"
     ]
    },
    {
     "data": {
      "text/plain": [
       "'30'"
      ]
     },
     "execution_count": 3,
     "metadata": {},
     "output_type": "execute_result"
    }
   ],
   "source": [
    "input()\n"
   ]
  },
  {
   "cell_type": "code",
   "execution_count": 4,
   "id": "0a100010-e5f9-4c5f-ad8d-3014b3f230be",
   "metadata": {},
   "outputs": [
    {
     "name": "stdin",
     "output_type": "stream",
     "text": [
      "Enter a num 1 34\n"
     ]
    },
    {
     "data": {
      "text/plain": [
       "'34'"
      ]
     },
     "execution_count": 4,
     "metadata": {},
     "output_type": "execute_result"
    }
   ],
   "source": [
    "input(\"Enter a num 1\")"
   ]
  },
  {
   "cell_type": "code",
   "execution_count": 5,
   "id": "2f2b76b7-a7c8-4b42-b49d-a04a35b2d74a",
   "metadata": {},
   "outputs": [
    {
     "name": "stdin",
     "output_type": "stream",
     "text": [
      "Enter your name xyz\n",
      "enter your age 29\n",
      "enter your city city\n"
     ]
    },
    {
     "data": {
      "text/plain": [
       "'city'"
      ]
     },
     "execution_count": 5,
     "metadata": {},
     "output_type": "execute_result"
    }
   ],
   "source": [
    "input(\"Enter your name\")\n",
    "input(\"enter your age\")\n",
    "input(\"enter your city\")"
   ]
  },
  {
   "cell_type": "code",
   "execution_count": 6,
   "id": "2bbc5911-1c50-495b-8bca-94c297fdd15d",
   "metadata": {},
   "outputs": [
    {
     "data": {
      "text/plain": [
       "30"
      ]
     },
     "execution_count": 6,
     "metadata": {},
     "output_type": "execute_result"
    }
   ],
   "source": [
    "a = 10\n",
    "b = 20\n",
    "a+b"
   ]
  },
  {
   "cell_type": "code",
   "execution_count": 10,
   "id": "63fbc30b-9ea6-4a01-a6cd-ea1003b1fa5e",
   "metadata": {},
   "outputs": [
    {
     "name": "stdin",
     "output_type": "stream",
     "text": [
      "Enter v1: l\n",
      "Enter v2: k\n"
     ]
    },
    {
     "data": {
      "text/plain": [
       "'lk'"
      ]
     },
     "execution_count": 10,
     "metadata": {},
     "output_type": "execute_result"
    }
   ],
   "source": [
    "a = input(\"Enter v1:\") # a = '100'\n",
    "b = input(\"Enter v2:\") # b = '200'\n",
    "a+b  # '100' + '200' =100200"
   ]
  },
  {
   "cell_type": "code",
   "execution_count": 11,
   "id": "616c54b1-fb30-478c-b72a-03c0958361d8",
   "metadata": {},
   "outputs": [
    {
     "name": "stdin",
     "output_type": "stream",
     "text": [
      "Enter v1: 100\n",
      "Enter v2: 200\n"
     ]
    },
    {
     "data": {
      "text/plain": [
       "300"
      ]
     },
     "execution_count": 11,
     "metadata": {},
     "output_type": "execute_result"
    }
   ],
   "source": [
    "a = int(input(\"Enter v1:\"))# a = int('100') = 100\n",
    "b = int(input(\"Enter v2:\")) # b = int('200') = 200\n",
    "a+b"
   ]
  },
  {
   "cell_type": "code",
   "execution_count": 13,
   "id": "8687c389-c6c5-4ec9-b321-29466008d26d",
   "metadata": {},
   "outputs": [
    {
     "data": {
      "text/plain": [
       "300"
      ]
     },
     "execution_count": 13,
     "metadata": {},
     "output_type": "execute_result"
    }
   ],
   "source": [
    "int(\"100\") + int(\"200\")"
   ]
  },
  {
   "cell_type": "markdown",
   "id": "ec4f0a78-ca0c-4ee7-bb12-6d1fbba3182f",
   "metadata": {},
   "source": [
    "**Method 1**\n"
   ]
  },
  {
   "cell_type": "code",
   "execution_count": 14,
   "id": "a7d5151a-83fb-43a4-aacf-e6d842d59463",
   "metadata": {},
   "outputs": [
    {
     "name": "stdin",
     "output_type": "stream",
     "text": [
      "Enter v1: 228\n",
      "Enter v2: 23\n"
     ]
    },
    {
     "data": {
      "text/plain": [
       "251"
      ]
     },
     "execution_count": 14,
     "metadata": {},
     "output_type": "execute_result"
    }
   ],
   "source": [
    "a = int(input(\"Enter v1:\"))# a = int('100') = 100\n",
    "b = int(input(\"Enter v2:\")) # b = int('200') = 200\n",
    "a+b # 100+200 = 300\n"
   ]
  },
  {
   "cell_type": "markdown",
   "id": "92d77fed-a276-455b-bc69-9f4d09de0715",
   "metadata": {},
   "source": [
    "**Method 2**"
   ]
  },
  {
   "cell_type": "code",
   "execution_count": 15,
   "id": "a1ddc981-4b1f-4f40-8198-e0211bea814e",
   "metadata": {},
   "outputs": [
    {
     "name": "stdin",
     "output_type": "stream",
     "text": [
      "Enter v1: 100\n",
      "Enter v2: 200\n"
     ]
    },
    {
     "data": {
      "text/plain": [
       "300"
      ]
     },
     "execution_count": 15,
     "metadata": {},
     "output_type": "execute_result"
    }
   ],
   "source": [
    "a = input(\"Enter v1:\")# a = int('100') = 100\n",
    "b = input(\"Enter v2:\") # b = int('200') = 200\n",
    "add = int(a)+int(b) #add = int('100') + int('200') = 100+200=300\n",
    "add"
   ]
  },
  {
   "cell_type": "code",
   "execution_count": 16,
   "id": "d554c7a9-dc18-4642-8e25-79df0d3eac4a",
   "metadata": {},
   "outputs": [
    {
     "name": "stdin",
     "output_type": "stream",
     "text": [
      " 100.5\n"
     ]
    },
    {
     "data": {
      "text/plain": [
       "100.5"
      ]
     },
     "execution_count": 16,
     "metadata": {},
     "output_type": "execute_result"
    }
   ],
   "source": [
    "input()\n"
   ]
  },
  {
   "cell_type": "markdown",
   "id": "aed87f46-6850-4fb8-95ff-eedece9c93ac",
   "metadata": {},
   "source": [
    "**eval**"
   ]
  },
  {
   "cell_type": "markdown",
   "id": "786984e1-8920-4243-b47f-033ffa37c84a",
   "metadata": {},
   "source": [
    "- Whenever we listen about eval it represents math term **evaluation**\n",
    "- instead of focus on int and float every time\n",
    "- simply use eval conversion always\n",
    "- if you apply eval it will convert the value based on base data type\n",
    "- if user will provide the integer, it will convert into integer value.\n",
    "- if user will provide the float, it will convert into float value.\n",
    "- if user will provide the string, it will convert an error, because eval is math term.\n",
    "\n",
    "- **eval will convert string values to numbers**"
   ]
  },
  {
   "cell_type": "code",
   "execution_count": null,
   "id": "ed9527a1-1146-4d84-85b2-86f555c92e99",
   "metadata": {},
   "outputs": [],
   "source": [
    "# syntax:- eval(input())"
   ]
  },
  {
   "cell_type": "code",
   "execution_count": 23,
   "id": "34f6bd13-31c8-4f2c-9105-8e839293f971",
   "metadata": {},
   "outputs": [
    {
     "name": "stdin",
     "output_type": "stream",
     "text": [
      "enter the value 23.4\n",
      "enter the value 22\n"
     ]
    },
    {
     "name": "stdout",
     "output_type": "stream",
     "text": [
      "the addition of 23.4 and 22 is 45.4\n"
     ]
    }
   ],
   "source": [
    "n1 = eval(input(\"enter the value\"))\n",
    "n2 = eval(input(\"enter the value\"))\n",
    "n1 + n2\n",
    "print(f\"the addition of {n1} and {n2} is {n1+n2}\")\n"
   ]
  },
  {
   "cell_type": "markdown",
   "id": "2e90e2c7-1df3-43f6-93a7-31a5e12cd1f5",
   "metadata": {},
   "source": [
    "- error1 - ( never will closed\n",
    "    - you open the bracket, you forgot to close\n",
    "- error 2- unterminated string literal\n",
    "    - check at last of string the quotes provide or not"
   ]
  },
  {
   "cell_type": "code",
   "execution_count": 26,
   "id": "d5d2dc34-e697-4f95-8ebb-838da1336745",
   "metadata": {},
   "outputs": [
    {
     "name": "stdin",
     "output_type": "stream",
     "text": [
      "Enter 1st number from keyboard 29\n",
      "Enter 2nd number from keyboard 32\n",
      "Enter 3rd number from keyboard 23\n"
     ]
    },
    {
     "name": "stdout",
     "output_type": "stream",
     "text": [
      "Average of three Number 0.84\n"
     ]
    }
   ],
   "source": [
    "# write a program  ask the user take three numbers from keyboard and print average.\n",
    "\n",
    "x = int(input(\"Enter 1st number from keyboard\"))\n",
    "y = int(input(\"Enter 2nd number from keyboard\"))\n",
    "z = int(input(\"Enter 3rd number from keyboard\"))\n",
    "ave = (x+y+z)/100\n",
    "print(\"Average of three Number\", ave)\n",
    "\n",
    "# WAP ask the user take the breadth and height from keyboard \n",
    "        # Calculate area of right angle triangle\n",
    "        # Formula:- 0.5*b*h\n",
    "\n",
    "\n",
    "#WAP ask the take the radius from keyboard\n",
    "        #Calculate the area of circle\n",
    "        #F:- pi*r*r , pi = 3.14\n",
    "#Wap ask the user enter the bill amount \n",
    "        #ask the user provide how much tip amount he wants to give\n",
    "        #Calculate the total bill\n",
    "#WAP ask the user enter the bill amount\n",
    "        #ask the user how much tip percentage he wants to give \n",
    "        # Calculate the total bill"
   ]
  },
  {
   "cell_type": "code",
   "execution_count": 29,
   "id": "fdd9b435-1fd4-40d6-86ab-933f7c7dc879",
   "metadata": {},
   "outputs": [
    {
     "name": "stdin",
     "output_type": "stream",
     "text": [
      "Enter a Breadth here 49\n",
      "enter a Height here 34\n"
     ]
    },
    {
     "data": {
      "text/plain": [
       "833.0"
      ]
     },
     "execution_count": 29,
     "metadata": {},
     "output_type": "execute_result"
    }
   ],
   "source": [
    "# WAP ask the user take the breadth and height from keyboard \n",
    "        # Calculate area of right angle triangle\n",
    "        # Formula:- 0.5*b*h\n",
    "b = float(input(\"Enter a Breadth here\"))\n",
    "h= float(input(\"enter a Height here\"))\n",
    "area = 0.5*(b)*(h)\n",
    "area"
   ]
  },
  {
   "cell_type": "code",
   "execution_count": 30,
   "id": "5d2b5dd8-b6d5-4f5a-9c07-a35437041cb9",
   "metadata": {},
   "outputs": [
    {
     "name": "stdin",
     "output_type": "stream",
     "text": [
      "Enter the radius of a circle 30\n"
     ]
    },
    {
     "data": {
      "text/plain": [
       "2826.0"
      ]
     },
     "execution_count": 30,
     "metadata": {},
     "output_type": "execute_result"
    }
   ],
   "source": [
    "#WAP ask the take the radius from keyboard\n",
    "        #Calculate the area of circle\n",
    "        #F:- pi*r*r , pi = 3.14\n",
    "r = float(input(\"Enter the radius of a circle\"))\n",
    "pi = 3.14\n",
    "circle_area = pi*r*r \n",
    "circle_area"
   ]
  },
  {
   "cell_type": "code",
   "execution_count": 32,
   "id": "7d6f0e85-b1b3-45c3-a815-c8994b4e353f",
   "metadata": {},
   "outputs": [
    {
     "name": "stdin",
     "output_type": "stream",
     "text": [
      "Enter the bill amount 3000\n",
      "Enter the Tip amount 200\n"
     ]
    },
    {
     "data": {
      "text/plain": [
       "2800"
      ]
     },
     "execution_count": 32,
     "metadata": {},
     "output_type": "execute_result"
    }
   ],
   "source": [
    "#Wap ask the user enter the bill amount \n",
    "        #ask the user provide how much tip amount he wants to give\n",
    "        #Calculate the total bill\n",
    "user_bill_amount = int(input(\"Enter the bill amount\"))\n",
    "user_tip_amount = int(input(\"Enter the Tip amount\"))\n",
    "Total_bill = (user_bill_amount) - (user_tip_amount)\n",
    "Total_bill"
   ]
  },
  {
   "cell_type": "code",
   "execution_count": null,
   "id": "febd7553-1641-449b-8581-d9f394c36bf9",
   "metadata": {},
   "outputs": [],
   "source": [
    "#WAP ask the user enter the bill amount\n",
    "        #ask the user how much tip percentage he wants to give \n",
    "        # Calculate the total bill\n",
    "user_bill_amount = int(input(\"Enter the bill amount\"))\n",
    "tip_per = float(input(\"Tip percentage you wants\"))\n",
    "Total_bill = "
   ]
  },
  {
   "cell_type": "code",
   "execution_count": 34,
   "id": "ee375c4c-bb8a-4e59-b056-0c57abcf28f8",
   "metadata": {},
   "outputs": [
    {
     "name": "stdin",
     "output_type": "stream",
     "text": [
      "Enter the n1:- 789\n",
      "Enter the n2:- 97\n",
      "Enter the n3:- 577\n"
     ]
    },
    {
     "name": "stdout",
     "output_type": "stream",
     "text": [
      "the ave of 789,97and577 is 487.6666666666667\n"
     ]
    }
   ],
   "source": [
    "#1st QUE\n",
    "n1=eval(input(\"Enter the n1:-\"))\n",
    "n2=eval(input(\"Enter the n2:-\"))\n",
    "n3=eval(input(\"Enter the n3:-\"))\n",
    "ave= (n1+n2+n3)/3\n",
    "print(f\"the ave of {n1},{n2}and{n3} is {ave}\")"
   ]
  },
  {
   "cell_type": "markdown",
   "id": "aa803c1d-4988-410a-98d1-8133fd41b366",
   "metadata": {},
   "source": [
    "**Round**"
   ]
  },
  {
   "cell_type": "code",
   "execution_count": 36,
   "id": "864729f1-26c4-41d7-98ed-0a53f9eefd57",
   "metadata": {},
   "outputs": [
    {
     "data": {
      "text/plain": [
       "488"
      ]
     },
     "execution_count": 36,
     "metadata": {},
     "output_type": "execute_result"
    }
   ],
   "source": [
    "round(487.6666)"
   ]
  },
  {
   "cell_type": "code",
   "execution_count": 37,
   "id": "2fd4d656-9eb9-41ea-97ad-6bf73100536a",
   "metadata": {},
   "outputs": [
    {
     "data": {
      "text/plain": [
       "19.68"
      ]
     },
     "execution_count": 37,
     "metadata": {},
     "output_type": "execute_result"
    }
   ],
   "source": [
    "round(19.6777777)\n",
    "round(19.6777777,1)\n",
    "round(19.6777777,2)\n",
    "round(19.6777777,3)"
   ]
  },
  {
   "cell_type": "code",
   "execution_count": 39,
   "id": "34e7e69e-d0d4-439e-8fc2-7130c983d5e2",
   "metadata": {},
   "outputs": [
    {
     "name": "stdin",
     "output_type": "stream",
     "text": [
      "Enter the n1:- 93\n",
      "Enter the n2:- 46\n",
      "Enter the n3:- 68\n"
     ]
    },
    {
     "name": "stdout",
     "output_type": "stream",
     "text": [
      "the ave of 93,46 and 68 is 69.0\n"
     ]
    }
   ],
   "source": [
    "n1=eval(input(\"Enter the n1:-\"))\n",
    "n2=eval(input(\"Enter the n2:-\"))\n",
    "n3=eval(input(\"Enter the n3:-\"))\n",
    "ave= (n1+n2+n3)/3\n",
    "avg1 = round(ave,2)\n",
    "print(f\"the ave of {n1},{n2} and {n3} is {avg1}\")"
   ]
  },
  {
   "cell_type": "code",
   "execution_count": 41,
   "id": "8d193b6d-c2ba-4788-a6c1-b625ddd4230d",
   "metadata": {},
   "outputs": [
    {
     "name": "stdin",
     "output_type": "stream",
     "text": [
      "Enter the breadth:-  89\n",
      "Enter the height:-  67\n"
     ]
    },
    {
     "name": "stdout",
     "output_type": "stream",
     "text": [
      "the area of right angled triangle is: 2981.5\n"
     ]
    }
   ],
   "source": [
    "#2nd Que \n",
    "breadth =eval(input(\"Enter the breadth:- \"))\n",
    "height =eval(input(\"Enter the height:- \"))\n",
    "area = 0.5*breadth*height\n",
    "print(f\"the area of right angled triangle is: {area}\")"
   ]
  },
  {
   "cell_type": "code",
   "execution_count": 43,
   "id": "fb33e713-5b7d-4321-8717-9792ff259df2",
   "metadata": {},
   "outputs": [
    {
     "name": "stdin",
     "output_type": "stream",
     "text": [
      "enter the radius 43\n"
     ]
    },
    {
     "name": "stdout",
     "output_type": "stream",
     "text": [
      "the area of circle is: 5805.860000000001\n"
     ]
    }
   ],
   "source": [
    "#3rd QUE\n",
    "radius = eval(input(\"enter the radius\"))\n",
    "pi = 3.14\n",
    "area = pi*radius*radius\n",
    "print(f\"the area of circle is: {area}\")"
   ]
  },
  {
   "cell_type": "code",
   "execution_count": 45,
   "id": "4f96347a-11b2-4ab2-9d9e-f41a2bfd18da",
   "metadata": {},
   "outputs": [
    {
     "name": "stdin",
     "output_type": "stream",
     "text": [
      "Enter the bill amount 1000\n",
      "Enter the Tip amount 1\n"
     ]
    },
    {
     "name": "stdout",
     "output_type": "stream",
     "text": [
      "the total bill is: 1010.0\n"
     ]
    }
   ],
   "source": [
    "#5th Que\n",
    "bill_amount = eval(input(\"Enter the bill amount\"))\n",
    "tip_percentage = eval(input(\"Enter the Tip amount\"))\n",
    "tip_amount = bill_amount*tip_percentage/100\n",
    "total_bill = bill_amount+tip_amount\n",
    "print(f\"the total bill is: {total_bill}\")"
   ]
  },
  {
   "cell_type": "code",
   "execution_count": null,
   "id": "cd245fd9-2623-42e6-b96a-d8b3d1a5726d",
   "metadata": {},
   "outputs": [],
   "source": [
    "# Father and son\n",
    "# Son has retuen the exam \n",
    "# the result got out\n",
    "# father percentage of marks to the son\n",
    "# so son says dad i will gill the marks \n",
    "# You will calculate percentage"
   ]
  },
  {
   "cell_type": "code",
   "execution_count": 6,
   "id": "0aabc976-195d-4761-9bf7-a9e6d85eb13c",
   "metadata": {},
   "outputs": [
    {
     "name": "stdin",
     "output_type": "stream",
     "text": [
      "father: hi\n",
      "son: hello\n",
      "father: I heard your result\n",
      "son: yes dad\n",
      "father: I will show you\n",
      "son: oj\n",
      "father: \n",
      "Marathi marks Enter: 87\n",
      "Hindi marks Enter: 68\n",
      "English marks Enter: 58\n",
      "Maths marks Enter: 87\n",
      "Soc-sci marks Enter: 96\n",
      "Science marks Enter: 69\n"
     ]
    },
    {
     "data": {
      "text/plain": [
       "('You Got', 77.5, '%')"
      ]
     },
     "execution_count": 6,
     "metadata": {},
     "output_type": "execute_result"
    }
   ],
   "source": [
    "input(\"father:\")\n",
    "input(\"son:\")\n",
    "input(\"father:\")\n",
    "input(\"son:\")\n",
    "input(\"father:\")\n",
    "input(\"son:\")\n",
    "input(\"father:\")\n",
    "Marathi = eval(input(\"Marathi marks Enter:\"))\n",
    "Hindi = eval(input(\"Hindi marks Enter:\"))\n",
    "Eng = eval(input(\"English marks Enter:\"))\n",
    "Maths = eval(input(\"Maths marks Enter:\"))\n",
    "Soc_sci= eval(input(\"Soc-sci marks Enter:\"))\n",
    "Science= eval(input(\"Science marks Enter:\"))\n",
    "Average = (Marathi +Hindi+Eng+Maths+Soc_sci+Science)/6\n",
    "percentage_you_got= (f\"You Got\", Average, \"%\")\n",
    "percentage_you_got"
   ]
  },
  {
   "cell_type": "code",
   "execution_count": null,
   "id": "c20f8635-ba18-43fd-a00a-7aea20af455b",
   "metadata": {},
   "outputs": [],
   "source": [
    "# Mistake No. 1 assing the variable which is we are not using\n"
   ]
  }
 ],
 "metadata": {
  "kernelspec": {
   "display_name": "Python 3 (ipykernel)",
   "language": "python",
   "name": "python3"
  },
  "language_info": {
   "codemirror_mode": {
    "name": "ipython",
    "version": 3
   },
   "file_extension": ".py",
   "mimetype": "text/x-python",
   "name": "python",
   "nbconvert_exporter": "python",
   "pygments_lexer": "ipython3",
   "version": "3.12.4"
  }
 },
 "nbformat": 4,
 "nbformat_minor": 5
}
