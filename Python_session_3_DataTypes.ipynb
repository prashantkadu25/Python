{
 "cells": [
  {
   "cell_type": "markdown",
   "id": "902f79c2-0b25-45db-9c1b-bda7fb29614f",
   "metadata": {},
   "source": [
    "# Data Types"
   ]
  },
  {
   "cell_type": "markdown",
   "id": "4e808870-4546-46a7-a228-6ff08743b81a",
   "metadata": {},
   "source": [
    "- Python can say data type of the value with out intializing \n",
    "- which means the data type automatically consider\n",
    "- Python has some in-built data type structure\n",
    "- int : integer\n",
    "- float\n",
    "- srt : string\n",
    "- range\n",
    "- bool : boolean \n",
    "- complex \n",
    "- list\n",
    "- tupel \n",
    "- dict : dictionary\n",
    "- set\n",
    "- frozenset\n",
    "- bytes\n",
    "- bytearry\n",
    "- memoryview\n",
    "- none type\n",
    "  "
   ]
  },
  {
   "cell_type": "code",
   "execution_count": null,
   "id": "5f375672-803d-43f4-8599-7b1809ebc683",
   "metadata": {},
   "outputs": [],
   "source": []
  },
  {
   "cell_type": "markdown",
   "id": "c96a61f0-2512-42c3-aaa1-89b7962279c7",
   "metadata": {},
   "source": [
    "# Integer"
   ]
  },
  {
   "cell_type": "code",
   "execution_count": 2,
   "id": "1f1541ce-bb47-4eea-89e8-54da7a5f1777",
   "metadata": {},
   "outputs": [
    {
     "data": {
      "text/plain": [
       "int"
      ]
     },
     "execution_count": 2,
     "metadata": {},
     "output_type": "execute_result"
    }
   ],
   "source": [
    "num = 100\n",
    "type(num)"
   ]
  },
  {
   "cell_type": "code",
   "execution_count": 3,
   "id": "82e5b5bc-4561-4ebd-9952-dbbc755cfd0d",
   "metadata": {},
   "outputs": [
    {
     "name": "stdout",
     "output_type": "stream",
     "text": [
      "100\n"
     ]
    }
   ],
   "source": [
    "print(num)"
   ]
  },
  {
   "cell_type": "code",
   "execution_count": null,
   "id": "423ab2b3-c3e5-4486-979d-8e46fc7c0ce4",
   "metadata": {},
   "outputs": [],
   "source": [
    "# We have numerical language \n",
    "# age = 20\n",
    "# distane = 3\n",
    "# salary = 20000\n",
    "\n"
   ]
  },
  {
   "cell_type": "markdown",
   "id": "093c87f8-4fa7-46cc-b96c-ec2e04c4eec0",
   "metadata": {},
   "source": [
    "**Binary Number System**\n",
    "\n",
    "- Digits: 0,1,2,3,4,5,6,7,8,9\n",
    "- binary: bi means two : 0 and 1\n",
    "- the representaion is : 0b001, 0b111, 0b101\n",
    "- wrong representaion is : o, 0b102, \n"
   ]
  },
  {
   "cell_type": "code",
   "execution_count": 6,
   "id": "32b36817-acc5-4108-9c9d-d98a4189862c",
   "metadata": {},
   "outputs": [
    {
     "data": {
      "text/plain": [
       "1"
      ]
     },
     "execution_count": 6,
     "metadata": {},
     "output_type": "execute_result"
    }
   ],
   "source": [
    "0B0001"
   ]
  },
  {
   "cell_type": "code",
   "execution_count": 5,
   "id": "e0f03abf-aa0f-45cb-b580-12749a110881",
   "metadata": {},
   "outputs": [
    {
     "data": {
      "text/plain": [
       "2"
      ]
     },
     "execution_count": 5,
     "metadata": {},
     "output_type": "execute_result"
    }
   ],
   "source": [
    "0b010"
   ]
  },
  {
   "cell_type": "code",
   "execution_count": 7,
   "id": "4653b3c0-928c-4ee2-ba4f-2fe83b55c5c6",
   "metadata": {},
   "outputs": [
    {
     "data": {
      "text/plain": [
       "3"
      ]
     },
     "execution_count": 7,
     "metadata": {},
     "output_type": "execute_result"
    }
   ],
   "source": [
    "0b011"
   ]
  },
  {
   "cell_type": "code",
   "execution_count": 9,
   "id": "513f622c-9ee6-49ac-a74c-0dfcc3e8a8b5",
   "metadata": {},
   "outputs": [
    {
     "data": {
      "text/plain": [
       "4"
      ]
     },
     "execution_count": 9,
     "metadata": {},
     "output_type": "execute_result"
    }
   ],
   "source": [
    "0b0100"
   ]
  },
  {
   "cell_type": "code",
   "execution_count": 10,
   "id": "41fa0806-aa59-485d-a159-ae61e54b43e7",
   "metadata": {},
   "outputs": [
    {
     "data": {
      "text/plain": [
       "5"
      ]
     },
     "execution_count": 10,
     "metadata": {},
     "output_type": "execute_result"
    }
   ],
   "source": [
    "0b0101"
   ]
  },
  {
   "cell_type": "code",
   "execution_count": 11,
   "id": "ea667e34-4e3d-4a33-9f6c-9e80ef2996bf",
   "metadata": {},
   "outputs": [
    {
     "data": {
      "text/plain": [
       "6"
      ]
     },
     "execution_count": 11,
     "metadata": {},
     "output_type": "execute_result"
    }
   ],
   "source": [
    "0b0110"
   ]
  },
  {
   "cell_type": "code",
   "execution_count": 4,
   "id": "3e12a339-55fb-47da-8920-1bbad62be7a4",
   "metadata": {},
   "outputs": [
    {
     "data": {
      "text/plain": [
       "7"
      ]
     },
     "execution_count": 4,
     "metadata": {},
     "output_type": "execute_result"
    }
   ],
   "source": [
    "0b111"
   ]
  },
  {
   "cell_type": "code",
   "execution_count": 5,
   "id": "55c11c80-d859-4b07-80c7-a705abe894f2",
   "metadata": {},
   "outputs": [
    {
     "data": {
      "text/plain": [
       "5"
      ]
     },
     "execution_count": 5,
     "metadata": {},
     "output_type": "execute_result"
    }
   ],
   "source": [
    "0b101"
   ]
  },
  {
   "cell_type": "code",
   "execution_count": 6,
   "id": "9d438eaf-a060-478b-bbff-cdebc7019f79",
   "metadata": {},
   "outputs": [
    {
     "data": {
      "text/plain": [
       "21"
      ]
     },
     "execution_count": 6,
     "metadata": {},
     "output_type": "execute_result"
    }
   ],
   "source": [
    "0b10101"
   ]
  },
  {
   "cell_type": "code",
   "execution_count": 8,
   "id": "e05d3c69-3606-444f-a6cc-18e9d65be3e1",
   "metadata": {},
   "outputs": [
    {
     "data": {
      "text/plain": [
       "767"
      ]
     },
     "execution_count": 8,
     "metadata": {},
     "output_type": "execute_result"
    }
   ],
   "source": [
    "0b1011111111"
   ]
  },
  {
   "cell_type": "code",
   "execution_count": 9,
   "id": "6496a77a-39ba-42db-bd34-777970453dcd",
   "metadata": {},
   "outputs": [
    {
     "data": {
      "text/plain": [
       "10"
      ]
     },
     "execution_count": 9,
     "metadata": {},
     "output_type": "execute_result"
    }
   ],
   "source": [
    "0b1010"
   ]
  },
  {
   "cell_type": "code",
   "execution_count": 10,
   "id": "154d6b47-39f8-445d-b121-d4bf4319a489",
   "metadata": {},
   "outputs": [
    {
     "data": {
      "text/plain": [
       "1"
      ]
     },
     "execution_count": 10,
     "metadata": {},
     "output_type": "execute_result"
    }
   ],
   "source": [
    "0B1"
   ]
  },
  {
   "cell_type": "code",
   "execution_count": null,
   "id": "bb0ddb98-36a4-474c-abf2-b94db9e5bd28",
   "metadata": {},
   "outputs": [],
   "source": [
    "\n",
    "2^8    2^4    2^2     2^0\n",
    "\n",
    "0       0      0        1    = 1\n",
    "0       0      1        0    = 2 \n",
    "0       0      1        1    = 3\n",
    "0       1      0        0    = 4 \n",
    "0       1      0        1    = 5\n",
    "0       1      1        0    = 6\n",
    "0       1      1        1    = 7\n",
    "1       0      0        0    = 8    \n"
   ]
  },
  {
   "cell_type": "code",
   "execution_count": 1,
   "id": "84c86052-1d8b-4cdd-a284-49d2279feab9",
   "metadata": {},
   "outputs": [
    {
     "data": {
      "text/plain": [
       "8"
      ]
     },
     "execution_count": 1,
     "metadata": {},
     "output_type": "execute_result"
    }
   ],
   "source": [
    "0b1000"
   ]
  },
  {
   "cell_type": "markdown",
   "id": "532fe149-c7ed-46ab-8e69-0ee7ea2fb280",
   "metadata": {},
   "source": [
    "**Octal Number System**\n",
    "\n",
    "- Digits: 0,1,2,3,4,5,6,7,8,9\n",
    "- octal: octa means 8 : 0,1,2,3,4,5,6,7\n",
    "- the representaion is : 0o241, 0o152, 0O756\n",
    "- wrong representaion is : \"0\", 0b102"
   ]
  },
  {
   "cell_type": "code",
   "execution_count": 11,
   "id": "915263cd-9745-446f-9a33-072d50eef388",
   "metadata": {},
   "outputs": [
    {
     "data": {
      "text/plain": [
       "2196"
      ]
     },
     "execution_count": 11,
     "metadata": {},
     "output_type": "execute_result"
    }
   ],
   "source": [
    "0o4224"
   ]
  },
  {
   "cell_type": "code",
   "execution_count": null,
   "id": "2f204fb5-b60b-40b3-b363-348f652a2d99",
   "metadata": {},
   "outputs": [],
   "source": [
    "# Octal Number\n",
    "\n",
    "2^8    2^4    2^2     2^0\n",
    "\n",
    "0       0      0        1    = 1\n",
    "0       0      1        0    = 2 \n",
    "0       0      1        1    = 3\n",
    "0       1      0        0    = 4 \n",
    "0       1      0        1    = 5\n",
    "0       1      1        0    = 6\n",
    "0       1      1        1    = 7\n",
    "1       0      0        0    = 8    \n"
   ]
  },
  {
   "cell_type": "markdown",
   "id": "16611453-d087-4ba3-b1e2-be8408683cb2",
   "metadata": {},
   "source": [
    "**Hexa Number System**\n",
    "\n",
    "- Digits: 0,1,2,3,4,5,6,7,8,9\n",
    "- \n",
    "-hexa : hexa means 17 : 0,1,2,3,4,5,6,7,8,9,A=10,B=11,C=12,D=13,E=14,F=15\n",
    "- the representaion is : 0X521, 0X111, 0Xabc\n",
    "- wrong representaion is : o as start, 0b102"
   ]
  },
  {
   "cell_type": "code",
   "execution_count": null,
   "id": "a7a236b1-f184-43e3-ba19-60954b5340c9",
   "metadata": {},
   "outputs": [],
   "source": [
    "# Hexa Number\n",
    "\n",
    "\n",
    "2^8    2^4    2^2     2^0\n",
    "\n",
    "0       0      0        1    = 1\n",
    "0       0      1        0    = 2 \n",
    "0       0      1        1    = 3\n",
    "0       1      0        0    = 4 \n",
    "0       1      0        1    = 5\n",
    "0       1      1        0    = 6\n",
    "0       1      1        1    = 7\n",
    "1       0      0        0    = 8    \n"
   ]
  },
  {
   "cell_type": "markdown",
   "id": "7b8b5315-8e88-46b3-98fa-4b8d9e8f79c0",
   "metadata": {},
   "source": [
    "**Float**\n",
    "\n",
    "- float numbers means continues points\n",
    "- float numbers means having some decimals.\n",
    "- Integer number means discrete points.\n",
    "- Float points can represent as exponetial format e"
   ]
  },
  {
   "cell_type": "code",
   "execution_count": 1,
   "id": "9b2a0577-06f5-4784-b755-8c46f82a9aa7",
   "metadata": {},
   "outputs": [
    {
     "data": {
      "text/plain": [
       "float"
      ]
     },
     "execution_count": 1,
     "metadata": {},
     "output_type": "execute_result"
    }
   ],
   "source": [
    "number = 18.90\n",
    "type(number)"
   ]
  },
  {
   "cell_type": "code",
   "execution_count": 3,
   "id": "0025a664-e4be-4eaf-810f-d75782d83cf3",
   "metadata": {},
   "outputs": [
    {
     "data": {
      "text/plain": [
       "(10.0, 100.0, 1000.0)"
      ]
     },
     "execution_count": 3,
     "metadata": {},
     "output_type": "execute_result"
    }
   ],
   "source": [
    "1e1 #1*10,\n",
    "1e2 #1*100,\n",
    "1e3 #1*1000"
   ]
  },
  {
   "cell_type": "code",
   "execution_count": 4,
   "id": "dab2ed0c-6e1f-48a9-9888-8354ff984241",
   "metadata": {},
   "outputs": [
    {
     "data": {
      "text/plain": [
       "200.0"
      ]
     },
     "execution_count": 4,
     "metadata": {},
     "output_type": "execute_result"
    }
   ],
   "source": [
    "2e2 #2*100"
   ]
  },
  {
   "cell_type": "code",
   "execution_count": 6,
   "id": "f22db6ed-dd1b-4daf-8c3d-5996c967bfb3",
   "metadata": {},
   "outputs": [
    {
     "name": "stdout",
     "output_type": "stream",
     "text": [
      "10.0\n",
      "100.0\n",
      "1000.0\n"
     ]
    }
   ],
   "source": [
    "print(1e+1) #1*10\n",
    "print(1e+2) #1*100\n",
    "print(1e+3) #1*1000"
   ]
  },
  {
   "cell_type": "code",
   "execution_count": 8,
   "id": "f1a2723c-7ae8-4ecf-8d35-ee9fb9bb114b",
   "metadata": {},
   "outputs": [
    {
     "name": "stdout",
     "output_type": "stream",
     "text": [
      "0.1\n",
      "0.01\n"
     ]
    },
    {
     "data": {
      "text/plain": [
       "0.001"
      ]
     },
     "execution_count": 8,
     "metadata": {},
     "output_type": "execute_result"
    }
   ],
   "source": [
    "print(1e-1) #1/10,\n",
    "print(1e-2) #1/100,\n",
    "print(1e-3) #1/1000"
   ]
  },
  {
   "cell_type": "markdown",
   "id": "9590a600-0dea-4a2f-90e9-3f0184de5d26",
   "metadata": {},
   "source": [
    "- If \"-\" sign come then divide it\n",
    "- If \"+\" sign come then multiply it"
   ]
  },
  {
   "cell_type": "markdown",
   "id": "d705861d-8959-4b32-8986-563eb7859c84",
   "metadata": {},
   "source": [
    "**Strings**\n",
    "- String means english characters.\n",
    "- Entire sentence in single quotes, then use double quotes to highlight the word\n",
    "-  Entire sentence in double quotes, then use single quotes to highlight the word"
   ]
  },
  {
   "cell_type": "code",
   "execution_count": 11,
   "id": "d3d571de-5c70-4664-9190-0c15c80929f7",
   "metadata": {},
   "outputs": [
    {
     "data": {
      "text/plain": [
       "str"
      ]
     },
     "execution_count": 11,
     "metadata": {},
     "output_type": "execute_result"
    }
   ],
   "source": [
    "name = \"Python\"\n",
    "type(name)"
   ]
  },
  {
   "cell_type": "code",
   "execution_count": 12,
   "id": "f084120d-0750-4d07-8881-1b53a4674298",
   "metadata": {},
   "outputs": [
    {
     "data": {
      "text/plain": [
       "str"
      ]
     },
     "execution_count": 12,
     "metadata": {},
     "output_type": "execute_result"
    }
   ],
   "source": [
    "num = \"10\"\n",
    "type(num)"
   ]
  },
  {
   "cell_type": "code",
   "execution_count": 13,
   "id": "8affedce-91a7-4ade-a1e2-784ce31244a4",
   "metadata": {},
   "outputs": [
    {
     "data": {
      "text/plain": [
       "\"Hello I like 'Python'\""
      ]
     },
     "execution_count": 13,
     "metadata": {},
     "output_type": "execute_result"
    }
   ],
   "source": [
    "sen1 = \"Hello I like 'Python'\"\n",
    "sen1"
   ]
  },
  {
   "cell_type": "code",
   "execution_count": 14,
   "id": "a567e49b-8c1c-4a0e-80bd-4809d051ee8f",
   "metadata": {},
   "outputs": [
    {
     "data": {
      "text/plain": [
       "'Hello I like \"Python\"'"
      ]
     },
     "execution_count": 14,
     "metadata": {},
     "output_type": "execute_result"
    }
   ],
   "source": [
    "sen2 = 'Hello I like \"Python\"'\n",
    "sen2"
   ]
  },
  {
   "cell_type": "code",
   "execution_count": 15,
   "id": "b957e66d-9fb1-4da0-9237-466fea85a0dc",
   "metadata": {},
   "outputs": [
    {
     "data": {
      "text/plain": [
       "'XYZ'"
      ]
     },
     "execution_count": 15,
     "metadata": {},
     "output_type": "execute_result"
    }
   ],
   "source": [
    "n = \"XYZ\" #when directly use variale name without using \"print\" for  output the single quotes was appear.\n",
    "n"
   ]
  },
  {
   "cell_type": "code",
   "execution_count": 16,
   "id": "36c3cc3d-02d6-4d4b-96aa-cdf479687700",
   "metadata": {},
   "outputs": [
    {
     "name": "stdout",
     "output_type": "stream",
     "text": [
      "XYZ\n"
     ]
    }
   ],
   "source": [
    "print(n) #when use print for variable output the single quotes not appear."
   ]
  },
  {
   "cell_type": "code",
   "execution_count": 18,
   "id": "9d8fda1f-39dc-4dfc-8357-bea2ccf1bae5",
   "metadata": {},
   "outputs": [
    {
     "data": {
      "text/plain": [
       "\"Hello I like 'python'\\n                  hai good morning\\n                      class data types\""
      ]
     },
     "execution_count": 18,
     "metadata": {},
     "output_type": "execute_result"
    }
   ],
   "source": [
    "Statement = \"\"\"Hello I like 'python'\n",
    "                  hai good morning\n",
    "                      class data types\"\"\"\n",
    "Statement"
   ]
  },
  {
   "cell_type": "markdown",
   "id": "596edeb1-4274-46a2-bc16-80bc792f774d",
   "metadata": {},
   "source": [
    "**DOC String**"
   ]
  },
  {
   "cell_type": "markdown",
   "id": "6444ce72-da9c-4f75-9ee8-9c4c33656bdc",
   "metadata": {},
   "source": [
    "- If we want to convey information to the user \n",
    "- we will write a statements before coding part\n",
    "- is called as Doc string\n",
    "- In jupyter notebook to convey the information we have **Markdown**\n",
    "- But in Vs code we dont have a Markdown option\n",
    "- we convey the information by using **triple quotes**\n",
    "- If we see anywhere triple quotes means the user trying to convey the information."
   ]
  },
  {
   "cell_type": "code",
   "execution_count": 20,
   "id": "337252ef-0e3b-454c-b2a7-536e8a2dad5b",
   "metadata": {},
   "outputs": [
    {
     "data": {
      "text/plain": [
       "'\\nwrite someting\\n'"
      ]
     },
     "execution_count": 20,
     "metadata": {},
     "output_type": "execute_result"
    }
   ],
   "source": [
    "\"\"\"\n",
    "Write some thing\n",
    "\"\"\"\n",
    "\n",
    "'''\n",
    "write someting\n",
    "'''"
   ]
  },
  {
   "cell_type": "markdown",
   "id": "d1700f4e-45a4-4911-a4b2-34303a78bfad",
   "metadata": {},
   "source": [
    "**Boolean**"
   ]
  },
  {
   "cell_type": "code",
   "execution_count": 22,
   "id": "a1ca61a6-758e-4d0d-a532-2d768056731c",
   "metadata": {},
   "outputs": [
    {
     "data": {
      "text/plain": [
       "bool"
      ]
     },
     "execution_count": 22,
     "metadata": {},
     "output_type": "execute_result"
    }
   ],
   "source": [
    "value = True\n",
    "type(value)"
   ]
  },
  {
   "cell_type": "code",
   "execution_count": 23,
   "id": "9f1cb0f9-0f9f-4246-8778-fa4b7cd37771",
   "metadata": {},
   "outputs": [
    {
     "data": {
      "text/plain": [
       "bool"
      ]
     },
     "execution_count": 23,
     "metadata": {},
     "output_type": "execute_result"
    }
   ],
   "source": [
    "value = False\n",
    "type(value)"
   ]
  },
  {
   "cell_type": "code",
   "execution_count": null,
   "id": "b1cb28c8-3d77-47de-8f4a-10d63540a817",
   "metadata": {},
   "outputs": [],
   "source": [
    "true = 'True' # Red color for string\n",
    "true = True   # Green color for Keywords\n",
    "true = 10     # black color for Variable"
   ]
  },
  {
   "cell_type": "code",
   "execution_count": null,
   "id": "85d429c8-3359-434e-8c8a-1a4b99ceabd8",
   "metadata": {},
   "outputs": [],
   "source": []
  }
 ],
 "metadata": {
  "kernelspec": {
   "display_name": "Python 3 (ipykernel)",
   "language": "python",
   "name": "python3"
  },
  "language_info": {
   "codemirror_mode": {
    "name": "ipython",
    "version": 3
   },
   "file_extension": ".py",
   "mimetype": "text/x-python",
   "name": "python",
   "nbconvert_exporter": "python",
   "pygments_lexer": "ipython3",
   "version": "3.12.4"
  }
 },
 "nbformat": 4,
 "nbformat_minor": 5
}
