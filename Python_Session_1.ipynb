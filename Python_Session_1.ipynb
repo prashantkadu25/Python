{
 "cells": [
  {
   "cell_type": "code",
   "execution_count": 1,
   "id": "da387e24-2a3b-468c-9842-4225c117a297",
   "metadata": {},
   "outputs": [
    {
     "data": {
      "text/plain": [
       "30"
      ]
     },
     "execution_count": 1,
     "metadata": {},
     "output_type": "execute_result"
    }
   ],
   "source": [
    "a =10 \n",
    "b =20\n",
    "a+b"
   ]
  },
  {
   "cell_type": "code",
   "execution_count": 2,
   "id": "329a228e-ad7c-4b6c-aef8-d65773bb368c",
   "metadata": {},
   "outputs": [],
   "source": [
    "#Shift+enter\n",
    "#comment"
   ]
  },
  {
   "cell_type": "markdown",
   "id": "12a445f9-77fb-42c3-9b53-a515d68d4e15",
   "metadata": {},
   "source": [
    "- esc + m = Code Mode to Mark down\n",
    "- esc + y = Mark down to Code Mode \n",
    "- shit + enter\n",
    "- square bracket indicates code mode\n",
    "- when we are in mark mode square mode will not appears \n",
    "- blue color bar indicates the corresponding cell selected\n",
    "- ( \"-\" + space ) for bullet Points\n",
    "- Go On Google and search any image + select image + right click + go in insepcte + Edit HTML +after ctrl+A for select all and after crtl+c for copy come on j-Notebook and check markmode selected and paste the link and shift + enter(output generated)"
   ]
  },
  {
   "cell_type": "markdown",
   "id": "cbc3359e-7784-4780-9198-c2d3e61fdc84",
   "metadata": {},
   "source": [
    "# Python \n",
    "- when we use # symbol in code mode it behaves like a comment\n",
    "- when we use same in markdown mode it behaves like s title "
   ]
  },
  {
   "cell_type": "markdown",
   "id": "408b0719-6c1b-45fb-9459-169a0a92db1a",
   "metadata": {},
   "source": [
    "# 123 Python"
   ]
  },
  {
   "cell_type": "markdown",
   "id": "9ca3cd3c-94b5-4d32-b0a1-2f673b7ace0e",
   "metadata": {},
   "source": [
    "<img src=\"https://encrypted-tbn0.gstatic.com/images?q=tbn:ANd9GcTGVLlugbQGzP2HpMKDrU2wvYsDRge0OodAMw&amp;s\" class=\"sFlh5c FyHeAf\" alt=\"500+ Free Python &amp; Snake Images - Pixabay\" jsname=\"JuXqh\" style=\"max-width: 640px; position: absolute; visibility: hidden;\" data-ilt=\"1729695239690\">"
   ]
  },
  {
   "cell_type": "markdown",
   "id": "a3739b2d-9801-47c2-a94f-d95457c959cc",
   "metadata": {},
   "source": [
    "<img src=\"https://indiabiodiversity.org/files-api/api/get/raw/observations//3f8a6906-0093-47c2-b4c1-431c0bc25f6c/874.JPG\" jsaction=\"\" class=\"sFlh5c FyHeAf iPVvYb\" style=\"max-width: 955px; width: 310px; height: 207px; margin: 0px;\" alt=\"Python molurus (Linnaeus, 1758) | Species\" jsname=\"kn3ccd\" aria-hidden=\"false\">"
   ]
  },
  {
   "cell_type": "markdown",
   "id": "82be030e-3c4f-47c3-a97d-3ded43aee1b5",
   "metadata": {},
   "source": [
    "<img src=\"https://encrypted-tbn0.gstatic.com/images?q=tbn:ANd9GcTGVLlugbQGzP2HpMKDrU2wvYsDRge0OodAMw&amp;s\" class=\"sFlh5c FyHeAf\" alt=\"500+ Free Python &amp; Snake Images - Pixabay\" jsname=\"JuXqh\" style=\"max-width: 640px; position: absolute; visibility: hidden;\" data-ilt=\"1729695239690\">"
   ]
  },
  {
   "cell_type": "markdown",
   "id": "29137605-e371-42e3-bffa-87f7f0c5d78c",
   "metadata": {},
   "source": [
    "<img id=\"dimg_uA4ZZ_rFD8m74-EPxOepKA_259\" src=\"https://encrypted-tbn0.gstatic.com/images?q=tbn:ANd9GcS4ii4_6NE2r_GhG6m_ZWtwwadDgOy46vp2lw&amp;s\" class=\"YQ4gaf\" height=\"177\" style=\"object-position:33% 47%\" width=\"285\" alt=\"Python\" data-csiid=\"uA4ZZ_rFD8m74-EPxOepKA_43\" data-atf=\"4\" data-ilt=\"1729695418951\" data-deferred=\"3\">"
   ]
  },
  {
   "cell_type": "markdown",
   "id": "5d0434e1-1a2d-45a9-96fb-4e0cfaf6f68f",
   "metadata": {},
   "source": [
    "- import os\n",
    "os.getcwd()\n",
    "\n",
    "It will print for the Path will appear "
   ]
  },
  {
   "cell_type": "code",
   "execution_count": 1,
   "id": "ad4ea48e-1994-402a-890e-166c5c123db4",
   "metadata": {},
   "outputs": [
    {
     "data": {
      "text/plain": [
       "'C:\\\\Users\\\\prash\\\\OneDrive\\\\Documents\\\\NareshIT\\\\Omkar Sir Batch\\\\Python'"
      ]
     },
     "execution_count": 1,
     "metadata": {},
     "output_type": "execute_result"
    }
   ],
   "source": [
    "import os\n",
    "os.getcwd()"
   ]
  },
  {
   "cell_type": "code",
   "execution_count": null,
   "id": "59503d51-8ee8-456f-a47f-e64c5761b6fa",
   "metadata": {},
   "outputs": [],
   "source": []
  }
 ],
 "metadata": {
  "kernelspec": {
   "display_name": "Python 3 (ipykernel)",
   "language": "python",
   "name": "python3"
  },
  "language_info": {
   "codemirror_mode": {
    "name": "ipython",
    "version": 3
   },
   "file_extension": ".py",
   "mimetype": "text/x-python",
   "name": "python",
   "nbconvert_exporter": "python",
   "pygments_lexer": "ipython3",
   "version": "3.12.4"
  }
 },
 "nbformat": 4,
 "nbformat_minor": 5
}
