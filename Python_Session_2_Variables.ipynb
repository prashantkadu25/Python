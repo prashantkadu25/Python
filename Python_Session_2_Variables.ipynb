{
 "cells": [
  {
   "cell_type": "markdown",
   "id": "0292777b-9180-4613-b4b4-5a263d61dae6",
   "metadata": {},
   "source": [
    "# Variabels "
   ]
  },
  {
   "cell_type": "markdown",
   "id": "3e34717a-a680-4ca7-a6b2-ca65115080be",
   "metadata": {},
   "source": [
    "- Variables are used to stored the values, and the values can be change."
   ]
  },
  {
   "cell_type": "code",
   "execution_count": null,
   "id": "ce79d579-7f3e-4c66-9a1a-564a5db86dfe",
   "metadata": {},
   "outputs": [],
   "source": [
    "num = 100\n",
    "# Value 100 stored in a varibale called : num\n",
    "print(num)"
   ]
  },
  {
   "cell_type": "code",
   "execution_count": null,
   "id": "7bc25186-0b31-44d5-bfbb-b3965f4fb9fd",
   "metadata": {},
   "outputs": [],
   "source": [
    "NUMBER = 200\n",
    "print(NUMBER)"
   ]
  },
  {
   "cell_type": "code",
   "execution_count": null,
   "id": "2a6e45b1-7e77-4dec-acc9-7c29ca48c500",
   "metadata": {},
   "outputs": [],
   "source": [
    "number = 300\n",
    "number"
   ]
  },
  {
   "cell_type": "code",
   "execution_count": null,
   "id": "1b95a00a-cbc7-42ce-ac0c-cbd11468946a",
   "metadata": {},
   "outputs": [],
   "source": [
    "number123 = 123\n",
    "number123"
   ]
  },
  {
   "cell_type": "code",
   "execution_count": null,
   "id": "720e50c9-c7ec-498f-9437-c6bfa3e27001",
   "metadata": {},
   "outputs": [],
   "source": [
    "123number = 200\n",
    "123number"
   ]
  },
  {
   "cell_type": "code",
   "execution_count": null,
   "id": "b286eb3b-2eb9-4c1f-9b38-9457e604ad4b",
   "metadata": {},
   "outputs": [],
   "source": [
    "NUMber = 100\n",
    "NUMber"
   ]
  },
  {
   "cell_type": "code",
   "execution_count": null,
   "id": "0114d343-03b6-402a-9fd2-5d7e3277e4a7",
   "metadata": {},
   "outputs": [],
   "source": [
    "number$ = 100\n",
    "number$ "
   ]
  },
  {
   "cell_type": "code",
   "execution_count": null,
   "id": "3d58a131-dbe2-4365-ac19-5ae088566fd6",
   "metadata": {},
   "outputs": [],
   "source": [
    "num_ber = 200\n",
    "num_ber"
   ]
  },
  {
   "cell_type": "code",
   "execution_count": null,
   "id": "025ba1ad-944f-4b00-ae63-77333f549261",
   "metadata": {},
   "outputs": [],
   "source": [
    "number one = 200\n",
    "number one"
   ]
  },
  {
   "cell_type": "code",
   "execution_count": null,
   "id": "1b43d709-2b9e-4cd0-a76d-c4e0dcd215e4",
   "metadata": {},
   "outputs": [],
   "source": [
    "_ = 300\n",
    "_"
   ]
  },
  {
   "cell_type": "code",
   "execution_count": null,
   "id": "668a5983-3692-4abe-a965-4b481466af53",
   "metadata": {},
   "outputs": [],
   "source": [
    "number # works\n",
    "NUMBER # works\n",
    "number123 #works\n",
    "123number # Not works\n",
    "NUMber # works\n",
    "number$ , number@, number* # NOT works\n",
    "num_ber # Works\n",
    "number one #NOt WOrks\n",
    "_ #Works"
   ]
  },
  {
   "cell_type": "markdown",
   "id": "8e17e9c3-751d-47c3-81e5-2f98df4435fe",
   "metadata": {},
   "source": [
    "- Variables can be a Capital Letter\n",
    "- Variables can be a small letter\n",
    "- Variables can be a mix of Both \n",
    "- Variables can be a mix of letters and numbers as **suffix**\n",
    "- Variables can not be a mix of letters and numbers as **prefix**\n",
    "- Variables can not be a include special characters expect **underscore**\n",
    "- Variables can not be a include a **Space between words** \n",
    "- only underscore also consider as variables \n",
    "- Inbuit Keywords can not be used as variables\n"
   ]
  },
  {
   "cell_type": "markdown",
   "id": "028bca61-7f26-467f-9d4d-893995668b4d",
   "metadata": {},
   "source": [
    "- **Best Way to use variables is always use with Underscore**"
   ]
  },
  {
   "cell_type": "code",
   "execution_count": null,
   "id": "3854d701-29aa-478d-b3e0-af6129cf7f9e",
   "metadata": {},
   "outputs": [],
   "source": []
  }
 ],
 "metadata": {
  "kernelspec": {
   "display_name": "Python 3 (ipykernel)",
   "language": "python",
   "name": "python3"
  },
  "language_info": {
   "codemirror_mode": {
    "name": "ipython",
    "version": 3
   },
   "file_extension": ".py",
   "mimetype": "text/x-python",
   "name": "python",
   "nbconvert_exporter": "python",
   "pygments_lexer": "ipython3",
   "version": "3.12.4"
  }
 },
 "nbformat": 4,
 "nbformat_minor": 5
}
