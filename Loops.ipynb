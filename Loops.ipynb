{
 "cells": [
  {
   "cell_type": "code",
   "execution_count": null,
   "id": "347b297b-be46-46b3-8b4e-2b8bb0c62160",
   "metadata": {},
   "outputs": [],
   "source": [
    "Que :- "
   ]
  },
  {
   "cell_type": "code",
   "execution_count": 2,
   "id": "796c46c7-143f-474f-a0e7-543832a40ec9",
   "metadata": {},
   "outputs": [
    {
     "name": "stdout",
     "output_type": "stream",
     "text": [
      "the square of 1 is 1\n",
      "the square of 2 is 4\n",
      "the square of 3 is 9\n",
      "the square of 4 is 16\n",
      "the square of 5 is 25\n"
     ]
    }
   ],
   "source": [
    "for i in range(1,6):\n",
    "    print(f\"the square of {i} is {i*i}\")"
   ]
  },
  {
   "cell_type": "code",
   "execution_count": 7,
   "id": "4d5ec0d6-1816-4bab-b229-9c24f403389c",
   "metadata": {},
   "outputs": [
    {
     "name": "stdin",
     "output_type": "stream",
     "text": [
      "Enter a number:-  8\n"
     ]
    },
    {
     "name": "stdout",
     "output_type": "stream",
     "text": [
      "The square of 8 is 64\n"
     ]
    },
    {
     "name": "stdin",
     "output_type": "stream",
     "text": [
      "Enter a number:-  4\n"
     ]
    },
    {
     "name": "stdout",
     "output_type": "stream",
     "text": [
      "The square of 4 is 16\n"
     ]
    },
    {
     "name": "stdin",
     "output_type": "stream",
     "text": [
      "Enter a number:-  5\n"
     ]
    },
    {
     "name": "stdout",
     "output_type": "stream",
     "text": [
      "The square of 5 is 25\n"
     ]
    },
    {
     "name": "stdin",
     "output_type": "stream",
     "text": [
      "Enter a number:-  7\n"
     ]
    },
    {
     "name": "stdout",
     "output_type": "stream",
     "text": [
      "The square of 7 is 49\n"
     ]
    },
    {
     "name": "stdin",
     "output_type": "stream",
     "text": [
      "Enter a number:-  9\n"
     ]
    },
    {
     "name": "stdout",
     "output_type": "stream",
     "text": [
      "The square of 9 is 81\n"
     ]
    }
   ],
   "source": [
    "for i in range(1,6):\n",
    "    num = eval(input(\"Enter a number:- \"))\n",
    "    print(f\"The square of {num} is {num*num}\")"
   ]
  },
  {
   "cell_type": "code",
   "execution_count": null,
   "id": "cf0cee82-3e7b-4a26-bed8-aa8dd3696df9",
   "metadata": {},
   "outputs": [],
   "source": [
    "Que:-"
   ]
  },
  {
   "cell_type": "code",
   "execution_count": 8,
   "id": "9d16a329-3c23-4176-a72b-e7c9d1ab8205",
   "metadata": {},
   "outputs": [
    {
     "name": "stdout",
     "output_type": "stream",
     "text": [
      "The square of 11 is 121\n",
      "The square of 2 is 4\n",
      "The square of 14 is 196\n",
      "The square of 3 is 9\n",
      "The square of 5 is 25\n"
     ]
    }
   ],
   "source": [
    "import random\n",
    "\n",
    "for i in range(1,6):\n",
    "    num = random.randint(1,20)\n",
    "    print(f\"The square of {num} is {num*num}\")"
   ]
  },
  {
   "cell_type": "code",
   "execution_count": null,
   "id": "a09cb397-9b88-46af-a9eb-e25b4ec6dde5",
   "metadata": {},
   "outputs": [],
   "source": [
    "Que:- \n"
   ]
  },
  {
   "cell_type": "code",
   "execution_count": 10,
   "id": "558b71ca-19c3-4c18-96b8-e9377bc9b599",
   "metadata": {},
   "outputs": [
    {
     "name": "stdout",
     "output_type": "stream",
     "text": [
      "1 2 3 4 5 6 7 8 9 10 "
     ]
    }
   ],
   "source": [
    "for i in range(1,11):\n",
    "    print(i, end=\" \")"
   ]
  },
  {
   "cell_type": "code",
   "execution_count": null,
   "id": "1b50a40b-05ee-41a9-bce5-272377caee25",
   "metadata": {},
   "outputs": [],
   "source": [
    "Que:- "
   ]
  },
  {
   "cell_type": "code",
   "execution_count": 14,
   "id": "7302bd0d-c2b2-46e9-b779-a6686ef59ae4",
   "metadata": {},
   "outputs": [
    {
     "name": "stdout",
     "output_type": "stream",
     "text": [
      "1  \n",
      "1 2  \n",
      "1 2 3  \n",
      "1 2 3 4  \n",
      "1 2 3 4 5  \n"
     ]
    }
   ],
   "source": [
    "row = 5\n",
    "for i in range(1, row+1, 1):\n",
    "    for j in range(1, i+1):\n",
    "        print(j, end=\" \")\n",
    "    print(\" \")"
   ]
  },
  {
   "cell_type": "code",
   "execution_count": 16,
   "id": "d2e37ad4-e478-4b2c-9b10-c5fc4d2724e2",
   "metadata": {},
   "outputs": [
    {
     "name": "stdout",
     "output_type": "stream",
     "text": [
      "* 1  \n",
      "* 1 * 2  \n",
      "* 1 * 2 * 3  \n",
      "* 1 * 2 * 3 * 4  \n",
      "* 1 * 2 * 3 * 4 * 5  \n"
     ]
    }
   ],
   "source": [
    "row = 5\n",
    "for i in range(1, row+1, 1):\n",
    "    for j in range(1, i+1):\n",
    "        print(\"*\",j, end=\" \")\n",
    "    print(\" \")"
   ]
  },
  {
   "cell_type": "markdown",
   "id": "8ac81910-8769-43be-a801-3258ec20dbff",
   "metadata": {},
   "source": [
    "**LOOPS**"
   ]
  },
  {
   "cell_type": "code",
   "execution_count": null,
   "id": "1f374e0d-8010-4579-bf43-f5e83c5cf39d",
   "metadata": {},
   "outputs": [],
   "source": [
    "# not created a function === 3 lines of code\n",
    "# how many employees = 500\n",
    "# 500*3 lines = 1500 # we need lines of code\n",
    "# we reduced to using function\n",
    "# 3 lines === Functions (Reduced )\n",
    "# but \n",
    "# function === 500 times \n",
    "# then reduced 500 lines of code \n",
    "# we use loops.\n"
   ]
  },
  {
   "cell_type": "markdown",
   "id": "5f0cceaf-2050-483a-a448-0f2a69823bf2",
   "metadata": {},
   "source": [
    "- iterating code\n",
    "\n",
    "- repeating code\n",
    "\n",
    "- Tyeps :-\n",
    "    - For loops\n",
    "    - while loops"
   ]
  },
  {
   "cell_type": "markdown",
   "id": "d14e7408-6779-4fbf-b614-f6674229041d",
   "metadata": {},
   "source": [
    "- intialization (start point)\n",
    "- increment or decrement \n",
    "- condition to stop the loop"
   ]
  },
  {
   "cell_type": "markdown",
   "id": "03617bd3-24fa-4ca5-9c0a-422b4e756a03",
   "metadata": {},
   "source": [
    "**For loops**"
   ]
  },
  {
   "cell_type": "code",
   "execution_count": null,
   "id": "5b92b1fa-ace8-4d20-8c82-0de9f7e101b3",
   "metadata": {},
   "outputs": [],
   "source": [
    "for <variable> in range(<value>):\n",
    "    <write condition here>"
   ]
  },
  {
   "cell_type": "code",
   "execution_count": 2,
   "id": "efa4e99b-c4a6-40b6-a5ef-aa700050a1e1",
   "metadata": {},
   "outputs": [
    {
     "name": "stdout",
     "output_type": "stream",
     "text": [
      "0\n",
      "1\n",
      "2\n"
     ]
    }
   ],
   "source": [
    "for i in range(3):\n",
    "    print(i)"
   ]
  },
  {
   "cell_type": "markdown",
   "id": "cab174a8-bb90-49d6-aaa5-d3ffdf3f62a5",
   "metadata": {},
   "source": [
    "**case-1:- range(stop)**\n",
    "\n",
    "- satrt value = 0\n",
    "- step size = +1\n",
    "- last value = stop-1\n",
    "- range(3)\n",
    "    - start value = 0\n",
    "    - step size = +1\n",
    "    - stop = 3-1 = 2"
   ]
  },
  {
   "cell_type": "code",
   "execution_count": 3,
   "id": "8908dc3c-fe3c-4d3e-8f64-bb796046d16d",
   "metadata": {},
   "outputs": [
    {
     "name": "stdout",
     "output_type": "stream",
     "text": [
      "Good Morning\n",
      "Good Morning\n",
      "Good Morning\n",
      "Good Morning\n",
      "Good Morning\n"
     ]
    }
   ],
   "source": [
    "for i in range(5):\n",
    "    print(\"Good Morning\")"
   ]
  },
  {
   "cell_type": "code",
   "execution_count": 4,
   "id": "2c00b8ad-649f-4f83-8b00-b4d2d813756c",
   "metadata": {},
   "outputs": [
    {
     "name": "stdout",
     "output_type": "stream",
     "text": [
      "0 1 2 3 4 "
     ]
    }
   ],
   "source": [
    "for i in range(5):\n",
    "    print(i, end=\" \")"
   ]
  },
  {
   "cell_type": "markdown",
   "id": "a49b246c-0254-467f-a65f-c6eff725128b",
   "metadata": {},
   "source": [
    "**Case-2:- range(start, stop)**\n",
    "- stat value = start\n",
    "- last value = last-1\n",
    "- step value = 1\n",
    "\n",
    "- range(2,7)\n",
    "- satrt = 2\n",
    "- step = 1\n",
    "- stop = 7-1 = 6"
   ]
  },
  {
   "cell_type": "code",
   "execution_count": 5,
   "id": "087803df-8208-4f2c-b274-c2c46a4a3e94",
   "metadata": {},
   "outputs": [
    {
     "name": "stdout",
     "output_type": "stream",
     "text": [
      "2 3 4 5 6 "
     ]
    }
   ],
   "source": [
    "for i in range(2,7):\n",
    "    print(i, end=\" \")"
   ]
  },
  {
   "cell_type": "code",
   "execution_count": 6,
   "id": "2b65daca-c033-45b5-a0f9-0d600afafb21",
   "metadata": {},
   "outputs": [],
   "source": [
    "#Que :-1 1st 5 number square "
   ]
  },
  {
   "cell_type": "code",
   "execution_count": 10,
   "id": "c39abe05-1c9f-413f-8896-82040a1ff181",
   "metadata": {},
   "outputs": [
    {
     "name": "stdout",
     "output_type": "stream",
     "text": [
      "The square of 1 is 1\n",
      "The square of 2 is 4\n",
      "The square of 3 is 9\n",
      "The square of 4 is 16\n",
      "The square of 5 is 25\n"
     ]
    }
   ],
   "source": [
    "for i in range(1,6):\n",
    "    print(f\"The square of {i} is {i*i}\")"
   ]
  },
  {
   "cell_type": "code",
   "execution_count": 11,
   "id": "6689a292-fab6-4277-966d-04cc4b225e5d",
   "metadata": {},
   "outputs": [],
   "source": [
    "#Que2:-"
   ]
  },
  {
   "cell_type": "code",
   "execution_count": 12,
   "id": "c7d3aa5b-3122-4036-8111-3d52e6eb51d0",
   "metadata": {},
   "outputs": [
    {
     "name": "stdin",
     "output_type": "stream",
     "text": [
      "Enter a number 4\n"
     ]
    },
    {
     "name": "stdout",
     "output_type": "stream",
     "text": [
      "The square of 4 is 16\n"
     ]
    },
    {
     "name": "stdin",
     "output_type": "stream",
     "text": [
      "Enter a number 16\n"
     ]
    },
    {
     "name": "stdout",
     "output_type": "stream",
     "text": [
      "The square of 16 is 256\n"
     ]
    },
    {
     "name": "stdin",
     "output_type": "stream",
     "text": [
      "Enter a number 45\n"
     ]
    },
    {
     "name": "stdout",
     "output_type": "stream",
     "text": [
      "The square of 45 is 2025\n"
     ]
    },
    {
     "name": "stdin",
     "output_type": "stream",
     "text": [
      "Enter a number 75\n"
     ]
    },
    {
     "name": "stdout",
     "output_type": "stream",
     "text": [
      "The square of 75 is 5625\n"
     ]
    },
    {
     "name": "stdin",
     "output_type": "stream",
     "text": [
      "Enter a number 83\n"
     ]
    },
    {
     "name": "stdout",
     "output_type": "stream",
     "text": [
      "The square of 83 is 6889\n"
     ]
    }
   ],
   "source": [
    "for i in range(1,6):\n",
    "    n = eval(input(\"Enter a number\"))\n",
    "    print(f\"The square of {n} is {n*n}\")"
   ]
  },
  {
   "cell_type": "code",
   "execution_count": 14,
   "id": "c516a71a-5025-4dc4-8d49-179f7333d0d3",
   "metadata": {},
   "outputs": [
    {
     "name": "stdout",
     "output_type": "stream",
     "text": [
      "The square of 74 is 5476\n",
      "The square of 56 is 3136\n",
      "The square of 22 is 484\n",
      "The square of 79 is 6241\n",
      "The square of 69 is 4761\n"
     ]
    }
   ],
   "source": [
    "import random\n",
    "for i in range(1,6):\n",
    "    n = random.randint(1,110)\n",
    "    print(f\"The square of {n} is {n*n}\")"
   ]
  },
  {
   "cell_type": "markdown",
   "id": "cf7d55b2-f7cc-41d0-88c0-aba849446a00",
   "metadata": {},
   "source": [
    "**3 Ways to write a code**\n",
    "- Hard code \n",
    "- user input\n",
    "- random code"
   ]
  },
  {
   "cell_type": "markdown",
   "id": "98519f6b-997d-4c0a-8530-f7b2f3f88575",
   "metadata": {},
   "source": [
    "**case-3:- range(start,stop,step)**\n",
    "\n",
    "- start value = start\n",
    "- stop = last-1\n",
    "- step = positive means + sign\n",
    "   - gap = positive step\n",
    "   - last = stop-1\n",
    "- step = negative means + sign\n",
    "   - gap = negative step\n",
    "   - last = stop +1  "
   ]
  },
  {
   "cell_type": "code",
   "execution_count": null,
   "id": "b2308bbc-0271-4129-bd0d-50118c7bc057",
   "metadata": {},
   "outputs": [],
   "source": [
    "range(2,20,2)\n",
    "range(start, stop,step)\n",
    "\n",
    "start = 2\n",
    "step = 2 positive direction\n",
    "last = 20-1 = 19"
   ]
  },
  {
   "cell_type": "code",
   "execution_count": 15,
   "id": "2c659e97-a78e-4960-bf88-3df8cdeff3c6",
   "metadata": {},
   "outputs": [
    {
     "name": "stdout",
     "output_type": "stream",
     "text": [
      "2 4 6 8 10 12 14 16 18 "
     ]
    }
   ],
   "source": [
    "for i in range (2,20,2):\n",
    "    print(i, end=\" \")"
   ]
  },
  {
   "cell_type": "code",
   "execution_count": null,
   "id": "f1a6908b-621c-4dfd-9818-6748bbc215ce",
   "metadata": {},
   "outputs": [],
   "source": [
    "range(2,20,2)\n",
    "range(start, stop,step)\n",
    "\n",
    "start = 2\n",
    "step = 2 negative direction\n",
    "last = -20+1 = -19"
   ]
  },
  {
   "cell_type": "code",
   "execution_count": 16,
   "id": "399f04d1-c1f0-4c9f-b4ad-503d006cb6f8",
   "metadata": {},
   "outputs": [
    {
     "name": "stdout",
     "output_type": "stream",
     "text": [
      "-2 -4 -6 -8 -10 -12 -14 -16 -18 "
     ]
    }
   ],
   "source": [
    "for i in range(-2,-20,-2):\n",
    "    print(i, end=\" \")"
   ]
  },
  {
   "cell_type": "code",
   "execution_count": null,
   "id": "74e8d4da-9010-4260-9347-7df94a42e514",
   "metadata": {},
   "outputs": [],
   "source": [
    "range(2,-20,-2)\n",
    "range(start, stop,step)\n",
    "\n",
    "start = 2\n",
    "step = -2 negative direction\n",
    "last = -20+1 = -19"
   ]
  },
  {
   "cell_type": "code",
   "execution_count": 17,
   "id": "473a7b31-dd1b-4b3d-8446-6f91f4ba615b",
   "metadata": {},
   "outputs": [
    {
     "name": "stdout",
     "output_type": "stream",
     "text": [
      "2 0 -2 -4 -6 -8 -10 -12 -14 -16 -18 "
     ]
    }
   ],
   "source": [
    "for i in range(2,-20,-2):\n",
    "    print(i, end=' ')"
   ]
  },
  {
   "cell_type": "code",
   "execution_count": 18,
   "id": "6af7fa94-804d-4ba8-a31d-d5813585d2b4",
   "metadata": {},
   "outputs": [],
   "source": [
    "#Que:-3"
   ]
  },
  {
   "cell_type": "code",
   "execution_count": 20,
   "id": "e10a7d57-5ba7-4403-a2a2-a1f0436b6d39",
   "metadata": {},
   "outputs": [
    {
     "name": "stdin",
     "output_type": "stream",
     "text": [
      "Enter a number 7\n"
     ]
    },
    {
     "name": "stdout",
     "output_type": "stream",
     "text": [
      "Odd Number\n"
     ]
    },
    {
     "name": "stdin",
     "output_type": "stream",
     "text": [
      "Enter a number 5\n"
     ]
    },
    {
     "name": "stdout",
     "output_type": "stream",
     "text": [
      "Odd Number\n"
     ]
    },
    {
     "name": "stdin",
     "output_type": "stream",
     "text": [
      "Enter a number 9\n"
     ]
    },
    {
     "name": "stdout",
     "output_type": "stream",
     "text": [
      "Odd Number\n"
     ]
    },
    {
     "name": "stdin",
     "output_type": "stream",
     "text": [
      "Enter a number 2\n"
     ]
    },
    {
     "name": "stdout",
     "output_type": "stream",
     "text": [
      "Even Number\n"
     ]
    },
    {
     "name": "stdin",
     "output_type": "stream",
     "text": [
      "Enter a number 8\n"
     ]
    },
    {
     "name": "stdout",
     "output_type": "stream",
     "text": [
      "Even Number\n"
     ]
    }
   ],
   "source": [
    "for i in range(1,6):\n",
    "    num= eval(input(\"Enter a number\"))\n",
    "    if num%2==0:\n",
    "        print(f\"Even Number\")\n",
    "    else:\n",
    "        print(f\"Odd Number\")"
   ]
  },
  {
   "cell_type": "code",
   "execution_count": 26,
   "id": "5f7a63df-b1cd-4b3d-bbe5-5456ac08ab31",
   "metadata": {},
   "outputs": [
    {
     "name": "stdin",
     "output_type": "stream",
     "text": [
      "Enter a number 8\n"
     ]
    },
    {
     "name": "stdout",
     "output_type": "stream",
     "text": [
      "7*1 = 8\n",
      "7*2 = 16\n",
      "7*3 = 24\n",
      "7*4 = 32\n",
      "7*5 = 40\n",
      "7*6 = 48\n",
      "7*7 = 56\n",
      "7*8 = 64\n",
      "7*9 = 72\n",
      "7*10 = 80\n"
     ]
    }
   ],
   "source": [
    "num = eval(input(\"Enter a number\"))\n",
    "for i in range(1,11):\n",
    "     \n",
    "    print(f\"7*{i} = {num*i}\")"
   ]
  },
  {
   "cell_type": "code",
   "execution_count": 27,
   "id": "a32dd18c-c6ae-40b7-abea-2b66d6e80f0e",
   "metadata": {},
   "outputs": [
    {
     "name": "stdin",
     "output_type": "stream",
     "text": [
      "Enter a divisor number:- 10\n"
     ]
    },
    {
     "name": "stdout",
     "output_type": "stream",
     "text": [
      "1 is a divisor for 10\n",
      "2 is a divisor for 10\n",
      "5 is a divisor for 10\n",
      "10 is a divisor for 10\n"
     ]
    }
   ],
   "source": [
    "num = eval(input(\"Enter a divisor number:-\"))\n",
    "for i in range(1,num+1):\n",
    "    if num%i==0:\n",
    "        print(f\"{i} is a divisor for {num}\")"
   ]
  },
  {
   "cell_type": "code",
   "execution_count": 29,
   "id": "81302c1d-18fc-4722-8f6a-57e533972612",
   "metadata": {},
   "outputs": [
    {
     "name": "stdin",
     "output_type": "stream",
     "text": [
      "Enter a divisor number:- 8\n"
     ]
    },
    {
     "name": "stdout",
     "output_type": "stream",
     "text": [
      "1 is a divisor for 8\n",
      "2 is a divisor for 8\n",
      "4 is a divisor for 8\n",
      "8 is a divisor for 8\n"
     ]
    }
   ],
   "source": [
    "def div():\n",
    "    num = eval(input(\"Enter a divisor number:-\"))\n",
    "    for i in range(1,num+1):\n",
    "        if num%i==0:\n",
    "            print(f\"{i} is a divisor for {num}\")\n",
    "\n",
    "div()"
   ]
  },
  {
   "cell_type": "code",
   "execution_count": 30,
   "id": "17f7e1a8-86f4-487b-8b56-59c9967c5bb6",
   "metadata": {},
   "outputs": [
    {
     "name": "stdout",
     "output_type": "stream",
     "text": [
      "1 is a divisor for 57\n",
      "3 is a divisor for 57\n",
      "19 is a divisor for 57\n",
      "57 is a divisor for 57\n"
     ]
    }
   ],
   "source": [
    "def div1(num):\n",
    "    \n",
    "    for i in range(1,num+1):\n",
    "        if num%i==0:\n",
    "            print(f\"{i} is a divisor for {num}\")\n",
    "\n",
    "div1(57)"
   ]
  },
  {
   "cell_type": "code",
   "execution_count": 33,
   "id": "e715ac36-582d-45bf-a4e9-ba73b538486b",
   "metadata": {},
   "outputs": [
    {
     "name": "stdout",
     "output_type": "stream",
     "text": [
      "1 is a divisor for 97\n",
      "97 is a divisor for 97\n"
     ]
    },
    {
     "data": {
      "text/plain": [
       "97"
      ]
     },
     "execution_count": 33,
     "metadata": {},
     "output_type": "execute_result"
    }
   ],
   "source": [
    "def div2(num):\n",
    "    \n",
    "    for i in range(1,num+1):\n",
    "        if num%i==0:\n",
    "            print(f\"{i} is a divisor for {num}\")\n",
    "    return(i)\n",
    "\n",
    "d=div2(97)\n",
    "d"
   ]
  },
  {
   "cell_type": "code",
   "execution_count": 34,
   "id": "0149595e-f819-436f-b917-7a7d3401ecae",
   "metadata": {},
   "outputs": [
    {
     "name": "stdout",
     "output_type": "stream",
     "text": [
      "0 1 2 3 4 "
     ]
    }
   ],
   "source": [
    "for i in range(5):\n",
    "    print(i, end=\" \")"
   ]
  },
  {
   "cell_type": "code",
   "execution_count": 35,
   "id": "3782c821-819f-4010-bc8a-3eb00a960405",
   "metadata": {},
   "outputs": [
    {
     "data": {
      "text/plain": [
       "4"
      ]
     },
     "execution_count": 35,
     "metadata": {},
     "output_type": "execute_result"
    }
   ],
   "source": [
    "i"
   ]
  },
  {
   "cell_type": "markdown",
   "id": "40189648-a732-4c1a-bbb7-7e85c990e8e8",
   "metadata": {},
   "source": []
  },
  {
   "cell_type": "markdown",
   "id": "a1e3ac72-e714-4780-9905-898e11e7c726",
   "metadata": {},
   "source": [
    "**i**\n",
    "\n",
    "- i variable will give always last value\n",
    "- do not print i outside the for loop\n",
    "- - never ever try to print i  outside the for loops "
   ]
  },
  {
   "cell_type": "markdown",
   "id": "fdec0253-3638-49a7-bba9-f995725d5035",
   "metadata": {},
   "source": [
    "**Summation Wrapper**\n",
    "\n",
    "  - always initialize the summ = 0 before the loop\n",
    "  - inside loop summ=summ+i\n",
    "  - then print the summ value outside the loop "
   ]
  },
  {
   "cell_type": "code",
   "execution_count": 46,
   "id": "a1caf180-1a55-4299-be2f-4a0a2f7b461a",
   "metadata": {},
   "outputs": [
    {
     "name": "stdout",
     "output_type": "stream",
     "text": [
      "1\n",
      "3\n",
      "6\n",
      "10\n",
      "15\n",
      "21\n",
      "28\n",
      "36\n",
      "45\n",
      "55\n"
     ]
    }
   ],
   "source": [
    "summ=0\n",
    "for i in range(1,11):\n",
    "    summ=summ+i\n",
    "    print(summ)"
   ]
  },
  {
   "cell_type": "markdown",
   "id": "fd719a33-3f87-4c18-a285-a179a9465c37",
   "metadata": {},
   "source": [
    "**Counter Wrapper**\n",
    "\n",
    "- Before the loop count = 0\n",
    "- inside the loop count = count+1, but this line under succeful operation\n",
    "- print the cout outside the loop "
   ]
  },
  {
   "cell_type": "code",
   "execution_count": 51,
   "id": "38bbb7f2-59d4-4fef-9304-b473154c2684",
   "metadata": {},
   "outputs": [
    {
     "name": "stdin",
     "output_type": "stream",
     "text": [
      "Enter a divisor number:- 45\n"
     ]
    },
    {
     "name": "stdout",
     "output_type": "stream",
     "text": [
      "1 is a divisor for 45\n",
      "3 is a divisor for 45\n",
      "5 is a divisor for 45\n",
      "9 is a divisor for 45\n",
      "15 is a divisor for 45\n",
      "45 is a divisor for 45\n",
      "6\n"
     ]
    }
   ],
   "source": [
    "# wap \n",
    "count = 0\n",
    "num = eval(input(\"Enter a divisor number:-\"))\n",
    "for i in range(1,num+1): # for i in range(1,11)\n",
    "                         # \n",
    "    if num%i==0:\n",
    "        count=count+1\n",
    "        print(f\"{i} is a divisor for {num}\")\n",
    "\n",
    "print(count)\n",
    "\n",
    "#for i in range(1,10+1)\n",
    "# step = i=1 count= 0+1 =1 if 10%1==0 True print\n",
    "# step2= i=2 count= 1+1=2 is 10%2==0 True print\n",
    "# step3= i=3 count= 2+1=3 is 10%3==0 False "
   ]
  },
  {
   "cell_type": "code",
   "execution_count": 1,
   "id": "dec02f44-1185-4068-b4ef-ae9bd13b5c64",
   "metadata": {},
   "outputs": [
    {
     "name": "stdin",
     "output_type": "stream",
     "text": [
      "Enter a number 4\n"
     ]
    },
    {
     "name": "stdout",
     "output_type": "stream",
     "text": [
      "Even Number\n"
     ]
    },
    {
     "name": "stdin",
     "output_type": "stream",
     "text": [
      "Enter a number 78\n"
     ]
    },
    {
     "name": "stdout",
     "output_type": "stream",
     "text": [
      "Even Number\n"
     ]
    },
    {
     "name": "stdin",
     "output_type": "stream",
     "text": [
      "Enter a number 54\n"
     ]
    },
    {
     "name": "stdout",
     "output_type": "stream",
     "text": [
      "Even Number\n"
     ]
    },
    {
     "name": "stdin",
     "output_type": "stream",
     "text": [
      "Enter a number 5\n"
     ]
    },
    {
     "name": "stdout",
     "output_type": "stream",
     "text": [
      "Odd Number\n"
     ]
    },
    {
     "name": "stdin",
     "output_type": "stream",
     "text": [
      "Enter a number 9\n"
     ]
    },
    {
     "name": "stdout",
     "output_type": "stream",
     "text": [
      "Odd Number\n",
      "the Even number counted by:- 3\n",
      "the Odd number counted by:- 2\n"
     ]
    }
   ],
   "source": [
    "#Que:- \n",
    "even_count,odd_count=0,0\n",
    "for i in range(1,6):\n",
    "    num= eval(input(\"Enter a number\"))\n",
    "    if num%2==0:\n",
    "        even_count=even_count+1\n",
    "        print(f\"Even Number\")\n",
    "    else:\n",
    "        odd_count=odd_count+1\n",
    "        print(f\"Odd Number\")\n",
    "print(f'the Even number counted by:- {even_count}')\n",
    "print(f'the Odd number counted by:- {odd_count}')"
   ]
  },
  {
   "cell_type": "code",
   "execution_count": 57,
   "id": "19a128f9-dfb0-4724-812f-70a4cf9eda64",
   "metadata": {},
   "outputs": [
    {
     "name": "stdout",
     "output_type": "stream",
     "text": [
      "Odd Number\n",
      "Even Number\n",
      "Odd Number\n",
      "the Even number counted by:- 2\n",
      "the Odd number counted by:- 2\n"
     ]
    }
   ],
   "source": [
    "import random\n",
    "count=0\n",
    "for i in range(1,4):\n",
    "    num= random.randint(1,20)\n",
    "    if num%2==0:\n",
    "        print()\n",
    "        print(f\"Even Number\")\n",
    "    else:\n",
    "        count=count+1\n",
    "        print(f\"Odd Number\")\n",
    "print(f'the Even number counted by:- {count1}')\n",
    "print(f'the Odd number counted by:- {count}')"
   ]
  },
  {
   "cell_type": "code",
   "execution_count": 2,
   "id": "fd360f49-d14d-43bb-97c1-199419c19f54",
   "metadata": {},
   "outputs": [
    {
     "name": "stdin",
     "output_type": "stream",
     "text": [
      "Enter a divisor number:- 45\n"
     ]
    },
    {
     "name": "stdout",
     "output_type": "stream",
     "text": [
      "1 is a divisor for 45\n",
      "3 is a divisor for 45\n",
      "5 is a divisor for 45\n",
      "9 is a divisor for 45\n",
      "15 is a divisor for 45\n",
      "45 is a divisor for 45\n",
      "the divisor count is :-6\n",
      "the divisor sum is :- 78\n"
     ]
    }
   ],
   "source": [
    "#Que:-\n",
    "summ=0\n",
    "count = 0\n",
    "num = eval(input(\"Enter a divisor number:-\"))\n",
    "for i in range(1,num+1): # for i in range(1,11)                     \n",
    "    if num%i==0:\n",
    "        count=count+1\n",
    "        summ=summ+i\n",
    "        print(f\"{i} is a divisor for {num}\")\n",
    "\n",
    "print(f\"the divisor count is :-{count}\")\n",
    "print(f\"the divisor sum is :- {summ}\")"
   ]
  },
  {
   "cell_type": "code",
   "execution_count": 4,
   "id": "20b3f936-581f-4a71-b952-ef5758617ab6",
   "metadata": {},
   "outputs": [
    {
     "name": "stdin",
     "output_type": "stream",
     "text": [
      "Enter a number 45\n"
     ]
    },
    {
     "name": "stdout",
     "output_type": "stream",
     "text": [
      "Odd Number\n"
     ]
    },
    {
     "name": "stdin",
     "output_type": "stream",
     "text": [
      "Enter a number 87\n"
     ]
    },
    {
     "name": "stdout",
     "output_type": "stream",
     "text": [
      "Odd Number\n"
     ]
    },
    {
     "name": "stdin",
     "output_type": "stream",
     "text": [
      "Enter a number 62\n"
     ]
    },
    {
     "name": "stdout",
     "output_type": "stream",
     "text": [
      "Even Number\n"
     ]
    },
    {
     "name": "stdin",
     "output_type": "stream",
     "text": [
      "Enter a number 84\n"
     ]
    },
    {
     "name": "stdout",
     "output_type": "stream",
     "text": [
      "Even Number\n"
     ]
    },
    {
     "name": "stdin",
     "output_type": "stream",
     "text": [
      "Enter a number 57\n"
     ]
    },
    {
     "name": "stdout",
     "output_type": "stream",
     "text": [
      "Odd Number\n",
      "the Even number counted by:- 2\n",
      "the Odd number counted by:- 3\n",
      "the even_summ of number is:- 146\n",
      "the Odd_summ of number is:- 189\n"
     ]
    }
   ],
   "source": [
    "#Que:-\n",
    "even_summ, odd_summ=0,0\n",
    "even_count,odd_count=0,0\n",
    "\n",
    "for i in range(1,6):\n",
    "    num= eval(input(\"Enter a number\"))\n",
    "    if num%2==0:\n",
    "        even_count=even_count+1\n",
    "        even_summ=even_summ+num\n",
    "        print(f\"Even Number\")\n",
    "    else:\n",
    "        odd_count=odd_count+1\n",
    "        odd_summ=odd_summ+num\n",
    "        print(f\"Odd Number\")\n",
    "print(f'the Even number counted by:- {even_count}')\n",
    "print(f'the Odd number counted by:- {odd_count}')\n",
    "print(f'the even_summ of number is:- {even_summ}')\n",
    "print(f'the Odd_summ of number is:- {odd_summ}')\n"
   ]
  },
  {
   "cell_type": "markdown",
   "id": "f70331d1-e37d-452e-a5c4-a3021bffa5d4",
   "metadata": {},
   "source": [
    "**IMP Que**\n",
    "- Counter Wrapper\n",
    "- Summation Wrapper"
   ]
  },
  {
   "cell_type": "code",
   "execution_count": 9,
   "id": "f3a512fd-3e2e-4b88-9862-5f19e611da87",
   "metadata": {},
   "outputs": [
    {
     "name": "stdout",
     "output_type": "stream",
     "text": [
      "3\n"
     ]
    },
    {
     "name": "stdin",
     "output_type": "stream",
     "text": [
      "enter a number:- 4\n"
     ]
    },
    {
     "name": "stdout",
     "output_type": "stream",
     "text": [
      "Lost\n",
      "1\n"
     ]
    },
    {
     "name": "stdin",
     "output_type": "stream",
     "text": [
      "enter a number:- 1\n"
     ]
    },
    {
     "name": "stdout",
     "output_type": "stream",
     "text": [
      "Won\n"
     ]
    }
   ],
   "source": [
    "#CASE-1\n",
    "\n",
    "import random\n",
    "for i in range(1,4):\n",
    "    n1 = random.randint(1,10)\n",
    "    print(n1)\n",
    "    n2 = eval(input(\"enter a number:-\"))\n",
    "    if n1==n2:\n",
    "        print(\"Won\")\n",
    "        break\n",
    "    else:\n",
    "        print(\"Lost\")"
   ]
  },
  {
   "cell_type": "code",
   "execution_count": 19,
   "id": "32a6636b-a1e4-49b9-8143-93405715892a",
   "metadata": {},
   "outputs": [
    {
     "name": "stdout",
     "output_type": "stream",
     "text": [
      "8\n"
     ]
    },
    {
     "name": "stdin",
     "output_type": "stream",
     "text": [
      "enter a number:- 4\n"
     ]
    },
    {
     "name": "stdout",
     "output_type": "stream",
     "text": [
      "Lost\n",
      "the chances of number remening:- 2\n",
      "2\n"
     ]
    },
    {
     "name": "stdin",
     "output_type": "stream",
     "text": [
      "enter a number:- 5\n"
     ]
    },
    {
     "name": "stdout",
     "output_type": "stream",
     "text": [
      "Lost\n",
      "the chances of number remening:- 1\n",
      "10\n"
     ]
    },
    {
     "name": "stdin",
     "output_type": "stream",
     "text": [
      "enter a number:- 8\n"
     ]
    },
    {
     "name": "stdout",
     "output_type": "stream",
     "text": [
      "Lost\n",
      "the chances of number remening:- 0\n"
     ]
    }
   ],
   "source": [
    "#Case-2:- 1st method use\n",
    "\n",
    "import random\n",
    "for i in range(1,4):\n",
    "    n1 = random.randint(1,10)\n",
    "    print(n1)\n",
    "    n2 = eval(input(\"enter a number:-\"))\n",
    "    if n1==n2:\n",
    "        print(\"Won\")\n",
    "        break\n",
    "    else:\n",
    "        print(\"Lost\")\n",
    "        print(f\"the chances of number remening:- {3-i}\")\n"
   ]
  },
  {
   "cell_type": "code",
   "execution_count": 21,
   "id": "79285771-cbb6-4ef3-960d-111013109971",
   "metadata": {},
   "outputs": [
    {
     "name": "stdin",
     "output_type": "stream",
     "text": [
      "Enter number chances you want 3\n"
     ]
    },
    {
     "name": "stdout",
     "output_type": "stream",
     "text": [
      "5\n"
     ]
    },
    {
     "name": "stdin",
     "output_type": "stream",
     "text": [
      "enter a number:- 4\n"
     ]
    },
    {
     "name": "stdout",
     "output_type": "stream",
     "text": [
      "the chances of number remening:- 2\n",
      "Lost\n",
      "8\n"
     ]
    },
    {
     "name": "stdin",
     "output_type": "stream",
     "text": [
      "enter a number:- 7\n"
     ]
    },
    {
     "name": "stdout",
     "output_type": "stream",
     "text": [
      "the chances of number remening:- 1\n",
      "Lost\n",
      "1\n"
     ]
    },
    {
     "name": "stdin",
     "output_type": "stream",
     "text": [
      "enter a number:- 6\n"
     ]
    },
    {
     "name": "stdout",
     "output_type": "stream",
     "text": [
      "the chances of number remening:- 0\n",
      "Lost\n"
     ]
    }
   ],
   "source": [
    "#Case-2 2nd method use\n",
    "\n",
    "import random\n",
    "num=eval(input(\"Enter number chances you want\"))\n",
    "for i in range(1,num+1):\n",
    "    n1 = random.randint(1,10)\n",
    "    print(n1)\n",
    "    n2 = eval(input(\"enter a number:-\"))\n",
    "    if n1==n2:\n",
    "        print(\"Won\")\n",
    "        break\n",
    "    else:\n",
    "        print(f\"the chances of number remening:- {num-i}\")\n",
    "        print(\"Lost\")\n",
    "        "
   ]
  },
  {
   "cell_type": "code",
   "execution_count": 24,
   "id": "03972a37-b0cd-4db2-be80-ca6d3127dc76",
   "metadata": {},
   "outputs": [
    {
     "name": "stdin",
     "output_type": "stream",
     "text": [
      "Enter number chances you want 3\n"
     ]
    },
    {
     "name": "stdout",
     "output_type": "stream",
     "text": [
      "9\n"
     ]
    },
    {
     "name": "stdin",
     "output_type": "stream",
     "text": [
      "enter a number:- 1\n"
     ]
    },
    {
     "name": "stdout",
     "output_type": "stream",
     "text": [
      "the chances of number remening:- 2\n",
      "Lost\n",
      "8\n"
     ]
    },
    {
     "name": "stdin",
     "output_type": "stream",
     "text": [
      "enter a number:- 2\n"
     ]
    },
    {
     "name": "stdout",
     "output_type": "stream",
     "text": [
      "the chances of number remening:- 1\n",
      "Lost\n",
      "7\n"
     ]
    },
    {
     "name": "stdin",
     "output_type": "stream",
     "text": [
      "enter a number:- 5\n"
     ]
    },
    {
     "name": "stdout",
     "output_type": "stream",
     "text": [
      "Lost\n",
      "All chances are over try after 24 hr\n"
     ]
    }
   ],
   "source": [
    "#Case-3:-\n",
    "import random\n",
    "num=eval(input(\"Enter number chances you want\"))\n",
    "for i in range(1,num+1):\n",
    "    n1 = random.randint(1,10)\n",
    "    print(n1)\n",
    "    n2 = eval(input(\"enter a number:-\"))\n",
    "    if n1==n2:\n",
    "        print(\"Won\")\n",
    "        break\n",
    "    elif num-i==0:\n",
    "        print(\"Lost\")\n",
    "        print(f\"All chances are over try after 24 hr\")\n",
    "    else:\n",
    "        print(f\"the chances of number remening:- {num-i}\")\n",
    "        print(\"Lost\")    \n",
    "\n",
    "# num=3 i=1 n1=3 n2=8 if False elif 3-1=0 False else num-i 3-1=2\n",
    "# num=3 i=2 n1=3 n2=7 if False elif 3-2=0 False else num-i 3-2=1\n",
    "# num=3 i=3 n1=3 n2=9 if False elif 3-3=0 True "
   ]
  },
  {
   "cell_type": "markdown",
   "id": "394724cc-72d3-4b02-973c-3f9c682cf17a",
   "metadata": {},
   "source": [
    "**in**"
   ]
  },
  {
   "cell_type": "markdown",
   "id": "a574fde2-1e93-4e2d-841b-1ed610c0c799",
   "metadata": {},
   "source": [
    "- range operator excpect a value inside\n",
    "\n",
    "- in operator access the value directly\n",
    "\n",
    "- It will use every where like:- string, list, tuple, dictionary, etc...."
   ]
  },
  {
   "cell_type": "code",
   "execution_count": 26,
   "id": "7d324fc7-c106-476b-896f-0022984b6289",
   "metadata": {},
   "outputs": [
    {
     "name": "stdout",
     "output_type": "stream",
     "text": [
      "p\n",
      "y\n",
      "t\n",
      "h\n",
      "o\n",
      "n\n"
     ]
    }
   ],
   "source": [
    "'p' in \"python\"\n",
    "'y' in 'python'\n",
    "'t' in 'python'\n",
    "'h' in 'python'\n",
    "'o' in 'python'\n",
    "'n' in 'python'\n",
    "\n",
    "for i in 'python':\n",
    "    print(i)"
   ]
  },
  {
   "cell_type": "code",
   "execution_count": 30,
   "id": "4476f9bf-b221-43c0-966c-9ca05ef93132",
   "metadata": {},
   "outputs": [
    {
     "data": {
      "text/plain": [
       "False"
      ]
     },
     "execution_count": 30,
     "metadata": {},
     "output_type": "execute_result"
    }
   ],
   "source": [
    "# 'p' == \"P\" = False\n",
    "# 'p' =='p' = True\n",
    "# 'p'>'P'   = True\n",
    "# 'p'<'P'  = False"
   ]
  },
  {
   "cell_type": "code",
   "execution_count": null,
   "id": "21b9fb88-a9ec-438b-86c6-0b1fa27521ab",
   "metadata": {},
   "outputs": [],
   "source": [
    "# Ascii:- American Standard code for Information Interchange \n",
    "\n",
    "A=65   a=97\n",
    "B=66   b=98"
   ]
  },
  {
   "cell_type": "markdown",
   "id": "e2c39783-019c-4cdc-868f-2f015956e500",
   "metadata": {},
   "source": [
    "**ord-chr**"
   ]
  },
  {
   "cell_type": "code",
   "execution_count": 32,
   "id": "6d1dac30-4dde-4eec-afce-7ad76daafe88",
   "metadata": {},
   "outputs": [
    {
     "data": {
      "text/plain": [
       "65"
      ]
     },
     "execution_count": 32,
     "metadata": {},
     "output_type": "execute_result"
    }
   ],
   "source": [
    "ord('A')"
   ]
  },
  {
   "cell_type": "code",
   "execution_count": 33,
   "id": "b5cf36d1-8dd7-472c-8ae2-6c6fccd8f96a",
   "metadata": {},
   "outputs": [
    {
     "data": {
      "text/plain": [
       "'A'"
      ]
     },
     "execution_count": 33,
     "metadata": {},
     "output_type": "execute_result"
    }
   ],
   "source": [
    "chr(65)"
   ]
  },
  {
   "cell_type": "code",
   "execution_count": 34,
   "id": "036c3a79-c3b0-4ba1-a546-abb32d81b91d",
   "metadata": {},
   "outputs": [
    {
     "data": {
      "text/plain": [
       "97"
      ]
     },
     "execution_count": 34,
     "metadata": {},
     "output_type": "execute_result"
    }
   ],
   "source": [
    "ord('a')"
   ]
  },
  {
   "cell_type": "code",
   "execution_count": 35,
   "id": "b95be5de-bf85-4e72-ac49-897c6a0128bf",
   "metadata": {},
   "outputs": [
    {
     "data": {
      "text/plain": [
       "'U'"
      ]
     },
     "execution_count": 35,
     "metadata": {},
     "output_type": "execute_result"
    }
   ],
   "source": [
    "chr(85)"
   ]
  },
  {
   "cell_type": "code",
   "execution_count": 38,
   "id": "5e31a7a1-87c9-404d-a000-599bb0ceed65",
   "metadata": {},
   "outputs": [
    {
     "name": "stdout",
     "output_type": "stream",
     "text": [
      "65 A\n",
      "66 B\n",
      "67 C\n",
      "68 D\n",
      "69 E\n",
      "70 F\n",
      "71 G\n",
      "72 H\n",
      "73 I\n",
      "74 J\n",
      "75 K\n",
      "76 L\n",
      "77 M\n",
      "78 N\n",
      "79 O\n",
      "80 P\n",
      "81 Q\n",
      "82 R\n",
      "83 S\n",
      "84 T\n",
      "85 U\n",
      "86 V\n",
      "87 W\n",
      "88 X\n",
      "89 Y\n",
      "90 Z\n",
      "91 [\n",
      "92 \\\n",
      "93 ]\n",
      "94 ^\n",
      "95 _\n",
      "96 `\n",
      "97 a\n",
      "98 b\n",
      "99 c\n"
     ]
    }
   ],
   "source": [
    "for i in range(65,100):\n",
    "    print(i, chr(i))"
   ]
  },
  {
   "cell_type": "code",
   "execution_count": 39,
   "id": "2a9a0f3c-5e51-4687-a83c-11018e168283",
   "metadata": {},
   "outputs": [
    {
     "name": "stdout",
     "output_type": "stream",
     "text": [
      "35 #\n",
      "36 $\n",
      "37 %\n",
      "38 &\n",
      "39 '\n",
      "40 (\n",
      "41 )\n",
      "42 *\n",
      "43 +\n",
      "44 ,\n",
      "45 -\n",
      "46 .\n",
      "47 /\n",
      "48 0\n",
      "49 1\n",
      "50 2\n",
      "51 3\n",
      "52 4\n",
      "53 5\n",
      "54 6\n",
      "55 7\n",
      "56 8\n",
      "57 9\n",
      "58 :\n",
      "59 ;\n",
      "60 <\n",
      "61 =\n",
      "62 >\n",
      "63 ?\n",
      "64 @\n",
      "65 A\n",
      "66 B\n",
      "67 C\n",
      "68 D\n",
      "69 E\n",
      "70 F\n",
      "71 G\n",
      "72 H\n",
      "73 I\n",
      "74 J\n",
      "75 K\n",
      "76 L\n",
      "77 M\n",
      "78 N\n",
      "79 O\n",
      "80 P\n",
      "81 Q\n",
      "82 R\n",
      "83 S\n",
      "84 T\n",
      "85 U\n",
      "86 V\n",
      "87 W\n",
      "88 X\n",
      "89 Y\n",
      "90 Z\n",
      "91 [\n",
      "92 \\\n",
      "93 ]\n",
      "94 ^\n",
      "95 _\n",
      "96 `\n",
      "97 a\n",
      "98 b\n",
      "99 c\n",
      "100 d\n",
      "101 e\n",
      "102 f\n",
      "103 g\n",
      "104 h\n",
      "105 i\n",
      "106 j\n",
      "107 k\n",
      "108 l\n",
      "109 m\n",
      "110 n\n",
      "111 o\n",
      "112 p\n",
      "113 q\n",
      "114 r\n",
      "115 s\n",
      "116 t\n",
      "117 u\n",
      "118 v\n",
      "119 w\n",
      "120 x\n",
      "121 y\n",
      "122 z\n",
      "123 {\n",
      "124 |\n",
      "125 }\n",
      "126 ~\n",
      "127 \n",
      "128 \n",
      "129 \n",
      "130 \n",
      "131 \n",
      "132 \n",
      "133 ",
      "\n",
      "134 \n",
      "135 \n",
      "136 \n",
      "137 \n",
      "138 \n",
      "139 \n",
      "140 \n",
      "141 \n",
      "142 \n",
      "143 \n",
      "144 \n",
      "145 \n",
      "146 \n",
      "147 \n",
      "148 \n",
      "149 \n",
      "150 \n",
      "151 \n",
      "152 \n",
      "153 \n",
      "154 \n",
      "155 \n",
      "156 \n",
      "157 \n",
      "158 \n",
      "159 \n",
      "160  \n",
      "161 ¡\n",
      "162 ¢\n",
      "163 £\n",
      "164 ¤\n",
      "165 ¥\n",
      "166 ¦\n",
      "167 §\n",
      "168 ¨\n",
      "169 ©\n",
      "170 ª\n",
      "171 «\n",
      "172 ¬\n",
      "173 ­\n",
      "174 ®\n",
      "175 ¯\n",
      "176 °\n",
      "177 ±\n",
      "178 ²\n",
      "179 ³\n",
      "180 ´\n",
      "181 µ\n",
      "182 ¶\n",
      "183 ·\n",
      "184 ¸\n",
      "185 ¹\n",
      "186 º\n",
      "187 »\n",
      "188 ¼\n",
      "189 ½\n",
      "190 ¾\n",
      "191 ¿\n",
      "192 À\n",
      "193 Á\n",
      "194 Â\n",
      "195 Ã\n",
      "196 Ä\n",
      "197 Å\n",
      "198 Æ\n",
      "199 Ç\n",
      "200 È\n",
      "201 É\n",
      "202 Ê\n",
      "203 Ë\n",
      "204 Ì\n",
      "205 Í\n",
      "206 Î\n",
      "207 Ï\n",
      "208 Ð\n",
      "209 Ñ\n",
      "210 Ò\n",
      "211 Ó\n",
      "212 Ô\n",
      "213 Õ\n",
      "214 Ö\n",
      "215 ×\n",
      "216 Ø\n",
      "217 Ù\n",
      "218 Ú\n",
      "219 Û\n",
      "220 Ü\n",
      "221 Ý\n",
      "222 Þ\n",
      "223 ß\n",
      "224 à\n",
      "225 á\n",
      "226 â\n",
      "227 ã\n",
      "228 ä\n",
      "229 å\n",
      "230 æ\n",
      "231 ç\n",
      "232 è\n",
      "233 é\n",
      "234 ê\n",
      "235 ë\n",
      "236 ì\n",
      "237 í\n",
      "238 î\n",
      "239 ï\n",
      "240 ð\n",
      "241 ñ\n",
      "242 ò\n",
      "243 ó\n",
      "244 ô\n",
      "245 õ\n",
      "246 ö\n",
      "247 ÷\n",
      "248 ø\n",
      "249 ù\n",
      "250 ú\n",
      "251 û\n",
      "252 ü\n",
      "253 ý\n",
      "254 þ\n",
      "255 ÿ\n",
      "256 Ā\n",
      "257 ā\n",
      "258 Ă\n",
      "259 ă\n",
      "260 Ą\n",
      "261 ą\n",
      "262 Ć\n",
      "263 ć\n",
      "264 Ĉ\n",
      "265 ĉ\n",
      "266 Ċ\n",
      "267 ċ\n",
      "268 Č\n",
      "269 č\n",
      "270 Ď\n",
      "271 ď\n",
      "272 Đ\n",
      "273 đ\n",
      "274 Ē\n",
      "275 ē\n",
      "276 Ĕ\n",
      "277 ĕ\n",
      "278 Ė\n",
      "279 ė\n",
      "280 Ę\n",
      "281 ę\n",
      "282 Ě\n",
      "283 ě\n",
      "284 Ĝ\n",
      "285 ĝ\n",
      "286 Ğ\n",
      "287 ğ\n",
      "288 Ġ\n",
      "289 ġ\n",
      "290 Ģ\n",
      "291 ģ\n",
      "292 Ĥ\n",
      "293 ĥ\n",
      "294 Ħ\n",
      "295 ħ\n",
      "296 Ĩ\n",
      "297 ĩ\n",
      "298 Ī\n",
      "299 ī\n",
      "300 Ĭ\n",
      "301 ĭ\n",
      "302 Į\n",
      "303 į\n",
      "304 İ\n",
      "305 ı\n",
      "306 Ĳ\n",
      "307 ĳ\n",
      "308 Ĵ\n",
      "309 ĵ\n",
      "310 Ķ\n",
      "311 ķ\n",
      "312 ĸ\n",
      "313 Ĺ\n",
      "314 ĺ\n",
      "315 Ļ\n",
      "316 ļ\n",
      "317 Ľ\n",
      "318 ľ\n",
      "319 Ŀ\n",
      "320 ŀ\n",
      "321 Ł\n",
      "322 ł\n",
      "323 Ń\n",
      "324 ń\n",
      "325 Ņ\n",
      "326 ņ\n",
      "327 Ň\n",
      "328 ň\n",
      "329 ŉ\n",
      "330 Ŋ\n",
      "331 ŋ\n",
      "332 Ō\n",
      "333 ō\n",
      "334 Ŏ\n",
      "335 ŏ\n",
      "336 Ő\n",
      "337 ő\n",
      "338 Œ\n",
      "339 œ\n",
      "340 Ŕ\n",
      "341 ŕ\n",
      "342 Ŗ\n",
      "343 ŗ\n",
      "344 Ř\n",
      "345 ř\n",
      "346 Ś\n",
      "347 ś\n",
      "348 Ŝ\n",
      "349 ŝ\n",
      "350 Ş\n",
      "351 ş\n",
      "352 Š\n",
      "353 š\n",
      "354 Ţ\n",
      "355 ţ\n",
      "356 Ť\n",
      "357 ť\n",
      "358 Ŧ\n",
      "359 ŧ\n",
      "360 Ũ\n",
      "361 ũ\n",
      "362 Ū\n",
      "363 ū\n",
      "364 Ŭ\n",
      "365 ŭ\n",
      "366 Ů\n",
      "367 ů\n",
      "368 Ű\n",
      "369 ű\n",
      "370 Ų\n",
      "371 ų\n",
      "372 Ŵ\n",
      "373 ŵ\n",
      "374 Ŷ\n",
      "375 ŷ\n",
      "376 Ÿ\n",
      "377 Ź\n",
      "378 ź\n",
      "379 Ż\n",
      "380 ż\n",
      "381 Ž\n",
      "382 ž\n",
      "383 ſ\n",
      "384 ƀ\n",
      "385 Ɓ\n",
      "386 Ƃ\n",
      "387 ƃ\n",
      "388 Ƅ\n",
      "389 ƅ\n",
      "390 Ɔ\n",
      "391 Ƈ\n",
      "392 ƈ\n",
      "393 Ɖ\n",
      "394 Ɗ\n",
      "395 Ƌ\n",
      "396 ƌ\n",
      "397 ƍ\n",
      "398 Ǝ\n",
      "399 Ə\n",
      "400 Ɛ\n",
      "401 Ƒ\n",
      "402 ƒ\n",
      "403 Ɠ\n",
      "404 Ɣ\n",
      "405 ƕ\n",
      "406 Ɩ\n",
      "407 Ɨ\n",
      "408 Ƙ\n",
      "409 ƙ\n",
      "410 ƚ\n",
      "411 ƛ\n",
      "412 Ɯ\n",
      "413 Ɲ\n",
      "414 ƞ\n",
      "415 Ɵ\n",
      "416 Ơ\n",
      "417 ơ\n",
      "418 Ƣ\n",
      "419 ƣ\n",
      "420 Ƥ\n",
      "421 ƥ\n",
      "422 Ʀ\n",
      "423 Ƨ\n",
      "424 ƨ\n",
      "425 Ʃ\n",
      "426 ƪ\n",
      "427 ƫ\n",
      "428 Ƭ\n",
      "429 ƭ\n",
      "430 Ʈ\n",
      "431 Ư\n",
      "432 ư\n",
      "433 Ʊ\n",
      "434 Ʋ\n",
      "435 Ƴ\n",
      "436 ƴ\n",
      "437 Ƶ\n",
      "438 ƶ\n",
      "439 Ʒ\n",
      "440 Ƹ\n",
      "441 ƹ\n",
      "442 ƺ\n",
      "443 ƻ\n",
      "444 Ƽ\n",
      "445 ƽ\n",
      "446 ƾ\n",
      "447 ƿ\n",
      "448 ǀ\n",
      "449 ǁ\n",
      "450 ǂ\n",
      "451 ǃ\n",
      "452 Ǆ\n",
      "453 ǅ\n",
      "454 ǆ\n",
      "455 Ǉ\n",
      "456 ǈ\n",
      "457 ǉ\n",
      "458 Ǌ\n",
      "459 ǋ\n",
      "460 ǌ\n",
      "461 Ǎ\n",
      "462 ǎ\n",
      "463 Ǐ\n",
      "464 ǐ\n",
      "465 Ǒ\n",
      "466 ǒ\n",
      "467 Ǔ\n",
      "468 ǔ\n",
      "469 Ǖ\n",
      "470 ǖ\n",
      "471 Ǘ\n",
      "472 ǘ\n",
      "473 Ǚ\n",
      "474 ǚ\n",
      "475 Ǜ\n",
      "476 ǜ\n",
      "477 ǝ\n",
      "478 Ǟ\n",
      "479 ǟ\n",
      "480 Ǡ\n",
      "481 ǡ\n",
      "482 Ǣ\n",
      "483 ǣ\n",
      "484 Ǥ\n",
      "485 ǥ\n",
      "486 Ǧ\n",
      "487 ǧ\n",
      "488 Ǩ\n",
      "489 ǩ\n",
      "490 Ǫ\n",
      "491 ǫ\n",
      "492 Ǭ\n",
      "493 ǭ\n",
      "494 Ǯ\n",
      "495 ǯ\n",
      "496 ǰ\n",
      "497 Ǳ\n",
      "498 ǲ\n",
      "499 ǳ\n",
      "500 Ǵ\n",
      "501 ǵ\n",
      "502 Ƕ\n",
      "503 Ƿ\n",
      "504 Ǹ\n",
      "505 ǹ\n",
      "506 Ǻ\n",
      "507 ǻ\n",
      "508 Ǽ\n",
      "509 ǽ\n",
      "510 Ǿ\n",
      "511 ǿ\n",
      "512 Ȁ\n",
      "513 ȁ\n",
      "514 Ȃ\n",
      "515 ȃ\n",
      "516 Ȅ\n",
      "517 ȅ\n",
      "518 Ȇ\n",
      "519 ȇ\n",
      "520 Ȉ\n",
      "521 ȉ\n",
      "522 Ȋ\n",
      "523 ȋ\n",
      "524 Ȍ\n",
      "525 ȍ\n",
      "526 Ȏ\n",
      "527 ȏ\n",
      "528 Ȑ\n",
      "529 ȑ\n",
      "530 Ȓ\n",
      "531 ȓ\n",
      "532 Ȕ\n",
      "533 ȕ\n",
      "534 Ȗ\n",
      "535 ȗ\n",
      "536 Ș\n",
      "537 ș\n",
      "538 Ț\n",
      "539 ț\n",
      "540 Ȝ\n",
      "541 ȝ\n",
      "542 Ȟ\n",
      "543 ȟ\n",
      "544 Ƞ\n",
      "545 ȡ\n",
      "546 Ȣ\n",
      "547 ȣ\n",
      "548 Ȥ\n",
      "549 ȥ\n",
      "550 Ȧ\n",
      "551 ȧ\n",
      "552 Ȩ\n",
      "553 ȩ\n",
      "554 Ȫ\n",
      "555 ȫ\n",
      "556 Ȭ\n",
      "557 ȭ\n",
      "558 Ȯ\n",
      "559 ȯ\n",
      "560 Ȱ\n",
      "561 ȱ\n",
      "562 Ȳ\n",
      "563 ȳ\n",
      "564 ȴ\n",
      "565 ȵ\n",
      "566 ȶ\n",
      "567 ȷ\n",
      "568 ȸ\n",
      "569 ȹ\n",
      "570 Ⱥ\n",
      "571 Ȼ\n",
      "572 ȼ\n",
      "573 Ƚ\n",
      "574 Ⱦ\n",
      "575 ȿ\n",
      "576 ɀ\n",
      "577 Ɂ\n",
      "578 ɂ\n",
      "579 Ƀ\n",
      "580 Ʉ\n",
      "581 Ʌ\n",
      "582 Ɇ\n",
      "583 ɇ\n",
      "584 Ɉ\n",
      "585 ɉ\n",
      "586 Ɋ\n",
      "587 ɋ\n",
      "588 Ɍ\n",
      "589 ɍ\n",
      "590 Ɏ\n",
      "591 ɏ\n",
      "592 ɐ\n",
      "593 ɑ\n",
      "594 ɒ\n",
      "595 ɓ\n",
      "596 ɔ\n",
      "597 ɕ\n",
      "598 ɖ\n",
      "599 ɗ\n",
      "600 ɘ\n",
      "601 ə\n",
      "602 ɚ\n",
      "603 ɛ\n",
      "604 ɜ\n",
      "605 ɝ\n",
      "606 ɞ\n",
      "607 ɟ\n",
      "608 ɠ\n",
      "609 ɡ\n",
      "610 ɢ\n",
      "611 ɣ\n",
      "612 ɤ\n",
      "613 ɥ\n",
      "614 ɦ\n",
      "615 ɧ\n",
      "616 ɨ\n",
      "617 ɩ\n",
      "618 ɪ\n",
      "619 ɫ\n",
      "620 ɬ\n",
      "621 ɭ\n",
      "622 ɮ\n",
      "623 ɯ\n",
      "624 ɰ\n",
      "625 ɱ\n",
      "626 ɲ\n",
      "627 ɳ\n",
      "628 ɴ\n",
      "629 ɵ\n",
      "630 ɶ\n",
      "631 ɷ\n",
      "632 ɸ\n",
      "633 ɹ\n",
      "634 ɺ\n",
      "635 ɻ\n",
      "636 ɼ\n",
      "637 ɽ\n",
      "638 ɾ\n",
      "639 ɿ\n",
      "640 ʀ\n",
      "641 ʁ\n",
      "642 ʂ\n",
      "643 ʃ\n",
      "644 ʄ\n",
      "645 ʅ\n",
      "646 ʆ\n",
      "647 ʇ\n",
      "648 ʈ\n",
      "649 ʉ\n",
      "650 ʊ\n",
      "651 ʋ\n",
      "652 ʌ\n",
      "653 ʍ\n",
      "654 ʎ\n",
      "655 ʏ\n",
      "656 ʐ\n",
      "657 ʑ\n",
      "658 ʒ\n",
      "659 ʓ\n",
      "660 ʔ\n",
      "661 ʕ\n",
      "662 ʖ\n",
      "663 ʗ\n",
      "664 ʘ\n",
      "665 ʙ\n",
      "666 ʚ\n",
      "667 ʛ\n",
      "668 ʜ\n",
      "669 ʝ\n",
      "670 ʞ\n",
      "671 ʟ\n",
      "672 ʠ\n",
      "673 ʡ\n",
      "674 ʢ\n",
      "675 ʣ\n",
      "676 ʤ\n",
      "677 ʥ\n",
      "678 ʦ\n",
      "679 ʧ\n",
      "680 ʨ\n",
      "681 ʩ\n",
      "682 ʪ\n",
      "683 ʫ\n",
      "684 ʬ\n",
      "685 ʭ\n",
      "686 ʮ\n",
      "687 ʯ\n",
      "688 ʰ\n",
      "689 ʱ\n",
      "690 ʲ\n",
      "691 ʳ\n",
      "692 ʴ\n",
      "693 ʵ\n",
      "694 ʶ\n",
      "695 ʷ\n",
      "696 ʸ\n",
      "697 ʹ\n",
      "698 ʺ\n",
      "699 ʻ\n",
      "700 ʼ\n",
      "701 ʽ\n",
      "702 ʾ\n",
      "703 ʿ\n",
      "704 ˀ\n",
      "705 ˁ\n",
      "706 ˂\n",
      "707 ˃\n",
      "708 ˄\n",
      "709 ˅\n",
      "710 ˆ\n",
      "711 ˇ\n",
      "712 ˈ\n",
      "713 ˉ\n",
      "714 ˊ\n",
      "715 ˋ\n",
      "716 ˌ\n",
      "717 ˍ\n",
      "718 ˎ\n",
      "719 ˏ\n",
      "720 ː\n",
      "721 ˑ\n",
      "722 ˒\n",
      "723 ˓\n",
      "724 ˔\n",
      "725 ˕\n",
      "726 ˖\n",
      "727 ˗\n",
      "728 ˘\n",
      "729 ˙\n",
      "730 ˚\n",
      "731 ˛\n",
      "732 ˜\n",
      "733 ˝\n",
      "734 ˞\n",
      "735 ˟\n",
      "736 ˠ\n",
      "737 ˡ\n",
      "738 ˢ\n",
      "739 ˣ\n",
      "740 ˤ\n",
      "741 ˥\n",
      "742 ˦\n",
      "743 ˧\n",
      "744 ˨\n",
      "745 ˩\n",
      "746 ˪\n",
      "747 ˫\n",
      "748 ˬ\n",
      "749 ˭\n",
      "750 ˮ\n",
      "751 ˯\n",
      "752 ˰\n",
      "753 ˱\n",
      "754 ˲\n",
      "755 ˳\n",
      "756 ˴\n",
      "757 ˵\n",
      "758 ˶\n",
      "759 ˷\n",
      "760 ˸\n",
      "761 ˹\n",
      "762 ˺\n",
      "763 ˻\n",
      "764 ˼\n",
      "765 ˽\n",
      "766 ˾\n",
      "767 ˿\n",
      "768 ̀\n",
      "769 ́\n",
      "770 ̂\n",
      "771 ̃\n",
      "772 ̄\n",
      "773 ̅\n",
      "774 ̆\n",
      "775 ̇\n",
      "776 ̈\n",
      "777 ̉\n",
      "778 ̊\n",
      "779 ̋\n",
      "780 ̌\n",
      "781 ̍\n",
      "782 ̎\n",
      "783 ̏\n",
      "784 ̐\n",
      "785 ̑\n",
      "786 ̒\n",
      "787 ̓\n",
      "788 ̔\n",
      "789 ̕\n",
      "790 ̖\n",
      "791 ̗\n",
      "792 ̘\n",
      "793 ̙\n",
      "794 ̚\n",
      "795 ̛\n",
      "796 ̜\n",
      "797 ̝\n",
      "798 ̞\n",
      "799 ̟\n",
      "800 ̠\n",
      "801 ̡\n",
      "802 ̢\n",
      "803 ̣\n",
      "804 ̤\n",
      "805 ̥\n",
      "806 ̦\n",
      "807 ̧\n",
      "808 ̨\n",
      "809 ̩\n",
      "810 ̪\n",
      "811 ̫\n",
      "812 ̬\n",
      "813 ̭\n",
      "814 ̮\n",
      "815 ̯\n",
      "816 ̰\n",
      "817 ̱\n",
      "818 ̲\n",
      "819 ̳\n",
      "820 ̴\n",
      "821 ̵\n",
      "822 ̶\n",
      "823 ̷\n",
      "824 ̸\n",
      "825 ̹\n",
      "826 ̺\n",
      "827 ̻\n",
      "828 ̼\n",
      "829 ̽\n",
      "830 ̾\n",
      "831 ̿\n",
      "832 ̀\n",
      "833 ́\n",
      "834 ͂\n",
      "835 ̓\n",
      "836 ̈́\n",
      "837 ͅ\n",
      "838 ͆\n",
      "839 ͇\n",
      "840 ͈\n",
      "841 ͉\n",
      "842 ͊\n",
      "843 ͋\n",
      "844 ͌\n",
      "845 ͍\n",
      "846 ͎\n",
      "847 ͏\n",
      "848 ͐\n",
      "849 ͑\n",
      "850 ͒\n",
      "851 ͓\n",
      "852 ͔\n",
      "853 ͕\n",
      "854 ͖\n",
      "855 ͗\n",
      "856 ͘\n",
      "857 ͙\n",
      "858 ͚\n",
      "859 ͛\n",
      "860 ͜\n",
      "861 ͝\n",
      "862 ͞\n",
      "863 ͟\n",
      "864 ͠\n",
      "865 ͡\n",
      "866 ͢\n",
      "867 ͣ\n",
      "868 ͤ\n",
      "869 ͥ\n",
      "870 ͦ\n",
      "871 ͧ\n",
      "872 ͨ\n",
      "873 ͩ\n",
      "874 ͪ\n",
      "875 ͫ\n",
      "876 ͬ\n",
      "877 ͭ\n",
      "878 ͮ\n",
      "879 ͯ\n",
      "880 Ͱ\n",
      "881 ͱ\n",
      "882 Ͳ\n",
      "883 ͳ\n",
      "884 ʹ\n",
      "885 ͵\n",
      "886 Ͷ\n",
      "887 ͷ\n",
      "888 ͸\n",
      "889 ͹\n",
      "890 ͺ\n",
      "891 ͻ\n",
      "892 ͼ\n",
      "893 ͽ\n",
      "894 ;\n",
      "895 Ϳ\n",
      "896 ΀\n",
      "897 ΁\n",
      "898 ΂\n",
      "899 ΃\n",
      "900 ΄\n",
      "901 ΅\n",
      "902 Ά\n",
      "903 ·\n",
      "904 Έ\n",
      "905 Ή\n",
      "906 Ί\n",
      "907 ΋\n",
      "908 Ό\n",
      "909 ΍\n",
      "910 Ύ\n",
      "911 Ώ\n",
      "912 ΐ\n",
      "913 Α\n",
      "914 Β\n",
      "915 Γ\n",
      "916 Δ\n",
      "917 Ε\n",
      "918 Ζ\n",
      "919 Η\n",
      "920 Θ\n",
      "921 Ι\n",
      "922 Κ\n",
      "923 Λ\n",
      "924 Μ\n",
      "925 Ν\n",
      "926 Ξ\n",
      "927 Ο\n",
      "928 Π\n",
      "929 Ρ\n",
      "930 ΢\n",
      "931 Σ\n",
      "932 Τ\n",
      "933 Υ\n",
      "934 Φ\n",
      "935 Χ\n",
      "936 Ψ\n",
      "937 Ω\n",
      "938 Ϊ\n",
      "939 Ϋ\n",
      "940 ά\n",
      "941 έ\n",
      "942 ή\n",
      "943 ί\n",
      "944 ΰ\n",
      "945 α\n",
      "946 β\n",
      "947 γ\n",
      "948 δ\n",
      "949 ε\n",
      "950 ζ\n",
      "951 η\n",
      "952 θ\n",
      "953 ι\n",
      "954 κ\n",
      "955 λ\n",
      "956 μ\n",
      "957 ν\n",
      "958 ξ\n",
      "959 ο\n",
      "960 π\n",
      "961 ρ\n",
      "962 ς\n",
      "963 σ\n",
      "964 τ\n",
      "965 υ\n",
      "966 φ\n",
      "967 χ\n",
      "968 ψ\n",
      "969 ω\n",
      "970 ϊ\n",
      "971 ϋ\n",
      "972 ό\n",
      "973 ύ\n",
      "974 ώ\n",
      "975 Ϗ\n",
      "976 ϐ\n",
      "977 ϑ\n",
      "978 ϒ\n",
      "979 ϓ\n",
      "980 ϔ\n",
      "981 ϕ\n",
      "982 ϖ\n",
      "983 ϗ\n",
      "984 Ϙ\n",
      "985 ϙ\n",
      "986 Ϛ\n",
      "987 ϛ\n",
      "988 Ϝ\n",
      "989 ϝ\n",
      "990 Ϟ\n",
      "991 ϟ\n",
      "992 Ϡ\n",
      "993 ϡ\n",
      "994 Ϣ\n",
      "995 ϣ\n",
      "996 Ϥ\n",
      "997 ϥ\n",
      "998 Ϧ\n",
      "999 ϧ\n",
      "1000 Ϩ\n",
      "1001 ϩ\n",
      "1002 Ϫ\n",
      "1003 ϫ\n",
      "1004 Ϭ\n",
      "1005 ϭ\n",
      "1006 Ϯ\n",
      "1007 ϯ\n",
      "1008 ϰ\n",
      "1009 ϱ\n",
      "1010 ϲ\n",
      "1011 ϳ\n",
      "1012 ϴ\n",
      "1013 ϵ\n",
      "1014 ϶\n",
      "1015 Ϸ\n",
      "1016 ϸ\n",
      "1017 Ϲ\n",
      "1018 Ϻ\n",
      "1019 ϻ\n",
      "1020 ϼ\n",
      "1021 Ͻ\n",
      "1022 Ͼ\n",
      "1023 Ͽ\n",
      "1024 Ѐ\n",
      "1025 Ё\n",
      "1026 Ђ\n",
      "1027 Ѓ\n",
      "1028 Є\n",
      "1029 Ѕ\n",
      "1030 І\n",
      "1031 Ї\n",
      "1032 Ј\n",
      "1033 Љ\n",
      "1034 Њ\n",
      "1035 Ћ\n",
      "1036 Ќ\n",
      "1037 Ѝ\n",
      "1038 Ў\n",
      "1039 Џ\n",
      "1040 А\n",
      "1041 Б\n",
      "1042 В\n",
      "1043 Г\n",
      "1044 Д\n",
      "1045 Е\n",
      "1046 Ж\n",
      "1047 З\n",
      "1048 И\n",
      "1049 Й\n",
      "1050 К\n",
      "1051 Л\n",
      "1052 М\n",
      "1053 Н\n",
      "1054 О\n",
      "1055 П\n",
      "1056 Р\n",
      "1057 С\n",
      "1058 Т\n",
      "1059 У\n",
      "1060 Ф\n",
      "1061 Х\n",
      "1062 Ц\n",
      "1063 Ч\n",
      "1064 Ш\n",
      "1065 Щ\n",
      "1066 Ъ\n",
      "1067 Ы\n",
      "1068 Ь\n",
      "1069 Э\n",
      "1070 Ю\n",
      "1071 Я\n",
      "1072 а\n",
      "1073 б\n",
      "1074 в\n",
      "1075 г\n",
      "1076 д\n",
      "1077 е\n",
      "1078 ж\n",
      "1079 з\n",
      "1080 и\n",
      "1081 й\n",
      "1082 к\n",
      "1083 л\n",
      "1084 м\n",
      "1085 н\n",
      "1086 о\n",
      "1087 п\n",
      "1088 р\n",
      "1089 с\n",
      "1090 т\n",
      "1091 у\n",
      "1092 ф\n",
      "1093 х\n",
      "1094 ц\n",
      "1095 ч\n",
      "1096 ш\n",
      "1097 щ\n",
      "1098 ъ\n",
      "1099 ы\n",
      "1100 ь\n",
      "1101 э\n",
      "1102 ю\n",
      "1103 я\n",
      "1104 ѐ\n",
      "1105 ё\n",
      "1106 ђ\n",
      "1107 ѓ\n",
      "1108 є\n",
      "1109 ѕ\n",
      "1110 і\n",
      "1111 ї\n",
      "1112 ј\n",
      "1113 љ\n",
      "1114 њ\n",
      "1115 ћ\n",
      "1116 ќ\n",
      "1117 ѝ\n",
      "1118 ў\n",
      "1119 џ\n",
      "1120 Ѡ\n",
      "1121 ѡ\n",
      "1122 Ѣ\n",
      "1123 ѣ\n",
      "1124 Ѥ\n",
      "1125 ѥ\n",
      "1126 Ѧ\n",
      "1127 ѧ\n",
      "1128 Ѩ\n",
      "1129 ѩ\n",
      "1130 Ѫ\n",
      "1131 ѫ\n",
      "1132 Ѭ\n",
      "1133 ѭ\n",
      "1134 Ѯ\n",
      "1135 ѯ\n",
      "1136 Ѱ\n",
      "1137 ѱ\n",
      "1138 Ѳ\n",
      "1139 ѳ\n",
      "1140 Ѵ\n",
      "1141 ѵ\n",
      "1142 Ѷ\n",
      "1143 ѷ\n",
      "1144 Ѹ\n",
      "1145 ѹ\n",
      "1146 Ѻ\n",
      "1147 ѻ\n",
      "1148 Ѽ\n",
      "1149 ѽ\n",
      "1150 Ѿ\n",
      "1151 ѿ\n",
      "1152 Ҁ\n",
      "1153 ҁ\n",
      "1154 ҂\n",
      "1155 ҃\n",
      "1156 ҄\n",
      "1157 ҅\n",
      "1158 ҆\n",
      "1159 ҇\n",
      "1160 ҈\n",
      "1161 ҉\n",
      "1162 Ҋ\n",
      "1163 ҋ\n",
      "1164 Ҍ\n",
      "1165 ҍ\n",
      "1166 Ҏ\n",
      "1167 ҏ\n",
      "1168 Ґ\n",
      "1169 ґ\n",
      "1170 Ғ\n",
      "1171 ғ\n",
      "1172 Ҕ\n",
      "1173 ҕ\n",
      "1174 Җ\n",
      "1175 җ\n",
      "1176 Ҙ\n",
      "1177 ҙ\n",
      "1178 Қ\n",
      "1179 қ\n",
      "1180 Ҝ\n",
      "1181 ҝ\n",
      "1182 Ҟ\n",
      "1183 ҟ\n",
      "1184 Ҡ\n",
      "1185 ҡ\n",
      "1186 Ң\n",
      "1187 ң\n",
      "1188 Ҥ\n",
      "1189 ҥ\n",
      "1190 Ҧ\n",
      "1191 ҧ\n",
      "1192 Ҩ\n",
      "1193 ҩ\n",
      "1194 Ҫ\n",
      "1195 ҫ\n",
      "1196 Ҭ\n",
      "1197 ҭ\n",
      "1198 Ү\n",
      "1199 ү\n"
     ]
    }
   ],
   "source": [
    "for i in range(35,1200):\n",
    "    print(i, chr(i))"
   ]
  },
  {
   "cell_type": "code",
   "execution_count": null,
   "id": "4cef4f02-cd34-4572-b194-d3c7145a0b0a",
   "metadata": {},
   "outputs": [],
   "source": [
    "#Que:- 'A' to \"Z\" number using for loop\n",
    "# I want to iterate my loop along A to Z so that I want to get ASCII numbers."
   ]
  },
  {
   "cell_type": "code",
   "execution_count": 40,
   "id": "702abefd-574a-4231-8d24-40e410c614ec",
   "metadata": {},
   "outputs": [
    {
     "name": "stdout",
     "output_type": "stream",
     "text": [
      "ABCDEFGHIJKLMNOPQRSTUVWXYZ\n"
     ]
    }
   ],
   "source": [
    "import string\n",
    "NUM = string.ascii_uppercase\n",
    "print(NUM)"
   ]
  },
  {
   "cell_type": "code",
   "execution_count": 42,
   "id": "f71db896-45ee-4eee-a2ce-c5c9932ac1f5",
   "metadata": {},
   "outputs": [
    {
     "name": "stdout",
     "output_type": "stream",
     "text": [
      "abcdefghijklmnopqrstuvwxyz\n"
     ]
    }
   ],
   "source": [
    "num= string.ascii_lowercase\n",
    "print(num)"
   ]
  },
  {
   "cell_type": "code",
   "execution_count": 44,
   "id": "1b0b0e90-7036-4f24-ac0c-5b5f1eb5bd2b",
   "metadata": {},
   "outputs": [
    {
     "name": "stdout",
     "output_type": "stream",
     "text": [
      "A 65 B 66 C 67 D 68 E 69 F 70 G 71 H 72 I 73 J 74 K 75 L 76 M 77 N 78 O 79 P 80 Q 81 R 82 S 83 T 84 U 85 V 86 W 87 X 88 Y 89 Z 90 "
     ]
    }
   ],
   "source": [
    "for i in string.ascii_uppercase:\n",
    "    print(i, ord(i),end=\" \")"
   ]
  },
  {
   "cell_type": "code",
   "execution_count": 45,
   "id": "10b748a1-b358-4140-a956-9396f40888d7",
   "metadata": {},
   "outputs": [
    {
     "name": "stdout",
     "output_type": "stream",
     "text": [
      "a 97 b 98 c 99 d 100 e 101 f 102 g 103 h 104 i 105 j 106 k 107 l 108 m 109 n 110 o 111 p 112 q 113 r 114 s 115 t 116 u 117 v 118 w 119 x 120 y 121 z 122 "
     ]
    }
   ],
   "source": [
    "for i in string.ascii_lowercase:\n",
    "    print(i, ord(i),end=\" \")"
   ]
  },
  {
   "cell_type": "markdown",
   "id": "6b0a45ec-0b94-4656-aac3-d22a0aa028dd",
   "metadata": {},
   "source": [
    "**Note** \n",
    "- **iterator**\n",
    "- in operator access direct elements which is called iterator\n",
    "\n",
    "- iterator means\n",
    "    - String\n",
    "    - list\n",
    "    - tuple\n",
    "    - dictionary\n",
    "    \n",
    "- Iterator means which can be print by using for loop\n",
    "\n",
    "- whenever we use in operator dont give the numbers.\n",
    "\n",
    "- whenever we use range operator dont give any iterator\n",
    "\n",
    "- range needs only a number"
   ]
  },
  {
   "cell_type": "code",
   "execution_count": 46,
   "id": "34d0ecdd-aa78-4f51-985e-4bbe4535fe38",
   "metadata": {},
   "outputs": [
    {
     "data": {
      "text/plain": [
       "['h', 'n', 'o', 'p', 't', 'y']"
      ]
     },
     "execution_count": 46,
     "metadata": {},
     "output_type": "execute_result"
    }
   ],
   "source": [
    "sorted(\"python\")"
   ]
  },
  {
   "cell_type": "code",
   "execution_count": 47,
   "id": "b00fd282-7a31-464d-9b33-1dad9cc00db6",
   "metadata": {},
   "outputs": [
    {
     "data": {
      "text/plain": [
       "(104, 110, 111, 112, 116, 121)"
      ]
     },
     "execution_count": 47,
     "metadata": {},
     "output_type": "execute_result"
    }
   ],
   "source": [
    "ord('h'),ord('n'),ord('o'),ord('p'),ord('t'),ord('y')"
   ]
  },
  {
   "cell_type": "code",
   "execution_count": null,
   "id": "31526dbd-56dc-4df9-a3d8-b05b7285067d",
   "metadata": {},
   "outputs": [],
   "source": []
  }
 ],
 "metadata": {
  "kernelspec": {
   "display_name": "Python 3 (ipykernel)",
   "language": "python",
   "name": "python3"
  },
  "language_info": {
   "codemirror_mode": {
    "name": "ipython",
    "version": 3
   },
   "file_extension": ".py",
   "mimetype": "text/x-python",
   "name": "python",
   "nbconvert_exporter": "python",
   "pygments_lexer": "ipython3",
   "version": "3.12.4"
  }
 },
 "nbformat": 4,
 "nbformat_minor": 5
}
