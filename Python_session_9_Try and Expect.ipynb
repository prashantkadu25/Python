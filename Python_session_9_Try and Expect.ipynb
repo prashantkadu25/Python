{
 "cells": [
  {
   "cell_type": "markdown",
   "id": "56498c2f-ef55-43aa-bae4-46f838dd7c57",
   "metadata": {},
   "source": [
    "###### **Try-Except**\n",
    "\n",
    "- try and exception are two blocks\n",
    "\n",
    "- original code will wirte under **try block**\n",
    "\n",
    "- if any error occures in original code\n",
    "\n",
    "- it will redirect to **except** block\n",
    "\n",
    "- **expect block** will catch the errors in try block."
   ]
  },
  {
   "cell_type": "markdown",
   "id": "7b7404b7-b105-43df-94f5-8bb6a4076e56",
   "metadata": {},
   "source": [
    "- Syntax error\n",
    "\n",
    "- case sentitive error\n",
    "\n",
    "- name error\n",
    "\n",
    "- zero division error\n",
    "\n",
    "- indentation error\n",
    "\n",
    "- "
   ]
  },
  {
   "cell_type": "code",
   "execution_count": 3,
   "id": "176b3d38-309f-412e-8c5d-50e720ee0f09",
   "metadata": {},
   "outputs": [
    {
     "name": "stdout",
     "output_type": "stream",
     "text": [
      "30\n"
     ]
    }
   ],
   "source": [
    "try:\n",
    "    n1 = 10\n",
    "    n2 = 20\n",
    "    add = n1 + n2\n",
    "    print(add)\n",
    "except:\n",
    "    print(\"Hello the code is good\")"
   ]
  },
  {
   "cell_type": "code",
   "execution_count": 2,
   "id": "68441973-4861-44fd-8eb2-103c189b93d4",
   "metadata": {},
   "outputs": [
    {
     "name": "stdout",
     "output_type": "stream",
     "text": [
      "10\n",
      "20\n",
      "Hello the code is good\n"
     ]
    }
   ],
   "source": [
    "try:\n",
    "    n1 = 10\n",
    "    print(n1)\n",
    "    n2 = 20\n",
    "    print(n2)\n",
    "    add = n1 + n22\n",
    "    print(add)\n",
    "except:\n",
    "    print(\"Hello the code is good\")"
   ]
  },
  {
   "cell_type": "code",
   "execution_count": null,
   "id": "dedeed49-c395-4a3b-8bca-77351fb57a99",
   "metadata": {},
   "outputs": [],
   "source": [
    "try:\n",
    "    <write the Original code here>\n",
    "except:\n",
    "    <catch the error here>"
   ]
  },
  {
   "cell_type": "code",
   "execution_count": 4,
   "id": "c78c2d2e-1037-4257-816f-07a69e4fbcd4",
   "metadata": {},
   "outputs": [
    {
     "ename": "SyntaxError",
     "evalue": "invalid syntax (2698868312.py, line 2)",
     "output_type": "error",
     "traceback": [
      "\u001b[1;36m  Cell \u001b[1;32mIn[4], line 2\u001b[1;36m\u001b[0m\n\u001b[1;33m    <write your code>\u001b[0m\n\u001b[1;37m    ^\u001b[0m\n\u001b[1;31mSyntaxError\u001b[0m\u001b[1;31m:\u001b[0m invalid syntax\n"
     ]
    }
   ],
   "source": [
    "try:\n",
    "    <write your code>\n",
    "except Exception as e:\n",
    "    print(e)"
   ]
  },
  {
   "cell_type": "code",
   "execution_count": 5,
   "id": "b76527df-bf5d-4fe7-97b9-0d4eb8243ab4",
   "metadata": {},
   "outputs": [
    {
     "name": "stdout",
     "output_type": "stream",
     "text": [
      "10\n",
      "20\n",
      "name 'n22' is not defined\n"
     ]
    }
   ],
   "source": [
    "try:\n",
    "    n1 = 10\n",
    "    print(n1)\n",
    "    n2 = 20\n",
    "    print(n2)\n",
    "    add = n1 + n22\n",
    "    print(add)\n",
    "except Exception as e:\n",
    "    print(e)"
   ]
  },
  {
   "cell_type": "markdown",
   "id": "a16314a2-b019-46dd-a577-af9ea427e60a",
   "metadata": {},
   "source": [
    "**Only logical error will catch**\n",
    "\n",
    "**Not catch syntax error**"
   ]
  },
  {
   "cell_type": "code",
   "execution_count": 7,
   "id": "310ea722-bff3-497c-ad1f-4ab4012f952a",
   "metadata": {},
   "outputs": [
    {
     "ename": "SyntaxError",
     "evalue": "incomplete input (2460073471.py, line 5)",
     "output_type": "error",
     "traceback": [
      "\u001b[1;36m  Cell \u001b[1;32mIn[7], line 5\u001b[1;36m\u001b[0m\n\u001b[1;33m    print(div)\u001b[0m\n\u001b[1;37m              ^\u001b[0m\n\u001b[1;31mSyntaxError\u001b[0m\u001b[1;31m:\u001b[0m incomplete input\n"
     ]
    }
   ],
   "source": [
    "try:\n",
    "    n1 = eval(input(\"Enter the n1:\"))\n",
    "    n2 = eval(input(\"Enter the n2:\"))\n",
    "    div = n1/n2\n",
    "    print(div)\n",
    "    "
   ]
  },
  {
   "cell_type": "code",
   "execution_count": 8,
   "id": "fa579ed3-2261-4506-bb53-8f35e000c224",
   "metadata": {},
   "outputs": [
    {
     "ename": "NameError",
     "evalue": "name 'n222' is not defined",
     "output_type": "error",
     "traceback": [
      "\u001b[1;31m---------------------------------------------------------------------------\u001b[0m",
      "\u001b[1;31mNameError\u001b[0m                                 Traceback (most recent call last)",
      "Cell \u001b[1;32mIn[8], line 3\u001b[0m\n\u001b[0;32m      1\u001b[0m n1 \u001b[38;5;241m=\u001b[39m \u001b[38;5;241m10\u001b[39m\n\u001b[0;32m      2\u001b[0m n2 \u001b[38;5;241m=\u001b[39m \u001b[38;5;241m20\u001b[39m\n\u001b[1;32m----> 3\u001b[0m n1 \u001b[38;5;241m+\u001b[39m \u001b[43mn222\u001b[49m\n\u001b[0;32m      4\u001b[0m \u001b[38;5;28mprint\u001b[39m(\u001b[38;5;124m\"\u001b[39m\u001b[38;5;124mhello\u001b[39m\u001b[38;5;124m\"\u001b[39m)\n",
      "\u001b[1;31mNameError\u001b[0m: name 'n222' is not defined"
     ]
    }
   ],
   "source": [
    "n1 = 10\n",
    "n2 = 20\n",
    "n1 + n222\n",
    "print(\"hello\")"
   ]
  },
  {
   "cell_type": "code",
   "execution_count": 10,
   "id": "8e5a2df6-b5f3-4afc-8d45-b93b04f99398",
   "metadata": {},
   "outputs": [
    {
     "name": "stdout",
     "output_type": "stream",
     "text": [
      "10\n",
      "20\n",
      "name 'n222' is not defined\n",
      "Hello\n"
     ]
    }
   ],
   "source": [
    "try:\n",
    "    n1 = 10\n",
    "    print(n1)\n",
    "    n2 = 20\n",
    "    print(n2)\n",
    "    n1 + n222\n",
    "except Exception as e:\n",
    "    print(e)\n",
    "print(\"Hello\")    "
   ]
  },
  {
   "cell_type": "code",
   "execution_count": null,
   "id": "a27b24e4-a379-4ad5-8a8b-a983ac505e6d",
   "metadata": {},
   "outputs": [],
   "source": []
  },
  {
   "cell_type": "code",
   "execution_count": null,
   "id": "14c72ca2-bf38-402f-83eb-d9e44ea8f1ca",
   "metadata": {},
   "outputs": [],
   "source": []
  },
  {
   "cell_type": "code",
   "execution_count": null,
   "id": "85a9078c-8085-41dd-a963-6f52bdbae83f",
   "metadata": {},
   "outputs": [],
   "source": []
  },
  {
   "cell_type": "code",
   "execution_count": null,
   "id": "3feb6825-d3d5-41f5-bc65-2d06ebf9a9f4",
   "metadata": {},
   "outputs": [],
   "source": []
  }
 ],
 "metadata": {
  "kernelspec": {
   "display_name": "Python 3 (ipykernel)",
   "language": "python",
   "name": "python3"
  },
  "language_info": {
   "codemirror_mode": {
    "name": "ipython",
    "version": 3
   },
   "file_extension": ".py",
   "mimetype": "text/x-python",
   "name": "python",
   "nbconvert_exporter": "python",
   "pygments_lexer": "ipython3",
   "version": "3.12.4"
  }
 },
 "nbformat": 4,
 "nbformat_minor": 5
}
