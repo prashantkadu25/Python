{
 "cells": [
  {
   "cell_type": "markdown",
   "id": "32ba3455-cfde-4429-b8ea-1151d0200d65",
   "metadata": {},
   "source": [
    "**Type Cast**"
   ]
  },
  {
   "cell_type": "markdown",
   "id": "793b66ea-9353-45e5-af97-ef14dc15632f",
   "metadata": {},
   "source": [
    "- Changing one data type to another data types"
   ]
  },
  {
   "cell_type": "markdown",
   "id": "83f39586-0317-4971-98f7-1c08fcdf7119",
   "metadata": {},
   "source": [
    "- int to float\n",
    "- int to str\n",
    "- int to boolean"
   ]
  },
  {
   "cell_type": "code",
   "execution_count": 2,
   "id": "c3e0a86d-e21a-4819-a91b-c01a7eb47369",
   "metadata": {},
   "outputs": [
    {
     "data": {
      "text/plain": [
       "int"
      ]
     },
     "execution_count": 2,
     "metadata": {},
     "output_type": "execute_result"
    }
   ],
   "source": [
    "number = 100\n",
    "type(number)"
   ]
  },
  {
   "cell_type": "code",
   "execution_count": 3,
   "id": "11f47050-d6b3-4dac-8c5b-d88241498765",
   "metadata": {},
   "outputs": [
    {
     "data": {
      "text/plain": [
       "(100.0, float)"
      ]
     },
     "execution_count": 3,
     "metadata": {},
     "output_type": "execute_result"
    }
   ],
   "source": [
    "# int to float\n",
    "float_number = float(number)\n",
    "float_number, type(float_number)"
   ]
  },
  {
   "cell_type": "code",
   "execution_count": 4,
   "id": "b868924d-2b2e-4c1d-a9fc-3b70f710405f",
   "metadata": {},
   "outputs": [
    {
     "data": {
      "text/plain": [
       "('100', str)"
      ]
     },
     "execution_count": 4,
     "metadata": {},
     "output_type": "execute_result"
    }
   ],
   "source": [
    "# int to str\n",
    "str_number = str(number)\n",
    "str_number, type(str_number)"
   ]
  },
  {
   "cell_type": "code",
   "execution_count": 5,
   "id": "c9c237ae-4d59-4e8b-88a0-e734f81e1cef",
   "metadata": {},
   "outputs": [
    {
     "data": {
      "text/plain": [
       "True"
      ]
     },
     "execution_count": 5,
     "metadata": {},
     "output_type": "execute_result"
    }
   ],
   "source": [
    "bool(number)"
   ]
  },
  {
   "cell_type": "code",
   "execution_count": 7,
   "id": "e83094f2-bbc0-4b26-a235-e08354662ff1",
   "metadata": {},
   "outputs": [
    {
     "name": "stdout",
     "output_type": "stream",
     "text": [
      "100.0\n",
      "100\n",
      "True\n"
     ]
    }
   ],
   "source": [
    "print(float(100))\n",
    "print(str(100))\n",
    "print(bool(100))"
   ]
  },
  {
   "cell_type": "code",
   "execution_count": 8,
   "id": "19389ff0-2f57-48f2-bb3a-fbf3eb34ef94",
   "metadata": {},
   "outputs": [
    {
     "name": "stdout",
     "output_type": "stream",
     "text": [
      "-100.0\n",
      "-100\n",
      "True\n"
     ]
    }
   ],
   "source": [
    "print(float(-100))\n",
    "print(str(-100))\n",
    "print(bool(-100)) # \"(-)\" sign also comes true "
   ]
  },
  {
   "cell_type": "code",
   "execution_count": 9,
   "id": "3cde4e1a-2044-4b28-ba82-5ba9d055955e",
   "metadata": {},
   "outputs": [
    {
     "name": "stdout",
     "output_type": "stream",
     "text": [
      "0.0\n",
      "0\n",
      "False\n"
     ]
    }
   ],
   "source": [
    "print(float(0))\n",
    "print(str(0))\n",
    "print(bool(0)) # 0 is always used to False"
   ]
  },
  {
   "cell_type": "markdown",
   "id": "8c8ab85e-4d1d-47b7-9327-58e6a6b18228",
   "metadata": {},
   "source": [
    "- **Note**\n",
    "- Boolean conversion of any integer value other than zero becomes True\n",
    "- Boolean conversion of Zero is False"
   ]
  },
  {
   "cell_type": "markdown",
   "id": "87742dc7-dd17-4c4a-9017-33219fb878a0",
   "metadata": {},
   "source": [
    "**Float to Other Data Types**"
   ]
  },
  {
   "cell_type": "code",
   "execution_count": 11,
   "id": "63e850f4-b4bb-41a4-874c-95afc3df372c",
   "metadata": {},
   "outputs": [
    {
     "name": "stdout",
     "output_type": "stream",
     "text": [
      "100\n",
      "100.25\n",
      "True\n"
     ]
    }
   ],
   "source": [
    "# Float to int\n",
    "print(int(100.25)) # 100\n",
    "\n",
    "# Float to str\n",
    "print(str(100.25)) # 100.25\n",
    "\n",
    "# Float to bool\n",
    "print(bool(100.25)) # True\n"
   ]
  },
  {
   "cell_type": "markdown",
   "id": "3e4056b6-30b2-4ab1-acd3-7d14e8f59d35",
   "metadata": {},
   "source": [
    "**String to Other Data types**\n"
   ]
  },
  {
   "cell_type": "code",
   "execution_count": null,
   "id": "f7735440-9a63-41a1-907f-08207ffac857",
   "metadata": {},
   "outputs": [],
   "source": [
    "int(\"Apple\") #Error\n",
    "float(\"Apple\") #Error\n",
    "bool(\"Apple\") #True\n"
   ]
  },
  {
   "cell_type": "code",
   "execution_count": null,
   "id": "6c169b95-769d-43fc-be01-2ab907e4d93a",
   "metadata": {},
   "outputs": [],
   "source": []
  },
  {
   "cell_type": "code",
   "execution_count": 12,
   "id": "22b78b31-6687-41b8-86f6-34315eb53ff2",
   "metadata": {},
   "outputs": [
    {
     "data": {
      "text/plain": [
       "10"
      ]
     },
     "execution_count": 12,
     "metadata": {},
     "output_type": "execute_result"
    }
   ],
   "source": [
    "int(\"10\")"
   ]
  },
  {
   "cell_type": "code",
   "execution_count": 13,
   "id": "e3625077-4021-460f-ae5e-0edda45dc3d5",
   "metadata": {},
   "outputs": [
    {
     "data": {
      "text/plain": [
       "10.0"
      ]
     },
     "execution_count": 13,
     "metadata": {},
     "output_type": "execute_result"
    }
   ],
   "source": [
    "float(\"10\")"
   ]
  },
  {
   "cell_type": "code",
   "execution_count": 14,
   "id": "e49bde02-8895-4cc5-aced-3cb2eeb7cfb5",
   "metadata": {},
   "outputs": [
    {
     "data": {
      "text/plain": [
       "True"
      ]
     },
     "execution_count": 14,
     "metadata": {},
     "output_type": "execute_result"
    }
   ],
   "source": [
    "bool(\"10\") #\"10\" is not a integer\n",
    "# True === ON\n",
    "# False === Off === 0 "
   ]
  },
  {
   "cell_type": "code",
   "execution_count": 16,
   "id": "7ec83976-cf54-42e8-9bea-b85251858cda",
   "metadata": {},
   "outputs": [
    {
     "name": "stdout",
     "output_type": "stream",
     "text": [
      "10.5\n",
      "True\n"
     ]
    }
   ],
   "source": [
    "print(int(\"10.5\"))  #Error\n",
    "print(float(\"10.5\")) # 10.5\n",
    "print(bool(\"10.5\"))  #True"
   ]
  },
  {
   "cell_type": "code",
   "execution_count": null,
   "id": "1b1babc2-a317-402d-aa5d-d8bfefb20c6f",
   "metadata": {},
   "outputs": [],
   "source": [
    "int(\"10\") # Works --- 10\n",
    "int(\"10.5\") #Fail --- Error"
   ]
  },
  {
   "cell_type": "code",
   "execution_count": null,
   "id": "90bf49ce-fb68-4c5d-8fe8-b8af7e0309d9",
   "metadata": {},
   "outputs": [],
   "source": [
    "float(\"10\") # Works --- 10.0\n",
    "float(\"10.5\") # Works --- 10.5"
   ]
  },
  {
   "cell_type": "code",
   "execution_count": null,
   "id": "83916b3e-43a9-40c8-86a6-3a144c299a3e",
   "metadata": {},
   "outputs": [],
   "source": [
    "- Que:- When "
   ]
  },
  {
   "cell_type": "code",
   "execution_count": 2,
   "id": "e85aa975-e3e2-42e4-9633-d5ca33798b65",
   "metadata": {},
   "outputs": [
    {
     "name": "stdout",
     "output_type": "stream",
     "text": [
      "True\n",
      "True\n"
     ]
    },
    {
     "data": {
      "text/plain": [
       "True"
      ]
     },
     "execution_count": 2,
     "metadata": {},
     "output_type": "execute_result"
    }
   ],
   "source": [
    "print(bool(10))\n",
    "print(bool(10.5))\n",
    "bool(\"10.5\")"
   ]
  },
  {
   "cell_type": "code",
   "execution_count": null,
   "id": "74d178c3-9da9-405d-9fe5-2e0798bb3461",
   "metadata": {},
   "outputs": [],
   "source": []
  }
 ],
 "metadata": {
  "kernelspec": {
   "display_name": "Python 3 (ipykernel)",
   "language": "python",
   "name": "python3"
  },
  "language_info": {
   "codemirror_mode": {
    "name": "ipython",
    "version": 3
   },
   "file_extension": ".py",
   "mimetype": "text/x-python",
   "name": "python",
   "nbconvert_exporter": "python",
   "pygments_lexer": "ipython3",
   "version": "3.12.4"
  }
 },
 "nbformat": 4,
 "nbformat_minor": 5
}
