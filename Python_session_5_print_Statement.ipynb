{
 "cells": [
  {
   "cell_type": "markdown",
   "id": "a794c754-afd5-49e1-a57d-a8b29662c1e5",
   "metadata": {},
   "source": [
    "- Variables\n",
    "- Data types\n",
    "- Type Casting (Convert one data type to another data type)\n",
    "- Doc String\n",
    "- Print Statement (Today's Topic)"
   ]
  },
  {
   "cell_type": "code",
   "execution_count": 1,
   "id": "c194092e-7b02-4960-ae0b-bd18e182c241",
   "metadata": {},
   "outputs": [
    {
     "data": {
      "text/plain": [
       "30"
      ]
     },
     "execution_count": 1,
     "metadata": {},
     "output_type": "execute_result"
    }
   ],
   "source": [
    "num1 = 20\n",
    "num2 = 30\n",
    "num1\n",
    "num2"
   ]
  },
  {
   "cell_type": "code",
   "execution_count": 2,
   "id": "c53a0f0a-0ab3-485d-974e-3596b270f57e",
   "metadata": {},
   "outputs": [
    {
     "name": "stdout",
     "output_type": "stream",
     "text": [
      "20\n",
      "30\n"
     ]
    }
   ],
   "source": [
    "num1 = 20\n",
    "num2 = 30    #1st Way to print\n",
    "print(num1) #Print Vertically \n",
    "print(num2)"
   ]
  },
  {
   "cell_type": "code",
   "execution_count": 3,
   "id": "64f27156-c624-4cbf-b4dd-08ffe5132aac",
   "metadata": {},
   "outputs": [
    {
     "name": "stdout",
     "output_type": "stream",
     "text": [
      "20\n",
      "30\n"
     ]
    },
    {
     "data": {
      "text/plain": [
       "(None, None)"
      ]
     },
     "execution_count": 3,
     "metadata": {},
     "output_type": "execute_result"
    }
   ],
   "source": [
    "num1 = 20\n",
    "num2 = 30   #2nd Way to print\n",
    "print(num1),print(num2) #Print Horizontally\n"
   ]
  },
  {
   "cell_type": "code",
   "execution_count": 4,
   "id": "d65ddcc6-a22b-4a59-ad33-1c884f9c0276",
   "metadata": {},
   "outputs": [
    {
     "name": "stdout",
     "output_type": "stream",
     "text": [
      "20 30\n"
     ]
    }
   ],
   "source": [
    "num1 = 20\n",
    "num2 = 30  #3rd Way to print\n",
    "print(num1,num2)"
   ]
  },
  {
   "cell_type": "code",
   "execution_count": 5,
   "id": "1f53ef74-12ee-471a-ada3-157538efe102",
   "metadata": {},
   "outputs": [
    {
     "name": "stdout",
     "output_type": "stream",
     "text": [
      "20 30 python\n"
     ]
    }
   ],
   "source": [
    "print(20,30,\"python\")"
   ]
  },
  {
   "cell_type": "code",
   "execution_count": 6,
   "id": "a934ff38-f02d-4e74-9a96-90ac037ecc00",
   "metadata": {},
   "outputs": [
    {
     "name": "stdout",
     "output_type": "stream",
     "text": [
      "the addition of 200 and 300 is 500\n"
     ]
    }
   ],
   "source": [
    "a = 200\n",
    "b = 300\n",
    "c = a+b\n",
    "# the addition of 200 and 300 is 500\n",
    "print(\"the addition of\", a, \"and\", b, \"is\", c)"
   ]
  },
  {
   "cell_type": "code",
   "execution_count": 7,
   "id": "907d9cb3-c0c6-4ff3-a8b3-c5e8336cf833",
   "metadata": {},
   "outputs": [
    {
     "name": "stdout",
     "output_type": "stream",
     "text": [
      "My name is python I'm 10 years old and from Hyd\n"
     ]
    }
   ],
   "source": [
    "name = \"python\"\n",
    "age = 10\n",
    "city = \"Hyd\"\n",
    "# My name is Python I'm 10 years old and from Hyd\n",
    "print(\"My name is\", name, \"I'm\", age, \"years old and from\", city)"
   ]
  },
  {
   "cell_type": "markdown",
   "id": "c937aa4a-c974-482b-9262-bc0fa87d2c21",
   "metadata": {},
   "source": [
    "**Format Method**"
   ]
  },
  {
   "cell_type": "code",
   "execution_count": 11,
   "id": "00b98ae0-73f4-4cc4-a36d-fc002762cdc1",
   "metadata": {},
   "outputs": [
    {
     "name": "stdout",
     "output_type": "stream",
     "text": [
      "My name is Python I'm 10 years old and from Hyd\n",
      "My name is python I'm 10 years old and from Hyd\n"
     ]
    }
   ],
   "source": [
    "name = \"python\"\n",
    "age = 10\n",
    "city = \"Hyd\"\n",
    "# My name is Python I'm 10 years old and from Hyd\n",
    "print(\"My name is Python I'm 10 years old and from Hyd\")\n",
    "print(\"My name is {} I'm {} years old and from {}\".format(name,age,city))"
   ]
  },
  {
   "cell_type": "code",
   "execution_count": 12,
   "id": "fc682b54-de74-49f9-8595-f6b1e3fa7e9e",
   "metadata": {},
   "outputs": [
    {
     "name": "stdout",
     "output_type": "stream",
     "text": [
      "the addition of 200 and 300 is 500\n",
      "the addition of 200 and 300 is 500\n"
     ]
    }
   ],
   "source": [
    "a = 200\n",
    "b = 300\n",
    "c = a+b\n",
    "# the addition of 200 and 300 is 500\n",
    "print(\"the addition of 200 and 300 is 500\")\n",
    "print(\"the addition of {} and {} is {}\".format(a,b,c))"
   ]
  },
  {
   "cell_type": "code",
   "execution_count": 14,
   "id": "1c44ece1-7c30-4761-bbd1-f82090f728ae",
   "metadata": {},
   "outputs": [
    {
     "name": "stdout",
     "output_type": "stream",
     "text": [
      "the addition of 100 and 200 is 300\n"
     ]
    }
   ],
   "source": [
    "n1 = 100\n",
    "n2 = 200\n",
    "add = n1+n2\n",
    "\n",
    "div = n1/n2\n",
    "# the addition of 100 and 200 is 300\n",
    "print(\"the addition of {} and {} is {}\".format(n1,n2,add))"
   ]
  },
  {
   "cell_type": "code",
   "execution_count": 15,
   "id": "e2917785-0bee-4531-ba72-25bb6e006304",
   "metadata": {},
   "outputs": [
    {
     "name": "stdout",
     "output_type": "stream",
     "text": [
      "the subtraction of 100 and 200 is -100\n"
     ]
    }
   ],
   "source": [
    "n1 = 100\n",
    "n2 = 200\n",
    "sub = n1-n2\n",
    "# the subtraction of 100 and 200 is -100\n",
    "print(\"the subtraction of {} and {} is {}\".format(n1,n2,sub))"
   ]
  },
  {
   "cell_type": "code",
   "execution_count": 16,
   "id": "034e9ff7-b180-4f69-84ba-ae69d37d2609",
   "metadata": {},
   "outputs": [
    {
     "name": "stdout",
     "output_type": "stream",
     "text": [
      "the multiply of 100 and 200 is 20000\n"
     ]
    }
   ],
   "source": [
    "n1 = 100\n",
    "n2 = 200\n",
    "mul = n1*n2\n",
    "# the multiply of 100 and 200 is 2000\n",
    "print(\"the multiply of {} and {} is {}\".format(n1,n2,mul))"
   ]
  },
  {
   "cell_type": "code",
   "execution_count": 17,
   "id": "37f126df-8991-4669-8aff-c125fe3f41bb",
   "metadata": {},
   "outputs": [
    {
     "name": "stdout",
     "output_type": "stream",
     "text": [
      "the division of 100 and 200 is 0.5\n"
     ]
    }
   ],
   "source": [
    "n1 = 100\n",
    "n2 = 200\n",
    "div = n1/n2\n",
    "# the division of 100 and 200 is 0.5\n",
    "print(\"the division of {} and {} is {}\".format(n1,n2,div))"
   ]
  },
  {
   "cell_type": "markdown",
   "id": "8cde4371-1ef1-4f5a-8566-9d679ff70a69",
   "metadata": {},
   "source": [
    "***f string Method***"
   ]
  },
  {
   "cell_type": "code",
   "execution_count": 18,
   "id": "d6082a0a-288f-4936-85e4-29fc99b91330",
   "metadata": {},
   "outputs": [
    {
     "name": "stdout",
     "output_type": "stream",
     "text": [
      "the addition of 200 and 300 is 500\n",
      "the addition of 100 and 200 is 300\n",
      "the addition of 200 and 300 is 500\n"
     ]
    }
   ],
   "source": [
    "a = 200\n",
    "b = 300\n",
    "c = a+b\n",
    "# the addition of 200 and 300 is 500\n",
    "print(\"the addition of\", a, \"and\", b, \"is\", c)\n",
    "\n",
    "print(\"the addition of {} and {} is {}\".format(n1,n2,add))\n",
    "\n",
    "print(f\"the addition of {a} and {b} is {c}\")"
   ]
  },
  {
   "cell_type": "code",
   "execution_count": 20,
   "id": "545f958c-21c0-4480-b469-cb302fba834e",
   "metadata": {},
   "outputs": [
    {
     "name": "stdout",
     "output_type": "stream",
     "text": [
      "hello\n",
      "good moring\n",
      "hai\n"
     ]
    }
   ],
   "source": [
    "print(\"hello\")\n",
    "print(\"good moring\")\n",
    "print(\"hai\")\n",
    "# hello good morning hai"
   ]
  },
  {
   "cell_type": "markdown",
   "id": "f43b4902-af11-4f39-8ba4-e71dc9a12f89",
   "metadata": {},
   "source": [
    "- We have a situation wants to combine two print statement."
   ]
  },
  {
   "cell_type": "markdown",
   "id": "90b52198-886f-4f59-b7b8-35890c5716ed",
   "metadata": {},
   "source": [
    "**end parameter**"
   ]
  },
  {
   "cell_type": "code",
   "execution_count": 23,
   "id": "84b871b3-0593-4eb4-b94b-b4b960743eed",
   "metadata": {},
   "outputs": [
    {
     "name": "stdout",
     "output_type": "stream",
     "text": [
      "20 30\n"
     ]
    }
   ],
   "source": [
    "print(20,end=\" \")\n",
    "print(30)"
   ]
  },
  {
   "cell_type": "code",
   "execution_count": 2,
   "id": "b118156c-4078-493e-9ac8-8c44448fafd2",
   "metadata": {},
   "outputs": [
    {
     "name": "stdout",
     "output_type": "stream",
     "text": [
      "1 2 3\n"
     ]
    }
   ],
   "source": [
    "print(1, end=\" \")\n",
    "print(2, end=\" \")\n",
    "print(3)"
   ]
  },
  {
   "cell_type": "code",
   "execution_count": 25,
   "id": "aa5c0de6-96c6-482b-a0e0-ebfe957eac6e",
   "metadata": {},
   "outputs": [
    {
     "name": "stdout",
     "output_type": "stream",
     "text": [
      "20 *** 30\n"
     ]
    }
   ],
   "source": [
    "print(20, \"***\" , 30)"
   ]
  },
  {
   "cell_type": "code",
   "execution_count": 27,
   "id": "214e749b-6038-4015-b286-f17d22b941f4",
   "metadata": {},
   "outputs": [
    {
     "name": "stdout",
     "output_type": "stream",
     "text": [
      "20 *** 30\n"
     ]
    }
   ],
   "source": [
    "print(20,end=\" *** \")\n",
    "print(30)"
   ]
  },
  {
   "cell_type": "markdown",
   "id": "8f9f9470-f0f9-4301-82dc-cf5321a99d0f",
   "metadata": {},
   "source": [
    "- We want to seperate the multipel variabels in one print statement"
   ]
  },
  {
   "cell_type": "markdown",
   "id": "d065790d-cf5d-454d-9fc3-0fcea00270c1",
   "metadata": {},
   "source": [
    "**sep_parameter**"
   ]
  },
  {
   "cell_type": "code",
   "execution_count": 30,
   "id": "66510d8e-541f-420e-9278-8d1573b487a6",
   "metadata": {},
   "outputs": [
    {
     "name": "stdout",
     "output_type": "stream",
     "text": [
      "20 .30\n"
     ]
    }
   ],
   "source": [
    "print(20,30,sep=\" .\")"
   ]
  },
  {
   "cell_type": "markdown",
   "id": "81e25e08-5880-450c-b2b1-1fbef2a171ef",
   "metadata": {},
   "source": [
    "- end operator used to combine multipel print statements\n",
    "- sep operator used to seperate the multipel variables in a singel print statements."
   ]
  },
  {
   "cell_type": "code",
   "execution_count": 33,
   "id": "fa38e8bc-2393-4648-acdf-4a9136644b47",
   "metadata": {},
   "outputs": [
    {
     "name": "stdout",
     "output_type": "stream",
     "text": [
      "the addition of 3+4 is 7 .\n"
     ]
    }
   ],
   "source": [
    "print(\"the addition of 3+4 is\", 3+4, \".\")"
   ]
  },
  {
   "cell_type": "code",
   "execution_count": 6,
   "id": "1e13f92a-342d-48df-bcee-c5010289d483",
   "metadata": {},
   "outputs": [
    {
     "name": "stdout",
     "output_type": "stream",
     "text": [
      "the addition of 3+4 is 7.\n",
      "the addition of 3+4 is 7.\n",
      "the addition of 3+4 is 7.\n"
     ]
    }
   ],
   "source": [
    "# We want ans like this :- the addition of 3+4 is 7.\n",
    "\n",
    "#Que:- Use format \n",
    "print(\"the addition of {} is {}\".format(\"3+4\", \"7.\"))\n",
    "\n",
    "#Que:- Use f string method\n",
    "print(f\"the addition of 3+4 is {3+4}.\")\n",
    "\n",
    "#Que:- Use sep method\n",
    "print(f\"the addition of 3+4 is {3+4}\",\".\",sep=\"\")"
   ]
  },
  {
   "cell_type": "code",
   "execution_count": 7,
   "id": "ec65c1b4-91e9-4766-a9e8-820b8ea913ab",
   "metadata": {},
   "outputs": [
    {
     "name": "stdout",
     "output_type": "stream",
     "text": [
      "the addition of 3+4 is 7.\n"
     ]
    }
   ],
   "source": [
    "print(\"the addition of {} is {}\".format(\"3+4\", \"7.\"))"
   ]
  },
  {
   "cell_type": "code",
   "execution_count": 8,
   "id": "e2b0186f-c490-42b5-a0d1-8f377dee3ec3",
   "metadata": {},
   "outputs": [
    {
     "name": "stdout",
     "output_type": "stream",
     "text": [
      "the addition of 3+4 is 7.\n"
     ]
    }
   ],
   "source": [
    "print(f\"the addition of 3+4 is {3+4}.\")"
   ]
  },
  {
   "cell_type": "code",
   "execution_count": 9,
   "id": "41c1a361-5c6b-489a-966f-2a5cd336b47f",
   "metadata": {},
   "outputs": [
    {
     "name": "stdout",
     "output_type": "stream",
     "text": [
      "the addtion of 3+4 is 7.\n"
     ]
    }
   ],
   "source": [
    "print(f\"the addtion of 3+4 is {7}\",\".\",sep=\"\")"
   ]
  },
  {
   "cell_type": "code",
   "execution_count": null,
   "id": "13b1d101-3fda-417e-982c-ae706976b43d",
   "metadata": {},
   "outputs": [],
   "source": []
  },
  {
   "cell_type": "markdown",
   "id": "736e79a9-fac4-42d6-9cd9-0adc5c3605e6",
   "metadata": {},
   "source": [
    "** We Done in This Session**\n",
    "- basic\n",
    "- format\n",
    "- f string\n",
    "- end\n",
    "- sep\n"
   ]
  },
  {
   "cell_type": "code",
   "execution_count": null,
   "id": "4dd02d15-47fc-4eff-b202-1fe9dc631164",
   "metadata": {},
   "outputs": [],
   "source": []
  }
 ],
 "metadata": {
  "kernelspec": {
   "display_name": "Python 3 (ipykernel)",
   "language": "python",
   "name": "python3"
  },
  "language_info": {
   "codemirror_mode": {
    "name": "ipython",
    "version": 3
   },
   "file_extension": ".py",
   "mimetype": "text/x-python",
   "name": "python",
   "nbconvert_exporter": "python",
   "pygments_lexer": "ipython3",
   "version": "3.12.4"
  }
 },
 "nbformat": 4,
 "nbformat_minor": 5
}
